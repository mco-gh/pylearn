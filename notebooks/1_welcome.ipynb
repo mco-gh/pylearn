{
  "nbformat": 4,
  "nbformat_minor": 0,
  "metadata": {
    "colab": {
      "provenance": [],
      "name": "1-welcome.ipynb",
      "authorship_tag": "ABX9TyO0r/QaCAWBdDDGnWcDQjvM",
      "include_colab_link": true
    },
    "kernelspec": {
      "name": "python3",
      "display_name": "Python 3"
    },
    "language_info": {
      "name": "python"
    }
  },
  "cells": [
    {
      "cell_type": "markdown",
      "metadata": {
        "id": "view-in-github",
        "colab_type": "text"
      },
      "source": [
        "<a href=\"https://colab.research.google.com/github/mco-gh/pylearn/blob/master/notebooks/1_welcome.ipynb\" target=\"_parent\"><img src=\"https://colab.research.google.com/assets/colab-badge.svg\" alt=\"Open In Colab\"/></a>"
      ]
    },
    {
      "cell_type": "markdown",
      "source": [
        "# Lesson 1 - Welcome to my PyLearn!\n",
        "\n",
        "PyLearn is a Python course built using Google Colab. Each lesson uses a Colab notebook to explain some concepts and to give students immediate practice programming in Python.\n",
        "\n",
        "[Link to this notebook on github](https://github.com/mco-gh/pylearn/blob/master/notebooks/1_welcome.ipynb)"
      ],
      "metadata": {
        "id": "KiFkmu1XN4oU"
      }
    },
    {
      "cell_type": "markdown",
      "source": [
        "## Course Description\n",
        "This course is primarily for beginners. In my experience, the best way to learn a programming language is to do something useful with it. This notebook describes the PyLearn course and the data analysis project we'll use to apply  your new skills throughout the course."
      ],
      "metadata": {
        "id": "bk9PgokcN-Kt"
      }
    },
    {
      "cell_type": "markdown",
      "source": [
        "## Course Goals\n",
        "- Demystify programming in general and Python in particular\n",
        "- Show how to use Python to solve a real world, relatable problem\n",
        "- Provide a solid foundation for diving deeper"
      ],
      "metadata": {
        "id": "Yxb6Q_WCRpbB"
      }
    },
    {
      "cell_type": "markdown",
      "source": [
        "## Cost\n",
        "**There is no cost to use PyLearn**. There is no login function. You can choose to identify yourself in the discussion forum, or not. This course is, and will always be, free of ads and other distractions. This material is presented for one reason only - to help people experience the joy and value of analyzing data using Python."
      ],
      "metadata": {
        "id": "dDkvWjO-OBcW"
      }
    },
    {
      "cell_type": "markdown",
      "source": [
        "## Instructor\n",
        "\n",
        "I'm [Marc](https://mco.dev/about-marc). I love teaching, programming, and teaching programming.\n",
        "\n",
        "* My blog can be found at [mco.dev](https://mco.dev).\n",
        "* My email address is marc@mco.dev."
      ],
      "metadata": {
        "id": "Pyb4dvEQOG05"
      }
    },
    {
      "cell_type": "markdown",
      "source": [
        "## Target Audience\n",
        "- Programming and/or Python beginners\n",
        "- Underrepresented groups in tech\n",
        "- Aspiring data scientists\n",
        "\n",
        "There are **no prerequisites** for this course. We'll start at the beginning."
      ],
      "metadata": {
        "id": "J68E4Lf0Rj93"
      }
    },
    {
      "cell_type": "markdown",
      "source": [
        "## Course Logistics\n",
        "\n",
        "* The duration of the course is ten weeks.\n",
        "* We use a \"flipped classroom\" model where students watch videos, complete homework assignments, and attend optional weekly office hours.\n",
        "* Office hours are  twice weekly via videoconference @ [mco.fyi/meet](https://mco.fyi/meet)\n",
        "  * Wednesday evenings, 7-8:30pm GMT\n",
        "  * Saturday mornings at 4-5pm GMT\n",
        "* To get the most out of this class, plan to spend at least three hours per week:\n",
        "  * 1 on videos\n",
        "  * 1 on homework\n",
        "  * 1 on office hours\n",
        "* We'll use Colab (aka Jupyter) notebooks for lecture notes and homework.\n",
        "* Later on in the course, you'll learn how to setup your own Python environment locally, but don't worry about that for now."
      ],
      "metadata": {
        "id": "tg4wl-ksS_mh"
      }
    },
    {
      "cell_type": "markdown",
      "source": [
        "\n",
        "\n",
        "## Syllabus\n",
        "Lesson|Title\n",
        "------|-----\n",
        "00 Welcome|Course description and background\n",
        "01 Variables and Types|Basic data types, variables, and assignment statements\n",
        "\n",
        "<br>\n",
        "To be moved as new lessons are released...\n",
        "\n",
        "Analyzing Patient Data|How can I process tabular data files in Python?\n",
        "Visualizing Tabular Data|How can I visualize tabular data in Python?\n",
        "Storing Multiple Values in Lists|How can I store many values together?\n",
        "Repeating Actions with Loops|How can I do the same operations on many different values?\n",
        "Analyzing Data from Multiple Files|How can I do the same operations on many different files?\n",
        "Making Choices|How can my programs do different things based on data values?\n",
        "Creating Functions|How can I define and a use a functions?\n",
        "Errors and Exceptions|How does Python report errors?\n",
        "How can I handle errors in Python programs?\n",
        "Defensive Programming|How can I make my programs more reliable?Debugging How can I debug my program?\n",
        "Command-Line|Programs\tHow can I write Python programs that will work like Unix command-line tools?\n",
        "Finish\n"
      ],
      "metadata": {
        "id": "ixEjgGSYcy2d"
      }
    },
    {
      "cell_type": "markdown",
      "source": [
        "Old Agenda (for reference)\n",
        "- Week 1 - Course intro, setting up your environment, your first program\n",
        "- Week 2 - Basic data types, variables, and assignment statements\n",
        "- Week 3 - Expressions and operators\n",
        "- Week 4 - Simple I/O\n",
        "- Week 5 - Conditional Logic\n",
        "- Week 6 - Iteration\n",
        "- Week 7 - Functions\n",
        "- Week 8 - Sequences\n",
        "- Week 9 - Mappings\n",
        "- Week 10 - All Together Now\n"
      ],
      "metadata": {
        "id": "o5_HuNrjX3xy"
      }
    },
    {
      "cell_type": "markdown",
      "source": [
        "## Course Resources\n",
        "- Website: [pylearn.io](https://pylearn.io)\n",
        "- Office hours: [pylearn.io/hours/](https://pylearn.io/hours/)\n",
        "- Blog: [pylearn.io/blog/](https://pylearn.io/blog/)\n",
        "- Discussion forum: [@pylearn](pylearn-hq.slack.com) (slack)\n",
        "- Email list: [pylearners@groups.google.com](mailto:pylearners@groups.google.com)"
      ],
      "metadata": {
        "id": "GmpVDwp1TDza"
      }
    },
    {
      "cell_type": "markdown",
      "source": [
        "## Learning to Code\n",
        "\n",
        "* Programming is a creative activity.\n",
        "* There has never been a better time in history to learn to code.\n",
        "* Anyone can learn to program, as long as you’re willing to do the work.\n",
        "* Practice between classes is very important.\n",
        "* Give yourself time & kindness.\n",
        "* Mistakes are feedback.\n",
        "* When you get stuck:\n",
        "  * Don’t beat yourself up.\n",
        "  * Take a break.\n",
        "  * Don’t be afraid to ask me or a peer for help.\n",
        "* The dirty secret about professional programmers: *No one knows everything - we all use Google, Stack Overflow, and other websites all the time.*"
      ],
      "metadata": {
        "id": "o8xNRhtoO3nO"
      }
    },
    {
      "cell_type": "markdown",
      "source": [
        "## What is an algorithm?\n",
        "\n",
        "A step-by-step procedure for solving a problem or accomplishing some end, especially by a computer\n",
        "\n",
        "Example Algorithm: Marc’s Scrambled Eggs Recipe\n",
        "\n",
        "**Ingredients:**\n",
        "* 2 eggs\n",
        "* butter\n",
        "\n",
        "**Cooking steps:**\n",
        "  * mix eggs in a bowl\n",
        "  * lightly coat a frying pan with gasoline\n",
        "  * heat pan to 4000 degrees\n",
        "  * stir eggs until solid\n",
        "  * pour mixed eggs into frying pan\n",
        "\n",
        "Just like programs, recipes can have errors, or \"bugs\". Can you find three bugs in this recipe?"
      ],
      "metadata": {
        "id": "I6eKs1vrO9KR"
      }
    },
    {
      "cell_type": "markdown",
      "source": [
        "## What is a programming language?\n",
        "\n",
        "* A set of rules for expressing algorithms symbolically.\n",
        "* Provides an abstraction layer for using your computer to solve a problem.\n",
        "* Provides a way to reuse other peoples’ work."
      ],
      "metadata": {
        "id": "mgk1NriOPAIz"
      }
    },
    {
      "cell_type": "markdown",
      "source": [
        "## What is Python and why learn it?\n",
        "\n",
        "* a programming language that was invented in 1989 by Dutch programmer Guido van Rossum\n",
        "* powerful and expressive\n",
        "* easy to learn\n",
        "* highly readable\n",
        "* freely available open source\n",
        "* widely used & well supported\n",
        "* Very strong for:\n",
        "  * Data Science\n",
        "  * Statistics\n",
        "  * Machine Learning\n",
        "  * Social Sciences\n",
        "  * Web development\n",
        "  * Scientific and numerical computing\n",
        "  * Education\n",
        "* not a bad thing to have on your resume/CV\n",
        "\n",
        "\n",
        "[Python is eating the world: How one developer's side project became the hottest programming language on the planet](https://www.techrepublic.com/article/python-is-eating-the-world-how-one-developers-side-project-became-the-hottest-programming-language-on-the-planet/)"
      ],
      "metadata": {
        "id": "sxWG0oKYPC_1"
      }
    },
    {
      "cell_type": "markdown",
      "source": [
        "Here's a snapshot of the popularity of Python as of January 2021:\n",
        "\n",
        "<img height=300 src=\"https://redmonk.com/sogrady/files/2021/03/lang.rank_.0121.wm_.png\">\n",
        "\n",
        "[Source](https://redmonk.com/sogrady/2021/03/01/language-rankings-1-21/)"
      ],
      "metadata": {
        "id": "S4aE5rz1PHOy"
      }
    },
    {
      "cell_type": "markdown",
      "source": [
        "And here's a visualization of Python's growth over time:\n",
        "\n",
        "<img height=300 src=\"https://149351115.v2.pressablecdn.com/wp-content/uploads/2017/09/growth_major_languages-1-1400x1200.png\">\n",
        "\n",
        "[Source](https://stackoverflow.blog/2017/09/06/incredible-growth-python/)"
      ],
      "metadata": {
        "id": "3sO0N5LcPKjQ"
      }
    },
    {
      "cell_type": "markdown",
      "source": [
        "## To do\n",
        "- Compiled vs. Interpreted\n",
        "- Compiled and Interpreted programming languages\n",
        "- Downloading and installing Python\n",
        "- Using the Python documentation\n",
        "- The structure of a Python script\n",
        "- Running Python scripts\n"
      ],
      "metadata": {
        "id": "rTFtPBm7TdQ8"
      }
    },
    {
      "cell_type": "markdown",
      "source": [
        "## What is a Notebook?\n",
        "\n",
        "* You're looking at one. :)\n",
        "* Notebooks are interactive documents where you can read instructions and try your own code experiments in one unified experience.\n",
        "* The notebooks we're using are called [Jupyter](https://jupyter.org) and the hosting service (the notebook provider) is called [Google Colaboratory](https://colab.research.google.com/) or just \"Colab\". This service makes it easy to use and share Python notebooks for free, much like Google Docs.\n",
        "* Homework for next week: watch this [short video](https://www.youtube.com/watch?v=inN8seMm7UI) and take a [quick tour of Colab](https://colab.research.google.com/notebooks/intro.ipynb)."
      ],
      "metadata": {
        "id": "pt5w_HCaPSMi"
      }
    },
    {
      "cell_type": "markdown",
      "source": [
        "[Next Lesson](https://mco.fyi/py1)"
      ],
      "metadata": {
        "id": "LPNf--iLfCq3"
      }
    }
  ]
}
