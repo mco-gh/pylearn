{
  "nbformat": 4,
  "nbformat_minor": 0,
  "metadata": {
    "colab": {
      "provenance": [],
      "name": "1_welcome.ipynb",
      "include_colab_link": true
    },
    "kernelspec": {
      "name": "python3",
      "display_name": "Python 3"
    },
    "language_info": {
      "name": "python"
    }
  },
  "cells": [
    {
      "cell_type": "markdown",
      "metadata": {
        "id": "view-in-github",
        "colab_type": "text"
      },
      "source": [
        "<a href=\"https://colab.research.google.com/github/mco-gh/pylearn/blob/master/notebooks/1_Welcome.ipynb\" target=\"_parent\"><img src=\"https://colab.research.google.com/assets/colab-badge.svg\" alt=\"Open In Colab\"/></a>"
      ]
    },
    {
      "cell_type": "markdown",
      "source": [
        "# Notebook 1 - Course Overview, Background, and Getting Started\n",
        "\n",
        "**You can make your own copy of this notebook by selecting File->Save a copy in Drive from the menu bar above.**\n",
        "\n",
        "Things you'll learn in this lesson:\n",
        "\n",
        "- An overview of this course\n",
        "- A brief background on computing, programming, and Python\n",
        "- Some getting start material"
      ],
      "metadata": {
        "id": "KiFkmu1XN4oU"
      }
    },
    {
      "cell_type": "markdown",
      "source": [
        "[Next Lesson](https://pylearn.io/lessons/2-Variables)"
      ],
      "metadata": {
        "id": "qp4q0dFWqHWg"
      }
    },
    {
      "cell_type": "markdown",
      "source": [
        "## Course Overview"
      ],
      "metadata": {
        "id": "0WyaJs8BQmTj"
      }
    },
    {
      "cell_type": "markdown",
      "source": [
        "### Course Description\n",
        "\n",
        "Pylearn is...\n",
        "\n",
        "- **inclusive** - no prerequisites, perfect for beginners\n",
        "- **approachable** - nothing to install or configure\n",
        "- **convenient** - learn at your pace, on your schedule\n",
        "- **free** - no fees, no ads, not now, not ever\n",
        "- **practical** - understand not only how, but why\n",
        "- **respectful** - we never request or store any personal information\n",
        "- **interactive** - learn by doing, using Colab notebooks"
      ],
      "metadata": {
        "id": "bk9PgokcN-Kt"
      }
    },
    {
      "cell_type": "markdown",
      "source": [
        "### Course Goals\n",
        "- Demystify programming in general and Python in particular\n",
        "- Show how to use Python to a practical, hands-on way\n",
        "- Provide a solid foundation for diving deeper"
      ],
      "metadata": {
        "id": "Yxb6Q_WCRpbB"
      }
    },
    {
      "cell_type": "markdown",
      "source": [
        "### Instructor\n",
        "\n",
        "I'm [Marc](https://mco.dev/about-marc). I love teaching, programming, and teaching programming.\n",
        "\n",
        "* My blog can be found at [mco.dev](https://mco.dev).\n",
        "* My email address is marc@mco.dev."
      ],
      "metadata": {
        "id": "Pyb4dvEQOG05"
      }
    },
    {
      "cell_type": "markdown",
      "source": [
        "### Target Audience\n",
        "- Programming and/or Python beginners\n",
        "- Underrepresented groups in tech\n",
        "- Aspiring data scientists\n",
        "\n",
        "There are **no prerequisites** for this course. We'll start at the beginning."
      ],
      "metadata": {
        "id": "J68E4Lf0Rj93"
      }
    },
    {
      "cell_type": "markdown",
      "source": [
        "### Syllabus\n",
        "Lesson|Title\n",
        "------|-----\n",
        "Notebook 1| Course Overview, Background, and Getting Started\n",
        "Notebook 2|Numbers, Strings, Variables, and Assignment Statements\n",
        "Notebook 3|Boolean Comparisons, Boolean Operators, and Expressions\n",
        "Notebook 4|Controlling Program Flow and Using Modules\n",
        "Notebook 5|More Strings and Loops\n",
        "Notebook 6|Functions and Modules\n",
        "Notebook 7|Tuples, Lists, and Dictionaries\n",
        "Notebook 8|Files and Exceptions\n",
        "Notebook 9|Sample Project\n"
      ],
      "metadata": {
        "id": "ixEjgGSYcy2d"
      }
    },
    {
      "cell_type": "markdown",
      "source": [
        "### Some thoughts on learning to code\n",
        "\n",
        "* Programming is a creative activity.\n",
        "* There has never been a better time in history to learn to code.\n",
        "* Anyone can learn to program, as long as you’re willing to do the work.\n",
        "* Think of it a little like learning to play a musical instrument.\n",
        "* Practice between classes is very helpful.\n",
        "* Give yourself time & kindness.\n",
        "* Mistakes are feedback.\n",
        "* When you get stuck:\n",
        "  * Don’t beat yourself up.\n",
        "  * Take a break.\n",
        "  * Don’t be afraid to ask me or a peer for help.\n",
        "* The dirty secret about professional programmers: *No one knows everything - we all use Google, Stack Overflow, and other websites all the time.*"
      ],
      "metadata": {
        "id": "o8xNRhtoO3nO"
      }
    },
    {
      "cell_type": "markdown",
      "source": [
        "### What is a Notebook?\n",
        "\n",
        "* You're looking at one. :)\n",
        "* Notebooks are interactive documents where you can read instructions and try your own code experiments in one unified experience.\n",
        "* The notebooks we're using are called [Jupyter](https://jupyter.org) and the hosting service (the notebook provider) is called [Google Colaboratory](https://colab.research.google.com/) or just \"Colab\". This service makes it easy to use and share Python notebooks for free, much like Google Docs."
      ],
      "metadata": {
        "id": "pt5w_HCaPSMi"
      }
    },
    {
      "cell_type": "markdown",
      "source": [
        "From the menu bar, select Tools->Command Palette to see a list of the commands you can execute inside a Colab notebook. Most of these commands are intuitively named. For example, to save your notebook in Google Drive, run \"Save notebook\" now from the command palette. You can find it quickly by typing \"save\" in the search box.\n",
        "\n",
        "Don't worry if you're not sure what some of the commands in the command palette do. For now, I just want you to know about this resource."
      ],
      "metadata": {
        "id": "LZ1IS0jSpZi0"
      }
    },
    {
      "cell_type": "markdown",
      "source": [
        "Congratulations for making it this far! Your last assignment is to watch this [short video](https://www.youtube.com/watch?v=inN8seMm7UI) and take a [quick tour of Colab](https://colab.research.google.com/notebooks/intro.ipynb)."
      ],
      "metadata": {
        "id": "2gpMPXdRf9GE"
      }
    },
    {
      "cell_type": "markdown",
      "source": [
        "**It's a good idea to save your work after a notebook session.** You can use the command palette to do this, as you just did in the previous cell, but since this is a common function, you'll see an easier way to save your notebook via the File->Save menu item.\n",
        "\n"
      ],
      "metadata": {
        "id": "VbfEFfZvq55E"
      }
    },
    {
      "cell_type": "markdown",
      "metadata": {
        "id": "aI8QLb28PQRu"
      },
      "source": [
        "#### When you run a cell in a notebook, where does it actually run?\n"
      ]
    },
    {
      "cell_type": "markdown",
      "metadata": {
        "id": "0cGVYia0DGx9"
      },
      "source": [
        "\n",
        "<img src=\"https://lh3.googleusercontent.com/LWgdIXTXW6nO0Wi5rGpEJoZ5Hd4EtXq8gm55_wyfIcfZOs07paFyWlrlFUyl9bRCKFKpS_I3nP6O4CN8vXwWG0bV2XtAUH4X2PRWiQ=w1200-l80-sg-rj-c0xffffff\">\n",
        "\n",
        "[Learn more.](https://www.google.com/about/datacenters/)"
      ]
    },
    {
      "cell_type": "markdown",
      "source": [
        "## Background"
      ],
      "metadata": {
        "id": "yihve3w1DGst"
      }
    },
    {
      "cell_type": "markdown",
      "source": [
        "### The March of Progress\n",
        "\n",
        "The cell phone in your pocket has more computing power than all of NASA back in 1969. They used it to put two astronauts on the moon. We use it to play Candy Crush. :)\n",
        "\n",
        "Learning to program gives you the power to build amazing things with your computer."
      ],
      "metadata": {
        "id": "3NGIb730DHik"
      }
    },
    {
      "cell_type": "markdown",
      "source": [
        "### What is an operating system?\n",
        "\n",
        "A software layer that functions as the computer’s traffic cop.\n",
        "\n",
        "Operating systems provide:\n",
        "- core system services (e.g. processes/threads, memory management)\n",
        "- abstraction of lower level services (e.g. reading a file, using the network)\n",
        "- permissions and access control (e.g. login authentication, verifying a user is allowed to access a file)\n",
        "- resource management (e.g. multiple programs sharing the CPU, multiple access to the same disk device)\n",
        "\n",
        "Popular operating systems: Windows, Linux, Android, iOS, MacOS\n"
      ],
      "metadata": {
        "id": "DLk2wdnV_FWU"
      }
    },
    {
      "cell_type": "markdown",
      "source": [
        "### What is an algorithm?\n",
        "\n",
        "A step-by-step procedure for solving a problem or accomplishing some end, especially by a computer\n",
        "\n",
        "Example Algorithm: Marc’s Scrambled Eggs Recipe\n",
        "\n",
        "**Ingredients:**\n",
        "* 2 eggs\n",
        "* butter\n",
        "\n",
        "**Cooking steps:**\n",
        "  * mix eggs in a bowl\n",
        "  * lightly coat a frying pan with gasoline\n",
        "  * heat pan to 4000 degrees\n",
        "  * stir eggs until firm\n",
        "  * pour mixed eggs into frying pan\n",
        "\n",
        "Just like programs, recipes can have errors, or \"bugs\". Can you find three bugs in this recipe?"
      ],
      "metadata": {
        "id": "I6eKs1vrO9KR"
      }
    },
    {
      "cell_type": "markdown",
      "source": [
        "### What is a program?\n",
        "\n",
        "* Encoding of an algorithm, in some particular programming language.\n",
        "* In other words, a set of instructions, which tell a computer how to do something.\n",
        "* Programming statements are called “source code” or just “code”.\n",
        "* \"Coding\" is just another word for programming."
      ],
      "metadata": {
        "id": "zbMhJ_R1DS7z"
      }
    },
    {
      "cell_type": "markdown",
      "source": [
        "### What is a programming language?\n",
        "\n",
        "* A set of rules for expressing algorithms symbolically.\n",
        "* Provides an abstraction layer for using your computer to solve a problem.\n",
        "* Provides a way to reuse other peoples’ work."
      ],
      "metadata": {
        "id": "mgk1NriOPAIz"
      }
    },
    {
      "cell_type": "markdown",
      "source": [
        "### Compiled vs. interpreted languages\n",
        "\n",
        "<img height=300 src=\"https://miro.medium.com/v2/resize:fit:1400/format:webp/1*3Iy-ohRRXj3lChmEbQTxIQ.png\">  \n",
        "[Source](https://medium.com/from-the-scratch/stop-it-there-are-no-compiled-and-interpreted-languages-512f84756664)\n",
        "\n",
        "- A compiler converts one language to another (usually a high level language to low level code that can be run directly by the hardware).\n",
        "- An interpreter executes the source program one statement at a time.\n",
        "- Portability vs. performance"
      ],
      "metadata": {
        "id": "hadBo4aHJqqj"
      }
    },
    {
      "cell_type": "markdown",
      "source": [
        "### What is Python and why learn it?\n",
        "\n",
        "* an interpreted programming language that was invented in 1989 by Dutch programmer Guido van Rossum\n",
        "* powerful and expressive\n",
        "* easy to learn\n",
        "* highly readable\n",
        "* freely available open source\n",
        "* widely used & well supported\n",
        "* Very strong for:\n",
        "  * AI\n",
        "  * Data Science\n",
        "  * Finance\n",
        "  * Statistics\n",
        "  * Machine Learning\n",
        "  * Social Sciences\n",
        "  * Web development\n",
        "  * Education\n",
        "* not a bad thing to have on your resume/CV\n",
        "\n",
        "\n",
        "[Python is eating the world: How one developer's side project became the hottest programming language on the planet](https://www.techrepublic.com/article/python-is-eating-the-world-how-one-developers-side-project-became-the-hottest-programming-language-on-the-planet/)"
      ],
      "metadata": {
        "id": "sxWG0oKYPC_1"
      }
    },
    {
      "cell_type": "markdown",
      "source": [
        "Here's a visualisation of programming language popularirity worldwide, as of September 2024, based on how often language tutorials are searched on Google:\n",
        "\n",
        "<img height=300 src=\"https://pypl.github.io/PYPL/All.png\">\n",
        "\n",
        "[Source](https://pypl.github.io/PYPL.html)\n",
        "\n",
        "And here's a graph showing language popularity as a function of Stack Overflow questions over time:\n",
        "\n",
        "<img height=300 src=\"https://mco.dev/img/stackoverflow.svg\">\n",
        "\n",
        "[Source](https://trends.stackoverflow.co/?tags=java,c,python,c%23,vb.net,javascript,assembly,php,perl,ruby,swift,r,objective-c)\n"
      ],
      "metadata": {
        "id": "S4aE5rz1PHOy"
      }
    },
    {
      "cell_type": "markdown",
      "source": [
        "### Python execution model\n",
        "\n",
        "<img height=\"400\" src=\"https://mco.dev/img/py.gif\" />\n",
        "\n",
        "[Source](https://www.google.com/url?sa=i&url=https%3A%2F%2Fblog.gopenai.com%2Fhow-python-works-unveiling-the-magic-behind-python-programming-c95ab99f1ee3&psig=AOvVaw0cKy_Fwe-pc44QwiMoEkAK&ust=1727354649845000&source=images&cd=vfe&opi=89978449&ved=0CBQQjhxqFwoTCLCK29mP3ogDFQAAAAAdAAAAABAE)\n"
      ],
      "metadata": {
        "id": "gnaDf6KQOTIW"
      }
    },
    {
      "cell_type": "markdown",
      "source": [
        "### The Zen of Python"
      ],
      "metadata": {
        "id": "qOENnfe0er2M"
      }
    },
    {
      "cell_type": "code",
      "source": [
        "import this"
      ],
      "metadata": {
        "id": "rT8TY_HreoDd",
        "colab": {
          "base_uri": "https://localhost:8080/"
        },
        "outputId": "e9eb0e2d-65ce-404c-e870-3b79432a235b"
      },
      "execution_count": 2,
      "outputs": [
        {
          "output_type": "stream",
          "name": "stdout",
          "text": [
            "The Zen of Python, by Tim Peters\n",
            "\n",
            "Beautiful is better than ugly.\n",
            "Explicit is better than implicit.\n",
            "Simple is better than complex.\n",
            "Complex is better than complicated.\n",
            "Flat is better than nested.\n",
            "Sparse is better than dense.\n",
            "Readability counts.\n",
            "Special cases aren't special enough to break the rules.\n",
            "Although practicality beats purity.\n",
            "Errors should never pass silently.\n",
            "Unless explicitly silenced.\n",
            "In the face of ambiguity, refuse the temptation to guess.\n",
            "There should be one-- and preferably only one --obvious way to do it.\n",
            "Although that way may not be obvious at first unless you're Dutch.\n",
            "Now is better than never.\n",
            "Although never is often better than *right* now.\n",
            "If the implementation is hard to explain, it's a bad idea.\n",
            "If the implementation is easy to explain, it may be a good idea.\n",
            "Namespaces are one honking great idea -- let's do more of those!\n"
          ]
        }
      ]
    },
    {
      "cell_type": "markdown",
      "source": [
        "## Getting Started"
      ],
      "metadata": {
        "id": "AtGUOfF_RKJN"
      }
    },
    {
      "cell_type": "markdown",
      "source": [
        "### Installing Python\n",
        "\n",
        "<img height=\"400\" src=\"https://mco.dev/img/pyinstall.png\" />\n",
        "\n",
        "[Source](https://www.python.org/downloads/)\n"
      ],
      "metadata": {
        "id": "C8IY98u7UpCc"
      }
    },
    {
      "cell_type": "markdown",
      "source": [
        "### Running a Python program from the command line\n",
        "\n",
        "<img height=\"300\" src=\"https://mco.dev/img/pyrun.png\" />\n"
      ],
      "metadata": {
        "id": "4ozrsnZSWe2g"
      }
    },
    {
      "cell_type": "markdown",
      "metadata": {
        "id": "nkxuivpM_Qis"
      },
      "source": [
        "### Example Programs"
      ]
    },
    {
      "cell_type": "markdown",
      "metadata": {
        "id": "NSgINTKQ_CYt"
      },
      "source": [
        "#### Example 1 - Print a Multiplication Table"
      ]
    },
    {
      "cell_type": "code",
      "metadata": {
        "id": "LtZnTw6klY6f",
        "colab": {
          "base_uri": "https://localhost:8080/"
        },
        "outputId": "a4b04426-fd09-4d31-95cf-4d8620f8e3d4"
      },
      "source": [
        "for i in range(1,10):\n",
        "  print(i, end=' ')\n",
        "  for j in range(2, 10):\n",
        "    print(f'{i*j:2}', end=' ')\n",
        "  print()"
      ],
      "execution_count": 3,
      "outputs": [
        {
          "output_type": "stream",
          "name": "stdout",
          "text": [
            "1  2  3  4  5  6  7  8  9 \n",
            "2  4  6  8 10 12 14 16 18 \n",
            "3  6  9 12 15 18 21 24 27 \n",
            "4  8 12 16 20 24 28 32 36 \n",
            "5 10 15 20 25 30 35 40 45 \n",
            "6 12 18 24 30 36 42 48 54 \n",
            "7 14 21 28 35 42 49 56 63 \n",
            "8 16 24 32 40 48 56 64 72 \n",
            "9 18 27 36 45 54 63 72 81 \n"
          ]
        }
      ]
    },
    {
      "cell_type": "markdown",
      "metadata": {
        "id": "VCrIV-u_8lLa"
      },
      "source": [
        "#### Example 2 - Search IMDb"
      ]
    },
    {
      "cell_type": "code",
      "metadata": {
        "id": "nFqtwGgQmP-7",
        "colab": {
          "base_uri": "https://localhost:8080/"
        },
        "outputId": "2a9ac8cb-06f2-43f5-b5ec-46f5a0d3b285"
      },
      "source": [
        "!pip install -q imdbpy\n",
        "from imdb import IMDb\n",
        "from IPython.display import Image"
      ],
      "execution_count": 4,
      "outputs": [
        {
          "output_type": "stream",
          "name": "stdout",
          "text": [
            "\u001b[?25l   \u001b[90m━━━━━━━━━━━━━━━━━━━━━━━━━━━━━━━━━━━━━━━━\u001b[0m \u001b[32m0.0/297.2 kB\u001b[0m \u001b[31m?\u001b[0m eta \u001b[36m-:--:--\u001b[0m\r\u001b[2K   \u001b[91m━━━━━━━━━━━━━━━━━━━━\u001b[0m\u001b[91m╸\u001b[0m\u001b[90m━━━━━━━━━━━━━━━━━━━\u001b[0m \u001b[32m153.6/297.2 kB\u001b[0m \u001b[31m4.8 MB/s\u001b[0m eta \u001b[36m0:00:01\u001b[0m\r\u001b[2K   \u001b[90m━━━━━━━━━━━━━━━━━━━━━━━━━━━━━━━━━━━━━━━━\u001b[0m \u001b[32m297.2/297.2 kB\u001b[0m \u001b[31m5.1 MB/s\u001b[0m eta \u001b[36m0:00:00\u001b[0m\n",
            "\u001b[?25h"
          ]
        }
      ]
    },
    {
      "cell_type": "code",
      "metadata": {
        "id": "1dmpaajmmQs0",
        "colab": {
          "base_uri": "https://localhost:8080/",
          "height": 360
        },
        "outputId": "8356a1ba-1e60-46ef-de1c-d1b8bd52e8b3"
      },
      "source": [
        "title = 'trainspotting'\n",
        "imdb = IMDb()  # create imdb API object\n",
        "results = imdb.search_movie(title)\n",
        "limit = 3\n",
        "count = 0\n",
        "\n",
        "for i in results:\n",
        "  if count > limit:\n",
        "    break\n",
        "  count += 1\n",
        "  if i.data['kind'] == 'movie':\n",
        "    movie = imdb.get_movie(i.movieID)\n",
        "    imdb.update(movie, info=['vote details'])\n",
        "    if 'rating' in movie.data:\n",
        "      display(Image(url=movie.data['cover url']))\n",
        "      print(movie, movie.data['rating'])"
      ],
      "execution_count": 6,
      "outputs": [
        {
          "output_type": "display_data",
          "data": {
            "text/html": [
              "<img src=\"https://m.media-amazon.com/images/M/MV5BYmVkNGJkMzQtYWQwOS00OTZmLThjODQtZjNjNzllYzRiNTE0XkEyXkFqcGc@._V1_SY150_CR0,0,101,150_.jpg\"/>"
            ],
            "text/plain": [
              "<IPython.core.display.Image object>"
            ]
          },
          "metadata": {}
        },
        {
          "output_type": "stream",
          "name": "stdout",
          "text": [
            "Trainspotting 8.1\n"
          ]
        },
        {
          "output_type": "display_data",
          "data": {
            "text/html": [
              "<img src=\"https://m.media-amazon.com/images/M/MV5BMjI0MTE1ODkzMl5BMl5BanBnXkFtZTgwMTQ1MTg5MDI@._V1_SY150_CR0,0,101,150_.jpg\"/>"
            ],
            "text/plain": [
              "<IPython.core.display.Image object>"
            ]
          },
          "metadata": {}
        },
        {
          "output_type": "stream",
          "name": "stdout",
          "text": [
            "T2 Trainspotting 7.1\n"
          ]
        }
      ]
    },
    {
      "cell_type": "markdown",
      "metadata": {
        "id": "SyQZmOBvDfHJ"
      },
      "source": [
        "#### Example 3 - Generate a Histogram"
      ]
    },
    {
      "cell_type": "code",
      "metadata": {
        "id": "G41ikHfhDdN9",
        "colab": {
          "base_uri": "https://localhost:8080/",
          "height": 467
        },
        "outputId": "6bb1f445-8c8c-4287-da27-ff5ca81672d6"
      },
      "source": [
        "import seaborn as sns\n",
        "\n",
        "countries = ['UK', 'UK', 'India', 'UK', 'India', 'UK', 'Sweden',\n",
        "             'India', 'India', 'India', 'India', 'UK', 'India', 'Nigeria',\n",
        "             'US', 'Afghanistan', 'Afghanistan', 'US', 'UK', 'US',\n",
        "             'Afghanistan', 'UK']\n",
        "sns.countplot(countries)\n"
      ],
      "execution_count": 7,
      "outputs": [
        {
          "output_type": "execute_result",
          "data": {
            "text/plain": [
              "<Axes: xlabel='count'>"
            ]
          },
          "metadata": {},
          "execution_count": 7
        },
        {
          "output_type": "display_data",
          "data": {
            "text/plain": [
              "<Figure size 640x480 with 1 Axes>"
            ],
            "image/png": "[encoded data removed]"
          },
          "metadata": {}
        }
      ]
    },
    {
      "cell_type": "markdown",
      "source": [
        "#### Example 4 - Generative AI built into Colab\n",
        "\n",
        "Try this in Colab:\n",
        "\n",
        "<img width=\"800\" src=\"https://mco.dev/img/generate.png\">"
      ],
      "metadata": {
        "id": "CiRaj0-lXJmf"
      }
    },
    {
      "cell_type": "code",
      "source": [
        "# prompt: generate a colorful time series graph, make the values sparse, i.e. fewer than 20\n",
        "\n",
        "import matplotlib.pyplot as plt\n",
        "import numpy as np\n",
        "import random\n",
        "\n",
        "# Generate sparse time series data\n",
        "num_points = random.randint(10, 19)  # Ensure fewer than 20 data points\n",
        "time_values = np.linspace(0, 10, num_points)\n",
        "data_values = np.random.randint(1, 50, num_points)\n",
        "\n",
        "# Create a colorful time series plot\n",
        "plt.figure(figsize=(10, 6))\n",
        "plt.plot(time_values, data_values, marker='o', linestyle='-', color='blue', linewidth=2)\n",
        "plt.fill_between(time_values, data_values, color='skyblue', alpha=0.4)\n",
        "plt.xlabel('Time')\n",
        "plt.ylabel('Values')\n",
        "plt.title('Colorful Time Series Graph (Sparse Data)')\n",
        "\n",
        "# Add some aesthetics\n",
        "plt.grid(True, linestyle='--', alpha=0.7)\n",
        "plt.xticks(fontsize=12)\n",
        "plt.yticks(fontsize=12)\n",
        "\n",
        "# Show the plot\n",
        "plt.show()\n"
      ],
      "metadata": {
        "colab": {
          "base_uri": "https://localhost:8080/",
          "height": 562
        },
        "id": "nqsmUP4kT6fj",
        "outputId": "975a619d-b994-4cf1-f50e-6aeceffee3f4"
      },
      "execution_count": 10,
      "outputs": [
        {
          "output_type": "display_data",
          "data": {
            "text/plain": [
              "<Figure size 1000x600 with 1 Axes>"
            ],
            "image/png": "[encoded data removed]"
          },
          "metadata": {}
        }
      ]
    },
    {
      "cell_type": "markdown",
      "source": [
        "### Your first Python program"
      ],
      "metadata": {
        "id": "lwKtX2BADdBA"
      }
    },
    {
      "cell_type": "code",
      "source": [
        "print('Hello world!')"
      ],
      "metadata": {
        "id": "KF4eCbahJcXm",
        "colab": {
          "base_uri": "https://localhost:8080/"
        },
        "outputId": "d373da07-eb0b-4aa8-e28a-331bbf5990cc"
      },
      "execution_count": 11,
      "outputs": [
        {
          "output_type": "stream",
          "name": "stdout",
          "text": [
            "Hello world!\n"
          ]
        }
      ]
    },
    {
      "cell_type": "markdown",
      "source": [
        "Just for context, here's how we wrote that program in 1982:\n",
        "\n",
        "```\n",
        "HELLO    CSECT               The name of this program is 'HELLO'\n",
        " *                            Register 15 points here on entry from OPSYS or caller.\n",
        "          STM   14,12,12(13)  Save registers 14,15, and 0 thru 12 in caller's Save area\n",
        "          LR    12,15         Set up base register with program's entry point address\n",
        "          USING HELLO,12      Tell assembler which register we are using for pgm. base\n",
        "          LA    15,SAVE       Now Point at our own save area\n",
        "          ST    15,8(13)      Set forward chain\n",
        "          ST    13,4(15)      Set back chain               \n",
        "          LR    13,15         Set R13 to address of new save area\n",
        " *                            -end of housekeeping (similar for most programs) -\n",
        "          WTO   'Hello World' Write To Operator  (Operating System macro)\n",
        " *\n",
        "          L     13,4(13)      restore address to caller-provided save area\n",
        "          XC    8(4,13),8(13) Clear forward chain\n",
        "          LM    14,12,12(13)  Restore registers as on entry\n",
        "          DROP  12            The opposite of 'USING'\n",
        "          SR    15,15         Set register 15 to 0 so that the return code (R15) is Zero\n",
        "          BR    14            Return to caller\n",
        " *           \n",
        " SAVE     DS    18F           Define 18 fullwords to save calling program registers\n",
        "          END  HELLO          This is the end of the program\n",
        "\n",
        "```\n",
        "\n",
        "Now you see why I love Python. :)"
      ],
      "metadata": {
        "id": "NevSZlv2DeLj"
      }
    },
    {
      "cell_type": "markdown",
      "source": [
        "The `print` function provides a mechanism to generate output from a Python program. Another useful function to know about is the `input` function. It's sort of the opposite of `print`, because it gathers input into your program. Here's an example:"
      ],
      "metadata": {
        "id": "E_cWdzkjDpLj"
      }
    },
    {
      "cell_type": "code",
      "source": [
        "print('Enter your name: ')\n",
        "name = input()\n",
        "print('Hello', name + '!')"
      ],
      "metadata": {
        "id": "IXK50-G1Dvmi",
        "colab": {
          "base_uri": "https://localhost:8080/"
        },
        "outputId": "aff4fff0-50c7-412a-ee8a-81dadfb457eb"
      },
      "execution_count": 14,
      "outputs": [
        {
          "output_type": "stream",
          "name": "stdout",
          "text": [
            "Enter your name: \n",
            "Marc\n",
            "Hello Marc!\n"
          ]
        }
      ]
    },
    {
      "cell_type": "markdown",
      "source": [
        "Printing a prompt before gathering input is such a common pattern that you can combine them into one function call, like this:"
      ],
      "metadata": {
        "id": "-Ko9jZsDDyDN"
      }
    },
    {
      "cell_type": "code",
      "source": [
        "name = input('Enter your name: ')\n",
        "print('Hello', name + '!')"
      ],
      "metadata": {
        "id": "sEHdIB8hD1AZ",
        "colab": {
          "base_uri": "https://localhost:8080/"
        },
        "outputId": "9e7d6d97-ad1d-40bd-88d9-a2d678847d82"
      },
      "execution_count": 13,
      "outputs": [
        {
          "output_type": "stream",
          "name": "stdout",
          "text": [
            "Enter your name: Marc\n",
            "Hello Marc!\n"
          ]
        }
      ]
    },
    {
      "cell_type": "markdown",
      "source": [
        "🎉 Congratulations - you are now a Python programmer! 🎉"
      ],
      "metadata": {
        "id": "eMFjh5gtD39p"
      }
    },
    {
      "cell_type": "markdown",
      "source": [
        "### Errors - when bad things happen to good programs\n"
      ],
      "metadata": {
        "id": "TcYw_Jm9ER0U"
      }
    },
    {
      "cell_type": "code",
      "source": [
        "\"42\" + \"1\""
      ],
      "metadata": {
        "id": "5ptg2XDBEXxt",
        "colab": {
          "base_uri": "https://localhost:8080/",
          "height": 35
        },
        "outputId": "ee39a424-fafb-445d-8e0d-ebed77940fc7"
      },
      "execution_count": 15,
      "outputs": [
        {
          "output_type": "execute_result",
          "data": {
            "text/plain": [
              "'421'"
            ],
            "application/vnd.google.colaboratory.intrinsic+json": {
              "type": "string"
            }
          },
          "metadata": {},
          "execution_count": 15
        }
      ]
    },
    {
      "cell_type": "markdown",
      "source": [
        "#### Three kinds of errors\n",
        "\n",
        "* **syntax errors**: invalid Python\n",
        "```\n",
        "    print'Hello from Python')\n",
        "```\n",
        "\n",
        "* **runtime errors**: legal code tries to do something illegal\n",
        "```\n",
        "    primt('Hello from Python')\n",
        "    print(10 / 0)\n",
        "```\n",
        "* **logic errors**: code is legal and runs fine but it does the wrong thing\n",
        "```\n",
        "    age = birth_year - current_year\n",
        "```\n"
      ],
      "metadata": {
        "id": "Pir93cSVEfyW"
      }
    },
    {
      "cell_type": "markdown",
      "source": [
        "### Comments"
      ],
      "metadata": {
        "id": "59EiRpnUEm5U"
      }
    },
    {
      "cell_type": "markdown",
      "source": [
        "* `#` marks the rest of the line as a \"comment\"\n",
        "* Ignored by Python\n",
        "* useful for documenting your code\n",
        "* blank lines are also fine and sometimes improve readability\n",
        "\n",
        "Example:\n"
      ],
      "metadata": {
        "id": "gM--DvYeEnwl"
      }
    },
    {
      "cell_type": "code",
      "source": [
        "# Python ignores this line.\n",
        "# print('this line does not print anything when commented out')\n",
        "# The following blank lines are ignored as well...\n",
        "\n",
        "#print('hi') # this is a comment\n",
        "\n",
        "# I can have as many comments and blank lines as I like in a program.\n",
        "# They are for the benefit of me and \"future me\"."
      ],
      "metadata": {
        "id": "3fQafcdWErK8"
      },
      "execution_count": 22,
      "outputs": []
    },
    {
      "cell_type": "markdown",
      "source": [
        "Try removing the # preceding the print function call in the previous cell. We call this \"uncommenting\" a line of code.\n",
        "\n",
        "Now put the # back in place. We call this \"commenting out\" a line of code. Often we'll do this to temporarily disable some code from running, where we want to keep the code in place for possible future use."
      ],
      "metadata": {
        "id": "FupNNXDiEt57"
      }
    },
    {
      "cell_type": "markdown",
      "source": [
        "### What is a function?\n",
        "\n",
        "A reusable piece of code that completes a specific task.\n",
        "We just met two functions - `print` and `input` are functions you used to do input/output (I/O) operations.\n",
        "We say \"call\" or \"invoke\" a function to request that it do its job.\n",
        "We do this by writing the function name followed by parentheses (aka brackets).\n",
        "We may optionally include some values inside the brackets. We call those values function arguments, or just arguments.\n",
        "We'll often refer to this process as \"passing arguments\" to a function.\n",
        "I like to think of the function as a work request and the arguments as the job specification.\n",
        "For example, you can pass arguments to the print function to produce just about any desired output."
      ],
      "metadata": {
        "id": "qBPSAuuKE0fV"
      }
    },
    {
      "cell_type": "code",
      "source": [
        "print('test')\n",
        "print()\n",
        "print('this', 'is', 'a', 'test')"
      ],
      "metadata": {
        "id": "3HM8Y6lmE533",
        "colab": {
          "base_uri": "https://localhost:8080/"
        },
        "outputId": "cb332a87-9a4c-4824-e4fd-da1fab0ab695"
      },
      "execution_count": 30,
      "outputs": [
        {
          "output_type": "stream",
          "name": "stdout",
          "text": [
            "test\n",
            "\n",
            "this is a test\n"
          ]
        }
      ]
    },
    {
      "cell_type": "markdown",
      "source": [
        "Built-in functions, like `print` and `input` are always available to use."
      ],
      "metadata": {
        "id": "z-G13spuFD7k"
      }
    },
    {
      "cell_type": "markdown",
      "source": [
        "#### More about print\n",
        "\n",
        "A print function call with no arguments simply prints a blank line:"
      ],
      "metadata": {
        "id": "g7cJE8BME9qh"
      }
    },
    {
      "cell_type": "code",
      "source": [
        "print()"
      ],
      "metadata": {
        "id": "ele-LAekFARg",
        "colab": {
          "base_uri": "https://localhost:8080/"
        },
        "outputId": "9b8cf75d-4103-432b-dc8b-c94aa2d490ad"
      },
      "execution_count": 31,
      "outputs": [
        {
          "output_type": "stream",
          "name": "stdout",
          "text": [
            "\n"
          ]
        }
      ]
    },
    {
      "cell_type": "code",
      "source": [
        "# Now try calling the print function with something else, like your name...\n",
        "print('your name here')"
      ],
      "metadata": {
        "id": "Uw6lA8F1FAqa"
      },
      "execution_count": null,
      "outputs": []
    },
    {
      "cell_type": "markdown",
      "source": [
        "Functions are the basic building blocks of a Python program. Later we'll see how to define your own functions. We've seen a simple print function call with zero and one argument:"
      ],
      "metadata": {
        "id": "RSQgnW0yFCru"
      }
    },
    {
      "cell_type": "code",
      "source": [
        "print('My name is Marc')"
      ],
      "metadata": {
        "id": "jU4sxCgyFFRn"
      },
      "execution_count": null,
      "outputs": []
    },
    {
      "cell_type": "markdown",
      "source": [
        "We can also print a sequence of arguments, where spaces are added between each element in sequence, like this:"
      ],
      "metadata": {
        "id": "97c73XgDFID4"
      }
    },
    {
      "cell_type": "code",
      "source": [
        "print('My', 'name', 'is', 'Marc')\n",
        "print('next line')"
      ],
      "metadata": {
        "id": "kiAQ0lhIFOH_"
      },
      "execution_count": null,
      "outputs": []
    },
    {
      "cell_type": "markdown",
      "source": [
        "By default, we get a newline character at the end of a print request but we can override that behavior using the `end` argument:"
      ],
      "metadata": {
        "id": "QZ3u1Nz-FQnL"
      }
    },
    {
      "cell_type": "code",
      "source": [
        "print('My name is Marc')\n",
        "print('next line')\n",
        "\n",
        "print('My name is Marc', end='\\n')\n",
        "print('next line')"
      ],
      "metadata": {
        "id": "kJUx3JeYFTr6",
        "colab": {
          "base_uri": "https://localhost:8080/"
        },
        "outputId": "8e8ecbc7-df62-44c4-de69-3da5c07b1aa5"
      },
      "execution_count": 32,
      "outputs": [
        {
          "output_type": "stream",
          "name": "stdout",
          "text": [
            "My name is Marc\n",
            "next line\n",
            "My name is Marc\n",
            "next line\n"
          ]
        }
      ]
    },
    {
      "cell_type": "markdown",
      "source": [
        "We can also change the separator string, using the `sep` argument, like this:"
      ],
      "metadata": {
        "id": "jfIf6b3oFWdt"
      }
    },
    {
      "cell_type": "code",
      "source": [
        "print('My', 'name', 'is', 'Marc', sep='\\n')"
      ],
      "metadata": {
        "id": "fxeGHGFFFcNf"
      },
      "execution_count": null,
      "outputs": []
    },
    {
      "cell_type": "markdown",
      "source": [
        "We could even use a null (empty) separator:"
      ],
      "metadata": {
        "id": "ZE7IVAmkFcx_"
      }
    },
    {
      "cell_type": "code",
      "source": [
        "print('My', 'name', 'is', 'Marc', sep='', end='')\n",
        "print('hi')"
      ],
      "metadata": {
        "id": "P17FtZ6NFfnx"
      },
      "execution_count": null,
      "outputs": []
    },
    {
      "cell_type": "markdown",
      "metadata": {
        "id": "inQ6KAKi_eow"
      },
      "source": [
        "### Useful Python Resources\n",
        "\n",
        "* [The official Python site](https://python.org)\n",
        "* [Install Python](https://python.org/downloads/)\n",
        "* [A Whirlwind Tour of Python](https://jakevdp.github.io/WhirlwindTourOfPython/)\n",
        "* [My Favorite Books for Beginning Python Students](https://mco.dev/my-favorite-books-for-beginning-python-students/)\n",
        "* [repl.it](https://repl.it)\n",
        "* [vscode](https://code.visualstudio.com/)\n",
        "* [codingbat.com](https://codingbat.com/python)"
      ]
    },
    {
      "cell_type": "markdown",
      "metadata": {
        "id": "vCmjSFW50CTR"
      },
      "source": [
        "#### Recommended Book for Further Study\n",
        "\n",
        "[Automate the Boring Stuff with Python](http://automatetheboringstuff.com/)\n",
        "\n",
        "Great fit for our course:\n",
        "* well written\n",
        "* free to read online\n",
        "* perfect for beginners\n",
        "* focusses on practical applications\n",
        "* if you buy it, make sure you get the 3rd edition\n",
        "\n",
        "<br>\n",
        "\n",
        "<img height=\"350\" src=\"https://m.media-amazon.com/images/I/61yYe66I4+L._SL1321_.jpg\">"
      ]
    },
    {
      "cell_type": "markdown",
      "metadata": {
        "id": "Wwgi8P3R_DAL"
      },
      "source": [
        "#### Documentation"
      ]
    },
    {
      "cell_type": "markdown",
      "metadata": {
        "id": "fhjNrudli71i"
      },
      "source": [
        "* [Official Python Documentation](https://python.org/doc/)\n",
        "* the `help` function (see example below)\n",
        "* Google\n",
        "* Stack Overflow\n",
        "* AI - I like Github Co-Pilot and Google Gemini"
      ]
    },
    {
      "cell_type": "code",
      "source": [
        "help(print)"
      ],
      "metadata": {
        "colab": {
          "base_uri": "https://localhost:8080/"
        },
        "id": "LBjoSCzaZNH7",
        "outputId": "795278b3-79e3-424c-f6a4-a4036247a4c6"
      },
      "execution_count": 33,
      "outputs": [
        {
          "output_type": "stream",
          "name": "stdout",
          "text": [
            "Help on built-in function print in module builtins:\n",
            "\n",
            "print(...)\n",
            "    print(value, ..., sep=' ', end='\\n', file=sys.stdout, flush=False)\n",
            "    \n",
            "    Prints the values to a stream, or to sys.stdout by default.\n",
            "    Optional keyword arguments:\n",
            "    file:  a file-like object (stream); defaults to the current sys.stdout.\n",
            "    sep:   string inserted between values, default a space.\n",
            "    end:   string appended after the last value, default a newline.\n",
            "    flush: whether to forcibly flush the stream.\n",
            "\n"
          ]
        }
      ]
    },
    {
      "cell_type": "markdown",
      "source": [
        "[Next Lesson](https://pylearn.io/lessons/2-Variables)"
      ],
      "metadata": {
        "id": "EkZ8ubueWVSx"
      }
    }
  ]
}