{
  "nbformat": 4,
  "nbformat_minor": 0,
  "metadata": {
    "colab": {
      "provenance": [],
      "name": "1-welcome.ipynb",
      "toc_visible": true,
      "include_colab_link": true
    },
    "kernelspec": {
      "name": "python3",
      "display_name": "Python 3"
    },
    "language_info": {
      "name": "python"
    }
  },
  "cells": [
    {
      "cell_type": "markdown",
      "metadata": {
        "id": "view-in-github",
        "colab_type": "text"
      },
      "source": [
        "<a href=\"https://colab.research.google.com/github/mco-gh/pylearn/blob/master/notebooks/1_Welcome.ipynb\" target=\"_parent\"><img src=\"https://colab.research.google.com/assets/colab-badge.svg\" alt=\"Open In Colab\"/></a>"
      ]
    },
    {
      "cell_type": "markdown",
      "source": [
        "# Lesson 1 - Welcome, Background, & Getting Started\n",
        "\n",
        "**You can make your own copy of this notebook by selecting File->Save a copy in Drive from the menu bar above.**\n",
        "\n",
        "- <a target=\"_blank\" href=\"https://colab.research.google.com/github/mco-gh/pylearn/blob/master/notebooks/1_Welcome.ipynb\">Open this notebook in Colab</a>\n",
        "- <a target=\"_blank\" href=\"https://github.com/mco-gh/pylearn/blob/master/notebooks/1_Welcome.ipynb\">\n",
        "Open this notebook in Github</a>\n",
        "\n",
        "Things you'll learn in this lesson:\n",
        "\n",
        "- An overview of this course\n",
        "- A brief background on computing, programming, and Python\n",
        "- Some getting start material"
      ],
      "metadata": {
        "id": "KiFkmu1XN4oU"
      }
    },
    {
      "cell_type": "markdown",
      "source": [
        "[Next Lesson](https://pylearn.io/lessons/2-Variables)"
      ],
      "metadata": {
        "id": "qp4q0dFWqHWg"
      }
    },
    {
      "cell_type": "markdown",
      "source": [
        "## To do\n",
        "- Compiled vs. Interpreted\n",
        "- Compiled and Interpreted programming languages\n",
        "- Downloading and installing Python\n",
        "- Using the Python documentation\n",
        "- The structure of a Python script\n",
        "- Running Python scripts\n"
      ],
      "metadata": {
        "id": "rTFtPBm7TdQ8"
      }
    },
    {
      "cell_type": "markdown",
      "source": [
        "## Course Overview"
      ],
      "metadata": {
        "id": "0WyaJs8BQmTj"
      }
    },
    {
      "cell_type": "markdown",
      "source": [
        "### Course Description\n",
        "\n",
        "This course is primarily for beginners. In my experience, the best way to learn a programming language is to do something useful with it. This notebook describes the PyLearn course and a simple project we'll use to apply  your new skills throughout the course.\n",
        "\n",
        "Pylearn is...\n",
        "\n",
        "- **inclusive** - no prerequisites, perfect for beginners\n",
        "- **approachable** - nothing to install or configure\n",
        "- **convenient** - learn at your pace, on your schedule\n",
        "- **free** - no fees, no ads, not now, not ever\n",
        "- **practical** - understand not only how, but why\n",
        "- **respectful** - we never request or store any personal information\n",
        "- **interactive** - learn by doing, using Colab notebooks"
      ],
      "metadata": {
        "id": "bk9PgokcN-Kt"
      }
    },
    {
      "cell_type": "markdown",
      "source": [
        "### Course Goals\n",
        "- Demystify programming in general and Python in particular\n",
        "- Show how to use Python to solve a real world, relatable problem\n",
        "- Provide a solid foundation for diving deeper"
      ],
      "metadata": {
        "id": "Yxb6Q_WCRpbB"
      }
    },
    {
      "cell_type": "markdown",
      "source": [
        "### Instructor\n",
        "\n",
        "I'm [Marc](https://mco.dev/about-marc). I love teaching, programming, and teaching programming.\n",
        "\n",
        "* My blog can be found at [mco.dev](https://mco.dev).\n",
        "* My email address is marc@mco.dev."
      ],
      "metadata": {
        "id": "Pyb4dvEQOG05"
      }
    },
    {
      "cell_type": "markdown",
      "source": [
        "### Target Audience\n",
        "- Programming and/or Python beginners\n",
        "- Underrepresented groups in tech\n",
        "- Aspiring data scientists\n",
        "\n",
        "There are **no prerequisites** for this course. We'll start at the beginning."
      ],
      "metadata": {
        "id": "J68E4Lf0Rj93"
      }
    },
    {
      "cell_type": "markdown",
      "source": [
        "### Syllabus\n",
        "Lesson|Title\n",
        "------|-----\n",
        "1 Welcome, Background, & Getting Started\n",
        "2 Types, Variables, & Assignment\n",
        "3 Expressions & Operators\n",
        "4 Conditionals\n",
        "5 Loops\n",
        "6 Functions\n",
        "7 Iterables\n",
        "8 Files\n",
        "9 Exceptions\n"
      ],
      "metadata": {
        "id": "ixEjgGSYcy2d"
      }
    },
    {
      "cell_type": "markdown",
      "source": [
        "Old Agenda (for reference)\n",
        "- Week 1 - Course intro, setting up your environment, your first program\n",
        "- Week 2 - Basic data types, variables, and assignment statements\n",
        "- Week 3 - Expressions and operators\n",
        "- Week 4 - Simple I/O\n",
        "- Week 5 - Conditional Logic\n",
        "- Week 6 - Iteration\n",
        "- Week 7 - Functions\n",
        "- Week 8 - Sequences\n",
        "- Week 9 - Mappings\n",
        "- Week 10 - All Together Now\n"
      ],
      "metadata": {
        "id": "o5_HuNrjX3xy"
      }
    },
    {
      "cell_type": "markdown",
      "source": [
        "### Learning to Code\n",
        "\n",
        "* Programming is a creative activity.\n",
        "* There has never been a better time in history to learn to code.\n",
        "* Anyone can learn to program, as long as you’re willing to do the work.\n",
        "* Practice between classes is very helpful.\n",
        "* Give yourself time & kindness.\n",
        "* Mistakes are feedback.\n",
        "* When you get stuck:\n",
        "  * Don’t beat yourself up.\n",
        "  * Take a break.\n",
        "  * Don’t be afraid to ask me or a peer for help.\n",
        "* The dirty secret about professional programmers: *No one knows everything - we all use Google, Stack Overflow, and other websites all the time.*"
      ],
      "metadata": {
        "id": "o8xNRhtoO3nO"
      }
    },
    {
      "cell_type": "markdown",
      "source": [
        "## Background"
      ],
      "metadata": {
        "id": "yihve3w1DGst"
      }
    },
    {
      "cell_type": "markdown",
      "source": [
        "### The March of Progress\n",
        "\n",
        "The cell phone in your pocket has more computing power than all of NASA back in 1969. They used it to put two astronauts on the moon. We use it to play Candy Crush. :)\n",
        "\n",
        "Learning to program gives you the power to build amazing things with your computer."
      ],
      "metadata": {
        "id": "3NGIb730DHik"
      }
    },
    {
      "cell_type": "markdown",
      "source": [
        "### What is an algorithm?\n",
        "\n",
        "A step-by-step procedure for solving a problem or accomplishing some end, especially by a computer\n",
        "\n",
        "Example Algorithm: Marc’s Scrambled Eggs Recipe\n",
        "\n",
        "**Ingredients:**\n",
        "* 2 eggs\n",
        "* butter\n",
        "\n",
        "**Cooking steps:**\n",
        "  * mix eggs in a bowl\n",
        "  * lightly coat a frying pan with gasoline\n",
        "  * heat pan to 4000 degrees\n",
        "  * stir eggs until solid\n",
        "  * pour mixed eggs into frying pan\n",
        "\n",
        "Just like programs, recipes can have errors, or \"bugs\". Can you find three bugs in this recipe?"
      ],
      "metadata": {
        "id": "I6eKs1vrO9KR"
      }
    },
    {
      "cell_type": "markdown",
      "source": [
        "### What is a program?\n",
        "\n",
        "* Encoding of an algorithm, in some particular programming language.\n",
        "* In other words, a set of instructions, which tell a computer how to do something.\n",
        "* Programming statements are called “source code” or just “code”.\n",
        "* \"Coding\" is just another word for programming."
      ],
      "metadata": {
        "id": "zbMhJ_R1DS7z"
      }
    },
    {
      "cell_type": "markdown",
      "source": [
        "### What is a programming language?\n",
        "\n",
        "* A set of rules for expressing algorithms symbolically.\n",
        "* Provides an abstraction layer for using your computer to solve a problem.\n",
        "* Provides a way to reuse other peoples’ work."
      ],
      "metadata": {
        "id": "mgk1NriOPAIz"
      }
    },
    {
      "cell_type": "markdown",
      "source": [
        "### What is Python and why learn it?\n",
        "\n",
        "* a programming language that was invented in 1989 by Dutch programmer Guido van Rossum\n",
        "* powerful and expressive\n",
        "* easy to learn\n",
        "* highly readable\n",
        "* freely available open source\n",
        "* widely used & well supported\n",
        "* Very strong for:\n",
        "  * Data Science\n",
        "  * Statistics\n",
        "  * Machine Learning\n",
        "  * Social Sciences\n",
        "  * Web development\n",
        "  * Scientific and numerical computing\n",
        "  * Education\n",
        "* not a bad thing to have on your resume/CV\n",
        "\n",
        "\n",
        "[Python is eating the world: How one developer's side project became the hottest programming language on the planet](https://www.techrepublic.com/article/python-is-eating-the-world-how-one-developers-side-project-became-the-hottest-programming-language-on-the-planet/)"
      ],
      "metadata": {
        "id": "sxWG0oKYPC_1"
      }
    },
    {
      "cell_type": "markdown",
      "source": [
        "Here's a snapshot of the popularity of Python as of January 2021:\n",
        "\n",
        "<img height=300 src=\"https://redmonk.com/sogrady/files/2021/03/lang.rank_.0121.wm_.png\">\n",
        "\n",
        "[Source](https://redmonk.com/sogrady/2021/03/01/language-rankings-1-21/)"
      ],
      "metadata": {
        "id": "S4aE5rz1PHOy"
      }
    },
    {
      "cell_type": "markdown",
      "source": [
        "And here's a visualization of Python's growth over time:\n",
        "\n",
        "<img height=300 src=\"https://149351115.v2.pressablecdn.com/wp-content/uploads/2017/09/growth_major_languages-1-1400x1200.png\">\n",
        "\n",
        "[Source](https://stackoverflow.blog/2017/09/06/incredible-growth-python/)"
      ],
      "metadata": {
        "id": "3sO0N5LcPKjQ"
      }
    },
    {
      "cell_type": "markdown",
      "source": [
        "## Getting Started"
      ],
      "metadata": {
        "id": "AtGUOfF_RKJN"
      }
    },
    {
      "cell_type": "markdown",
      "source": [
        "### What is a Notebook?\n",
        "\n",
        "* You're looking at one. :)\n",
        "* Notebooks are interactive documents where you can read instructions and try your own code experiments in one unified experience.\n",
        "* The notebooks we're using are called [Jupyter](https://jupyter.org) and the hosting service (the notebook provider) is called [Google Colaboratory](https://colab.research.google.com/) or just \"Colab\". This service makes it easy to use and share Python notebooks for free, much like Google Docs.\n",
        "* Homework for next week: watch this [short video](https://www.youtube.com/watch?v=inN8seMm7UI) and take a [quick tour of Colab](https://colab.research.google.com/notebooks/intro.ipynb)."
      ],
      "metadata": {
        "id": "pt5w_HCaPSMi"
      }
    },
    {
      "cell_type": "markdown",
      "source": [
        "### Your first Python program"
      ],
      "metadata": {
        "id": "lwKtX2BADdBA"
      }
    },
    {
      "cell_type": "code",
      "source": [
        "print('Hello world!')"
      ],
      "metadata": {
        "id": "KF4eCbahJcXm"
      },
      "execution_count": null,
      "outputs": []
    },
    {
      "cell_type": "markdown",
      "source": [
        "Just for context, here's how we wrote that program in 1982:\n",
        "\n",
        "```\n",
        "HELLO    CSECT               The name of this program is 'HELLO'\n",
        " *                            Register 15 points here on entry from OPSYS or caller.\n",
        "          STM   14,12,12(13)  Save registers 14,15, and 0 thru 12 in caller's Save area\n",
        "          LR    12,15         Set up base register with program's entry point address\n",
        "          USING HELLO,12      Tell assembler which register we are using for pgm. base\n",
        "          LA    15,SAVE       Now Point at our own save area\n",
        "          ST    15,8(13)      Set forward chain\n",
        "          ST    13,4(15)      Set back chain               \n",
        "          LR    13,15         Set R13 to address of new save area\n",
        " *                            -end of housekeeping (similar for most programs) -\n",
        "          WTO   'Hello World' Write To Operator  (Operating System macro)\n",
        " *\n",
        "          L     13,4(13)      restore address to caller-provided save area\n",
        "          XC    8(4,13),8(13) Clear forward chain\n",
        "          LM    14,12,12(13)  Restore registers as on entry\n",
        "          DROP  12            The opposite of 'USING'\n",
        "          SR    15,15         Set register 15 to 0 so that the return code (R15) is Zero\n",
        "          BR    14            Return to caller\n",
        " *           \n",
        " SAVE     DS    18F           Define 18 fullwords to save calling program registers\n",
        "          END  HELLO          This is the end of the program\n",
        "\n",
        "```\n",
        "\n",
        "Now you see why I love Python. :)"
      ],
      "metadata": {
        "id": "NevSZlv2DeLj"
      }
    },
    {
      "cell_type": "markdown",
      "source": [
        "The `print` function provides a mechanism to generate output from a Python program. Another useful function to know about is the `input` function. It's sort of the opposite of `print`, because it gathers input into your program. Here's an example:"
      ],
      "metadata": {
        "id": "E_cWdzkjDpLj"
      }
    },
    {
      "cell_type": "code",
      "source": [
        "print('Enter your name: ')\n",
        "name = input()\n",
        "print('\\nHello', name + '!')"
      ],
      "metadata": {
        "id": "IXK50-G1Dvmi"
      },
      "execution_count": null,
      "outputs": []
    },
    {
      "cell_type": "markdown",
      "source": [
        "Printing a prompt before gathering input is such a common pattern that you can combine them into one function call, like this:"
      ],
      "metadata": {
        "id": "-Ko9jZsDDyDN"
      }
    },
    {
      "cell_type": "code",
      "source": [
        "name = input('Enter your name: ')\n",
        "print('Hello', name + '!')"
      ],
      "metadata": {
        "id": "sEHdIB8hD1AZ"
      },
      "execution_count": null,
      "outputs": []
    },
    {
      "cell_type": "markdown",
      "source": [
        "🎉 Congratulations - you are now a Python programmer! 🎉"
      ],
      "metadata": {
        "id": "eMFjh5gtD39p"
      }
    },
    {
      "cell_type": "markdown",
      "source": [
        "### Errors - when bad things happen to good programs\n"
      ],
      "metadata": {
        "id": "TcYw_Jm9ER0U"
      }
    },
    {
      "cell_type": "code",
      "source": [
        "\"42\" + \"1\""
      ],
      "metadata": {
        "id": "5ptg2XDBEXxt"
      },
      "execution_count": null,
      "outputs": []
    },
    {
      "cell_type": "markdown",
      "source": [
        "#### Three kinds of errors\n",
        "\n",
        "* **syntax errors**: invalid Python\n",
        "```\n",
        "    print'Hello from Python')\n",
        "```\n",
        "\n",
        "* **runtime errors**: legal code tries to do something illegal\n",
        "```\n",
        "    primt('Hello from Python')\n",
        "```\n",
        "* **logic errors**: code is legal and runs fine but it does the wrong thing\n",
        "```\n",
        "    age = birth_year - current_year\n",
        "```\n"
      ],
      "metadata": {
        "id": "Pir93cSVEfyW"
      }
    },
    {
      "cell_type": "markdown",
      "source": [
        "### Comments"
      ],
      "metadata": {
        "id": "59EiRpnUEm5U"
      }
    },
    {
      "cell_type": "markdown",
      "source": [
        "* `#` marks the rest of the line as a \"comment\"\n",
        "* Ignored by Python\n",
        "* useful for documenting your code\n",
        "* blank lines are also fine and sometimes improve readability\n",
        "\n",
        "Example:\n"
      ],
      "metadata": {
        "id": "gM--DvYeEnwl"
      }
    },
    {
      "cell_type": "code",
      "source": [
        "# Python ignores this line.\n",
        "# print('this line does not print anything when commented out')\n",
        "# The following blank lines are ignored as well...\n",
        "\n",
        "print('hi') # this is a comment\n",
        "\n",
        "\n",
        "# I can have as many comments and blank lines as I like in a program.\n",
        "# They are for the benefit of me and \"future me\"."
      ],
      "metadata": {
        "id": "3fQafcdWErK8"
      },
      "execution_count": null,
      "outputs": []
    },
    {
      "cell_type": "markdown",
      "source": [
        "Try removing the # preceding the print function call in the previous cell. We call this \"uncommenting\" a line of code.\n",
        "\n",
        "Now put the # back in place. We call this \"commenting out\" a line of code. Often we'll do this to temporarily disable some code from running, where we want to keep the code in place for possible future use."
      ],
      "metadata": {
        "id": "FupNNXDiEt57"
      }
    },
    {
      "cell_type": "markdown",
      "source": [
        "### What is a function?\n",
        "\n",
        "A reusable piece of code that completes a specific task.\n",
        "We just met two functions - `print` and `input` are functions you used to do input/output (I/O) operations.\n",
        "We say \"call\" or \"invoke\" a function to request that it do its job.\n",
        "We do this by writing the function name followed by parentheses (aka brackets).\n",
        "We may optionally include some values inside the brackets. We call those values function arguments, or just arguments.\n",
        "We'll often refer to this process as \"passing arguments\" to a function.\n",
        "I like to think of the function as a work request and the arguments as the job specification.\n",
        "For example, you can pass arguments to the print function to produce just about any desired output."
      ],
      "metadata": {
        "id": "qBPSAuuKE0fV"
      }
    },
    {
      "cell_type": "code",
      "source": [
        "print('test')\n",
        "print()\n",
        "print('this', 'is', 'a', 'test')"
      ],
      "metadata": {
        "id": "3HM8Y6lmE533"
      },
      "execution_count": null,
      "outputs": []
    },
    {
      "cell_type": "markdown",
      "source": [
        "#### More about print\n",
        "\n",
        "A print function call with no arguments simply prints a blank line:"
      ],
      "metadata": {
        "id": "g7cJE8BME9qh"
      }
    },
    {
      "cell_type": "code",
      "source": [
        "print()"
      ],
      "metadata": {
        "id": "ele-LAekFARg"
      },
      "execution_count": null,
      "outputs": []
    },
    {
      "cell_type": "code",
      "source": [
        "# Now try calling the print function with something else, like your name...\n",
        "print('your name here')"
      ],
      "metadata": {
        "id": "Uw6lA8F1FAqa"
      },
      "execution_count": null,
      "outputs": []
    },
    {
      "cell_type": "markdown",
      "source": [
        "Functions are the basic building blocks of a Python program. Later we'll see how to define your own functions. We've seen a simple print function call with zero and one argument:"
      ],
      "metadata": {
        "id": "RSQgnW0yFCru"
      }
    },
    {
      "cell_type": "code",
      "source": [
        "print('My name is Marc')"
      ],
      "metadata": {
        "id": "jU4sxCgyFFRn"
      },
      "execution_count": null,
      "outputs": []
    },
    {
      "cell_type": "markdown",
      "source": [
        "We can also print a sequence of arguments, where spaces are added between each element in sequence, like this:"
      ],
      "metadata": {
        "id": "97c73XgDFID4"
      }
    },
    {
      "cell_type": "code",
      "source": [
        "print('My', 'name', 'is', 'Marc')\n",
        "print('next line')"
      ],
      "metadata": {
        "id": "kiAQ0lhIFOH_"
      },
      "execution_count": null,
      "outputs": []
    },
    {
      "cell_type": "markdown",
      "source": [
        "By default, we get a newline character at the end of a print request but we can override that behavior using the `end` argument:"
      ],
      "metadata": {
        "id": "QZ3u1Nz-FQnL"
      }
    },
    {
      "cell_type": "code",
      "source": [
        "print('My name is Marc')\n",
        "print('next line')\n",
        "\n",
        "print('My name is Marc', end='\\n')\n",
        "print('next line')"
      ],
      "metadata": {
        "id": "kJUx3JeYFTr6"
      },
      "execution_count": null,
      "outputs": []
    },
    {
      "cell_type": "markdown",
      "source": [
        "We can also change the separator string, using the `sep` argument, like this:"
      ],
      "metadata": {
        "id": "jfIf6b3oFWdt"
      }
    },
    {
      "cell_type": "code",
      "source": [
        "print('My', 'name', 'is', 'Marc', sep='\\n')"
      ],
      "metadata": {
        "id": "fxeGHGFFFcNf"
      },
      "execution_count": null,
      "outputs": []
    },
    {
      "cell_type": "markdown",
      "source": [
        "We could even use a null (empty) separator:"
      ],
      "metadata": {
        "id": "ZE7IVAmkFcx_"
      }
    },
    {
      "cell_type": "code",
      "source": [
        "print('My', 'name', 'is', 'Marc', sep='', end='')\n",
        "print('hi')"
      ],
      "metadata": {
        "id": "P17FtZ6NFfnx"
      },
      "execution_count": null,
      "outputs": []
    },
    {
      "cell_type": "markdown",
      "source": [
        "[Next Lesson](https://pylearn.io/lessons/2-Variables)"
      ],
      "metadata": {
        "id": "EkZ8ubueWVSx"
      }
    }
  ]
}