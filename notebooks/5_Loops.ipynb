{
  "nbformat": 4,
  "nbformat_minor": 0,
  "metadata": {
    "colab": {
      "provenance": [],
      "collapsed_sections": [
        "7B_-CpRRW4Zd",
        "CFRaSTxk8Vxm",
        "IStcCXeqRlkm",
        "Z-Wq1KIKSEjd",
        "L2QDV4PPSSBM",
        "EO-lnJKxSWxD",
        "TgvUKub1SaYd",
        "nsBw-emnSh5N",
        "st1iRuMPSw0c",
        "AdFfAcuaS337",
        "ENIYYIIAS6n4",
        "IkdjHn4fTCWC",
        "9lG09G45TH81",
        "YRK-XYHkTTm6",
        "Q2wRue3kThIS",
        "Xd8m9FBrE5vy",
        "wtMnz7Fxcfn6",
        "6SHyjI-hci-f",
        "ra4Hf2e7corj",
        "9J7RI7TYcVeS",
        "T5vnlVm8gOPP",
        "nkxuivpM_Qis",
        "So9vQ1trLJLX",
        "1jH-_bNlLcHc",
        "9LYTJHnh0mPe",
        "GSNOwwS5dFSh",
        "cbgC8XuVMZiQ"
      ],
      "include_colab_link": true
    },
    "kernelspec": {
      "name": "python3",
      "display_name": "Python 3"
    }
  },
  "cells": [
    {
      "cell_type": "markdown",
      "metadata": {
        "id": "view-in-github",
        "colab_type": "text"
      },
      "source": [
        "<a href=\"https://colab.research.google.com/github/mco-gh/pylearn/blob/master/notebooks/5_Loops.ipynb\" target=\"_parent\"><img src=\"https://colab.research.google.com/assets/colab-badge.svg\" alt=\"Open In Colab\"/></a>"
      ]
    },
    {
      "cell_type": "markdown",
      "metadata": {
        "id": "7B_-CpRRW4Zd"
      },
      "source": [
        "# Lesson 5 - Loops\n",
        "\n",
        "**Strings Revisited and Loops**\n",
        "\n",
        "```Before we get into Strings Revisied, we are missing material on basic string type.```\n",
        "\n",
        "**You can make a copy of this notebook by selecting File->Save a copy in Drive from the menu bar above.**\n",
        "\n",
        "- [Link to this notebook on Colab](https://colab.research.google.com/github/mco-gh/pylearn/blob/master/notebooks/5_Loops.ipynb)\n",
        "- [Link to this notebook on Github](https://github.com/mco-gh/pylearn/blob/master/notebooks/5_Loops.ipynb)"
      ]
    },
    {
      "cell_type": "markdown",
      "metadata": {
        "id": "LtW8KwUNwp1C"
      },
      "source": [
        "# Strings Revisited"
      ]
    },
    {
      "cell_type": "code",
      "source": [],
      "metadata": {
        "id": "9GO7oCu9wskC"
      },
      "execution_count": null,
      "outputs": []
    },
    {
      "cell_type": "markdown",
      "metadata": {
        "id": "KQXSPmmUz6HF"
      },
      "source": [
        "## The `len` Function\n",
        "* len(string) returns the length of a passed string\n",
        "\n",
        "Examples:\n",
        "```\n",
        "print(len('To be or not to be'))\n",
        "print(len('To be or not to be\\n'))\n",
        "print(len('Tobeornottobe'))\n",
        "print(len(''))\n",
        "```"
      ]
    },
    {
      "cell_type": "code",
      "metadata": {
        "id": "6NFCU5Ow0MiN"
      },
      "source": [
        "print(len('To be or not to be'))\n",
        "print(len('To be or not to be\\n'))\n",
        "print(len('Tobeornottobe'))\n",
        "print(len(''))"
      ],
      "execution_count": null,
      "outputs": []
    },
    {
      "cell_type": "markdown",
      "metadata": {
        "id": "EMJgpD09JTIe"
      },
      "source": [
        "## Indexing"
      ]
    },
    {
      "cell_type": "markdown",
      "metadata": {
        "id": "ieuqSpJvNdHj"
      },
      "source": [
        "* You can refer to a particular character in a string with this syntax:\n",
        "\n",
        "  `string[offset]`\n",
        "\n",
        "* Indexing works with variables and literal strings.\n",
        "* In Python, offsets in strings always start counting at zero.\n",
        "\n",
        "Examples:\n",
        "```\n",
        "mystr = 'marc'\n",
        "print(mystr[0])\n",
        "print(mystr[1])\n",
        "print(mystr[4])\n",
        "print(mystr[len(mystr)-1])\n",
        "print('marc'[2])\n",
        "```\n"
      ]
    },
    {
      "cell_type": "code",
      "metadata": {
        "id": "-EWrvyJANqod"
      },
      "source": [
        "mystr = 'marc'\n",
        "print(mystr[0])\n",
        "print(mystr[1])\n",
        "print(mystr[3])\n",
        "print(mystr[len(mystr)-1])\n",
        "print(mystr[4])\n",
        "print('romi'[2])\n"
      ],
      "execution_count": null,
      "outputs": []
    },
    {
      "cell_type": "code",
      "metadata": {
        "id": "RWm7O8qM-TBD"
      },
      "source": [
        "mystr = 'marc'\n",
        "mystr[-5]\n"
      ],
      "execution_count": null,
      "outputs": []
    },
    {
      "cell_type": "markdown",
      "metadata": {
        "id": "FkugprPmOCDt"
      },
      "source": [
        "## Slicing\n",
        "\n",
        "* You can take a subset of a string, we call this 'a slice') using this syntax:\n",
        "\n",
        "  `string[beg:end]`\n",
        "\n",
        "* the slice starts from offset `beg` (again, counting from 0), and continues through to `end-1`\n",
        "\n",
        "Examples:\n",
        "```\n",
        "mystr = 'Python is cool'\n",
        "print(mystr[0:6])\n",
        "print(mystr[10:11])\n",
        "print(mystr[10:10])\n",
        "print(mystr[10:9])\n",
        "print('Python is cool'[1:3])\n",
        "```\n"
      ]
    },
    {
      "cell_type": "code",
      "metadata": {
        "id": "26-N8C-LOQRi"
      },
      "source": [
        "mystr = 'Python is cool'\n",
        "print(mystr[5:12])\n",
        "print(mystr[0:7])\n",
        "print(mystr[10:11])\n",
        "print(mystr[10:10])\n",
        "print(mystr[10:9])\n",
        "print('Math is cool'[1:3])"
      ],
      "execution_count": null,
      "outputs": []
    },
    {
      "cell_type": "code",
      "metadata": {
        "id": "PWYO8WPQ_3qC"
      },
      "source": [
        "ssn = '123-456-8976'\n",
        "code = input('give me the first three digits of your ssn: ')\n",
        "if code == ssn[8:]:\n",
        "  print('you are in!!')\n",
        "else:\n",
        "  print('sorry!')"
      ],
      "execution_count": null,
      "outputs": []
    },
    {
      "cell_type": "markdown",
      "metadata": {
        "id": "OyVVrg4bOe4c"
      },
      "source": [
        "### Default Limits\n",
        "\n",
        "* You can leave out the beg or end part (or both)\n",
        "* default beg is `0`\n",
        "* default end is `len()-1`\n",
        "\n",
        "Examples:\n",
        "```\n",
        "mystr = 'Python is cool'\n",
        "print(mystr[0:])\n",
        "print(mystr[10:])\n",
        "print(mystr[:14])\n",
        "print(mystr[:7])\n",
        "print(mystr[:])\n",
        "```"
      ]
    },
    {
      "cell_type": "code",
      "metadata": {
        "id": "Pr8d1ksYOn0Y"
      },
      "source": [
        "mystr = 'Python is cool'\n",
        "print(mystr[0:])\n",
        "print(mystr[10:])\n",
        "print(mystr[:14])\n",
        "print(mystr[:7])\n",
        "print(mystr[:])"
      ],
      "execution_count": null,
      "outputs": []
    },
    {
      "cell_type": "markdown",
      "metadata": {
        "id": "l7OPW_gpO2Z-"
      },
      "source": [
        "### Challenge - predict the output from the following print statements:\n",
        "```\n",
        "mystr = 'Python is cool'\n",
        "print(mystr[7])\n",
        "print(mystr[len(mystr)])\n",
        "print(mystr[1:15])\n",
        "print(mystr[1:1])\n",
        "print(mystr[-5:-1])\n",
        "print(mystr[-1:-5])\n",
        "print(mystr[0:])\n",
        "print(mystr[:-1])\n",
        "```\n"
      ]
    },
    {
      "cell_type": "code",
      "metadata": {
        "id": "CWnEm4GoAAJj"
      },
      "source": [
        "x = 'marc cohen'\n",
        "print(x[::-1])\n"
      ],
      "execution_count": null,
      "outputs": []
    },
    {
      "cell_type": "code",
      "metadata": {
        "id": "4J6Mg80VGBNS"
      },
      "source": [
        "s = 'marc'\n",
        "s[len(s)-1]"
      ],
      "execution_count": null,
      "outputs": []
    },
    {
      "cell_type": "code",
      "metadata": {
        "id": "ahvIihD9PApm"
      },
      "source": [
        "mystr = 'Python is cool'\n",
        "print(mystr[7]) # i\n",
        "print(len(mystr))\n",
        "print(mystr[len(mystr)-1])#\n",
        "print(mystr[1:15])#ython is cool\n",
        "print(mystr[1:1])# won't print anything?\n",
        "print(mystr[-5:-1])# coo\n",
        "print(mystr[-1:-5])# ooc\n",
        "print(mystr[0:]) #Python is cool\n",
        "print(mystr[:-1])#Python is coo"
      ],
      "execution_count": null,
      "outputs": []
    },
    {
      "cell_type": "markdown",
      "metadata": {
        "id": "YIXYZfbDMOFu"
      },
      "source": [
        "## The `in` Operator\n",
        "\n",
        "* `in` is a boolean operator which, when used with strings, tests whether a substring exists in another string\n",
        "* the result is a boolean value (True or False)\n",
        "\n",
        "Examples:\n",
        "```\n",
        "print('a' in 'Marc')\n",
        "print('arc' in 'Marc')\n",
        "print('m' in 'Marc')\n",
        "print('Marc' in 'Marc')\n",
        "print('' in 'Marc')\n",
        "```\n"
      ]
    },
    {
      "cell_type": "code",
      "metadata": {
        "id": "1VuI0ukkMo4x"
      },
      "source": [
        "print('a' in 'Marc')\n",
        "print('arc' in 'Marc')\n",
        "print('m' in 'Marc')\n",
        "print('Marc' in 'Marc')\n",
        "print('' in 'Marc')"
      ],
      "execution_count": null,
      "outputs": []
    },
    {
      "cell_type": "markdown",
      "metadata": {
        "id": "pxQarWI-8Agx"
      },
      "source": [
        "## String Methods\n",
        "\n",
        "* everything in Python is an object\n",
        "* strings (and other objects) have special functions attached to them which we call \"methods\"\n",
        "* string methods are invoked like this:\n",
        "`string.method()`\n",
        "* you can use a variable, like this:\n",
        "`name.capitalize()` or a string literal, like this: `'marc'.capitalize()`\n"
      ]
    },
    {
      "cell_type": "code",
      "metadata": {
        "id": "M3zQevvR0aDE"
      },
      "source": [
        "name = 'Marc Cohen'\n",
        "print(len(name))\n",
        "\n",
        "print(name.upper())\n",
        "print(name.lower())\n",
        "print(name)\n",
        "print(name.casefold())\n",
        "\n",
        "name.casefold()"
      ],
      "execution_count": null,
      "outputs": []
    },
    {
      "cell_type": "markdown",
      "metadata": {
        "id": "5Q0v6tqEPeqN"
      },
      "source": [
        "* `find()` returns the offset of the first matching substring\n",
        "* `find()` returns -1 if no match is found\n",
        "\n",
        "Example:\n",
        "```\n",
        "mystr = 'bookkeeper'\n",
        "print(mystr.find('ookkee'))\n",
        "print(mystr.find('okay'))\n",
        "```"
      ]
    },
    {
      "cell_type": "code",
      "metadata": {
        "id": "0ZhZZoIVP2Lz"
      },
      "source": [
        "mystr = 'bookkeeper'\n",
        "print(mystr.find('ookkee'))\n",
        "print(mystr.find('okay'))\n",
        "print(mystr.find('k'))\n",
        "print(mystr.find(''))"
      ],
      "execution_count": null,
      "outputs": []
    },
    {
      "cell_type": "markdown",
      "metadata": {
        "id": "gPrOawF-8C_2"
      },
      "source": [
        "## String Immutability\n",
        "\n",
        "* strings cannot change after they are created\n",
        "* we call this property “immutability”\n",
        "* strings are said to be “immutable” (i.e. unchanging)\n",
        "* string methods which appear to change the string actually return a new string\n",
        "\n",
        "For example, the `upper()` string method:\n",
        "```\n",
        "name = 'Marc'\n",
        "upper_name = name.upper()\n",
        "print(f'{name} still exists, {upper_name} is a new string')\n",
        "```\n",
        "creates and returns a new string. The original string, the one we called the method on, returns a new string."
      ]
    },
    {
      "cell_type": "code",
      "metadata": {
        "id": "VX6pC4Pg1ZFa"
      },
      "source": [
        "name = 'Marc'\n",
        "name = name.upper()\n",
        "print(f'{name} still exists, {upper_name} is a new string')"
      ],
      "execution_count": null,
      "outputs": []
    },
    {
      "cell_type": "markdown",
      "metadata": {
        "id": "CFRaSTxk8Vxm"
      },
      "source": [
        "## String Editing\n",
        "\n",
        "* the replace() string method takes these arguments:\n",
        "\n",
        "  * a substring to replace\n",
        "  * a replacement string\n",
        "  * an optional maximum number of occurrences to replace (default is all)\n",
        "\n",
        "Example: replace every zero with two zeros...\n",
        "```\n",
        "salary = '1000'\n",
        "new_salary = salary.replace('0', '00')\n",
        "print(new_salary)\n",
        "```\n",
        "\n",
        "\n"
      ]
    },
    {
      "cell_type": "code",
      "metadata": {
        "id": "15DOp2Nc3glX"
      },
      "source": [
        "salary = '1000'\n",
        "salary = salary.replace('0', '00')\n",
        "print(salary)"
      ],
      "execution_count": null,
      "outputs": []
    },
    {
      "cell_type": "markdown",
      "metadata": {
        "id": "nuPJ358h2CyD"
      },
      "source": [
        "Example: improve your reviews...\n",
        "\n",
        "```\n",
        "feedback = input('How am I doing? ')\n",
        "better_feedback = feedback.replace('worst', 'best')\n",
        "print(better_feedback)\n",
        "```"
      ]
    },
    {
      "cell_type": "code",
      "metadata": {
        "id": "kXxPfBa33r2f"
      },
      "source": [
        "feedback = input('How am I doing? ')\n",
        "better_feedback = feedback.replace('worst', 'best')\n",
        "print(feedback, better_feedback)"
      ],
      "execution_count": null,
      "outputs": []
    },
    {
      "cell_type": "markdown",
      "metadata": {
        "id": "wDex5btRwr98"
      },
      "source": [
        "# Loops"
      ]
    },
    {
      "cell_type": "markdown",
      "metadata": {
        "id": "V_-kNwsORExI"
      },
      "source": [
        "## Stop repeating yourself\n",
        "\n",
        "Let's write a program that prints the first three integers along with the square of each (the number multiplied by itself).\n",
        "\n",
        "```\n",
        "i = 1\n",
        "print(i, i*i)\n",
        "i = 2\n",
        "print(i, i*i)\n",
        "i = 3\n",
        "print(i, i*i)\n",
        "```"
      ]
    },
    {
      "cell_type": "code",
      "metadata": {
        "id": "SWeok6trOgGi"
      },
      "source": [
        "i = 1\n",
        "print(i, i*i)\n",
        "i = 2\n",
        "print(i, i*i)\n",
        "i = 3\n",
        "print(i, i*i)"
      ],
      "execution_count": null,
      "outputs": []
    },
    {
      "cell_type": "markdown",
      "metadata": {
        "id": "IStcCXeqRlkm"
      },
      "source": [
        "### Two problems with this program\n",
        "\n",
        "* scalability - what happens to this program if I change the specification from the first three integers to the first 1,000 integers?\n",
        "\n",
        "  **You need to type 2,000 more lines of code.**\n",
        "\n",
        "* maintainability - what happens to this program if I change the specification to require the cube of each number?\n",
        "\n",
        "  **You need to edit every single print statement.**\n",
        "After expanding this program to cover the first 1,000 integers, you'd have to change 1,000 lines!\n"
      ]
    },
    {
      "cell_type": "markdown",
      "metadata": {
        "id": "6e_3-HRWPnDZ"
      },
      "source": [
        "## `while` Loops"
      ]
    },
    {
      "cell_type": "markdown",
      "metadata": {
        "id": "sklaMtZlRtn4"
      },
      "source": [
        "* The `while` statement is one way we can express repeatable logic in Python.\n",
        "* `while` statements define a condition and a sequence of statements in this format...\n",
        "```\n",
        "while condition:    \n",
        "    block of indented statements\n",
        "    ...\n",
        "print('done with loop')\n",
        "```\n",
        "* The condition is checked on entry to the loop and after each execution of the loop block.\n",
        "* Similar to `if` statement except the block is repeatedly executed as long as the condition is true.\n",
        "* When the condition becomes false, the loop is exited, i.e. it stops repeating and control moves to the statement after the loop.\n",
        "* If the condition is initially false, the loop is never entered, i.e. the loop block is never executed.\n"
      ]
    },
    {
      "cell_type": "markdown",
      "metadata": {
        "id": "Ph9kzJycR5ru"
      },
      "source": [
        "### `while` Loop Structure\n",
        "\n",
        "In Python, the extent of a while block is defined by indentation (just like if statement blocks)\n",
        "```\n",
        "i = 0\n",
        "while i < 3:    \n",
        "  print(i)    \n",
        "  i += 1\n",
        "print(i)\n",
        "```\n",
        "What does the output look like...\n",
        "* when `i` is initialized to `0`?\n",
        "* when `i` is initialized to `1`?\n",
        "* when `i` is initialized to `2`?\n",
        "* when `i` is initialized to `3`?\n"
      ]
    },
    {
      "cell_type": "code",
      "source": [
        "i = 0\n",
        "while i < 3:\n",
        "  print(i)\n",
        "  i += 1\n",
        "print(i)\n",
        "\n",
        "# i == 0"
      ],
      "metadata": {
        "id": "tOASBBpK9nJv"
      },
      "execution_count": null,
      "outputs": []
    },
    {
      "cell_type": "code",
      "metadata": {
        "id": "Cq934F8GQy74"
      },
      "source": [
        "i = 0\n",
        "while i < 3:\n",
        "  print('in loop:', i)\n",
        "  #i += 1\n",
        "print('we are done:', i)"
      ],
      "execution_count": null,
      "outputs": []
    },
    {
      "cell_type": "markdown",
      "metadata": {
        "id": "Z-Wq1KIKSEjd"
      },
      "source": [
        "### Loop Counter\n",
        "\n",
        "* variable that controls entry into the loop body\n",
        "* often keeps track of the number of times the loop is executed\n",
        "* must be changed at some point in the indented block to ensure the loop is executed the intended number of times\n"
      ]
    },
    {
      "cell_type": "markdown",
      "metadata": {
        "id": "jI1DZJS0SJb8"
      },
      "source": [
        "### Generating Squares Using a `while` Loop\n",
        "```\n",
        "i = 1\n",
        "while i <= 3:    \n",
        "  print(i, i*i)    \n",
        "  i += 1\n",
        "```\n",
        "* Does this work?\n",
        "* Is this version an improvement? Why?"
      ]
    },
    {
      "cell_type": "code",
      "metadata": {
        "id": "sOEknHo9YrVq"
      },
      "source": [
        "i = 1\n",
        "while i < 3:\n",
        "  print(i, i*i)\n",
        "  i += 1"
      ],
      "execution_count": null,
      "outputs": []
    },
    {
      "cell_type": "markdown",
      "metadata": {
        "id": "L2QDV4PPSSBM"
      },
      "source": [
        "#### Scalability\n",
        "\n",
        "* Can you make this work for the first 1,000 integers?\n",
        "```\n",
        "i = 1\n",
        "while i <= 1000:  # changed 3 to 1000    \n",
        "    print(i, i*i)    \n",
        "    i += 1\n",
        "```\n",
        "\n",
        "* We scaled this version to 1,000 integers by changing only one line of code!\n"
      ]
    },
    {
      "cell_type": "code",
      "metadata": {
        "id": "MeDig9TyY7JX"
      },
      "source": [
        "i = 1\n",
        "while i <= 1000:  # changed 3 to 1000\n",
        "    print(i, i*i)\n",
        "    i += 1"
      ],
      "execution_count": null,
      "outputs": []
    },
    {
      "cell_type": "markdown",
      "metadata": {
        "id": "EO-lnJKxSWxD"
      },
      "source": [
        "#### Maintainability\n",
        "\n",
        "* Can you print both the square and the cube (3rd power) for the first 1,000 integers?\n",
        "```\n",
        "i = 1\n",
        "while i <= 1000:    \n",
        "    print(i, i*i, i**3) # added cube to print    \n",
        "    i += 1\n",
        "```\n",
        "* The previous version would have required us to edit 1,000 print statements.\n",
        "* We added support for printing cubes in this version by changing only one line of code!\n"
      ]
    },
    {
      "cell_type": "code",
      "metadata": {
        "id": "i9qtAbDRZNPU"
      },
      "source": [
        "i = 1\n",
        "limit = 1000\n",
        "while i <= limit:\n",
        "    print(i, i**3) # added cube to print\n",
        "    i += 1"
      ],
      "execution_count": null,
      "outputs": []
    },
    {
      "cell_type": "markdown",
      "metadata": {
        "id": "TgvUKub1SaYd"
      },
      "source": [
        "#### Another Problem\n",
        "\n",
        "* Notice that the loop limit is embedded in the while condition.\n",
        "* It would be nice if this \"configuration data\" were separate from the program logic.\n",
        "* It would also be nice if we could change the limit dynamically without having to change the code, for example, as a function of user input.\n"
      ]
    },
    {
      "cell_type": "markdown",
      "metadata": {
        "id": "nsBw-emnSh5N"
      },
      "source": [
        "#### A Better Version\n",
        "\n",
        "```\n",
        "limit = input('desired number of integers: ')\n",
        "i = 1\n",
        "while i <= limit:\n",
        "  print(i, i*i, i**3) # added cube to print\n",
        "  i += 1\n",
        "```\n",
        "* By using a variable, we can set the limit separately from the loop condition.\n",
        "* We can also set the limit dynamically, by gathering input from the end user."
      ]
    },
    {
      "cell_type": "code",
      "metadata": {
        "id": "vLJJo7vxZ86B"
      },
      "source": [
        "limit = int(input('desired number of integers: '))\n",
        "i = 1\n",
        "while i <= limit:\n",
        "  print(i, i*i, i**3) # added cube to print\n",
        "  i += 1"
      ],
      "execution_count": null,
      "outputs": []
    },
    {
      "cell_type": "markdown",
      "metadata": {
        "id": "H3SwUvKaSmav"
      },
      "source": [
        "### Challenge - Find the Bugs\n",
        "\n",
        "There are (at least) five bugs in this program. Can you find them?\n",
        "\n",
        "```\n",
        "start = input('desired starting integer: \")\n",
        "input('desired ending integer: ')\n",
        "while i < end:\n",
        "  print(i, i*i, i**3)\n",
        "```"
      ]
    },
    {
      "cell_type": "code",
      "source": [
        "start = int(input(\"desired starting integer: \"))\n",
        "end = int(input('desired ending integer: '))\n",
        "i = start\n",
        "while i < end:\n",
        "  print(i, i*i, i**3)\n",
        "  i += 2"
      ],
      "metadata": {
        "id": "oYAroS5cC0Gi"
      },
      "execution_count": null,
      "outputs": []
    },
    {
      "cell_type": "code",
      "metadata": {
        "id": "ko522SOWaR8z"
      },
      "source": [
        "start = int(input('desired starting integer:'))\n",
        "end = int(input('desired ending integer: '))\n",
        "i = start\n",
        "while i <= end:\n",
        "  print(i, i*i, i**3)\n",
        "  i += 1"
      ],
      "execution_count": null,
      "outputs": []
    },
    {
      "cell_type": "markdown",
      "metadata": {
        "id": "SKQbr1LtSrn3"
      },
      "source": [
        "### Nested `while` Loops\n",
        "\n",
        "Just as we had if statements of if statements, we can have while loops of while loops (and so on...)\n",
        "```\n",
        "i = 1\n",
        "while i <= 3:\n",
        "    j = 1\n",
        "    while j <= 3:\n",
        "        print(i, '/', j, end='\\t')\n",
        "        j += 1\n",
        "    print()\n",
        "    i += 1\n",
        "```\n",
        "Result:\n",
        "```\n",
        "1 / 1    1 / 2    1 / 3\n",
        "2 / 1    2 / 2    2 / 3\n",
        "3 / 1    3 / 2    3 / 3\n",
        "```"
      ]
    },
    {
      "cell_type": "code",
      "metadata": {
        "id": "REmdxKuZa_Wu"
      },
      "source": [
        "i = 1\n",
        "while i <= 3:\n",
        "    j = 1\n",
        "    while j <= 3:\n",
        "        print('i=' + str(i), '/', 'j=' + str(j), end='\\t')\n",
        "        j += 1\n",
        "    print()\n",
        "    i += 1"
      ],
      "execution_count": null,
      "outputs": []
    },
    {
      "cell_type": "code",
      "metadata": {
        "id": "7EOoEmrzoYmb",
        "colab": {
          "base_uri": "https://localhost:8080/",
          "height": 194
        },
        "outputId": "0d8ac268-1e4f-46fe-dd76-1cea1c33bf86"
      },
      "source": [
        "i = 1\n",
        "while i <= 3:\n",
        "  j = 1\n",
        "  while j <= 3:\n",
        "    print('i=', i, 'j=', j)\n",
        "    j += 1\n",
        "  i += 1\n",
        "\n",
        "# i =\n",
        "# j =\n",
        "\n",
        "x = '''\n",
        "i=1 j=1\n",
        "i=2 j=2\n",
        "i=3 j=3\n",
        "'''"
      ],
      "execution_count": null,
      "outputs": [
        {
          "output_type": "stream",
          "name": "stdout",
          "text": [
            "i= 1 j= 1\n",
            "i= 1 j= 2\n",
            "i= 1 j= 3\n",
            "i= 2 j= 1\n",
            "i= 2 j= 2\n",
            "i= 2 j= 3\n",
            "i= 3 j= 1\n",
            "i= 3 j= 2\n",
            "i= 3 j= 3\n"
          ]
        },
        {
          "output_type": "execute_result",
          "data": {
            "text/plain": [
              "'\\ni=1 j=1\\ni=2 j=2\\ni=3 j=3\\n'"
            ],
            "application/vnd.google.colaboratory.intrinsic+json": {
              "type": "string"
            }
          },
          "metadata": {},
          "execution_count": 15
        }
      ]
    },
    {
      "cell_type": "markdown",
      "metadata": {
        "id": "st1iRuMPSw0c"
      },
      "source": [
        "## Infinite Loops\n",
        "\n",
        "* An infinite loop is a loop that never ends.\n",
        "* This is usually not by design (!).\n",
        "\n",
        "Does this loop end?\n",
        "```\n",
        "i = 1\n",
        "while i <= 3:\n",
        "    print(i, i*i, i**3)\n",
        "```\n",
        "Challenge: how about this one...\n",
        "```\n",
        "i = 5\n",
        "while i != 0:\n",
        "    print(i, i*i, i**3)\n",
        "    i -= 2 # same as i = i - 2\n",
        "```"
      ]
    },
    {
      "cell_type": "code",
      "metadata": {
        "id": "Ua-ZkxmzKIMd"
      },
      "source": [
        "i = 5\n",
        "while i != 0:\n",
        "    print(i, i*i, i**3)\n",
        "    i -= 2 # same as i = i - 2"
      ],
      "execution_count": null,
      "outputs": []
    },
    {
      "cell_type": "markdown",
      "metadata": {
        "id": "AdFfAcuaS337"
      },
      "source": [
        "### Debugging Infinite Loops\n",
        "\n",
        "* inserting print statements to see what's going on\n",
        "* we call this \"tracing code\"\n",
        "* when problem fixed, you can comment out or delete your tracing code\n",
        "\n",
        "Example:\n",
        "```\n",
        "# calculate sum of first n integers\n",
        "i = 1\n",
        "n = 20\n",
        "sum = 0\n",
        "while i <= n:    \n",
        "    sum += i    \n",
        "    i += 1\n",
        "    #print('i:', i, 'sum:', sum)\n",
        "print('sum of 1 to', n, '=', sum)\n",
        "```"
      ]
    },
    {
      "cell_type": "code",
      "source": [
        "i = 1\n",
        "while i < 100:\n",
        "  print(\"I'm running forever\")"
      ],
      "metadata": {
        "colab": {
          "base_uri": "https://localhost:8080/"
        },
        "id": "gfQM-tjPPipS",
        "outputId": "bbf01e69-0bf9-46da-c307-62942012a859"
      },
      "execution_count": null,
      "outputs": [
        {
          "output_type": "stream",
          "name": "stdout",
          "text": [
            "I'm running forever\n"
          ]
        }
      ]
    },
    {
      "cell_type": "code",
      "source": [
        "def challenge():\n",
        "  print(\"I'm running a challenge, how exciting!\")\n",
        "\n",
        "while True:\n",
        "  more = input(\"more challenges? (y or n)\")\n",
        "  if more == \"n\":\n",
        "    break\n",
        "  challenge()"
      ],
      "metadata": {
        "colab": {
          "base_uri": "https://localhost:8080/"
        },
        "id": "9CNkUzH0P3NM",
        "outputId": "8a765fb6-8c4d-4581-b347-04e36b6507f2"
      },
      "execution_count": null,
      "outputs": [
        {
          "name": "stdout",
          "output_type": "stream",
          "text": [
            "more challenges? (y or n)y\n",
            "I'm running a challenge, how exciting!\n",
            "more challenges? (y or n)y\n",
            "I'm running a challenge, how exciting!\n",
            "more challenges? (y or n)n\n"
          ]
        }
      ]
    },
    {
      "cell_type": "code",
      "metadata": {
        "id": "yfLkPdPhb3AR"
      },
      "source": [
        "# calculate sum of first n integers\n",
        "i = 1\n",
        "n = 20\n",
        "sum = 0\n",
        "while i <= n:\n",
        "    print('i:', i, 'sum:', sum)\n",
        "    sum += i\n",
        "    i += 1\n",
        "print('sum of 1 to', n, '=', sum)"
      ],
      "execution_count": null,
      "outputs": []
    },
    {
      "cell_type": "markdown",
      "metadata": {
        "id": "ENIYYIIAS6n4"
      },
      "source": [
        "### This progam is fail-safe, right?\n",
        "```\n",
        "start = int(input('starting integer: '))\n",
        "end   = int(input('ending integer: '))\n",
        "incr  = int(input('increment: '))\n",
        "i = start\n",
        "while i <= end:\n",
        "    print(i, i*i, i**3, i**4)\n",
        "    i += incr\n",
        "```\n",
        "Is there any way this program can go into an infinite loop?"
      ]
    },
    {
      "cell_type": "code",
      "metadata": {
        "id": "6hfM6nnZcXIY"
      },
      "source": [
        "start = int(input('starting integer: '))\n",
        "end   = int(input('ending integer: '))\n",
        "incr  = int(input('increment: '))\n",
        "i = start\n",
        "while i <= end:\n",
        "    print(i, i*i, i**3, i**4)\n",
        "    i += incr"
      ],
      "execution_count": null,
      "outputs": []
    },
    {
      "cell_type": "markdown",
      "metadata": {
        "id": "IkdjHn4fTCWC"
      },
      "source": [
        "*italicized text*### Trusting User Input\n",
        "\n",
        "* Getting input from external sources adds flexibility because program behavior can be changed at runtime (without requiring you to change your code).\n",
        "* The price of that flexibility is that you have to worry about the consequences of receiving bad input\n",
        "* Postel's Law: “Be liberal in what you accept, and conservative in what you send”.\n"
      ]
    },
    {
      "cell_type": "markdown",
      "metadata": {
        "id": "9lG09G45TH81"
      },
      "source": [
        "### A More Robust Version\n",
        "```\n",
        "import sys # needed for exit() function\n",
        "start = int(input('starting integer: '))\n",
        "end   = int(input('ending integer: '))\n",
        "incr  = int(input('increment (>0): '))\n",
        "if (incr <= 0):\n",
        "    sys.exit('incr must be positive')\n",
        "i = start\n",
        "while i <= end:\n",
        "    print(i, i*i, i**3, i**4)\n",
        "    i += incr\n",
        "```\n",
        "* you should also verify start and end are numeric\n",
        "* you can do that with the string method isnumeric()"
      ]
    },
    {
      "cell_type": "code",
      "metadata": {
        "id": "lJTYUWHPdF-a"
      },
      "source": [
        "import sys # needed for exit() function\n",
        "start = int(input('starting integer: '))\n",
        "end   = int(input('ending integer: '))\n",
        "incr  = int(input('increment (>0): '))\n",
        "if (incr <= 0):\n",
        "    sys.exit('incr must be positive')\n",
        "i = start\n",
        "while i <= end:\n",
        "    print(i, i*i, i**3, i**4)\n",
        "    i += incr"
      ],
      "execution_count": null,
      "outputs": []
    },
    {
      "cell_type": "markdown",
      "metadata": {
        "id": "8wvYpiXnTNJ7"
      },
      "source": [
        "## `break` Statement\n",
        "\n",
        "* The break statement exits a loop immediately.\n",
        "* It's often used to exit a loop under certain circumstances.\n",
        "* It's Python's way of saying \"get me out of here!\""
      ]
    },
    {
      "cell_type": "markdown",
      "metadata": {
        "id": "YRK-XYHkTTm6"
      },
      "source": [
        "### `break` Example\n",
        "\n",
        "* Our last version catches bad input but is very unforgiving - it exits as soon as it gets bad input.\n",
        "* This version gives the user more chances to get it right...\n",
        "```\n",
        "while True:\n",
        "    incr = int(input('increment (>0): '))    \n",
        "    if incr > 0:        \n",
        "        break\n",
        "    print('bad input, increment must be positive')\n",
        "print('off we go...')\n",
        "```"
      ]
    },
    {
      "cell_type": "code",
      "metadata": {
        "id": "2_1tN8gtdmVT"
      },
      "source": [
        "while True:\n",
        "    value = int(input('positive value (>0): '))\n",
        "    if value > 0:\n",
        "        break\n",
        "    print('bad input, value must be positive')\n",
        "print('off we go...')"
      ],
      "execution_count": null,
      "outputs": []
    },
    {
      "cell_type": "markdown",
      "metadata": {
        "id": "AY_A5OeUTZQu"
      },
      "source": [
        "## `continue` Statement\n",
        "\n",
        "* The continue statement jumps to the top of a loop immediately.\n",
        "* The loop condition is retested and the next iteration begun (if true) or the loop is exited (if false).\n",
        "* It's Python's way of saying \"let's take it from the top\"."
      ]
    },
    {
      "cell_type": "markdown",
      "metadata": {
        "id": "Q2wRue3kThIS"
      },
      "source": [
        "### `continue` Example\n",
        "\n",
        "* Assume we want `start` and `end` to be positive.\n",
        "* If the `start` value is bad, don't bother prompting for `end`.\n",
        "```\n",
        "start = 0\n",
        "end = 0\n",
        "while (start <= 0) and (end <= 0):    \n",
        "    if start <= 0:\n",
        "        start = int(input('starting integer (>0): '))        \n",
        "        if (start <= 0):            \n",
        "            continue\n",
        "    if end <= 0:\n",
        "        end = int(input('ending integer (>0): '))\n",
        "        if end <= 0:            \n",
        "            continue\n",
        "    print(‘using start’, start, ‘and end’, end)\n",
        "```"
      ]
    },
    {
      "cell_type": "code",
      "metadata": {
        "id": "QvB8W2jYeTxu"
      },
      "source": [
        "start = 0\n",
        "end = 0\n",
        "while (start <= 0) or (end <= 0):\n",
        "  if start <= 0:\n",
        "      start = int(input('starting integer (>0): '))\n",
        "      if (start <= 0):\n",
        "          continue\n",
        "  if end <= 0:\n",
        "      end = int(input('ending integer (>0): '))\n",
        "      if end <= 0:\n",
        "          continue\n",
        "print('using start', start, 'and end', end)"
      ],
      "execution_count": null,
      "outputs": []
    },
    {
      "cell_type": "markdown",
      "metadata": {
        "id": "Xd8m9FBrE5vy"
      },
      "source": [
        "## `for` Loops"
      ]
    },
    {
      "cell_type": "markdown",
      "metadata": {
        "id": "PCTNx0RFcOkP"
      },
      "source": [
        "* `while` loops repeat program logic based on a condition.\n",
        "* `for` loops repeat program logic based on the contents of a sequence .\n",
        "* We say they \"iterate over a sequence\".\n",
        "\n",
        "For example, this program prints the characters in a string, one character per line:\n",
        "```\n",
        "mystr = 'this is a test'\n",
        "for i in mystr:\n",
        "    print(i)\n",
        "```\n",
        "Result:\n",
        "```\n",
        "t\n",
        "h\n",
        "i\n",
        "s\n",
        "...\n",
        "```\n"
      ]
    },
    {
      "cell_type": "code",
      "metadata": {
        "id": "539McyKLfPEN"
      },
      "source": [
        "for marc in 'Python':\n",
        "    print(marc)"
      ],
      "execution_count": null,
      "outputs": []
    },
    {
      "cell_type": "markdown",
      "metadata": {
        "id": "wtMnz7Fxcfn6"
      },
      "source": [
        "### Numerical `for` Loop\n",
        "\n",
        "* For loops can also be used with a sequence of numbers, similar to while loops.\n",
        "* For example, this program prints the first three integers and their squares...\n",
        "```\n",
        "for i in (1, 2, 3):\n",
        "    print(i, i*i)\n",
        "```\n",
        "Result:\n",
        "```\n",
        "1 1\n",
        "2 4\n",
        "3 9\n",
        "```\n",
        "* Notice a big advantage over while loops:  there's no need to separately initialize and increment a loop counter.\n",
        "* But enumerating the range of numbers is cumbersome."
      ]
    },
    {
      "cell_type": "code",
      "metadata": {
        "id": "v_dWVSGyMwrT"
      },
      "source": [
        "for i in (1,2,3, 4, 5, 6, 7, 8, 9, 10):\n",
        "  print(i, i*i)"
      ],
      "execution_count": null,
      "outputs": []
    },
    {
      "cell_type": "markdown",
      "metadata": {
        "id": "6SHyjI-hci-f"
      },
      "source": [
        "### The `range()` Function\n",
        "\n",
        "* the Python `range()` function generates a sequence of numbers\n",
        "* prototype:  range([start], end, [increment])\n",
        "* start is optional and defaults to zero\n",
        "* end is required and terminates the sequence at end-1\n",
        "increment dictates the interval between elements\n",
        "* increment is optional and the defaults to one\n",
        "* `range()` returns a special Python type called a \"range\""
      ]
    },
    {
      "cell_type": "code",
      "metadata": {
        "id": "Lwitbnh5ge4G"
      },
      "source": [
        "for i in range(0, 100):\n",
        "  print(i, i*i)"
      ],
      "execution_count": null,
      "outputs": []
    },
    {
      "cell_type": "markdown",
      "metadata": {
        "id": "ra4Hf2e7corj"
      },
      "source": [
        "#### `range` works great in `for` loops\n",
        "\n",
        "Print the print first 100 integers and their squares\n",
        "```\n",
        "for i in range(1, 21):\n",
        "    print(i, i*i)\n",
        "```\n"
      ]
    },
    {
      "cell_type": "code",
      "metadata": {
        "id": "pX3GzULNhERU"
      },
      "source": [
        "for i in range(1, 21):\n",
        "    print(i, i*i)"
      ],
      "execution_count": null,
      "outputs": []
    },
    {
      "cell_type": "code",
      "metadata": {
        "id": "_T--pSwpg1DM"
      },
      "source": [
        "size = 6\n",
        "print('X', end='\\t')\n",
        "for i in range(1, size):\n",
        "    print(i, end='\\t') # column headings\n",
        "print()\n",
        "for i in range(1, size):\n",
        "    print(i, end='\\t') # row headings\n",
        "    for j in range(1, size):\n",
        "        print(i * j, end='\\t') # products\n",
        "    # print newline at end of each row\n",
        "    print()"
      ],
      "execution_count": null,
      "outputs": []
    },
    {
      "cell_type": "markdown",
      "metadata": {
        "id": "9J7RI7TYcVeS"
      },
      "source": [
        "### Nested `for` Loop\n",
        "\n",
        "* Just as we have seen `if` statements of `if` statements, and `while` loops of `while` loops, we can have `for` loops of `for` loops (and so on...)\n",
        "\n",
        "Example: print a 9-by-9 multiplication table\n",
        "```\n",
        "print('X', end='\\t')\n",
        "for i in range(1, 10):\n",
        "    print(i, end='\\t') # column headings\n",
        "print()\n",
        "for i in range(1, 10):\n",
        "    print(i, end='\\t') # row headings\n",
        "    for j in range(1, 10):\n",
        "        print(i * j, end='\\t') # products\n",
        "    # print newline at end of each row\n",
        "    print()\n",
        "```\n"
      ]
    },
    {
      "cell_type": "code",
      "metadata": {
        "id": "KMMZJ0IKeWG4"
      },
      "source": [
        "print('X', end='\\t')\n",
        "for i in range(1, 10):\n",
        "    print(i, end='\\t') # column headings\n",
        "print()\n",
        "for i in range(1, 10):\n",
        "    print(i, end='\\t') # row headings\n",
        "    for j in range(1, 10):\n",
        "        print(i * j, end='\\t') # products\n",
        "    # print newline at end of each row\n",
        "    print()"
      ],
      "execution_count": null,
      "outputs": []
    },
    {
      "cell_type": "markdown",
      "metadata": {
        "id": "T5vnlVm8gOPP"
      },
      "source": [
        "# Preview of Next Lesson (Functions and Modules)\n"
      ]
    },
    {
      "cell_type": "markdown",
      "metadata": {
        "id": "RqMedi25QEfu"
      },
      "source": [
        "Here's an example function definition:\n",
        "```\n",
        "# N! (N factorial) is 1*2*3* ... *N-1*N\n",
        "def fact(n):\n",
        "    ''' print the factorial of a given number '''\n",
        "    fact = 1\n",
        "    for i in range(1, n+1):\n",
        "        fact *= i\n",
        "    print(fact)\n",
        "```\n",
        "And here's how we would call this function:\n",
        "\n",
        "```\n",
        "fact(10)\n",
        "```\n"
      ]
    },
    {
      "cell_type": "code",
      "metadata": {
        "id": "bKjYug7HQZKh"
      },
      "source": [
        "# N! (N factorial) is 1*2*...N-1*N\n",
        "def fact(n):\n",
        "    ''' print the factorial of a given number '''\n",
        "    fact = 1\n",
        "    for i in range(1, n+1):\n",
        "        fact *= i # fact = fact * i\n",
        "    print(fact)\n",
        "\n",
        "fact(10)"
      ],
      "execution_count": null,
      "outputs": []
    },
    {
      "cell_type": "markdown",
      "metadata": {
        "id": "nkxuivpM_Qis"
      },
      "source": [
        "# Example Program - Image Manipulation"
      ]
    },
    {
      "cell_type": "code",
      "metadata": {
        "id": "zgm5En-W68X6"
      },
      "source": [
        "from IPython.display import display, Javascript\n",
        "from google.colab.output import eval_js\n",
        "from base64 import b64decode\n",
        "\n",
        "def take_photo(filename='photo.jpg', quality=0.8):\n",
        "  js = Javascript('''\n",
        "    async function takePhoto(quality) {\n",
        "      const div = document.createElement('div');\n",
        "      const capture = document.createElement('button');\n",
        "      capture.textContent = 'Capture';\n",
        "      div.appendChild(capture);\n",
        "\n",
        "      const video = document.createElement('video');\n",
        "      video.style.display = 'block';\n",
        "      const stream = await navigator.mediaDevices.getUserMedia({video: true});\n",
        "\n",
        "      document.body.appendChild(div);\n",
        "      div.appendChild(video);\n",
        "      video.srcObject = stream;\n",
        "      await video.play();\n",
        "\n",
        "      // Resize the output to fit the video element.\n",
        "      google.colab.output.setIframeHeight(document.documentElement.scrollHeight, true);\n",
        "\n",
        "      // Wait for Capture to be clicked.\n",
        "      await new Promise((resolve) => capture.onclick = resolve);\n",
        "\n",
        "      const canvas = document.createElement('canvas');\n",
        "      canvas.width = video.videoWidth;\n",
        "      canvas.height = video.videoHeight;\n",
        "      canvas.getContext('2d').drawImage(video, 0, 0);\n",
        "      stream.getVideoTracks()[0].stop();\n",
        "      div.remove();\n",
        "      return canvas.toDataURL('image/jpeg', quality);\n",
        "    }\n",
        "    ''')\n",
        "  display(js)\n",
        "  data = eval_js('takePhoto({})'.format(quality))\n",
        "  binary = b64decode(data.split(',')[1])\n",
        "  with open(filename, 'wb') as f:\n",
        "    f.write(binary)\n",
        "  return filename"
      ],
      "execution_count": null,
      "outputs": []
    },
    {
      "cell_type": "code",
      "metadata": {
        "id": "dYX852fU68Xf"
      },
      "source": [
        "from IPython.display import Image\n",
        "try:\n",
        "  image = take_photo()\n",
        "  # print('Saved to {}'.format(filename))\n",
        "\n",
        "  # Show the image which was just taken.\n",
        "  display(image)\n",
        "  print(image.height, image.width)\n",
        "except Exception as err:\n",
        "  # Errors will be thrown if the user does not have a webcam or if they do not\n",
        "  # grant the page permission to access it.\n",
        "  print(str(err))\n",
        "\n",
        "\n"
      ],
      "execution_count": null,
      "outputs": []
    },
    {
      "cell_type": "code",
      "metadata": {
        "id": "q5aouQQq-Feq"
      },
      "source": [
        "import matplotlib.pyplot as plt\n",
        "I = plt.imread('photo.jpg')\n",
        "I = I.sum(axis=-1)\n",
        "plt.figure()\n",
        "plt.imshow(I, cmap=\"gray\")\n",
        "iterations = 10\n",
        "for x in range(iterations):\n",
        "  for i in range(1,I.shape[0]-1):\n",
        "    for j in range(1,I.shape[1]-1):\n",
        "      I[i,j] = (\n",
        "                 I[i-1,j-1] + I[i-1,j] + I[i-1,j+1] +\n",
        "                 I[i,j-1]   + I[i,j]   + I[i,j+1] +\n",
        "                 I[i+1,j-1] + I[i+1,j] + I[i+1,j+1]\n",
        "                ) / 9.0\n",
        "plt.figure()\n",
        "plt.imshow(I, cmap=\"gray\")"
      ],
      "execution_count": null,
      "outputs": []
    },
    {
      "cell_type": "markdown",
      "metadata": {
        "id": "jBs305Ht_KLo"
      },
      "source": [
        "# Homework"
      ]
    },
    {
      "cell_type": "markdown",
      "metadata": {
        "id": "mGfNQFRGUtYI"
      },
      "source": [
        "* Make a copy of this notebook (if you haven't already done so) and complete the challenges above. You can make a copy of this notebook by selecting File->Save a copy in Drive from the menu bar above.\n",
        "* Review your copy of this notebook.\n",
        "  * Complete all the challenges above.\n",
        "  * Complete the four questions below.\n",
        "  * If something is unclear, experiment and see if you can understand it better.\n",
        "* Read Chapter 3 (Functions) in the free online version of [Automate the Boring Stuff with Python](http://automatetheboringstuff.com/).\n",
        "* For next class...\n",
        "  * install your own copy of Python by visiting https://www.python.org/downloads/ and following the insructions there.\n",
        "  * Email me (marc@mco.dev) if you have any problems.\n"
      ]
    },
    {
      "cell_type": "markdown",
      "metadata": {
        "id": "Dd1FNOpnK0-D"
      },
      "source": [
        "## Question 1\n",
        "\n",
        "* Using a while loop, repeatedly prompt the user for an input string, and print the input string.\n",
        "* Exit the loop when the user enters only the character ‘q’ or an empty string.\n",
        "```\n",
        "Enter a string (‘q’ to quit): this is a test\n",
        "You entered: this is a test\n",
        "Enter a string (‘q’ to quit): another test\n",
        "You entered: another test\n",
        "Enter a string (‘q’ to quit): q\n",
        "Exiting...\n",
        "```"
      ]
    },
    {
      "cell_type": "code",
      "metadata": {
        "id": "orMwPRauWCOU"
      },
      "source": [
        "# Add your code here"
      ],
      "execution_count": null,
      "outputs": []
    },
    {
      "cell_type": "code",
      "metadata": {
        "id": "314VvVKCMIzK",
        "cellView": "form"
      },
      "source": [
        "#@title Double click here to reveal solution\n",
        "\n",
        "Coming soon."
      ],
      "execution_count": null,
      "outputs": []
    },
    {
      "cell_type": "markdown",
      "metadata": {
        "id": "So9vQ1trLJLX"
      },
      "source": [
        "## Question 2\n",
        "\n",
        "Building on the previous program, for each string entered, print the string as entered, followed by an all upper case version and an all lower case version, like this:\n",
        "```\n",
        "Enter a string (‘q’ to quit):  I Am The Walrus\n",
        "Original string: I Am The Walrus\n",
        "Upper case:      I AM THE WALRUS\n",
        "Lower case:      i am the walrus\n",
        "```"
      ]
    },
    {
      "cell_type": "code",
      "metadata": {
        "id": "-8rQKJmiLSsa"
      },
      "source": [
        "# Add your code here"
      ],
      "execution_count": null,
      "outputs": []
    },
    {
      "cell_type": "code",
      "metadata": {
        "id": "M_bufOMUMfxj",
        "cellView": "form"
      },
      "source": [
        "#@title Double click here to reveal solution\n",
        "\n",
        "Coming soon."
      ],
      "execution_count": null,
      "outputs": []
    },
    {
      "cell_type": "markdown",
      "metadata": {
        "id": "1jH-_bNlLcHc"
      },
      "source": [
        "## Question 3\n",
        "\n",
        "Building on the previous program, for each string entered, print whether the entered string is all upper, all lower or mixed case, like this:\n",
        "```\n",
        "Enter a string (‘q’ to quit): this is a test\n",
        "You entered: this is a test, which is all lowercase\n",
        "Enter a string (‘q’ to quit): ANOTHER TEST\n",
        "You entered: ANOTHER TEST, which is all upper case\n",
        "Enter a string (‘q’ to quit): mIxEd CaSe\n",
        "You entered: mIxEd CaSe, which is mixed case\n",
        "```\n",
        "Hints:\n",
        "* Use a for loop to examine the characters in the string.\n",
        "* Use isupper() and islower() string methods to examine the case of each character in the loop.\n",
        "* What can you infer by counting the upper and lower case characters in a given string?\n"
      ]
    },
    {
      "cell_type": "code",
      "metadata": {
        "id": "rXOX2g4-Ll-9"
      },
      "source": [
        "# Add your code here"
      ],
      "execution_count": null,
      "outputs": []
    },
    {
      "cell_type": "code",
      "metadata": {
        "id": "-DTi8KY4O95w",
        "cellView": "form"
      },
      "source": [
        "#@title Double click here to reveal solution\n",
        "\n",
        "Coming soon."
      ],
      "execution_count": null,
      "outputs": []
    },
    {
      "cell_type": "markdown",
      "metadata": {
        "id": "9LYTJHnh0mPe"
      },
      "source": [
        "## Question 4\n",
        "\n",
        "* The factorial of a number (written x!) is the product of 1, 2, ..., x.\n",
        "* In other words, it's the result of multiplying 1, 2, ..., all the way up to (and including) the number x itself.  \n",
        "* Prompt the user for a number and print a table of factorials from 1 up to the entered number.\n",
        "* For example, if the user inputs 5, the output should look something like this (with table headings):\n",
        "```\n",
        "x    x!\n",
        "1    1\n",
        "2    2\n",
        "3    6\n",
        "4    24\n",
        "5    120\n",
        "```\n",
        "Don't worry if your columns don't line up perfectly."
      ]
    },
    {
      "cell_type": "code",
      "metadata": {
        "id": "p4ETVG0e02DZ"
      },
      "source": [
        "# Add your code here"
      ],
      "execution_count": null,
      "outputs": []
    },
    {
      "cell_type": "code",
      "metadata": {
        "id": "2NBHmKwS04qd",
        "cellView": "form"
      },
      "source": [
        "#@title Double click here to reveal solution\n",
        "\n",
        "Coming soon."
      ],
      "execution_count": null,
      "outputs": []
    },
    {
      "cell_type": "markdown",
      "metadata": {
        "id": "GSNOwwS5dFSh"
      },
      "source": [
        "## Question 5\n",
        "\n",
        "* Repeatedly prompt the user for a string (until receiving ‘q’ or an empty string).\n",
        "* For each string received, use a for loop to create a reversed version of the string.\n",
        "* As you step through the characters in the string, successively build a reversed version by prepending each char to the reversed version of the string (i.e. `revstr = char + revstr`)\n",
        "* Print the reversed string along with an indication as to whether or not it's a palindrome, written the same forwards and backwards, like 'racecar'. * Don't worry about dealing with upper/lower case issues. You can assume all input is lower case.\n",
        "* Also don't worry about doing anything special with whitespace characters (assume \"race car\" is not a palindrome).\n",
        "```\n",
        "Enter a string: hello world\n",
        "dlrow olleh - is NOT a palindrome\n",
        "Enter a string: redivider\n",
        "redivider - is a palindrome!\n",
        "```"
      ]
    },
    {
      "cell_type": "code",
      "metadata": {
        "id": "JlwppEcELM0D"
      },
      "source": [
        "# Add your code here"
      ],
      "execution_count": null,
      "outputs": []
    },
    {
      "cell_type": "code",
      "metadata": {
        "id": "x2guzSQMLISx",
        "cellView": "form"
      },
      "source": [
        "#@title Double click here to reveal solution\n",
        "\n",
        "Coming soon."
      ],
      "execution_count": null,
      "outputs": []
    },
    {
      "cell_type": "markdown",
      "metadata": {
        "id": "cbgC8XuVMZiQ"
      },
      "source": [
        "# Just For Fun - Some Palindromes"
      ]
    },
    {
      "cell_type": "markdown",
      "metadata": {
        "id": "jp1H1KEOdQZh"
      },
      "source": [
        "Character-wise\n",
        "* A man, a plan, a canal, Panama!\n",
        "* I prefer pi\n",
        "* Dammit, I'm mad!\n",
        "* Ma is as selfless as I am\n",
        "* Never odd or even\n",
        "* Madam, I'm Adam\n",
        "\n",
        "Word-wise\n",
        "* King, are you glad you are king?\n",
        "* Says Mom, \"What do you do?\" – You do what Mom says.\n",
        "* You know, I did little for you, for little did I know you.\n",
        "* Please me by standing by me please.\n",
        "* Blessed are they that believe they are blessed.\n",
        "* Escher, drawing hands, drew hands drawing Escher."
      ]
    }
  ]
}