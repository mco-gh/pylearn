{
  "nbformat": 4,
  "nbformat_minor": 0,
  "metadata": {
    "colab": {
      "provenance": [],
      "toc_visible": true,
      "include_colab_link": true
    },
    "kernelspec": {
      "name": "python3",
      "display_name": "Python 3"
    },
    "language_info": {
      "name": "python"
    }
  },
  "cells": [
    {
      "cell_type": "markdown",
      "metadata": {
        "id": "view-in-github",
        "colab_type": "text"
      },
      "source": [
        "<a href=\"https://colab.research.google.com/github/mco-gh/pylearn/blob/master/notebooks/9_Exceptions.ipynb\" target=\"_parent\"><img src=\"https://colab.research.google.com/assets/colab-badge.svg\" alt=\"Open In Colab\"/></a>"
      ]
    },
    {
      "cell_type": "markdown",
      "source": [
        "# Lesson 9 - Project\n",
        "\n",
        "**Make a copy of this notebook by selecting File->Save a copy in Drive from the menu bar above.**\n",
        "\n",
        "Things you'll learn in this lesson:\n",
        "- how to formulate and carry out a Python project"
      ],
      "metadata": {
        "id": "_XNgm_mumQlD"
      }
    },
    {
      "cell_type": "markdown",
      "source": [
        "[Previous Lesson](https://pylearn.io/lessons/8-Files/)"
      ],
      "metadata": {
        "id": "azbeDYgip1eD"
      }
    },
    {
      "cell_type": "markdown",
      "metadata": {
        "id": "FBodkyBbekma"
      },
      "source": [
        "# Let's do a project together"
      ]
    },
    {
      "cell_type": "markdown",
      "metadata": {
        "id": "OQdffMStfFS0"
      },
      "source": [
        "## Problem Statement\n",
        "Enable people to automatically find articles of interest from their favorite news sites."
      ]
    },
    {
      "cell_type": "markdown",
      "metadata": {
        "id": "Rpn2Dq5fer0h"
      },
      "source": [
        "## Requirements\n",
        "\n",
        "### Must...\n",
        "- maintain a configurable list of target websites\n",
        "- support a per-user configurable list of topics of interest\n",
        "- keep track of what we've already seen\n",
        "- be automated, no manual steps other than running the app\n",
        "- present results via web app\n",
        "\n",
        "### Should...\n",
        "- be able to automatically and regularly run app on a scheduled basis\n",
        "- provide ability to send daily summaries by email\n",
        "- provide a more sophisticated way of gauging interest than topic enumeration (e.g. embeddings)\n",
        "- run in the cloud"
      ]
    },
    {
      "cell_type": "markdown",
      "metadata": {
        "id": "o8R0bgA8gEUw"
      },
      "source": [
        "## Problem Decomposition\n",
        "- we can follow a pattern that many data science projects use\n",
        "```\n",
        "gather => format => model => report\n",
        "```\n",
        "\n",
        "1. **gather** - data acquisition, getting your hands on the data you care about\n",
        "1. **format** - data engineering, convert the data into a format you can use\n",
        "1. **model** - data modeling, build prediction and/or classification model(s) to categorize and assess discovered data\n",
        "1. **report** - present the insights visually and/or analytically"
      ]
    },
    {
      "cell_type": "markdown",
      "metadata": {
        "id": "hP01xLLPg3na"
      },
      "source": [
        "## Step 1 - Gather\n",
        "\n",
        "Given a list of websites, gather all available articles."
      ]
    },
    {
      "cell_type": "markdown",
      "metadata": {
        "id": "0mFxWXro9i_E"
      },
      "source": [
        "## Can we reuse some code?\n",
        "\n",
        "Yes! We're going to use the [NewsCatcher API](https://github.com/kotartemiy/newscatcher), which is a Python library that claims to: *Programmatically collect normalized news from (almost) any website.*\n",
        "\n"
      ]
    },
    {
      "cell_type": "code",
      "metadata": {
        "id": "i-S1bWiguGOO"
      },
      "source": [
        "# Let's install it...\n",
        "!pip install newscatcher"
      ],
      "execution_count": null,
      "outputs": []
    },
    {
      "cell_type": "code",
      "metadata": {
        "id": "i3XEoLdxuQVt"
      },
      "source": [
        "# Let's try it out...\n",
        "from newscatcher import Newscatcher\n",
        "nc = Newscatcher(website='theguardian.com')\n",
        "results = nc.get_news()\n",
        "print(type(results))\n",
        "print(results.keys())\n",
        "print(results)"
      ],
      "execution_count": null,
      "outputs": []
    },
    {
      "cell_type": "code",
      "metadata": {
        "id": "SKTQc5BJflBY"
      },
      "source": [
        "# Find out how many websites are supported...\n",
        "from newscatcher import urls\n",
        "sites = urls()\n",
        "print('number of sites supported:', len(sites))\n",
        "unique_sites = set(sites)\n",
        "print('unique sites:', len(unique_sites))"
      ],
      "execution_count": null,
      "outputs": []
    },
    {
      "cell_type": "code",
      "metadata": {
        "id": "HaBfZZQzZqk5"
      },
      "source": [
        "# Get some articles...\n",
        "nc = Newscatcher(website='theguardian.com')\n",
        "results = nc.get_news()\n",
        "articles = results['articles']\n",
        "print(type(articles))\n",
        "print('number of articles:', len(articles))\n",
        "print('article keys:', articles[0].keys())\n",
        "print()\n",
        "\n",
        "cnt = 1\n",
        "for i in articles:\n",
        "  id = i['id']\n",
        "  title = i['title']\n",
        "  print(f'{cnt:2d}. {title:70.70s}  {id}')\n",
        "  cnt += 1"
      ],
      "execution_count": null,
      "outputs": []
    },
    {
      "cell_type": "code",
      "metadata": {
        "id": "W-unBdNHLXuU"
      },
      "source": [
        "# List topics...\n",
        "from newscatcher import describe_url\n",
        "describe = describe_url('nytimes.com')\n",
        "print(describe['topics'])\n",
        "describe = describe_url('fivethirtyeight.com')\n",
        "print(describe['topics'])"
      ],
      "execution_count": null,
      "outputs": []
    },
    {
      "cell_type": "code",
      "metadata": {
        "id": "3ETfEP4VeMLD"
      },
      "source": [
        "# Get articles with a specific topic...\n",
        "nc = Newscatcher(website='fivethirtyeight.com', topic='science')\n",
        "results = nc.get_news()\n",
        "articles = results['articles']\n",
        "\n",
        "cnt = 1\n",
        "for i in articles:\n",
        "  id = i['id']\n",
        "  title = i['title']\n",
        "  print(f'{cnt:2d}. {title:70.70s}  {id}')\n",
        "  cnt += 1"
      ],
      "execution_count": null,
      "outputs": []
    },
    {
      "cell_type": "code",
      "metadata": {
        "id": "Z2nFn5G47Mkf"
      },
      "source": [
        "# Function to get articles from a given site with a given topic...\n",
        "def get_new_articles(site, topic):\n",
        "  nc = Newscatcher(website=site, topic=topic)\n",
        "  results = nc.get_news()\n",
        "  # Return the articles\n",
        "  if results:\n",
        "    if 'articles' in results:\n",
        "      return results['articles']\n",
        "  return None\n",
        "\n",
        "# Function to display articles from a set of results...\n",
        "def display(articles):\n",
        "  cnt = 1\n",
        "  for i in articles:\n",
        "    id = i['id']\n",
        "    title = i['title']\n",
        "    print(f'{cnt:2d}. {title:70.70s}  {id}')\n",
        "    cnt += 1"
      ],
      "execution_count": null,
      "outputs": []
    },
    {
      "cell_type": "code",
      "metadata": {
        "id": "LZIc2mlQkaFQ"
      },
      "source": [
        "results = get_new_articles('nytimes.com', 'food')\n",
        "display(results)"
      ],
      "execution_count": null,
      "outputs": []
    },
    {
      "cell_type": "code",
      "metadata": {
        "id": "25AytnxyNNge"
      },
      "source": [
        "# Let define some selection criteria...\n",
        "\n",
        "# sites of interest\n",
        "sites = [\n",
        "  'nytimes.com',\n",
        "  'washingtonpost.com',\n",
        "  'theguardian.com',\n",
        "  'si.com',\n",
        "]\n",
        "\n",
        "# topics of interest\n",
        "topics = [\n",
        "  'politics',\n",
        "  'tech',\n",
        "  'business',\n",
        "  'sport',\n",
        "]\n",
        "\n",
        "print('sites:', sites)\n",
        "print('topics:', topics)"
      ],
      "execution_count": null,
      "outputs": []
    },
    {
      "cell_type": "code",
      "metadata": {
        "id": "8hwNJWF8kmgz"
      },
      "source": [
        "all_articles = []\n",
        "for i in sites:\n",
        "  tmp = describe_url(i)\n",
        "  topic_list = tmp['topics']\n",
        "  for j in topics:\n",
        "    print(f'site: {i:20.20s}  topic: {j:20.20s}', end='')\n",
        "    if j not in topic_list:\n",
        "      print('topic not available')\n",
        "      continue\n",
        "    articles = get_new_articles(i, j)\n",
        "    print(len(articles))\n",
        "    all_articles += articles\n",
        "\n",
        "#display(all_articles)"
      ],
      "execution_count": null,
      "outputs": []
    },
    {
      "cell_type": "code",
      "metadata": {
        "id": "3WMGR8gjkiVV"
      },
      "source": [
        "def get_news(sites, topics):\n",
        "  all_articles = []\n",
        "  for i in sites:\n",
        "    topic_list = describe_url(i)['topics']\n",
        "    for j in topics:\n",
        "      if j not in topic_list:\n",
        "        continue\n",
        "      articles = get_new_articles(i, j)\n",
        "      all_articles += articles\n",
        "  return all_articles\n"
      ],
      "execution_count": null,
      "outputs": []
    },
    {
      "cell_type": "code",
      "metadata": {
        "id": "hScZbrfjlz68"
      },
      "source": [
        "results = get_news(['nytimes.com', 'washingtonpost.com'], topics)\n",
        "display(results)"
      ],
      "execution_count": null,
      "outputs": []
    },
    {
      "cell_type": "markdown",
      "source": [
        "[Previous Lesson](https://pylearn.io/lessons/8-Files/)"
      ],
      "metadata": {
        "id": "C75nZcvlpcT4"
      }
    }
  ]
}