{
  "nbformat": 4,
  "nbformat_minor": 0,
  "metadata": {
    "colab": {
      "provenance": [],
      "collapsed_sections": [
        "4Luh_ie4gvHg",
        "GxuBq4rieILq",
        "OQdffMStfFS0",
        "Rpn2Dq5fer0h",
        "o8R0bgA8gEUw",
        "hP01xLLPg3na",
        "0mFxWXro9i_E",
        "Dd1FNOpnK0-D",
        "dRrZ0vmT-a_x",
        "iT2xKwolaXTh"
      ],
      "toc_visible": true,
      "authorship_tag": "ABX9TyOdwsi2iTDr2JakuuclvwW9",
      "include_colab_link": true
    },
    "kernelspec": {
      "name": "python3",
      "display_name": "Python 3"
    }
  },
  "cells": [
    {
      "cell_type": "markdown",
      "metadata": {
        "id": "view-in-github",
        "colab_type": "text"
      },
      "source": [
        "<a href=\"https://colab.research.google.com/github/mco-gh/pylearn/blob/master/notebooks/7_Iterables.ipynb\" target=\"_parent\"><img src=\"https://colab.research.google.com/assets/colab-badge.svg\" alt=\"Open In Colab\"/></a>"
      ]
    },
    {
      "cell_type": "markdown",
      "metadata": {
        "id": "7B_-CpRRW4Zd"
      },
      "source": [
        "# Notebook 7 - Tuples, Lists, and Dictionaries\n",
        "\n",
        "**Tuples, Lists, and Dictionaries**\n",
        "\n",
        "**Make a copy of this notebook by selecting File->Save a copy in Drive from the menu bar above.**\n",
        "\n",
        "Things you'll learn in this lesson:\n",
        "- mutability\n",
        "- sequences\n",
        "- tuples\n",
        "- lists\n",
        "- dictionaries"
      ]
    },
    {
      "cell_type": "markdown",
      "source": [
        "[Previous Lesson](https://pylearn.io/lessons/6-Functions/)\n",
        "&nbsp;&nbsp;&nbsp;&nbsp;&nbsp;&nbsp;&nbsp;&nbsp;&nbsp;&nbsp;\n",
        "[Next Lesson](https://pylearn.io/lessons/8-Files/)"
      ],
      "metadata": {
        "id": "PkzrinkZpPmR"
      }
    },
    {
      "cell_type": "markdown",
      "metadata": {
        "id": "41QJTBmCwX38"
      },
      "source": [
        "## Mutability\n",
        "\n",
        "Some data types can be changed (mutable) and some cannot. For example, strings are immutable. For this reason, you cannot assign values to the characters in a string. And when you call a function that seems to modify a string, it actually creates a new string and (normally) disposes of the old one."
      ]
    },
    {
      "cell_type": "code",
      "metadata": {
        "id": "VTi3Y_Gpw_34"
      },
      "source": [
        "s = 'Susan X. Anthony'\n",
        "print('sixth char:', s[6])\n",
        "s[6] = 'B'"
      ],
      "execution_count": null,
      "outputs": []
    },
    {
      "cell_type": "code",
      "metadata": {
        "id": "ucrfXIos4wKi"
      },
      "source": [
        "print(s)\n",
        "s = 'Susan B. Anthony'\n",
        "print(s)"
      ],
      "execution_count": null,
      "outputs": []
    },
    {
      "cell_type": "markdown",
      "metadata": {
        "id": "_l6GNfoTeAUk"
      },
      "source": [
        "# Tuples"
      ]
    },
    {
      "cell_type": "markdown",
      "metadata": {
        "id": "cBOfRAyaW9ah"
      },
      "source": [
        "Tuples are ordered collections, i.e. sequences, like strings, but they can contain any type of value (not just characters). They can even contain different types within the same tuple. Tuples are defined by parentheses (i.e. brackets) and the elements of a tuple are separated by commas, like this:\n",
        "\n",
        "```('a', 'b', 'c', 1, 2, 3)```.\n",
        "\n",
        "[Tuple documentation](https://docs.python.org/3/library/stdtypes.html#tuple)\n"
      ]
    },
    {
      "cell_type": "markdown",
      "metadata": {
        "id": "frzGYC4epOui"
      },
      "source": [
        "## Creating Tuples"
      ]
    },
    {
      "cell_type": "code",
      "metadata": {
        "id": "TakeKfetapem"
      },
      "source": [
        "# Create an empty tuple\n",
        "tup = ()\n",
        "print('empty tuple:', tup)"
      ],
      "execution_count": null,
      "outputs": []
    },
    {
      "cell_type": "code",
      "metadata": {
        "id": "oVCzzPpIWvtF"
      },
      "source": [
        "# Create a tuple with some initial contents\n",
        "tup = ('Python', 1024, 3.14, True)\n",
        "print('non-empty tuple:', tup)"
      ],
      "execution_count": null,
      "outputs": []
    },
    {
      "cell_type": "code",
      "metadata": {
        "id": "ks93vR9wpdT7"
      },
      "source": [
        "# the same value can occur multiple times in a tuple\n",
        "tup = ('a', 'a', 'a')\n",
        "print(tup)"
      ],
      "execution_count": null,
      "outputs": []
    },
    {
      "cell_type": "markdown",
      "metadata": {
        "id": "JG5CgStIYW4P"
      },
      "source": [
        "## Tuple Operations\n",
        "Because tuples are sequences, like strings, functions, operators, and loops that operate on strings also play well with tuples, for example:"
      ]
    },
    {
      "cell_type": "code",
      "metadata": {
        "id": "1aBjcrJDW4AA"
      },
      "source": [
        "# the len function returns the length of a tuple\n",
        "tup = (1, 2, 3, 4)\n",
        "print(len(tup))     # returns size of a tuple\n",
        "tup = (1, 2, 3, 4, 5)\n",
        "print(len(tup))"
      ],
      "execution_count": null,
      "outputs": []
    },
    {
      "cell_type": "code",
      "metadata": {
        "id": "5mw3OsrRXOVr"
      },
      "source": [
        "# indexing (like strings, tuple offsets start with zero!)\n",
        "tup = (1, 2, 3)\n",
        "print(tup[0])\n",
        "print()\n",
        "print('the whole tuple...')\n",
        "print(tup)"
      ],
      "execution_count": null,
      "outputs": []
    },
    {
      "cell_type": "code",
      "metadata": {
        "id": "zoCHyBW6qW37"
      },
      "source": [
        "# indexing out of bounds raises a runtime error\n",
        "tup = ('abc', 123, 3.14, True)\n",
        "print(tup[99])"
      ],
      "execution_count": null,
      "outputs": []
    },
    {
      "cell_type": "code",
      "metadata": {
        "id": "kQmS34FQljJ9"
      },
      "source": [
        "# loops\n",
        "tup = (1, 2, 3)\n",
        "for i in range(len(tup)):\n",
        "  print(tup[i])"
      ],
      "execution_count": null,
      "outputs": []
    },
    {
      "cell_type": "code",
      "metadata": {
        "id": "2KNPRHtrl7HQ"
      },
      "source": [
        "# a better way to loop (a.k.a. iterate) over tuples...\n",
        "x = (1, 2, 3)\n",
        "for i in x:\n",
        "  print(i)"
      ],
      "execution_count": null,
      "outputs": []
    },
    {
      "cell_type": "code",
      "metadata": {
        "id": "LkQ3cF9IXkZ8"
      },
      "source": [
        "# the in operator (membership test)\n",
        "x = 4\n",
        "tup = (1, 2, 3, 4, 5)\n",
        "if x in tup: # True if var’s value is in tuple\n",
        "    print(tup, 'contains ', x)\n",
        "else:\n",
        "    print(tup, 'does NOT contain', x)"
      ],
      "execution_count": null,
      "outputs": []
    },
    {
      "cell_type": "code",
      "metadata": {
        "id": "2lGOMMn5YH_v"
      },
      "source": [
        "# slicing\n",
        "tup = (1, 2, 3, 4, 5)\n",
        "print(tup[2:])   # prints 3rd through end of tuple\n",
        "print(tup[:3])   # prints first through third from last\n",
        "print(tup[2:4])"
      ],
      "execution_count": null,
      "outputs": []
    },
    {
      "cell_type": "code",
      "metadata": {
        "id": "oT9s5vJ3W4KR"
      },
      "source": [
        "# the plus operator concatenates (combines) two tuples into one\n",
        "t1 = (1, 2, 3)\n",
        "t2 = (4, 5, 6)\n",
        "print(t1 + t2)"
      ],
      "execution_count": null,
      "outputs": []
    },
    {
      "cell_type": "markdown",
      "metadata": {
        "id": "kdAtTbGuYcRB"
      },
      "source": [
        "## Tuples are Immutable\n",
        "\n",
        "Like strings, once created, you can't change a tuple.\n"
      ]
    },
    {
      "cell_type": "code",
      "metadata": {
        "id": "I6rCFofvZVm3"
      },
      "source": [
        "tup = (1, 2, 3)\n",
        "print(tup[1])\n",
        "tup[1] = 7"
      ],
      "execution_count": null,
      "outputs": []
    },
    {
      "cell_type": "markdown",
      "metadata": {
        "id": "mkoB-QB9ZYRn"
      },
      "source": [
        "But you can assign a new tuple to the same variable. You haven't changed the tuple, you've changed the association between a variable and it's value."
      ]
    },
    {
      "cell_type": "code",
      "metadata": {
        "id": "jen-2VNJZVyI"
      },
      "source": [
        "tup = (1, 2, 3)\n",
        "print(tup)\n",
        "tup = (1, 3, 2)\n",
        "# the tuple didn't change, the tup variable now points to different data!\n",
        "print(tup)"
      ],
      "execution_count": null,
      "outputs": []
    },
    {
      "cell_type": "markdown",
      "metadata": {
        "id": "73PakyYArTFs"
      },
      "source": [
        "## Nested Tuples\n",
        "Just as you can have if statements of if statements (nested if statements), and loops of loops (nested loops). You can have also have tuples of tuples (nested tuples).\n",
        "- tuple of tuples: ```((1, 2), (3, 4))```\n",
        "- tuple of strings and tuples: ```('Hi', (1,2,3), \"there\")```\n",
        "- tuple of tuple of tuples: ```(((1,2), (3,4)), ((5,6), (7,8)))\n",
        "```"
      ]
    },
    {
      "cell_type": "code",
      "metadata": {
        "id": "fZSAhMQTm_FS"
      },
      "source": [
        "# More readable tuple of tuples\n",
        "nested_tuple = (\n",
        "                 (\n",
        "                   (1, 2),\n",
        "                   (3, 4)\n",
        "                 ),\n",
        "                 (\n",
        "                   (5, 6),\n",
        "                   (7, 8)\n",
        "                 )\n",
        "               )\n",
        "print(nested_tuple)"
      ],
      "execution_count": null,
      "outputs": []
    },
    {
      "cell_type": "markdown",
      "metadata": {
        "id": "elexmuppeTrt"
      },
      "source": [
        "# Lists"
      ]
    },
    {
      "cell_type": "markdown",
      "metadata": {
        "id": "DYtSrDYpYhYp"
      },
      "source": [
        "* A list is like a tuple but it's mutable (changeable).\n",
        "* Almost everything you know about tuples also applies to lists.\n",
        "* Lists are ordered sequences.\n",
        "* All the sequence operations you learned about with strings and tuples, like `len`, indexing, slicing, looping, `in`, etc. apply to lists as well.\n",
        "\n",
        "Lists are defined inside square brackets, with list elements separated by commas, for example...\n",
        "```\n",
        "['a', 'b', 'c', 1, 2, 3]\n",
        "```\n",
        "\n",
        "[List documentation](https://docs.python.org/3/library/stdtypes.html#list)"
      ]
    },
    {
      "cell_type": "markdown",
      "metadata": {
        "id": "1jwHZXqfpaAX"
      },
      "source": [
        "## Creating Lists"
      ]
    },
    {
      "cell_type": "code",
      "metadata": {
        "id": "A91BmSFkpT4f"
      },
      "source": [
        "# Create an empty list (lists use square brackets instead of parens)\n",
        "li = []\n",
        "print('empty list:', li)"
      ],
      "execution_count": null,
      "outputs": []
    },
    {
      "cell_type": "code",
      "metadata": {
        "id": "zR1rdQJtauzK"
      },
      "source": [
        "# Create and initialize a list with some data\n",
        "li = ['Python', 123, 3.14, True]\n",
        "print('non-empty list:', li)"
      ],
      "execution_count": null,
      "outputs": []
    },
    {
      "cell_type": "code",
      "metadata": {
        "id": "UYf57Saqa8m8"
      },
      "source": [
        "# the same value can occur multiple times in a list\n",
        "li = ['a', 'a', 'a']\n",
        "print(li)"
      ],
      "execution_count": null,
      "outputs": []
    },
    {
      "cell_type": "markdown",
      "metadata": {
        "id": "XjDSB3GNZ4Cb"
      },
      "source": [
        "## List Operations"
      ]
    },
    {
      "cell_type": "code",
      "metadata": {
        "id": "2Vh3dCTCbXIU"
      },
      "source": [
        "# The len() function gives us the size of a list.\n",
        "li = ['abc', 123, 3.14, True, 5]\n",
        "# get the size of a list\n",
        "list_size = len(li)\n",
        "print(list_size)"
      ],
      "execution_count": null,
      "outputs": []
    },
    {
      "cell_type": "code",
      "metadata": {
        "id": "HqMd0VH2bZBj"
      },
      "source": [
        "li = ['abc', 123, 3.14, True, 99, 101, \"another\", \"last one - I promise\"]\n",
        "# iterate (loop) over the elements in a list\n",
        "for i in range(len(li)):\n",
        "  print(li[i])"
      ],
      "execution_count": null,
      "outputs": []
    },
    {
      "cell_type": "code",
      "metadata": {
        "id": "-bBSPvCKqHPq"
      },
      "source": [
        "# A better way to iterate over the elements in a list\n",
        "li = ['abc', 123, 3.14, True, 99, 101, \"another\", \"last one - I promise\"]\n",
        "for i in li:\n",
        "  print(i)"
      ],
      "execution_count": null,
      "outputs": []
    },
    {
      "cell_type": "code",
      "metadata": {
        "id": "bW0wb9G2bcqF"
      },
      "source": [
        "li = ['abc', 123, 3.14, True]\n",
        "# test membership in a list\n",
        "\n",
        "x = 3.14159\n",
        "if not x in li:\n",
        " print(x, 'is not in list')\n",
        "else:\n",
        " print(x, 'is in list')"
      ],
      "execution_count": null,
      "outputs": []
    },
    {
      "cell_type": "code",
      "metadata": {
        "id": "U86i_Z0ZcDj8"
      },
      "source": [
        "li = ['abc', 123, 3.14, True]\n",
        "# indexing (list indexes start with zero!)\n",
        "print(li[2])"
      ],
      "execution_count": null,
      "outputs": []
    },
    {
      "cell_type": "code",
      "metadata": {
        "id": "p1b6JeS5cFiC"
      },
      "source": [
        "# indexing out of bounds raises a runtime error\n",
        "li = ['abc', 123, 3.14, True]\n",
        "print(li[99])\n"
      ],
      "execution_count": null,
      "outputs": []
    },
    {
      "cell_type": "code",
      "metadata": {
        "id": "gQMJCFZ7cHaB"
      },
      "source": [
        "li = ['abc', 123, 3.14, True]\n",
        "# slicing\n",
        "print(li[1:3])"
      ],
      "execution_count": null,
      "outputs": []
    },
    {
      "cell_type": "code",
      "metadata": {
        "id": "Wukzw25lcIqk"
      },
      "source": [
        "# concatenating lists\n",
        "li1 = ['a', 1]\n",
        "li2 = ['b', 2]\n",
        "li3 = [99.99]\n",
        "li4 = li1 + li2 + li3\n",
        "print(li4)"
      ],
      "execution_count": null,
      "outputs": []
    },
    {
      "cell_type": "markdown",
      "metadata": {
        "id": "Et0aWB-rc5es"
      },
      "source": [
        "## Lists are Mutable\n",
        "Unlike tuples and strings, we can change the contents of a list after it's created."
      ]
    },
    {
      "cell_type": "code",
      "metadata": {
        "id": "uLBYBQ0Qhp_A"
      },
      "source": [
        "# add an element\n",
        "li = []\n",
        "print(li)\n",
        "li.append('elem1')\n",
        "print(li)\n",
        "li.append(400)\n",
        "print(li)"
      ],
      "execution_count": null,
      "outputs": []
    },
    {
      "cell_type": "code",
      "metadata": {
        "id": "x1ua7Eq0iHr8"
      },
      "source": [
        "li = ['elem1', 'elem2']\n",
        "print(li)\n",
        "# remove an element\n",
        "li.remove('elem1')\n",
        "print(li)\n",
        "# removes only first occurrence of 'element' in list\n",
        "# differs from del because it’s based on value, not position"
      ],
      "execution_count": null,
      "outputs": []
    },
    {
      "cell_type": "code",
      "metadata": {
        "id": "lINRDmjRiONn"
      },
      "source": [
        "li = ['elem1', 'elem2', 3, 99.9]\n",
        "# remove & retrieve an element based on position\n",
        "#elem = li.pop(0)\n",
        "#print(elem)\n",
        "#print(li)\n",
        "\n",
        "print('start:', li)\n",
        "for i in range(len(li)):\n",
        "  elem = li.pop()\n",
        "  print('removed', elem, 'remaining list:', li)"
      ],
      "execution_count": null,
      "outputs": []
    },
    {
      "cell_type": "code",
      "metadata": {
        "id": "K7miQfp_iQil"
      },
      "source": [
        "# If you remove an element that doesn't exist, Python gives a run time error.\n",
        "# How can that be avoided? Test for existence before removing by value\n",
        "li = ['elem1', 'elem2']\n",
        "e = 'elem3'\n",
        "li.remove(e)"
      ],
      "execution_count": null,
      "outputs": []
    },
    {
      "cell_type": "code",
      "metadata": {
        "id": "9G03HO1KiVVW"
      },
      "source": [
        "li = ['elem1', 'elem2', 'elem3']\n",
        "print(li)\n",
        "# replace an element by index\n",
        "li[1] = 'foo' # overwrites value at index 2\n",
        "print(li)"
      ],
      "execution_count": null,
      "outputs": []
    },
    {
      "cell_type": "code",
      "metadata": {
        "id": "qX3WdbK-iW__"
      },
      "source": [
        "# assignment to a non-existent element raises a runtime error\n",
        "li = [1, 2, 3, 4, 5]\n",
        "li[4] = 99 # causes error\n",
        "print(li)"
      ],
      "execution_count": null,
      "outputs": []
    },
    {
      "cell_type": "code",
      "metadata": {
        "id": "XnOc6vMlidWj"
      },
      "source": [
        "li = ['abc', 123, 3.14, True]\n",
        "print(li[1:3])\n",
        "# assign to a list slice\n",
        "li[1:] = [9,8,7.6]\n",
        "print(li)"
      ],
      "execution_count": null,
      "outputs": []
    },
    {
      "cell_type": "code",
      "metadata": {
        "id": "qoOsMOmBifXa"
      },
      "source": [
        "li = ['abc', 123, 3.14, True]\n",
        "# delete a list element\n",
        "del li[2]\n",
        "print(li)"
      ],
      "execution_count": null,
      "outputs": []
    },
    {
      "cell_type": "code",
      "metadata": {
        "id": "GDv7z2tLihSI"
      },
      "source": [
        "li = ['abc', 123, 3.14, True]\n",
        "# delete a list slice\n",
        "del li[1:3]\n",
        "print(li)"
      ],
      "execution_count": null,
      "outputs": []
    },
    {
      "cell_type": "code",
      "metadata": {
        "id": "9Tdc7sbqii7n"
      },
      "source": [
        "li = [\"Maya\", \"Marc\", \"Maria\"]\n",
        "print('original:', li)\n",
        "\n",
        "# sorting a list\n",
        "li.sort()\n",
        "print('sorted:', li)\n",
        "# sorts in ascending order (small to large) by default\n",
        "# to sort in descending order, use this syntax:\n",
        "li.sort(reverse=True)\n",
        "print('reverse sorted:', li)\n",
        "li.sort()\n",
        "print('re-sorted:', li)"
      ],
      "execution_count": null,
      "outputs": []
    },
    {
      "cell_type": "code",
      "metadata": {
        "id": "C5DPhJDBir9u"
      },
      "source": [
        "li = ['abc', 123, 3.14, 'abc', 'abc', True, 'abc', 123]\n",
        "# get the number of occurrences of a particular value\n",
        "count = li.count('abc')\n",
        "print(count)"
      ],
      "execution_count": null,
      "outputs": []
    },
    {
      "cell_type": "code",
      "metadata": {
        "id": "5wOspz47itht"
      },
      "source": [
        "li = ['abc', 123, 3.14, True, 123]\n",
        "# get the (first) index of a particular value\n",
        "index = li.index(True)\n",
        "print(index)"
      ],
      "execution_count": null,
      "outputs": []
    },
    {
      "cell_type": "code",
      "metadata": {
        "id": "3KWj-wv4ivDG"
      },
      "source": [
        "li = ['abc', 123, 3.14, True, 123]\n",
        "# reverse a list\n",
        "li.reverse()\n",
        "print(li)\n",
        "li.reverse()\n",
        "print(li)"
      ],
      "execution_count": null,
      "outputs": []
    },
    {
      "cell_type": "markdown",
      "metadata": {
        "id": "KSivzV8cjnpv"
      },
      "source": [
        "## Nested Lists"
      ]
    },
    {
      "cell_type": "markdown",
      "metadata": {
        "id": "dlT7PoPcdPHK"
      },
      "source": [
        "Just as we saw tuples of tuples, we can also have also have lists of lists. In fact, we can even have lists of tuples and tuples of lists!\n",
        "\n",
        "- list of lists: ```[[1, 2], [3, 4]]```\n",
        "- lists of tuples: ```[(1, 2), (3,4)]```\n",
        "- tuples of lists: ```([1, 2], [3, 4]])```\n",
        "\n",
        "\n",
        "We can even have lists of lists of tuples of lists of strings...\n",
        "you get the idea, this can get arbitrarily complex.\n",
        "Fortunately, most of the time you only need to use one or two levels, although occasionally you may need to go deeper."
      ]
    },
    {
      "cell_type": "markdown",
      "metadata": {
        "id": "KLJvThS3ra4G"
      },
      "source": [
        "### Example\n",
        "\n",
        "Imagine I want to maintain a list of students and their quiz scores. If I think about just one particular student, I might like to store the student's name and each quiz score up to the current lesson.  I'd want to use a list because I'm going to want to add quiz results every week and, occasionally, I might need to change a grade.\n",
        "\n",
        "Here's the data for one student..."
      ]
    },
    {
      "cell_type": "code",
      "metadata": {
        "id": "aQk7obO9xEZP"
      },
      "source": [
        "student = [ 'Sara', 95, 100, 90 ]\n",
        "print(student)"
      ],
      "execution_count": null,
      "outputs": []
    },
    {
      "cell_type": "markdown",
      "metadata": {
        "id": "RKIPg3wlxPCQ"
      },
      "source": [
        "\n",
        "But we have many students, so I need to store one instance of that list for every student.\n",
        "That collection also needs to be mutable, because I may need to add or delete students over time.\n",
        "\n",
        "This seems like a job for a list of lists, like this one..."
      ]
    },
    {
      "cell_type": "code",
      "metadata": {
        "id": "tKC1Z7_IxT1-"
      },
      "source": [
        "students = [\n",
        "    [ 'Sara', 95, 100, 90 ],\n",
        "    [ 'Mary', 90, 95, 100 ],\n",
        "    [ 'Marc', 85, 90 ]\n",
        "]\n",
        "print(students)"
      ],
      "execution_count": null,
      "outputs": []
    },
    {
      "cell_type": "code",
      "metadata": {
        "id": "kzZBt2FbKeZ9"
      },
      "source": [
        "x = ['marc']\n",
        "y = (1, 2, x)\n",
        "\n",
        "print(y)\n",
        "print(y[2])\n",
        "y[2] = 12\n",
        "y[2].append('Maya')\n",
        "print(y)\n"
      ],
      "execution_count": null,
      "outputs": []
    },
    {
      "cell_type": "markdown",
      "metadata": {
        "id": "zkgWQAsvyYY5"
      },
      "source": [
        "We can access a sublist, i.e. one of the lists in this list of lists, like this..."
      ]
    },
    {
      "cell_type": "code",
      "metadata": {
        "id": "9qt-uYkwxofN"
      },
      "source": [
        "students = [\n",
        "    [ 'Sara', 95, 100, 90 ],\n",
        "    [ 'Mary', 90, 95, 100 ]\n",
        "]\n",
        "student = students[0] # get data for Mary\n",
        "print(student)"
      ],
      "execution_count": null,
      "outputs": []
    },
    {
      "cell_type": "markdown",
      "metadata": {
        "id": "XwFWi244x0LX"
      },
      "source": [
        "We can access an element of a sublist, like this..."
      ]
    },
    {
      "cell_type": "code",
      "metadata": {
        "id": "dkhmP_rBx2WM"
      },
      "source": [
        "# get Mary's second test score\n",
        "students = [\n",
        "    [ 'Sara', 95, 100, 90 ],\n",
        "    [ 'Mary', 90, 95, 100 ]\n",
        "]\n",
        "score = students[1][2]\n",
        "print(score)"
      ],
      "execution_count": null,
      "outputs": []
    },
    {
      "cell_type": "markdown",
      "metadata": {
        "id": "RACv6UKsytmK"
      },
      "source": [
        "Let's now generate a table of average scores for each student, effectively each student's final grade..."
      ]
    },
    {
      "cell_type": "code",
      "metadata": {
        "id": "DhX4TnL-kBBV"
      },
      "source": [
        "students = [\n",
        "    [ 'Sara', 95, 100, 90, 98, 95, 99, 93, 97 ],\n",
        "    [ 'Marc', 90, 95, 100, 90, 100, 93, 74 ],\n",
        "    [ 'Maya', 90, 80, 100, 99, 815]\n",
        "]\n",
        "#print(students)\n",
        "\n",
        "for student in students:\n",
        "  total = 0\n",
        "  count = len(student)\n",
        "  for score in student[1:]:\n",
        "    total += score\n",
        "  average = total / (count - 1)\n",
        "  print(student[0], average)"
      ],
      "execution_count": null,
      "outputs": []
    },
    {
      "cell_type": "markdown",
      "metadata": {
        "id": "Qutim0GBealC"
      },
      "source": [
        "# Dictionaries"
      ]
    },
    {
      "cell_type": "markdown",
      "metadata": {
        "id": "a815xmQ8f9Hz"
      },
      "source": [
        "A dictionary is an organized collection of key/value pairs.\n",
        "The data is organized for quick access via the key, somewhat like a real dictionary, where words are the keys and their definitions are the associated values.\n",
        "\n",
        "Dictionaries are defined using curly braces with key:value pairs separated by commas, like this:\n",
        "```\n",
        "websites = {\n",
        "  'google': 'https://google.com',\n",
        "  'youtube': 'https://youtube.com',\n",
        "  'baidu': 'https://baidu.com',\n",
        "}\n",
        "```\n",
        "\n",
        "This data type is known by various names in other languages:\n",
        "- map (C++)\n",
        "- hashmap (Java)\n",
        "- associative array (generic term)\n",
        "\n",
        "This object type is extremely powerful for representing indexed data. The keys in a dictionary are arranged to facilitate fast lookup by key value.\n",
        "- They are optimized for direct, not sequential, access\n",
        "- There is no implied order of keys or values\n",
        "- You can't index a dictionary by position\n",
        "- But you can index dictionaries by key value, as we’ll see\n",
        "- You can't take slices of a dictionary\n",
        "- Dictionaries are mutable, like lists, they can grow, shrink, or change over time\n",
        "\n",
        "- Dictionary keys must be immutable (e.g., string, number, tuple) because changing keys on the fly would confuse the dictionary.\n",
        "- Dictionary values can have any type (mutable or immutable).\n",
        "\n",
        "[Dictionary documentation](https://docs.python.org/3/library/stdtypes.html#mapping-types-dict)\n"
      ]
    },
    {
      "cell_type": "markdown",
      "metadata": {
        "id": "lidzOmOdgZ1j"
      },
      "source": [
        "## Dictionary Operations\n"
      ]
    },
    {
      "cell_type": "code",
      "metadata": {
        "id": "I7K5Shw6funP"
      },
      "source": [
        "# Create an empty dictionary (use curly braces instead of parens or square brackets)\n",
        "grades = {}\n",
        "print(grades)"
      ],
      "execution_count": null,
      "outputs": []
    },
    {
      "cell_type": "code",
      "metadata": {
        "id": "2NIXBuQXf5Zi"
      },
      "source": [
        "# Create and initialize a dictionary\n",
        "grades = { 'Sara' : 95, 'Mary': 100 }\n",
        "print(grades)"
      ],
      "execution_count": null,
      "outputs": []
    },
    {
      "cell_type": "code",
      "metadata": {
        "id": "mGtQ2thnf9xX"
      },
      "source": [
        "# If the same key occurs multiple times, python only keeps the last value\n",
        "x = { 'a' : 1, 'a' : 2 }\n",
        "print(x)\n"
      ],
      "execution_count": null,
      "outputs": []
    },
    {
      "cell_type": "code",
      "metadata": {
        "id": "fq2dZdklSjIY"
      },
      "source": [
        "# but the same value may appear any number of times.\n",
        "x = { 'a' : 1, 'b' : 1 }\n",
        "print(x)"
      ],
      "execution_count": null,
      "outputs": []
    },
    {
      "cell_type": "code",
      "metadata": {
        "id": "tB32mA1mgG8d"
      },
      "source": [
        "# Get the size of a dictionary (returns number of key/value pairs)\n",
        "grades = { 'Sara' : 95, 'Mary': 100 }\n",
        "print(len(grades))"
      ],
      "execution_count": null,
      "outputs": []
    },
    {
      "cell_type": "code",
      "metadata": {
        "id": "f-xpYZw6gKAg"
      },
      "source": [
        "# Retrieve the value associated with a given key\n",
        "grades = { 'Sara' : 95, 'Mary': 100 }\n",
        "grade = grades['Sara']\n",
        "print(grade)"
      ],
      "execution_count": null,
      "outputs": []
    },
    {
      "cell_type": "code",
      "metadata": {
        "id": "WuBLq6qagPY6"
      },
      "source": [
        "# The value inside the square brackets may be a literal, a variable or any\n",
        "# arbitrary expression. Similar syntax to list/tuple indexing but key based,\n",
        "# not positional.\n",
        "grades = { 'Sara' : 95, 'Mary': 100 }\n",
        "# Attempting to retrieve a non-existent key causes an error\n",
        "x = 'Sara'\n",
        "grades[x]"
      ],
      "execution_count": null,
      "outputs": []
    },
    {
      "cell_type": "code",
      "metadata": {
        "id": "L84ooapvgjWL"
      },
      "source": [
        "grades = { 'Sara' : 95, 'Mary': 100 }\n",
        "# play it safe by testing for key existence before access\n",
        "grade = grades[student]\n",
        "if student in grades:\n",
        "  grade = grades[student]\n",
        "  print('grade for', student, 'is', grade)\n",
        "else:\n",
        "  print('student', student, 'not found')\n",
        "\n",
        "# When used with dictionaries, the in operator only checks the existence\n",
        "# of keys, not values. You can also use “not in” to test for non-existence\n",
        "# of a key."
      ],
      "execution_count": null,
      "outputs": []
    },
    {
      "cell_type": "code",
      "metadata": {
        "id": "4DdUyr4-hAO6"
      },
      "source": [
        "grades = { 'Sara' : 95, 'Mary': 100, 'Marc': 35 }\n",
        "# loop through a dictionary (this iterates over the dictionary keys)\n",
        "for i in grades:\n",
        "    print(i, grades[i])"
      ],
      "execution_count": null,
      "outputs": []
    },
    {
      "cell_type": "code",
      "metadata": {
        "id": "rj0K9P4bhB93"
      },
      "source": [
        "grades = { 'Sara' : 95, 'Mary': 100, 'Marc': 35 }\n",
        "# By default, the keys will appear in random order. You can iterate keys in order by sorting them first:\n",
        "for i in sorted(grades):\n",
        "    print(i, grades[i])"
      ],
      "execution_count": null,
      "outputs": []
    },
    {
      "cell_type": "markdown",
      "metadata": {
        "id": "3SCZ3NtJvHF8"
      },
      "source": [
        "## Dictionaries are Mutable"
      ]
    },
    {
      "cell_type": "code",
      "metadata": {
        "id": "vxNJnz5fhWt8"
      },
      "source": [
        "grades = { 'Sara' : 95, 'Mary': 100 }\n",
        "print('before:', grades)\n",
        "#Add a key/value pair\n",
        "grades['Marc'] = None # new, no grade yet\n",
        "print('after:', grades)"
      ],
      "execution_count": null,
      "outputs": []
    },
    {
      "cell_type": "code",
      "metadata": {
        "id": "X9FGHjTwhY3x"
      },
      "source": [
        "grades = { 'Sara' : 95, 'Mary': 100, 'Marc': None }\n",
        "print('before:', grades)\n",
        "grades['Marc'] = 80 # grade recorded\n",
        "print('after1:', grades)\n",
        "grades['Marc'] += 5 # increment Marc's grade\n",
        "print('after2:', grades)\n",
        "grades['Marc'] += 5 # increment Marc's grade\n",
        "print('after2:', grades)"
      ],
      "execution_count": null,
      "outputs": []
    },
    {
      "cell_type": "code",
      "metadata": {
        "id": "ctA4H3MXhbOY"
      },
      "source": [
        "grades = { 'Sara' : 95, 'Mary': 100, 'Marc': 85 }\n",
        "# delete a key/value pair\n",
        "del grades['Marc'] # Fred dropped the course\n",
        "print(grades)\n"
      ],
      "execution_count": null,
      "outputs": []
    },
    {
      "cell_type": "code",
      "metadata": {
        "id": "kaXwTSZr8PVa"
      },
      "source": [
        "grades = { 'Sara' : 95, 'Mary': 100, 'Marc': 85 }\n",
        "# Trying to delete a key that doesn't exist will cause a runtime error.\n",
        "del grades['Fred']"
      ],
      "execution_count": null,
      "outputs": []
    },
    {
      "cell_type": "markdown",
      "metadata": {
        "id": "4Luh_ie4gvHg"
      },
      "source": [
        "## Nested Dictionaries\n",
        "Just like we can have nested if statements, nested loops, nested tuples, and nested lists, we can also have nested dictionaries.\n",
        "- dictionary of tuples:  ```{'key1': (1,2), 'key2': (3,4)}```\n",
        "- dictionary of lists:  ```{'key1': [1,2], 'key2': [3,4]}```\n",
        "- dictionary of dictionaries:\n",
        "```\n",
        "{\n",
        "    'key1' : {\n",
        "      'key1' : [1, 2],\n",
        "      'key2' : [3, 4]\n",
        "    }\n",
        "    'key2' : {\n",
        "      'key1' : [1, 2],\n",
        "      'key2' : [3, 4]  \n",
        "    }\n",
        "}\n",
        "```\n",
        "This can get arbitrarily complex (dictionaries of lists of tuples of dictionaries of...).\n",
        "\n",
        "Once again, imagine I want to maintain a list of students and their quiz scores. If I think about just one particular student, I might like to store the student's name and each quiz score up to the current lesson. I need a mutable sequence (i.e. a list) because I'm going to want to add quiz results every week, like this:\n",
        "```\n",
        "student = [ 'Jeff', 95, 100, 90 ]\n",
        "```\n",
        "Even more convenient would be to organize the test scores by student name that way I can efficiently find any given student's scores by their name (i.e. by indexing on the dictionary key).\n",
        "\n",
        "This leads us to a dictionary of lists:\n",
        "```\n",
        "grades = {\n",
        "           'Sara' : [95, 100, 90],\n",
        "           'Mary' : [90, 95, 100]\n",
        "         }\n",
        "```\n",
        "To add a student:\n",
        "```\n",
        "grades[student] = []\n",
        "```\n",
        "To delete a student:\n",
        "```\n",
        "del grades[student]\n",
        "```\n",
        "To add a new score for a student:\n",
        "```\n",
        "grades[student].append(new_score)\n",
        "```\n",
        "To replace the 2nd quiz score for a student:\n",
        "```\n",
        "grades[student][1] = new_score\n",
        "```\n"
      ]
    },
    {
      "cell_type": "markdown",
      "metadata": {
        "id": "YRZI1Ve7zUJw"
      },
      "source": [
        "## Rule of thumb for truth value of tuples, lists, and dictionaries\n",
        "\n",
        "All of these objects may be used as boolean values. The rules for converting a tuple, list, or map into a boolean value are as follows:\n",
        "- if the object is empty, it evaluates to False\n",
        "- if the object is non-empty, it evaluates to True"
      ]
    },
    {
      "cell_type": "code",
      "metadata": {
        "id": "1xaW489fbHTL"
      },
      "source": [
        "def empty(collection):\n",
        "  if collection:\n",
        "    return 'is NOT empty.'\n",
        "  else:\n",
        "    return 'is empty.'\n",
        "\n",
        "print('tuple test...')\n",
        "for i in (), (1,2,3), ('a', 1), (None,):\n",
        "  print(i, empty(i))"
      ],
      "execution_count": null,
      "outputs": []
    },
    {
      "cell_type": "code",
      "metadata": {
        "id": "xb_0X9Vw9AHZ"
      },
      "source": [
        "def empty(collection):\n",
        "  if collection:\n",
        "    return 'is NOT empty.'\n",
        "  else:\n",
        "    return 'is empty.'\n",
        "\n",
        "print('list test...')\n",
        "for i in [], [1,2,3], ['a', 1], [None]:\n",
        "  print(i, empty(i))\n"
      ],
      "execution_count": null,
      "outputs": []
    },
    {
      "cell_type": "code",
      "metadata": {
        "id": "knhDAp5E9Bs7"
      },
      "source": [
        "def empty(collection):\n",
        "  if collection:\n",
        "    return 'is NOT empty.'\n",
        "  else:\n",
        "    return 'is empty.'\n",
        "\n",
        "print('dictionary test...')\n",
        "for i in {}, {1: 2, 3: 4}, {'a':1, 'b':2, 'c':3}, {None:None}:\n",
        "  print(i, empty(i))"
      ],
      "execution_count": null,
      "outputs": []
    },
    {
      "cell_type": "markdown",
      "metadata": {
        "id": "mGfNQFRGUtYI"
      },
      "source": [
        "# Homework\n",
        "* Make a copy of this notebook (if you haven't already done so) and complete the challenges above. You can make a copy of this notebook by selecting File->Save a copy in Drive from the menu bar above.\n",
        "* Review your copy of this notebook.\n",
        "  * Complete the questions below.\n",
        "  * If something is unclear, experiment and see if you can understand it better.\n",
        "* For those who want to go deeper...\n",
        "  * Read [Chapter 12 - Web Scraping](https://automatetheboringstuff.com/2e/chapter12/) in our textbook to learn more about web scraping.\n"
      ]
    },
    {
      "cell_type": "markdown",
      "metadata": {
        "id": "Dd1FNOpnK0-D"
      },
      "source": [
        "##Question 1\n",
        "\n",
        "I have a list of things I need to buy from my supermarket of choice.\n",
        "\n",
        "I want to know what the first thing I need to buy is. However, when I run the program it shows me a different answer than what I was expecting. What is the mistake? Can you fix it in the cell below?"
      ]
    },
    {
      "cell_type": "code",
      "metadata": {
        "id": "jwspi3wlK356"
      },
      "source": [
        "shopping_list = [\n",
        "  \"oranges\",\n",
        "  \"cat food\",\n",
        "  \"sponge cake\",\n",
        "  \"long-grain rice\",\n",
        "  \"cheese board\",\n",
        "]\n",
        "\n",
        "print(shopping_list[1])"
      ],
      "execution_count": null,
      "outputs": []
    },
    {
      "cell_type": "code",
      "metadata": {
        "id": "314VvVKCMIzK",
        "cellView": "form"
      },
      "source": [
        "#@title Double click here to reveal solution\n",
        "\n",
        "print(shopping_list[0]) # because sequence indexes start with zero"
      ],
      "execution_count": null,
      "outputs": []
    },
    {
      "cell_type": "markdown",
      "metadata": {
        "id": "So9vQ1trLJLX"
      },
      "source": [
        "##Question 2\n",
        "\n",
        "I'm setting up my own market stall to sell chocolates. I need a basic till to check the prices of different chocolates that I sell. I've started the program and included the chocolates and their prices. Finish the program by asking\n",
        "the user to input an item and then output its price."
      ]
    },
    {
      "cell_type": "code",
      "metadata": {
        "id": "-8rQKJmiLSsa"
      },
      "source": [
        "chocolates = {\n",
        "  'white': 1.50,\n",
        "  'milk': 1.20,\n",
        "  'dark': 1.80,\n",
        "  'vegan': 2.00,\n",
        "}\n",
        "\n",
        "# Add your code here."
      ],
      "execution_count": null,
      "outputs": []
    },
    {
      "cell_type": "code",
      "metadata": {
        "id": "M_bufOMUMfxj",
        "cellView": "form"
      },
      "source": [
        "#@title Double click here to reveal solution\n",
        "\n",
        "chocolates = {\n",
        "  'white': 1.50,\n",
        "  'milk': 1.20,\n",
        "  'dark': 1.80,\n",
        "  'vegan': 2.00,\n",
        "}\n",
        "\n",
        "while True:\n",
        "  item = input(\"Enter the desired item (q to quit): \").lower()\n",
        "  if item == 'q':\n",
        "    break\n",
        "  if item in chocolates:\n",
        "    print('The price for {} chocolate is £{:.2f}.\\n'.format(item, chocolates[item]))\n",
        "  else:\n",
        "    print('Sorry, we don\\'t sell {} chocolate.\\n'.format(item))"
      ],
      "execution_count": null,
      "outputs": []
    },
    {
      "cell_type": "markdown",
      "metadata": {
        "id": "1jH-_bNlLcHc"
      },
      "source": [
        "##Question 3\n",
        "Write a program that simulates a lottery. The program should have a list of seven numbers that\n",
        "represent a lottery ticket. It should then generate seven random numbers. After comparing the two\n",
        "sets of numbers, the program should output a prize based on the number of matches:\n",
        "- £20 for three matching numbers\n",
        "- £40 for four matching numbers\n",
        "- £100 for five matching numbers\n",
        "- £10000 for six matching numbers\n",
        "- £1000000 for seven matching numbers"
      ]
    },
    {
      "cell_type": "code",
      "metadata": {
        "id": "rXOX2g4-Ll-9"
      },
      "source": [
        "# Add your code here"
      ],
      "execution_count": null,
      "outputs": []
    },
    {
      "cell_type": "code",
      "metadata": {
        "id": "-DTi8KY4O95w",
        "cellView": "form"
      },
      "source": [
        "#@title Double click here to reveal solution.\n",
        "\n",
        "import random\n",
        "my_numbers = random.choices(range(1, 99), k=7)\n",
        "print('your numbers are: ', my_numbers)\n",
        "winning_numbers = random.choices(range(1, 99), k=7)\n",
        "print('winning numbers are: ', winning_numbers)\n",
        "\n",
        "hits = 0\n",
        "for i in my_numbers:\n",
        "  if i in winning_numbers:\n",
        "    hits += 1  # shorthand for hits = hits + 1\n",
        "\n",
        "prizes = {\n",
        "  3: 20,\n",
        "  4: 40,\n",
        "  5: 100,\n",
        "  6: 10000,\n",
        "  7: 1000000\n",
        "}\n",
        "\n",
        "if hits in prizes:\n",
        "  print('** You matched {} numbers and won £{}! **'.format(hits, prizes[hits]))\n",
        "else:\n",
        "  print('Sorry, no prize won, better luck next time!')"
      ],
      "execution_count": null,
      "outputs": []
    },
    {
      "cell_type": "markdown",
      "metadata": {
        "id": "dRrZ0vmT-a_x"
      },
      "source": [
        "## Question 5\n",
        "- See if you can run the programs you wrote above in the **Mu** editor on your own computer."
      ]
    },
    {
      "cell_type": "markdown",
      "metadata": {
        "id": "iT2xKwolaXTh"
      },
      "source": [
        "## Question 6\n",
        "- Combine the step 1 framework with the `get_new_articles()` function in our shared project and test the combination.\n",
        "- Try running this program locally in Mu."
      ]
    },
    {
      "cell_type": "markdown",
      "source": [
        "[Previous Lesson](https://pylearn.io/lessons/6-Functions/)\n",
        "&nbsp;&nbsp;&nbsp;&nbsp;&nbsp;&nbsp;&nbsp;&nbsp;&nbsp;&nbsp;\n",
        "[Next Lesson](https://pylearn.io/lessons/8-Files/)"
      ],
      "metadata": {
        "id": "PN21Jw9dPtWU"
      }
    }
  ]
}