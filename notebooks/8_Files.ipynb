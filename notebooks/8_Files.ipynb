{
  "nbformat": 4,
  "nbformat_minor": 0,
  "metadata": {
    "colab": {
      "provenance": [],
      "collapsed_sections": [
        "7B_-CpRRW4Zd",
        "P6P3zDTvqWEQ",
        "tHNQetrCqjyS",
        "luou2DhzqwmQ",
        "04wFTm2Yr7OM",
        "d1TP0lgCr86P",
        "e2ZKnr8r9QFJ",
        "PErIkm1Hr_ES",
        "BJBKvnizsYh1",
        "gyj4EbFnsEx_",
        "ae2N-rAzsKpN",
        "bTxhK0WksPeg",
        "6hpeKH3tsxZS",
        "aI8QLb28PQRu",
        "OQdffMStfFS0",
        "Rpn2Dq5fer0h",
        "o8R0bgA8gEUw",
        "hP01xLLPg3na",
        "Dd1FNOpnK0-D",
        "So9vQ1trLJLX",
        "1jH-_bNlLcHc",
        "dRrZ0vmT-a_x",
        "iT2xKwolaXTh",
        "MOLj4RHtmjpf"
      ],
      "authorship_tag": "ABX9TyM7eHpfGC/BnU38K/UAeoFL",
      "include_colab_link": true
    },
    "kernelspec": {
      "name": "python3",
      "display_name": "Python 3"
    }
  },
  "cells": [
    {
      "cell_type": "markdown",
      "metadata": {
        "id": "view-in-github",
        "colab_type": "text"
      },
      "source": [
        "<a href=\"https://colab.research.google.com/github/mco-gh/pylearn/blob/master/notebooks/8_Files.ipynb\" target=\"_parent\"><img src=\"https://colab.research.google.com/assets/colab-badge.svg\" alt=\"Open In Colab\"/></a>"
      ]
    },
    {
      "cell_type": "markdown",
      "metadata": {
        "id": "7B_-CpRRW4Zd"
      },
      "source": [
        "# Lesson 8 - Files\n",
        "\n",
        "**Reading & Writing Files, Shared Project**\n",
        "\n",
        "Link to this notebook: [mco.fyi/py6](https://mco.fyi/py6)\n",
        "\n",
        "**Make a copy of this notebook by selecting File->Save a copy in Drive from the menu bar above.**\n",
        "\n",
        "Things you'll learn in this lesson:\n",
        "- todo"
      ]
    },
    {
      "cell_type": "markdown",
      "metadata": {
        "id": "P6P3zDTvqWEQ"
      },
      "source": [
        "# Reading and Writing Files"
      ]
    },
    {
      "cell_type": "markdown",
      "metadata": {
        "id": "tHNQetrCqjyS"
      },
      "source": [
        "## Our programs have amnesia\n",
        "- Program variables reside in memory,\n",
        "- and main memory is not persistent,\n",
        "- so when you terminate your program or you turn off your computer, your data disappears.\n",
        "- imagine having to re-enter your list of friends every time you used Facebook\n",
        "- so we'll need a way to store and retrieve things\n",
        "\n"
      ]
    },
    {
      "cell_type": "markdown",
      "metadata": {
        "id": "luou2DhzqwmQ"
      },
      "source": [
        "## Storage Tradeoffs\n",
        "- there are two kinds of storage in your computer\n",
        "  - main memory, aka RAM, is fast, but transient (like human memory)\n",
        "  - disk storage is slow(er), but permanent (like a notebook) and higher capacity\n",
        "- all the things we've worked with so far (variables, functions, expressions) reside in main memory\n",
        "- we'll save information across program executions using disk storage in units we call files"
      ]
    },
    {
      "cell_type": "markdown",
      "metadata": {
        "id": "04wFTm2Yr7OM"
      },
      "source": [
        "## What is a file anyway?\n",
        "- a named chunk of persistent disk storage is called a `file`\n",
        "- files are organized into hierarchical structures, called directories or folders\n",
        "- examples...\n",
        "  - Windows:  `c:\\Users\\marccohen\\my_fave_movies.md`\n",
        "  - Mac/Linux: `/Users/marccohen/my_fave_movies.md`\n",
        "- `path` is the location, e.g. `c:\\Users\\marccohen\\`\n",
        "  - it's the \"where\"\n",
        "- `filename` is the name, e.g. `my_fave_movies.md`\n",
        "  - it's the \"which\"\n",
        "  \n",
        "```\n",
        "Queen Elizabeth   -----> the which\n",
        "Buckingham Palace \\\n",
        "London, England    |---> the where\n",
        "SW1A 1AA.         /\n",
        "```"
      ]
    },
    {
      "cell_type": "markdown",
      "metadata": {
        "id": "d1TP0lgCr86P"
      },
      "source": [
        "## Opening a File\n",
        "- Before you can read or write a file, you need to open it\n",
        "- Use the `open()` function\n",
        "- prototype: `variable = open(filename, mode)`\n",
        "- example: `file = open(\"myfile\", \"r\")`\n",
        "- the first argument is a file specificaton, which can include a path or not\n",
        "- if no path provided, the filename is assumed to reside in the \"current directory\"\n",
        "- we'll cover the second argument in the next cell\n",
        "- open returns a special type, called a file object, which is used for subsequent operations on the file\n"
      ]
    },
    {
      "cell_type": "markdown",
      "metadata": {
        "id": "e2ZKnr8r9QFJ"
      },
      "source": [
        "## File Access Modes\n",
        "Mode|Description|access|if file exists...|if file doesn't exist...\n",
        "----|-----------|------|-----------------|------------------------\n",
        "\"r\"|read from a file|read|open file|generate error\n",
        "\"w\"|write to a file|write|overwrite & open|create file & open\n",
        "\"a\"|append to a file|write|open for append|create file & open\n",
        "\"r+\"|read/write from/to a file|read/write|open file|generate error\n",
        "\"w+\"|write/read from/to a file|read/write|overwrite & open|create file & open\n",
        "\"a+\"|append/read a text file|read/write|open for append|create file & open\n"
      ]
    },
    {
      "cell_type": "markdown",
      "metadata": {
        "id": "PErIkm1Hr_ES"
      },
      "source": [
        "## Closing a File\n",
        "- the opposite of `open()` is `close()`\n",
        "- when you're done working with a file, you should close it\n",
        "- closing a file cleans up the loose ends\n",
        "- `close()` is a method of the file object\n",
        "- example: `file.close()`\n"
      ]
    },
    {
      "cell_type": "markdown",
      "metadata": {
        "id": "BJBKvnizsYh1"
      },
      "source": [
        "## Writing to a File\n",
        "- `file.write('this is a line of text\\n')`\n",
        "- file must have been opened with write access\n",
        "- writes the passed string into the file\n",
        "- you have to include newline characters where you want them, otherwise subsequent write calls will build one long line\n",
        "- writes may not be visible until you close the file\n"
      ]
    },
    {
      "cell_type": "code",
      "metadata": {
        "id": "Au_qZbbg-3X4"
      },
      "source": [
        "f = open('test.txt', 'w')\n",
        "f.write('This is my test file.\\n')\n",
        "for i in range(10):\n",
        "  f.write('line number ' + str(i) + '\\n')\n",
        "f.close()\n"
      ],
      "execution_count": null,
      "outputs": []
    },
    {
      "cell_type": "markdown",
      "metadata": {
        "id": "gyj4EbFnsEx_"
      },
      "source": [
        "## Reading From a File\n",
        "- `mystr = file.read()`\n",
        "- file must have been opened with read access\n",
        "- reads the entire file into memory\n",
        "- the result is returned in a string\n",
        "- you can pass an argument to limit how many characters are read"
      ]
    },
    {
      "cell_type": "code",
      "metadata": {
        "id": "Hqn_cg25_rke"
      },
      "source": [
        "f = open('test.txt', 'r')\n",
        "s = f.read()\n",
        "f.close()\n",
        "print(s)"
      ],
      "execution_count": null,
      "outputs": []
    },
    {
      "cell_type": "markdown",
      "metadata": {
        "id": "ae2N-rAzsKpN"
      },
      "source": [
        "## Reading a file iteratively\n",
        "- `for line in file:`\n",
        "- this iterates over the lines in a file\n",
        "- each iteration of the loop reads a line from the file and sets the loop variable (line, in this case) to the string value of each line in the file\n",
        "- the string includes the trailing newline\n",
        "- this is a very handy way of processing a text file one line at a time\n",
        "- also space-efficient because it only needs to store one line at a time in main memory\n"
      ]
    },
    {
      "cell_type": "code",
      "metadata": {
        "id": "VG1C_VlWOgAX"
      },
      "source": [
        "! cat test.txt\n"
      ],
      "execution_count": null,
      "outputs": []
    },
    {
      "cell_type": "code",
      "metadata": {
        "id": "sjGOS9-dAb6F"
      },
      "source": [
        "#myfile = open('test.txt', 'r')\n",
        "for text in myfile:\n",
        "  print(text, end='')\n",
        "myfile.close()\n"
      ],
      "execution_count": null,
      "outputs": []
    },
    {
      "cell_type": "markdown",
      "metadata": {
        "id": "bTxhK0WksPeg"
      },
      "source": [
        "## The `with` Statement\n",
        "\n",
        "- automatically ensures files get closed (and other resoures get cleaned up)\n",
        "- without the `with` statement...\n",
        "```\n",
        "file = open('file_path', 'w')\n",
        "file.write('Hello world!')\n",
        "file.close()\n",
        "```\n",
        "- using the `with` statement...\n",
        "```\n",
        "with open('file_path', 'w') as file:\n",
        "    file.write('Hello world!')\n",
        "```"
      ]
    },
    {
      "cell_type": "code",
      "metadata": {
        "id": "lDgRM7_5A2m2"
      },
      "source": [
        "with open('test.txt', 'r') as f:\n",
        "  for line in f:\n",
        "    print(line)"
      ],
      "execution_count": null,
      "outputs": []
    },
    {
      "cell_type": "markdown",
      "metadata": {
        "id": "6hpeKH3tsxZS"
      },
      "source": [
        "## Summary of File Functions and Methods\n",
        "- `open()` - open a file\n",
        "- `close()` - close a file\n",
        "- `read(n)` - read up to n chars from current position to end of file and return in a string. if n not provided, read all chars from current position to end of file.\n",
        "- `readlines()` - read all remaining lines in a file and return in a list of strings.\n",
        "- `write(s)` - write string s to a file\n",
        "- `writelines(list)` - write the strings in the passed list to a file\n"
      ]
    },
    {
      "cell_type": "markdown",
      "metadata": {
        "id": "aI8QLb28PQRu"
      },
      "source": [
        "# When you run a cell in a notebook, where does it actually run?\n"
      ]
    },
    {
      "cell_type": "markdown",
      "metadata": {
        "id": "0cGVYia0DGx9"
      },
      "source": [
        "\n",
        "<img src=\"https://lh3.googleusercontent.com/LWgdIXTXW6nO0Wi5rGpEJoZ5Hd4EtXq8gm55_wyfIcfZOs07paFyWlrlFUyl9bRCKFKpS_I3nP6O4CN8vXwWG0bV2XtAUH4X2PRWiQ=w1200-l80-sg-rj-c0xffffff\">\n",
        "\n",
        "[Learn more.](https://www.google.com/about/datacenters/)"
      ]
    },
    {
      "cell_type": "markdown",
      "metadata": {
        "id": "AD8SP4OeFMie"
      },
      "source": [
        "\n",
        "<img src=\"https://docs.google.com/drawings/d/e/2PACX-1vQh48LKMQ7Y4bNewgnLj2a429ZjV4yFS2ghfKXiK1Wn1skq5JH1sMGtrGaU7MYPkN_m-bXCRWqSZpB-/pub?w=1440&h=1080\">\n",
        "\n",
        "\n"
      ]
    },
    {
      "cell_type": "markdown",
      "metadata": {
        "id": "FBodkyBbekma"
      },
      "source": [
        "# Let's do a project together"
      ]
    },
    {
      "cell_type": "markdown",
      "metadata": {
        "id": "OQdffMStfFS0"
      },
      "source": [
        "## Problem Statement\n",
        "Enable people to automatically find articles of interest from their favorite news sites."
      ]
    },
    {
      "cell_type": "markdown",
      "metadata": {
        "id": "Rpn2Dq5fer0h"
      },
      "source": [
        "## Requirements\n",
        "\n",
        "### Must...\n",
        "- maintain a configurable list of target websites\n",
        "- support a per-user configurable list of topics of interest\n",
        "- keep track of what we've already seen\n",
        "- must be automated, no manual steps other than running the app\n",
        "- must present results via web app\n",
        "\n",
        "### Should\n",
        "- should be able to automatically and regularly run app on a scheduled basis\n",
        "- should provide ability to send daily summaries by email\n",
        "- should provide a more sophisticated way of gauging interest than topic enumeration (e.g. machine learning)\n",
        "- should run in the cloud\n"
      ]
    },
    {
      "cell_type": "markdown",
      "metadata": {
        "id": "o8R0bgA8gEUw"
      },
      "source": [
        "## Problem Decomposition\n",
        "- we can follow a pattern that many data science projects use\n",
        "```\n",
        "gather => format => model => report\n",
        "```\n",
        "\n",
        "1. **gather** - data acquisition, getting your hands on the data you care about\n",
        "1. **format** - data engineering, convert the data into a format you can use\n",
        "1. **model** - data modeling, build prediction and/or classification model(s) to categorize and assess discovered data\n",
        "1. **report** - present the insights visually and/or analytically"
      ]
    },
    {
      "cell_type": "markdown",
      "metadata": {
        "id": "hP01xLLPg3na"
      },
      "source": [
        "## Step 1 - Gather\n",
        "\n",
        "Given a list of websites, gather all available articles."
      ]
    },
    {
      "cell_type": "markdown",
      "metadata": {
        "id": "0mFxWXro9i_E"
      },
      "source": [
        "## Can we reuse some code?\n",
        "\n",
        "Yes! We're going to use the [NewsCatcher API](https://github.com/kotartemiy/newscatcher), which is a Python library that claims to: *Programmatically collect normalized news from (almost) any website.*\n",
        "\n"
      ]
    },
    {
      "cell_type": "code",
      "metadata": {
        "id": "i-S1bWiguGOO"
      },
      "source": [
        "# Let's install it...\n",
        "!pip install newscatcher"
      ],
      "execution_count": null,
      "outputs": []
    },
    {
      "cell_type": "code",
      "metadata": {
        "id": "i3XEoLdxuQVt"
      },
      "source": [
        "# Let's try it out...\n",
        "from newscatcher import Newscatcher\n",
        "nc = Newscatcher(website='theguardian.com')\n",
        "results = nc.get_news()\n",
        "print(type(results))\n",
        "print(results.keys())\n",
        "print(results)"
      ],
      "execution_count": null,
      "outputs": []
    },
    {
      "cell_type": "code",
      "metadata": {
        "id": "SKTQc5BJflBY"
      },
      "source": [
        "# Find out how many websites are supported...\n",
        "from newscatcher import urls\n",
        "sites = urls()\n",
        "print('number of sites supported:', len(sites))\n",
        "unique_sites = set(sites)\n",
        "print('unique sites:', len(unique_sites))"
      ],
      "execution_count": null,
      "outputs": []
    },
    {
      "cell_type": "code",
      "metadata": {
        "id": "HaBfZZQzZqk5"
      },
      "source": [
        "# Get some articles...\n",
        "nc = Newscatcher(website='theguardian.com')\n",
        "results = nc.get_news()\n",
        "articles = results['articles']\n",
        "print(type(articles))\n",
        "print('number of articles:', len(articles))\n",
        "print('article keys:', articles[0].keys())\n",
        "print()\n",
        "\n",
        "cnt = 1\n",
        "for i in articles:\n",
        "  id = i['id']\n",
        "  title = i['title']\n",
        "  print(f'{cnt:2d}. {title:70.70s}  {id}')\n",
        "  cnt += 1"
      ],
      "execution_count": null,
      "outputs": []
    },
    {
      "cell_type": "code",
      "metadata": {
        "id": "W-unBdNHLXuU"
      },
      "source": [
        "# List topics...\n",
        "from newscatcher import describe_url\n",
        "describe = describe_url('nytimes.com')\n",
        "print(describe['topics'])\n",
        "describe = describe_url('fivethirtyeight.com')\n",
        "print(describe['topics'])"
      ],
      "execution_count": null,
      "outputs": []
    },
    {
      "cell_type": "code",
      "metadata": {
        "id": "3ETfEP4VeMLD"
      },
      "source": [
        "# Get articles with a specific topic...\n",
        "nc = Newscatcher(website='fivethirtyeight.com', topic='science')\n",
        "results = nc.get_news()\n",
        "articles = results['articles']\n",
        "\n",
        "cnt = 1\n",
        "for i in articles:\n",
        "  id = i['id']\n",
        "  title = i['title']\n",
        "  print(f'{cnt:2d}. {title:70.70s}  {id}')\n",
        "  cnt += 1"
      ],
      "execution_count": null,
      "outputs": []
    },
    {
      "cell_type": "code",
      "metadata": {
        "id": "Z2nFn5G47Mkf"
      },
      "source": [
        "# Function to get articles from a given site with a given topic...\n",
        "def get_new_articles(site, topic):\n",
        "  nc = Newscatcher(website=site, topic=topic)\n",
        "  results = nc.get_news()\n",
        "  # Return the articles\n",
        "  if results:\n",
        "    if 'articles' in results:\n",
        "      return results['articles']\n",
        "  return None\n",
        "\n",
        "# Function to display articles from a set of results...\n",
        "def display(articles):\n",
        "  cnt = 1\n",
        "  for i in articles:\n",
        "    id = i['id']\n",
        "    title = i['title']\n",
        "    print(f'{cnt:2d}. {title:70.70s}  {id}')\n",
        "    cnt += 1"
      ],
      "execution_count": null,
      "outputs": []
    },
    {
      "cell_type": "code",
      "metadata": {
        "id": "LZIc2mlQkaFQ"
      },
      "source": [
        "results = get_new_articles('nytimes.com', 'food')\n",
        "display(results)"
      ],
      "execution_count": null,
      "outputs": []
    },
    {
      "cell_type": "code",
      "metadata": {
        "id": "25AytnxyNNge"
      },
      "source": [
        "# Let define some selection criteria...\n",
        "\n",
        "# sites of interest\n",
        "sites = [\n",
        "  'nytimes.com',\n",
        "  'washingtonpost.com',\n",
        "  'theguardian.com',\n",
        "  'si.com',\n",
        "]\n",
        "\n",
        "# topics of interest\n",
        "topics = [\n",
        "  'politics',\n",
        "  'tech',\n",
        "  'business',\n",
        "  'sport',\n",
        "]\n",
        "\n",
        "print('sites:', sites)\n",
        "print('topics:', topics)"
      ],
      "execution_count": null,
      "outputs": []
    },
    {
      "cell_type": "code",
      "metadata": {
        "id": "8hwNJWF8kmgz"
      },
      "source": [
        "all_articles = []\n",
        "for i in sites:\n",
        "  tmp = describe_url(i)\n",
        "  topic_list = tmp['topics']\n",
        "  for j in topics:\n",
        "    print(f'site: {i:20.20s}  topic: {j:20.20s}', end='')\n",
        "    if j not in topic_list:\n",
        "      print('topic not available')\n",
        "      continue\n",
        "    articles = get_new_articles(i, j)\n",
        "    print(len(articles))\n",
        "    all_articles += articles\n",
        "\n",
        "#display(all_articles)"
      ],
      "execution_count": null,
      "outputs": []
    },
    {
      "cell_type": "code",
      "metadata": {
        "id": "3WMGR8gjkiVV"
      },
      "source": [
        "def get_news(sites, topics):\n",
        "  all_articles = []\n",
        "  for i in sites:\n",
        "    topic_list = describe_url(i)['topics']\n",
        "    for j in topics:\n",
        "      if j not in topic_list:\n",
        "        continue\n",
        "      articles = get_new_articles(i, j)\n",
        "      all_articles += articles\n",
        "  return all_articles\n"
      ],
      "execution_count": null,
      "outputs": []
    },
    {
      "cell_type": "code",
      "metadata": {
        "id": "hScZbrfjlz68"
      },
      "source": [
        "results = get_news(['nytimes.com', 'washingtonpost.com'], topics)\n",
        "display(results)"
      ],
      "execution_count": null,
      "outputs": []
    },
    {
      "cell_type": "markdown",
      "metadata": {
        "id": "408GAs-8m6p7"
      },
      "source": [
        "# Lesson 6 Homework"
      ]
    },
    {
      "cell_type": "markdown",
      "metadata": {
        "id": "mGfNQFRGUtYI"
      },
      "source": [
        "\n",
        "* Make a copy of this notebook (if you haven't already done so) and complete the challenges above. You can make a copy of this notebook by selecting File->Save a copy in Drive from the menu bar above.\n",
        "* Review your copy of this notebook.\n",
        "  * Complete the questions below.\n",
        "  * If something is unclear, experiment and see if you can understand it better.\n",
        "* For those who want to go deeper...\n",
        "  * Read [Chapter 9 - Reading and Writing Files](https://automatetheboringstuff.com/2e/chapter9/) in our textbook to learn more about web scraping.\n"
      ]
    },
    {
      "cell_type": "markdown",
      "metadata": {
        "id": "Dd1FNOpnK0-D"
      },
      "source": [
        "##Question 1\n",
        "\n",
        "In the Mu IDE (or your chosen IDE if you use another one), write a function named `enumerate()` that takes a list of strings and enumerates them, i.e. it returns a list where each passed string is prefixe by a sequential number, starting at 1. For example...\n",
        "```\n",
        "li = ['test', 'another test', 'last test']\n",
        "results = enumerate(li)\n",
        "for i in results:\n",
        "  print(i)\n",
        "```\n",
        "\n",
        "should produce this output:\n",
        "```\n",
        "1. test\n",
        "2. another test\n",
        "3. last test\n"
      ]
    },
    {
      "cell_type": "markdown",
      "metadata": {
        "id": "So9vQ1trLJLX"
      },
      "source": [
        "##Question 2\n",
        "\n"
      ]
    },
    {
      "cell_type": "markdown",
      "metadata": {
        "id": "YahWsVEVSIO5"
      },
      "source": [
        "Download this file: `input.txt`. Using Mu, write a function called `read_file()` that takes one string argument, opens the named file, and uses a `for` loop to read each line of the file into a list of strings. Get rid of newlines at the end of each line using the `strip()` string method. Return the list of strings to the caller.\n",
        "\n",
        "For example:\n",
        "```\n",
        "results = read_file('input.txt')\n",
        "for i in results:\n",
        "  print(i)\n",
        "```\n",
        "should produce this output:\n",
        "```\n",
        "Four score and seven years ago our fathers brought forth on this continent, a new nation, conceived in Liberty,\n",
        "and dedicated to the proposition that all men are created equal.\n",
        "\n",
        "Now we are engaged in a great civil war, testing whether that nation, or any nation so conceived and so dedicated,\n",
        "can long endure. We are met on a great battle-field of that war. We have come to dedicate a portion of that field,\n",
        "as a final resting place for those who here gave their lives that that nation might live. It is altogether fitting\n",
        "and proper that we should do this.\n",
        "\n",
        "But, in a larger sense, we can not dedicate—we can not consecrate—we can not hallow—this ground. The brave men,\n",
        "living and dead, who struggled here, have consecrated it, far above our poor power to add or detract. The world\n",
        "will little note, nor long remember what we say here, but it can never forget what they did here. It is for us\n",
        "the living, rather, to be dedicated here to the unfinished work which they who fought here have thus far so nobly\n",
        "advanced. It is rather for us to be here dedicated to the great task remaining before us—that from these honored\n",
        "dead we take increased devotion to that cause for which they gave the last full measure of devotion—that we here\n",
        "highly resolve that these dead shall not have died in vain—that this nation, under God, shall have a new birth\n",
        "of freedom—and that government of the people, by the people, for the people, shall not perish from the earth.\n",
        "```"
      ]
    },
    {
      "cell_type": "markdown",
      "metadata": {
        "id": "1jH-_bNlLcHc"
      },
      "source": [
        "##Question 3\n",
        "Using Mu, write a function called write_file() that takes two arguments: a filename and a list of strings, opens the named file for write access and uses a `for` loop to write the list contents into the file, one string per line.\n",
        "\n",
        "For example:\n",
        "```\n",
        "li = ['test', 'another test', 'last test']\n",
        "write_file('output.txt', li)\n",
        "```\n",
        "Using your systems file explorer or command line, verify the file was created and has the expected contents. If you're not sure how to do that, you could also use your new `read_file()` function!"
      ]
    },
    {
      "cell_type": "markdown",
      "metadata": {
        "id": "dRrZ0vmT-a_x"
      },
      "source": [
        "## Question 4\n",
        "Now tie everything together by writing a program that reads the contents of `input.txt` (using `read_file()`), enumerates the lines found therein (using `enumerate()`, and writes the enumerated lines to `output.txt` (using `write_file()`)."
      ]
    },
    {
      "cell_type": "markdown",
      "metadata": {
        "id": "iT2xKwolaXTh"
      },
      "source": [
        "## Question 5\n",
        "Copy/paste the code from our newsfinder program to Mu and see if you can get it working locally, on your own computer. Play around with the sites and topics lists to customize the results to your own needs.\n",
        "\n",
        "**NOTE**: You will need to install two packages in Mu. Do this by clicking on the gear icon in the lower right corner, as shown here:\n",
        "\n",
        "<img src=\"https://mco.dev/img/mu1.png\">\n",
        "\n",
        "Enter the two required packages `feedparser==6.0.0` (two equal signs!) and `newscatcher`  into this dialog and click OK.\n",
        "\n",
        "<img src=\"https://mco.dev/img/mu2.png\">"
      ]
    },
    {
      "cell_type": "markdown",
      "metadata": {
        "id": "MOLj4RHtmjpf"
      },
      "source": [
        "# Next Week - Web Servers\n",
        "\n",
        "We're going to use files to keep track of which articles we've already seen and we're going to build a web user interface on top of our newsfinder program."
      ]
    }
  ]
}