{
  "nbformat": 4,
  "nbformat_minor": 0,
  "metadata": {
    "colab": {
      "provenance": [],
      "collapsed_sections": [
        "7B_-CpRRW4Zd",
        "P6P3zDTvqWEQ",
        "tHNQetrCqjyS",
        "luou2DhzqwmQ",
        "04wFTm2Yr7OM",
        "d1TP0lgCr86P",
        "e2ZKnr8r9QFJ",
        "PErIkm1Hr_ES",
        "BJBKvnizsYh1",
        "gyj4EbFnsEx_",
        "ae2N-rAzsKpN",
        "bTxhK0WksPeg",
        "6hpeKH3tsxZS",
        "aI8QLb28PQRu",
        "OQdffMStfFS0",
        "Rpn2Dq5fer0h",
        "o8R0bgA8gEUw",
        "hP01xLLPg3na",
        "Dd1FNOpnK0-D",
        "So9vQ1trLJLX",
        "1jH-_bNlLcHc",
        "dRrZ0vmT-a_x",
        "iT2xKwolaXTh",
        "MOLj4RHtmjpf"
      ],
      "toc_visible": true,
      "authorship_tag": "ABX9TyPjMVsmtKpXxk5l9OpsgSoJ",
      "include_colab_link": true
    },
    "kernelspec": {
      "name": "python3",
      "display_name": "Python 3"
    }
  },
  "cells": [
    {
      "cell_type": "markdown",
      "metadata": {
        "id": "view-in-github",
        "colab_type": "text"
      },
      "source": [
        "<a href=\"https://colab.research.google.com/github/mco-gh/pylearn/blob/master/notebooks/8_Files.ipynb\" target=\"_parent\"><img src=\"https://colab.research.google.com/assets/colab-badge.svg\" alt=\"Open In Colab\"/></a>"
      ]
    },
    {
      "cell_type": "markdown",
      "metadata": {
        "id": "7B_-CpRRW4Zd"
      },
      "source": [
        "# Notebook 8 - Files, Errors, and Exceptions\n",
        "\n",
        "**Make a copy of this notebook by selecting File->Save a copy in Drive from the menu bar above.**\n",
        "\n",
        "Things you'll learn in this lesson:\n",
        "- reading and writing files\n",
        "- exceptions and error handling strategies"
      ]
    },
    {
      "cell_type": "markdown",
      "source": [
        "[Previous Lesson](https://pylearn.io/lessons/7-Iterables/)\n",
        "&nbsp;&nbsp;&nbsp;&nbsp;&nbsp;&nbsp;&nbsp;&nbsp;&nbsp;&nbsp;\n",
        "[Next Lesson](https://pylearn.io/lessons/9-Project/)"
      ],
      "metadata": {
        "id": "PkzrinkZpPmR"
      }
    },
    {
      "cell_type": "markdown",
      "metadata": {
        "id": "P6P3zDTvqWEQ"
      },
      "source": [
        "## Reading and Writing Files"
      ]
    },
    {
      "cell_type": "markdown",
      "metadata": {
        "id": "tHNQetrCqjyS"
      },
      "source": [
        "### Our programs have amnesia\n",
        "- Program variables reside in memory, and main memory is not persistent, so when you close a notebook, or terminate a program running locally, your data disappears.\n",
        "- Imagine having to re-enter your contact list every time you use your phone.\n",
        "- We'll need a way to store and retrieve data.\n",
        "\n"
      ]
    },
    {
      "cell_type": "markdown",
      "metadata": {
        "id": "luou2DhzqwmQ"
      },
      "source": [
        "### Storage Tradeoffs\n",
        "- There are two kinds of storage in your computer:\n",
        "  - main memory is fast, but transient (like human memory)\n",
        "  - disk storage is slow(er), but permanent (like a notebook) and higher capacity\n",
        "- All the things we've worked with so far (variables, functions, program statements) reside in main memory.\n",
        "- We'll save information across program executions using disk storage in units we call files."
      ]
    },
    {
      "cell_type": "markdown",
      "metadata": {
        "id": "04wFTm2Yr7OM"
      },
      "source": [
        "### What is a file anyway?\n",
        "- A named chunk of stored data is called a `file`.\n",
        "- Files are organized into hierarchical structures, called directories or folders.\n",
        "- Examples:\n",
        "  - Windows:  `c:\\Users\\marccohen\\my_fave_movies.md`\n",
        "  - Mac/Linux: `/Users/marccohen/my_fave_movies.md`\n",
        "- `path` is the file's location, e.g. `c:\\Users\\marccohen\\`\n",
        "  - it's the \"where\"\n",
        "- `filename` is the file's name, e.g. `my_fave_movies.md`\n",
        "  - it's the \"which\"\n",
        "  \n",
        "```\n",
        "King Charles      -----> the which\n",
        "Buckingham Palace \\\n",
        "London, UK         |---> the where\n",
        "SW1A 1AA.         /\n",
        "```"
      ]
    },
    {
      "cell_type": "markdown",
      "metadata": {
        "id": "d1TP0lgCr86P"
      },
      "source": [
        "### Opening a File\n",
        "- Before you can read or write a file, you need to open it.\n",
        "- Use the `open()` function to open a file.\n",
        "- prototype: `variable = open(filename, mode)`\n",
        "- example: `file = open(\"myfile\", \"r\")`\n",
        "- The first argument is a file specificaton, which can include a path or not.\n",
        "- If no path is provided, the filename is assumed to reside in the current directory/folder.\n",
        "- We'll cover the second argument, the mode, in the next cell.\n",
        "- Open returns a special type, called a file object, which is used for subsequent operations on the file.\n"
      ]
    },
    {
      "cell_type": "markdown",
      "metadata": {
        "id": "e2ZKnr8r9QFJ"
      },
      "source": [
        "### File Access Modes\n",
        "Mode|Description|access|if file exists...|if file doesn't exist...\n",
        "----|-----------|------|-----------------|------------------------\n",
        "\"r\"|read from a file|read|open file|generate error\n",
        "\"w\"|write to a file|write|overwrite & open|create file & open\n",
        "\"a\"|append to a file|write|open for append|create file & open\n",
        "\"r+\"|read/write from/to a file|read/write|open file|generate error\n",
        "\"w+\"|write/read from/to a file|read/write|overwrite & open|create file & open\n",
        "\"a+\"|append/read a text file|read/write|open for append|create file & open\n"
      ]
    },
    {
      "cell_type": "markdown",
      "metadata": {
        "id": "PErIkm1Hr_ES"
      },
      "source": [
        "### Closing a File\n",
        "- the opposite of `open()` is `close()`\n",
        "- when you're done working with a file, you should close it\n",
        "- closing a file cleans up the loose ends\n",
        "- `close()` is a method of the file object\n",
        "- example: `file.close()`\n"
      ]
    },
    {
      "cell_type": "markdown",
      "metadata": {
        "id": "BJBKvnizsYh1"
      },
      "source": [
        "### Writing to a File\n",
        "- `file.write('this is a line of text\\n')`\n",
        "- `file` must have been opened with write or append access\n",
        "- writes the passed string into the file\n",
        "- you have to include newline characters where you want them, otherwise subsequent write calls will build one long line\n",
        "- writes may not be visible until you close the file\n"
      ]
    },
    {
      "cell_type": "code",
      "metadata": {
        "id": "Au_qZbbg-3X4"
      },
      "source": [
        "f = open('test.txt', 'w')\n",
        "f.write('This is my test file.\\n')\n",
        "for i in range(10):\n",
        "  f.write('line number ' + str(i) + '\\n')\n",
        "f.close()\n"
      ],
      "execution_count": null,
      "outputs": []
    },
    {
      "cell_type": "markdown",
      "metadata": {
        "id": "gyj4EbFnsEx_"
      },
      "source": [
        "### Reading From a File\n",
        "- `mystr = file.read()`\n",
        "- file must have been opened with read access\n",
        "- reads the entire file into memory\n",
        "- the result is returned in a string\n",
        "- you can pass an argument to limit how many characters are read"
      ]
    },
    {
      "cell_type": "code",
      "metadata": {
        "id": "Hqn_cg25_rke"
      },
      "source": [
        "f = open('test.txt', 'r')\n",
        "s = f.read()\n",
        "f.close()\n",
        "print(s)"
      ],
      "execution_count": null,
      "outputs": []
    },
    {
      "cell_type": "markdown",
      "metadata": {
        "id": "ae2N-rAzsKpN"
      },
      "source": [
        "### Reading a file iteratively\n",
        "- `for line in file:`\n",
        "- this iterates over the lines in a file\n",
        "- each iteration of the loop reads a line from the file and sets the loop variable (`line` in this case) to the string value of each line in the file\n",
        "- the string includes the trailing newline\n",
        "- this is a very handy way of processing a text file one line at a time\n",
        "- also space-efficient because it only needs to store one line at a time in main memory\n"
      ]
    },
    {
      "cell_type": "code",
      "metadata": {
        "id": "VG1C_VlWOgAX"
      },
      "source": [
        "! cat test.txt  # Display current contents of test.txt file.\n"
      ],
      "execution_count": null,
      "outputs": []
    },
    {
      "cell_type": "code",
      "metadata": {
        "id": "sjGOS9-dAb6F"
      },
      "source": [
        "myfile = open('test.txt', 'r')\n",
        "for text in myfile:\n",
        "  print(text, end='')\n",
        "myfile.close()\n"
      ],
      "execution_count": null,
      "outputs": []
    },
    {
      "cell_type": "markdown",
      "metadata": {
        "id": "bTxhK0WksPeg"
      },
      "source": [
        "### The `with` Statement\n",
        "\n",
        "- automatically ensures files get closed (and any other resoures get cleaned up)\n",
        "- without the `with` statement...\n",
        "```\n",
        "file = open('file_path', 'w')\n",
        "file.write('Hello world!')\n",
        "file.close()\n",
        "```\n",
        "- using the `with` statement...\n",
        "```\n",
        "with open('file_path', 'w') as file:\n",
        "    file.write('Hello world!')\n",
        "```"
      ]
    },
    {
      "cell_type": "code",
      "metadata": {
        "id": "lDgRM7_5A2m2"
      },
      "source": [
        "with open('test.txt', 'r') as f:\n",
        "  for line in f:\n",
        "    print(line, end='')"
      ],
      "execution_count": null,
      "outputs": []
    },
    {
      "cell_type": "markdown",
      "metadata": {
        "id": "6hpeKH3tsxZS"
      },
      "source": [
        "### Summary of File Functions and Methods\n",
        "- `open()` - open a file\n",
        "- `close()` - close a file\n",
        "- `read(n)` - read up to n chars from current position to end of file and return in a string. if n not provided, read all chars from current position to end of file.\n",
        "- `write(s)` - write string s to a file\n",
        "- There are many more functions and methods available to operate on files in Python. You can learn more [here](https://docs.python.org/3/tutorial/inputoutput.html#reading-and-writing-files).\n"
      ]
    },
    {
      "cell_type": "markdown",
      "source": [
        "## Errors"
      ],
      "metadata": {
        "id": "15kdUMrnhaMz"
      }
    },
    {
      "cell_type": "markdown",
      "source": [
        "*This section is derived from work that is [Copyright (c) The Carpentries](https://carpentries.org/).*\n",
        "\n",
        "Errors in Python have a very specific form, called a traceback.\n",
        "Let's examine one:\n",
        "\n",
        "~~~\n",
        "# This code has an intentional error. You can type it directly or\n",
        "# use it for reference to understand the error message below.\n",
        "def favorite_ice_cream():\n",
        "    ice_creams = [\n",
        "        'chocolate',\n",
        "        'vanilla',\n",
        "        'strawberry'\n",
        "    ]\n",
        "    print(ice_creams[3])\n",
        "\n",
        "favorite_ice_cream()\n",
        "~~~\n",
        "\n",
        "When run, this code produces the following result:\n",
        "\n",
        "~~~\n",
        "---------------------------------------------------------------------------\n",
        "IndexError                                Traceback (most recent call last)\n",
        "<ipython-input-1-70bd89baa4df> in <module>()\n",
        "      9     print(ice_creams[3])\n",
        "      10\n",
        "----> 11 favorite_ice_cream()\n",
        "\n",
        "<ipython-input-1-70bd89baa4df> in favorite_ice_cream()\n",
        "      7         'strawberry'\n",
        "      8     ]\n",
        "----> 9     print(ice_creams[3])\n",
        "      10\n",
        "      11 favorite_ice_cream()\n",
        "\n",
        "IndexError: list index out of range\n",
        "~~~\n",
        "\n",
        "This particular traceback has two levels.\n",
        "\n",
        "- The first shows code from the cell above,\n",
        "    with an arrow pointing to Line 11 (which is `favorite_ice_cream()`).\n",
        "\n",
        "- The second shows some code in the function `favorite_ice_cream`,\n",
        "    with an arrow pointing to Line 9 (which is `print(ice_creams[3])`).\n",
        "\n",
        "The last level is where the error occurred. The other level(s) show what function the program executed to get to the next level down.\n",
        "So, in this case, the program first called the function `favorite_ice_cream`. Inside this function, the program encountered an error on Line 6, when it tried to run the code `print(ice_creams[3])`.\n",
        "\n",
        "So what error did the program actually encounter?\n",
        "In the last line of the traceback,\n",
        "Python helpfully tells us the category or type of error (in this case, it is an `IndexError`)\n",
        "and a more detailed error message (in this case, it says \"list index out of range\").\n",
        "\n",
        "If you encounter an error and don't know what it means,\n",
        "it is still important to read the traceback closely.\n",
        "That way,\n",
        "if you fix the error,\n",
        "but encounter a new one,\n",
        "you can tell that the error changed.\n",
        "Additionally,\n",
        "sometimes knowing *where* the error occurred is enough to fix it,\n",
        "even if you don't entirely understand the message.\n",
        "\n",
        "If you do encounter an error you don't recognize,\n",
        "try looking at the\n",
        "[official documentation on errors](http://docs.python.org/3/library/exceptions.html).\n",
        "However,\n",
        "note that you may not always be able to find the error there,\n",
        "as it is possible to create custom errors.\n",
        "In that case,\n",
        "hopefully the custom error message is informative enough to help you figure out what went wrong.\n"
      ],
      "metadata": {
        "id": "j1SZig2Iu-fS"
      }
    },
    {
      "cell_type": "markdown",
      "source": [
        "### Syntax Errors\n",
        "\n",
        "When you forget a colon at the end of a line,\n",
        "accidentally add one space too many when indenting under an `if` statement, or forget a parenthesis,\n",
        "you will encounter a syntax error.\n",
        "This means that Python couldn't figure out how to read your program.\n",
        "This is similar to forgetting punctuation in English:\n",
        "for example,\n",
        "this text is difficult to read there is no punctuation there is also no capitalization\n",
        "why is this hard because you have to figure out where each sentence ends\n",
        "you also have to figure out where each sentence begins\n",
        "to some extent it might be ambiguous if there should be a sentence break or not\n",
        "\n",
        "People can typically figure out what is meant by text with no punctuation,\n",
        "but people are much smarter than computers.\n",
        "If Python doesn't know how to read the program,\n",
        "it will give up and inform you with an error.\n",
        "For example:\n",
        "\n",
        "~~~\n",
        "def some_function()\n",
        "    msg = 'hello, world!'\n",
        "    print(msg)\n",
        "     return msg\n",
        "~~~\n",
        "\n",
        "~~~\n",
        "  File \"<ipython-input-3-6bb841ea1423>\", line 1\n",
        "    def some_function()\n",
        "                       ^\n",
        "SyntaxError: invalid syntax\n",
        "~~~\n",
        "\n",
        "Here, Python tells us that there is a `SyntaxError` on line 1,\n",
        "and even puts a little arrow in the place where there is an issue.\n",
        "In this case the problem is that the function definition is missing a colon at the end.\n",
        "\n",
        "Actually, the function above has *two* issues with syntax.\n",
        "If we fix the problem with the colon,\n",
        "we see that there is *also* an `IndentationError`,\n",
        "which means that the lines in the function definition do not all have the same indentation:\n",
        "\n",
        "~~~\n",
        "def some_function():\n",
        "    msg = 'hello, world!'\n",
        "    print(msg)\n",
        "     return msg\n",
        "~~~\n",
        "\n",
        "~~~\n",
        "  File \"<ipython-input-4-ae290e7659cb>\", line 4\n",
        "    return msg\n",
        "    ^\n",
        "IndentationError: unexpected indent\n",
        "~~~\n",
        "\n",
        "Both `SyntaxError` and `IndentationError` indicate a problem with the syntax of your program,\n",
        "but an `IndentationError` is more specific:\n",
        "it *always* means that there is a problem with how your code is indented."
      ],
      "metadata": {
        "id": "nPLXWNF80DeK"
      }
    },
    {
      "cell_type": "markdown",
      "source": [
        "#### Tabs and Spaces\n",
        "\n",
        "Some indentation errors are harder to spot than others.\n",
        "In particular, mixing spaces and tabs can be difficult to spot\n",
        "because they are both whitespace.\n",
        "In the example below, the first two lines in the body of the function\n",
        "`some_function` are indented with tabs, while the third line &mdash; with spaces.\n",
        "\n",
        "~~~\n",
        "def some_function():\n",
        "    msg = 'hello, world!'\n",
        "    print(msg)\n",
        "    return msg\n",
        "~~~\n",
        "\n",
        "Visually it is impossible to spot the error.\n",
        "Fortunately, Python does not allow you to mix tabs and spaces.\n",
        "\n",
        "~~~\n",
        "  File \"<ipython-input-5-653b36fbcd41>\", line 4\n",
        "    return msg\n",
        "              ^\n",
        "TabError: inconsistent use of tabs and spaces in indentation\n",
        "~~~"
      ],
      "metadata": {
        "id": "jAu-LSwcPNY2"
      }
    },
    {
      "cell_type": "markdown",
      "source": [
        "### Variable Name Errors\n",
        "\n",
        "Another very common type of error is called a `NameError`,\n",
        "and occurs when you try to use a variable that does not exist.\n",
        "For example:\n",
        "\n",
        "~~~\n",
        "print(a)\n",
        "~~~\n",
        "\n",
        "~~~\n",
        "---------------------------------------------------------------------------\n",
        "NameError                                 Traceback (most recent call last)\n",
        "<ipython-input-7-9d7b17ad5387> in <module>()\n",
        "----> 1 print(a)\n",
        "\n",
        "NameError: name 'a' is not defined\n",
        "~~~\n",
        "\n",
        "Variable name errors come with some of the most informative error messages,\n",
        "which are usually of the form \"name 'the_variable_name' is not defined\".\n",
        "\n",
        "Why does this error message occur?\n",
        "That's a harder question to answer,\n",
        "because it depends on what your code is supposed to do.\n",
        "However,\n",
        "there are a few very common reasons why you might have an undefined variable.\n",
        "The first is that you meant to use a string, but forgot to put quotes around it:\n",
        "\n",
        "~~~\n",
        "print(hello)\n",
        "~~~\n",
        "\n",
        "~~~\n",
        "---------------------------------------------------------------------------\n",
        "NameError                                 Traceback (most recent call last)\n",
        "<ipython-input-8-9553ee03b645> in <module>()\n",
        "----> 1 print(hello)\n",
        "\n",
        "NameError: name 'hello' is not defined\n",
        "~~~\n",
        "\n",
        "The second reason is that you might be trying to use a variable that does not yet exist.\n",
        "In the following example,\n",
        "`count` should have been defined (e.g., with `count = 0`) before the `for` loop:\n",
        "\n",
        "~~~\n",
        "for number in range(10):\n",
        "    count = count + number\n",
        "print('The count is:', count)\n",
        "~~~\n",
        "\n",
        "~~~\n",
        "---------------------------------------------------------------------------\n",
        "NameError                                 Traceback (most recent call last)\n",
        "<ipython-input-9-dd6a12d7ca5c> in <module>()\n",
        "      1 for number in range(10):\n",
        "----> 2     count = count + number\n",
        "      3 print('The count is:', count)\n",
        "\n",
        "NameError: name 'count' is not defined\n",
        "~~~\n",
        "\n",
        "Finally, the third possibility is that you made a typo when you were writing your code.\n",
        "Let's say we fixed the error above by adding the line `Count = 0` before the for loop.\n",
        "Frustratingly, this actually does not fix the error.\n",
        "Remember that variable names are case-sensitive,\n",
        "so the variable named `count` is different from `Count`. We still get the same error,\n",
        "because we still have not defined `count`:\n",
        "\n",
        "~~~\n",
        "Count = 0\n",
        "for number in range(10):\n",
        "    count = count + number\n",
        "print('The count is:', count)\n",
        "~~~\n",
        "\n",
        "~~~\n",
        "---------------------------------------------------------------------------\n",
        "NameError                                 Traceback (most recent call last)\n",
        "<ipython-input-10-d77d40059aea> in <module>()\n",
        "      1 Count = 0\n",
        "      2 for number in range(10):\n",
        "----> 3     count = count + number\n",
        "      4 print('The count is:', count)\n",
        "\n",
        "NameError: name 'count' is not defined\n",
        "~~~\n"
      ],
      "metadata": {
        "id": "SA76tdmN0Zgz"
      }
    },
    {
      "cell_type": "markdown",
      "source": [
        "### Index Errors\n",
        "\n",
        "Next up are errors having to do with containers (like lists and strings) and the items within them.\n",
        "If you try to access an item in a list or a string that does not exist,\n",
        "then you will get an error.\n",
        "This makes sense:\n",
        "if you asked someone what day they would like to get coffee,\n",
        "and they answered \"caturday\",\n",
        "you might be a bit annoyed.\n",
        "Python gets similarly annoyed if you try to ask it for an item that doesn't exist:\n",
        "\n",
        "~~~\n",
        "letters = ['a', 'b', 'c']\n",
        "print('Letter #1 is', letters[0])\n",
        "print('Letter #2 is', letters[1])\n",
        "print('Letter #3 is', letters[2])\n",
        "print('Letter #4 is', letters[3])\n",
        "~~~\n",
        "\n",
        "~~~\n",
        "Letter #1 is a\n",
        "Letter #2 is b\n",
        "Letter #3 is c\n",
        "~~~\n",
        "\n",
        "~~~\n",
        "---------------------------------------------------------------------------\n",
        "IndexError                                Traceback (most recent call last)\n",
        "<ipython-input-11-d817f55b7d6c> in <module>()\n",
        "      3 print('Letter #2 is', letters[1])\n",
        "      4 print('Letter #3 is', letters[2])\n",
        "----> 5 print('Letter #4 is', letters[3])\n",
        "\n",
        "IndexError: list index out of range\n",
        "~~~\n",
        "\n",
        "Here,\n",
        "Python is telling us that there is an `IndexError` in our code,\n",
        "meaning we tried to access a list index that did not exist."
      ],
      "metadata": {
        "id": "nQ4FbUCp05q-"
      }
    },
    {
      "cell_type": "markdown",
      "source": [
        "### File Errors\n",
        "\n",
        "The last type of error we'll cover today\n",
        "are those associated with reading and writing files: `FileNotFoundError`.\n",
        "If you try to read a file that does not exist,\n",
        "you will receive a `FileNotFoundError` telling you so.\n",
        "If you attempt to write to a file that was opened read-only, Python 3\n",
        "returns an `UnsupportedOperationError`.\n",
        "More generally, problems with input and output manifest as\n",
        "`IOError`s or `OSError`s, depending on the version of Python you use.\n",
        "\n",
        "~~~\n",
        "file_handle = open('myfile.txt', 'r')\n",
        "~~~\n",
        "\n",
        "~~~\n",
        "---------------------------------------------------------------------------\n",
        "FileNotFoundError                         Traceback (most recent call last)\n",
        "<ipython-input-14-f6e1ac4aee96> in <module>()\n",
        "----> 1 file_handle = open('myfile.txt', 'r')\n",
        "\n",
        "FileNotFoundError: [Errno 2] No such file or directory: 'myfile.txt'\n",
        "~~~\n",
        "\n",
        "One reason for receiving this error is that you specified an incorrect path to the file.\n",
        "For example,\n",
        "if I am currently in a folder called `myproject`,\n",
        "and I have a file in `myproject/writing/myfile.txt`,\n",
        "but I try to open `myfile.txt`,\n",
        "this will fail.\n",
        "The correct path would be `writing/myfile.txt`.\n",
        "It is also possible that the file name or its path contains a typo.\n",
        "\n",
        "A related issue can occur if you use the \"read\" flag instead of the \"write\" flag.\n",
        "Python will not give you an error if you try to open a file for writing\n",
        "when the file does not exist.\n",
        "However,\n",
        "if you meant to open a file for reading,\n",
        "but accidentally opened it for writing,\n",
        "and then try to read from it,\n",
        "you will get an `UnsupportedOperation` error\n",
        "telling you that the file was not opened for reading:\n",
        "\n",
        "~~~\n",
        "file_handle = open('myfile.txt', 'w')\n",
        "file_handle.read()\n",
        "~~~\n",
        "\n",
        "~~~\n",
        "---------------------------------------------------------------------------\n",
        "UnsupportedOperation                      Traceback (most recent call last)\n",
        "<ipython-input-15-b846479bc61f> in <module>()\n",
        "      1 file_handle = open('myfile.txt', 'w')\n",
        "----> 2 file_handle.read()\n",
        "\n",
        "UnsupportedOperation: not readable\n",
        "~~~\n",
        "\n",
        "These are the most common errors with files,\n",
        "though many others exist.\n",
        "If you get an error that you've never seen before,\n",
        "searching the Internet for that error type\n",
        "often reveals common reasons why you might get that error."
      ],
      "metadata": {
        "id": "wAi3dP5o1H9y"
      }
    },
    {
      "cell_type": "markdown",
      "source": [
        "### Challenges"
      ],
      "metadata": {
        "id": "GKaUPl0debkR"
      }
    },
    {
      "cell_type": "markdown",
      "source": [
        "#### Reading Error Messages"
      ],
      "metadata": {
        "id": "cZYzZqMof1B-"
      }
    },
    {
      "cell_type": "markdown",
      "source": [
        "Read the Python code and the resulting traceback below, and answer the following questions:\n",
        "\n",
        "1.  How many levels does the traceback have?\n",
        "2.  What is the function name where the error occurred?\n",
        "3.  On which line number in this function did the error occur?\n",
        "4.  What is the type of error?\n",
        "5.  What is the error message?\n",
        "\n",
        "~~~\n",
        "# This code has an intentional error. Do not type it directly;\n",
        "# use it for reference to understand the error message below.\n",
        "def print_message(day):\n",
        "    messages = {\n",
        "        'monday': 'Hello, world!',\n",
        "        'tuesday': 'Today is Tuesday!',\n",
        "        'wednesday': 'It is the middle of the week.',\n",
        "        'thursday': 'Today is Donnerstag in German!',\n",
        "        'friday': 'Last day of the week!',\n",
        "        'saturday': 'Hooray for the weekend!',\n",
        "        'sunday': 'Aw, the weekend is almost over.'\n",
        "    }\n",
        "    print(messages[day])\n",
        "\n",
        "def print_friday_message():\n",
        "    print_message('Friday')\n",
        "\n",
        "print_friday_message()\n",
        "~~~\n",
        "\n",
        "~~~\n",
        "---------------------------------------------------------------------------\n",
        "KeyError                                  Traceback (most recent call last)\n",
        "<ipython-input-1-4be1945adbe2> in <module>()\n",
        "     14     print_message('Friday')\n",
        "     15\n",
        "---> 16 print_friday_message()\n",
        "\n",
        "<ipython-input-1-4be1945adbe2> in print_friday_message()\n",
        "     12\n",
        "     13 def print_friday_message():\n",
        "---> 14     print_message('Friday')\n",
        "     15\n",
        "     16 print_friday_message()\n",
        "\n",
        "<ipython-input-1-4be1945adbe2> in print_message(day)\n",
        "      9         'sunday': 'Aw, the weekend is almost over.'\n",
        "     10     }\n",
        "---> 11     print(messages[day])\n",
        "     12\n",
        "     13 def print_friday_message():\n",
        "\n",
        "KeyError: 'Friday'\n",
        "~~~"
      ],
      "metadata": {
        "id": "RaUkciMLdgmB"
      }
    },
    {
      "cell_type": "markdown",
      "source": [
        "##### Solution\n",
        "1. 3 levels\n",
        "2. `print_message`\n",
        "3. 11\n",
        "4. `KeyError`\n",
        "5. There isn't really a message; you're supposed to infer that `Friday` is not a key in `messages`."
      ],
      "metadata": {
        "id": "qtCuqbyketGe"
      }
    },
    {
      "cell_type": "markdown",
      "source": [
        "#### Identifying Syntax Errors"
      ],
      "metadata": {
        "id": "PUVnOQ6SgJln"
      }
    },
    {
      "cell_type": "markdown",
      "source": [
        "1. Read the code below, and (without running it) try to identify what the errors are.\n",
        "2. Run the code, and read the error message. Is it a `SyntaxError` or an `IndentationError`?\n",
        "3. Fix the error.\n",
        "4. Repeat steps 2 and 3, until you have fixed all the errors.\n",
        "\n",
        "~~~\n",
        "def another_function\n",
        "  print('Syntax errors are annoying.')\n",
        "   print('But at least Python tells us about them!')\n",
        "  print('So they are usually not too hard to fix.')\n",
        "~~~\n"
      ],
      "metadata": {
        "id": "PirZXU30eVUR"
      }
    },
    {
      "cell_type": "markdown",
      "source": [
        "##### Solution\n",
        "\n",
        "`SyntaxError` for missing `():` at end of first line,\n",
        "`IndentationError` for mismatch between second and third lines.\n",
        "\n",
        "A fixed version is:\n",
        "\n",
        "~~~\n",
        "def another_function():\n",
        "    print('Syntax errors are annoying.')\n",
        "    print('But at least Python tells us about them!')\n",
        "    print('So they are usually not too hard to fix.')\n",
        "~~~"
      ],
      "metadata": {
        "id": "_scQJBcQfF99"
      }
    },
    {
      "cell_type": "markdown",
      "source": [
        "#### Identifying Variable Name Errors"
      ],
      "metadata": {
        "id": "FydKXx_Wg1Po"
      }
    },
    {
      "cell_type": "markdown",
      "source": [
        "1. Read the code below, and (without running it) try to identify what the errors are.\n",
        "2. Run the code, and read the error message.\n",
        "   What type of `NameError` do you think this is?\n",
        "   In other words, is it a string with no quotes,\n",
        "   a misspelled variable,\n",
        "   or a variable that should have been defined but was not?\n",
        "3. Fix the error.\n",
        "4. Repeat steps 2 and 3, until you have fixed all the errors.\n",
        "\n",
        "~~~\n",
        "for number in range(10):\n",
        "    # use a if the number is a multiple of 3, otherwise use b\n",
        "    if (Number % 3) == 0:\n",
        "        message = message + a\n",
        "    else:\n",
        "        message = message + 'b'\n",
        "print(message)\n",
        "~~~"
      ],
      "metadata": {
        "id": "17N_0yzuel7x"
      }
    },
    {
      "cell_type": "markdown",
      "source": [
        "##### Solution\n",
        "3 `NameError`s for `number` being misspelled, for `message` not defined,\n",
        "and for `a` not being in quotes.\n",
        "\n",
        "Fixed version:\n",
        "\n",
        "~~~\n",
        "message = ''\n",
        "for number in range(10):\n",
        "    # use a if the number is a multiple of 3, otherwise use b\n",
        "    if (number % 3) == 0:\n",
        "        message = message + 'a'\n",
        "    else:\n",
        "        message = message + 'b'\n",
        "print(message)\n",
        "~~~"
      ],
      "metadata": {
        "id": "ZfHAWD8qfRAJ"
      }
    },
    {
      "cell_type": "markdown",
      "source": [
        "#### Identifying Index Errors"
      ],
      "metadata": {
        "id": "iGyzjVM8hEc5"
      }
    },
    {
      "cell_type": "markdown",
      "source": [
        "1. Read the code below, and (without running it) try to identify what the errors are.\n",
        "2. Run the code, and read the error message. What type of error is it?\n",
        "3. Fix the error.\n",
        "\n",
        "~~~\n",
        "seasons = ['Spring', 'Summer', 'Fall', 'Winter']\n",
        "print('My favorite season is ', seasons[4])\n",
        "~~~\n"
      ],
      "metadata": {
        "id": "XN_Tj3xWe396"
      }
    },
    {
      "cell_type": "markdown",
      "source": [
        "##### Solution\n",
        "`IndexError`; the last entry is `seasons[3]`, so `seasons[4]` doesn't make sense.\n",
        "A fixed version is:\n",
        "\n",
        "~~~\n",
        "seasons = ['Spring', 'Summer', 'Fall', 'Winter']\n",
        "print('My favorite season is ', seasons[-1])\n",
        "~~~"
      ],
      "metadata": {
        "id": "h8HutOucfWI9"
      }
    },
    {
      "cell_type": "markdown",
      "source": [
        "## Exceptions"
      ],
      "metadata": {
        "id": "vtRktnQpnfwa"
      }
    },
    {
      "cell_type": "markdown",
      "source": [
        "When a Python program has an error, something called an exception is raised. If nothing special is done to handle the exception, the program stops running and an error message describing the exception is displayed.\n",
        "You've seen this many times, for example,\n",
        ">>> int('x')\n",
        "Traceback (most recent call last):\n",
        "  File \"<pyshell#0>\", line 1, in <module>\n",
        "    int('x')\n",
        "ValueError: invalid literal for int() with base 10: 'x'\n",
        "With Python's exception handling facilities, you can…\n",
        "handle exceptions before they stop your program cold\n",
        "raise your own exceptions\n",
        "structure your error handling code in a simpler, more natural way\n"
      ],
      "metadata": {
        "id": "bVPJ6SXyniM0"
      }
    },
    {
      "cell_type": "markdown",
      "source": [
        "### Exception Handling\n",
        "Here's how to handle (or catch) an exception in Python…\n",
        "try:\n",
        "    <block of code>\n",
        "except:\n",
        "    <exception handler block of code>\n",
        "How do we indicate the scope of the try block and the exception handler?  As usual, by indentation.\n",
        "Python tries to run the try block\n",
        "if that causes an exception, then it runs the except block\n",
        "if no exception is generated by the try block, the except block is skipped\n"
      ],
      "metadata": {
        "id": "SnQwEbYDn2bM"
      }
    },
    {
      "cell_type": "markdown",
      "source": [
        "### Exception Handling Example\n",
        "Here's an example exception handler…\n",
        "resp = input('enter an integer: ')\n",
        "try:\n",
        "    num = int(resp)\n",
        "except:\n",
        "    print('problem converting', resp, 'to int')\n",
        "This code handles every possible exception type\n",
        "You can specify a specific exception type you want to handle by including it after the except keyword, like this:\n",
        "except ValueError: # handle ValueError exceptions only\n"
      ],
      "metadata": {
        "id": "ukUoqaHrn6Y-"
      }
    },
    {
      "cell_type": "markdown",
      "source": [
        "### Common Exception Types\n",
        "\n",
        "Exception Type\n",
        "Description\n",
        "Exception\n",
        "base type of all exceptions\n",
        "IOError\n",
        "I/O operation failed\n",
        "IndexError\n",
        "invalid index applied to a sequence\n",
        "KeyError\n",
        "invalid key applied to a dictionary\n",
        "NameError\n",
        "invalid or unknown variable or function name\n",
        "SyntaxError\n",
        "invalid Python language syntax encountered\n",
        "TypeError\n",
        "operator or function applied to inappropriate type\n",
        "ValueError\n",
        "operator or function applied to invalid value\n",
        "ZeroDivisionError\n",
        "division or modulus by zero\n"
      ],
      "metadata": {
        "id": "LDF6dEExn-AH"
      }
    },
    {
      "cell_type": "markdown",
      "source": [
        "### Handling Multiple Exceptions\n",
        "You can handle multiple exception types with one except clause by specifying a comma separated list of exception types in parens, like this:\n",
        "except (TypeError, ValueError):\n",
        "You can also use multiple except clauses in a single statement, like this:\n",
        "def convert(param):\n",
        "    try:\n",
        "        value = int(param)        \n",
        "        return value\n",
        "    except TypeError:\n",
        "        print('can\\'t convert', type(param), 'to int')\n",
        "    except ValueError:\n",
        "        print('can\\'t convert', param, 'to int')\n"
      ],
      "metadata": {
        "id": "lAYgx_wUoBdE"
      }
    },
    {
      "cell_type": "markdown",
      "source": [
        "### Getting Exception Arguments\n",
        "Exceptions often come with data passed as an exception argument, which can be obtained like this:\n",
        "except ValueError as msg:\n",
        "    print(msg)\n",
        "For example, this code…\n",
        "try:\n",
        "    int('x')\n",
        "except ValueError as msg:\n",
        "    print(msg)\n",
        "displays this message:\n",
        "invalid literal for int() with base 10: 'x'\n"
      ],
      "metadata": {
        "id": "Dzvis5S6oFKD"
      }
    },
    {
      "cell_type": "markdown",
      "source": [
        "### Exceptions Can Have Else Clauses\n",
        "An optional else clause, if included, is executed if no exception occurs, for example:\n",
        "try:\n",
        "    int(resp)\n",
        "except ValueError as msg:\n",
        "    print(msg)\n",
        "else:\n",
        "    print('conversion succeeded')\n",
        "This statement is certain to display one (and only one!) of the two prints statements above.\n",
        "What it won't do, is terminate your program due to a conversion error\n"
      ],
      "metadata": {
        "id": "NPQhUPiBoHvr"
      }
    },
    {
      "cell_type": "markdown",
      "source": [
        "### How to Raise an Exception\n",
        "You can raise your own exceptions, anywhere in your Python program, using the raise statement, like this:\n",
        "raise <exception type>\n",
        "raise <exception type>(<argument>)\n",
        "this causes an exception to be raised\n",
        "control resumes at the first enclosing code (in inner-to-outer order) that handles the raised exception type\n",
        "if no enclosing code handles the exception, Python terminates the program and displays information about the exception (which we've often seen in the IDLE shell window)\n"
      ],
      "metadata": {
        "id": "ZALQ1H4qoKBa"
      }
    },
    {
      "cell_type": "markdown",
      "source": [
        "### Structuring Code Around Exceptions\n",
        "What happens if we pass an empty list to this function:\n",
        "def avg(numbers):    \n",
        "    sum = 0    \n",
        "    cnt = 0\n",
        "    for i in numbers:\n",
        "        sum += i\n",
        "        cnt += 1\n",
        "    return sum // cnt\n"
      ],
      "metadata": {
        "id": "618XQUnWoMna"
      }
    },
    {
      "cell_type": "markdown",
      "source": [
        "###\n",
        "We can use exceptions to catch errors, like this:\n",
        "try:    \n",
        "    result = avg([])\n",
        "except:    \n",
        "    print('something went wrong')\n"
      ],
      "metadata": {
        "id": "hJoZWp2JoPlx"
      }
    },
    {
      "cell_type": "markdown",
      "source": [
        "Instead of writing code like this:\n",
        "if choice == \"a\":\n",
        "    word = input('word to add: ')\n",
        "    err = add_word(word)\n",
        "    if (err):\n",
        "        print(err)\n",
        "    else:\n",
        "        print(word, 'successfully added')\n",
        "elif choice == \"d\":\n",
        "    word = input('word to delete: ')    \n",
        "    err = del_word(word)\n",
        "    if (err):\n",
        "        print(err)\n",
        "    else:\n",
        "        print(word, 'successfully deleted')\n"
      ],
      "metadata": {
        "id": "PDoUnH3qoSJp"
      }
    },
    {
      "cell_type": "markdown",
      "source": [
        "We can write code like this (one exception handler vs. multiple ifs):\n",
        "try:\n",
        "    if choice == 'a':\n",
        "        word = input('word to add: ')\n",
        "        add_word(word)\n",
        "        print(word, 'successfully added')\n",
        "    elif choice == 'd':\n",
        "        word = input('word to delete: ')\n",
        "        del_word(word)\n",
        "        print(word, 'successfully deleted')\n",
        "except Exception as msg:\n",
        "    print('ERROR:', msg)\n"
      ],
      "metadata": {
        "id": "kQIO8_fVoVKi"
      }
    },
    {
      "cell_type": "markdown",
      "source": [
        "### Error Handling Styles\n",
        "style 1 (nested):\n",
        "def add_friend(user, friend):\n",
        "    if user in users:\n",
        "        if friend in users:\n",
        "            if friend not in users[user]:\n",
        "                users[user].append(friend)\n",
        "            else:\n",
        "                raise Err('friend already on list')\n",
        "        else:\n",
        "            raise Err('unregistered friend name')\n",
        "    else:\n",
        "        raise Err('unregistered user name')\n"
      ],
      "metadata": {
        "id": "lqBMP6RHoX9x"
      }
    },
    {
      "cell_type": "markdown",
      "source": [
        "style 2 (linear):\n",
        "def add_friend(user, friend):\n",
        "    if user not in users:\n",
        "        raise Err('unregistered user name')\n",
        "    elif friend not in users\n",
        "        raise Err('unregistered friend name')\n",
        "    elif friend in users[user]\n",
        "        raise Err('friend already on list')\n",
        "    users[user].append(friend)\n",
        "    return None\n",
        "I like this style because it find it more readable.\n",
        "Why is readability so important?\n",
        "Readable code is maintainable code.\n"
      ],
      "metadata": {
        "id": "0z_AvZQ3oa2T"
      }
    },
    {
      "cell_type": "markdown",
      "source": [
        "### Defining and Using Our Own Exceptions\n",
        "\n",
        "We can limit the scope of our exception handler to our own exceptions, like this:\n",
        "\n",
        "```\n",
        "# define a new type of exception called avgError\n",
        "class avgError(Exception):    \n",
        "    pass\n",
        "\n",
        "def avg(numbers):\n",
        "    if len(numbers) <= 0:\n",
        "        raise avgError('empty sequence not supported')    \n",
        "    for i in numbers:        \n",
        "        sum += i\n",
        "        cnt += 1\n",
        "    return sum // cnt\n",
        "```\n"
      ],
      "metadata": {
        "id": "mJN8YnCNodfc"
      }
    },
    {
      "cell_type": "markdown",
      "source": [
        "in calling code:\n",
        "try:    \n",
        "    result = avg([])\n",
        "except avgError as msg:    \n",
        "    print('ERROR:', msg)\n",
        "This is just like our previous version except that we're handling an application specific exception.\n",
        "Other exceptions will not be caught, which is good! (why?)\n"
      ],
      "metadata": {
        "id": "jvwmSno3oghd"
      }
    },
    {
      "cell_type": "markdown",
      "metadata": {
        "id": "408GAs-8m6p7"
      },
      "source": [
        "## Homework"
      ]
    },
    {
      "cell_type": "markdown",
      "metadata": {
        "id": "mGfNQFRGUtYI"
      },
      "source": [
        "\n",
        "* Make a copy of this notebook (if you haven't already done so) and complete the challenges above. You can make a copy of this notebook by selecting File->Save a copy in Drive from the menu bar above.\n",
        "* Review your copy of this notebook.\n",
        "  * Complete the questions below.\n",
        "  * If something is unclear, experiment and see if you can understand it better.\n",
        "* For those who want to go deeper...\n",
        "  * Read [Chapter 9 - Reading and Writing Files](https://automatetheboringstuff.com/2e/chapter9/) in our textbook to learn more about web scraping.\n"
      ]
    },
    {
      "cell_type": "markdown",
      "metadata": {
        "id": "Dd1FNOpnK0-D"
      },
      "source": [
        "### Question 1\n",
        "\n",
        "In the Mu IDE (or your chosen IDE if you use another one), write a function named `enumerate()` that takes a list of strings and enumerates them, i.e. it returns a list where each passed string is prefixe by a sequential number, starting at 1. For example...\n",
        "```\n",
        "li = ['test', 'another test', 'last test']\n",
        "results = enumerate(li)\n",
        "for i in results:\n",
        "  print(i)\n",
        "```\n",
        "\n",
        "should produce this output:\n",
        "```\n",
        "1. test\n",
        "2. another test\n",
        "3. last test\n"
      ]
    },
    {
      "cell_type": "markdown",
      "metadata": {
        "id": "So9vQ1trLJLX"
      },
      "source": [
        "### Question 2\n",
        "\n"
      ]
    },
    {
      "cell_type": "markdown",
      "metadata": {
        "id": "1jH-_bNlLcHc"
      },
      "source": [
        "### Question 3\n",
        "Using Mu, write a function called write_file() that takes two arguments: a filename and a list of strings, opens the named file for write access and uses a `for` loop to write the list contents into the file, one string per line.\n",
        "\n",
        "For example:\n",
        "```\n",
        "li = ['test', 'another test', 'last test']\n",
        "write_file('output.txt', li)\n",
        "```\n",
        "Using your systems file explorer or command line, verify the file was created and has the expected contents. If you're not sure how to do that, you could also use your new `read_file()` function!"
      ]
    },
    {
      "cell_type": "markdown",
      "source": [
        "[Previous Lesson](https://pylearn.io/lessons/7-Iterables/)\n",
        "&nbsp;&nbsp;&nbsp;&nbsp;&nbsp;&nbsp;&nbsp;&nbsp;&nbsp;&nbsp;\n",
        "[Next Lesson](https://pylearn.io/lessons/9-Project/)"
      ],
      "metadata": {
        "id": "WXEyNNGpik8m"
      }
    }
  ]
}