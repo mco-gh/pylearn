{
  "nbformat": 4,
  "nbformat_minor": 0,
  "metadata": {
    "colab": {
      "provenance": [],
      "toc_visible": true,
      "include_colab_link": true
    },
    "kernelspec": {
      "name": "python3",
      "display_name": "Python 3"
    },
    "language_info": {
      "name": "python"
    }
  },
  "cells": [
    {
      "cell_type": "markdown",
      "metadata": {
        "id": "view-in-github",
        "colab_type": "text"
      },
      "source": [
        "<a href=\"https://colab.research.google.com/github/mco-gh/pylearn/blob/master/notebooks/3_Expressions.ipynb\" target=\"_parent\"><img src=\"https://colab.research.google.com/assets/colab-badge.svg\" alt=\"Open In Colab\"/></a>"
      ]
    },
    {
      "cell_type": "markdown",
      "source": [
        "# Lesson 3 - More Types, Expressions, Operators\n",
        "\n",
        "**You can make your own copy of this notebook by selecting File->Save a copy in Drive from the menu bar above.**\n",
        "\n",
        "Things you'll learn in this lesson:\n",
        "- More about types in Python\n",
        "- Arithmetic\n",
        "- Comparison operators\n",
        "- Boolean operators\n",
        "- How to combine constants, variables, and operators into expressions\n",
        "- Operator precedence\n"
      ],
      "metadata": {
        "id": "mfGvFV6WLjI1"
      }
    },
    {
      "cell_type": "markdown",
      "source": [
        "[Previous Lesson](https://pylearn.io/lessons/2-Variables/)\n",
        "&nbsp;&nbsp;&nbsp;&nbsp;&nbsp;&nbsp;&nbsp;&nbsp;&nbsp;&nbsp;\n",
        "[Next Lesson](https://pylearn.io/lessons/4-Conditionals/)"
      ],
      "metadata": {
        "id": "hqiuIgsLp_r-"
      }
    },
    {
      "cell_type": "markdown",
      "source": [
        "# More Data Types\n",
        "\n",
        "In Python, values have a *type*. We already saw three data types in the previous lesson. In this lesson we'll learn about some additional types, how to determine a variable's type, how to convert a value from one type to another, and how to combine variable into complex expressions."
      ],
      "metadata": {
        "id": "LOPDElnTtZ_3"
      }
    },
    {
      "cell_type": "markdown",
      "source": [
        "# The Boolean (`bool`) Type"
      ],
      "metadata": {
        "id": "PqEElVkjMx0U"
      }
    },
    {
      "cell_type": "markdown",
      "source": [
        "Python supports a special type called booleans, written `bool` in Python, which are used to indicate whether something is true or false. Booleans have one of two possible values:\n",
        "\n",
        "* `True`\n",
        "* `False`"
      ],
      "metadata": {
        "id": "9v1wuSdBM4Gn"
      }
    },
    {
      "cell_type": "markdown",
      "source": [
        "When evaluating a **number** as a boolean, the following rules apply:\n",
        "\n",
        "* 0 is `False`\n",
        "* 0.0 is `False`\n",
        "* all other numerical values are `True`\n",
        "\n",
        "When evaluating a **string** as a boolean, the following rules apply:\n",
        "\n",
        "* the empty string (`\"\"` and `''`) is `False`\n",
        "* all other strings are `True`\n",
        "\n",
        "Marc’s Law of Boolean Evaluation in Python: **“nothingness is false, somethingness is true”**"
      ],
      "metadata": {
        "id": "1RhUxhsoM7SJ"
      }
    },
    {
      "cell_type": "markdown",
      "source": [
        "# The None Type"
      ],
      "metadata": {
        "id": "YtDLrMs2M-_C"
      }
    },
    {
      "cell_type": "markdown",
      "source": [
        "Python has a special type called `None` and it means *no value*.\n",
        "\n",
        "It's a good choice when you want to initialize a variable without an obvious choice for the initial value, like this:\n",
        "\n",
        "```name = None```\n",
        "\n",
        "None always evaluates to False in boolean expressions.\n"
      ],
      "metadata": {
        "id": "8wM1pnKbNCkk"
      }
    },
    {
      "cell_type": "markdown",
      "source": [
        "# Type Conversion and the `type` Function"
      ],
      "metadata": {
        "id": "OVSdi5n7NGHy"
      }
    },
    {
      "cell_type": "markdown",
      "source": [
        "## Type Conversion Functions\n",
        "\n",
        "These are built-in Python functions to convert from one type to another. The name of the function mirrors the type you want to convert to, and you pass a variable or value to be converted.\n",
        "\n",
        "* `int(x)` - converts *x* to an integer\n",
        "* `float(x)` - converts *x* to a floating point number\n",
        "* `str(x)` - converts *x* to a string\n",
        "* `bool(x)` - converts *x* to a boolean value\n"
      ],
      "metadata": {
        "id": "uzIk00WrNNAu"
      }
    },
    {
      "cell_type": "markdown",
      "source": [
        "## When do you need to convert a type?\n",
        "\n",
        "When you have an expression containing mixed types...\n",
        "\n",
        "* `name + number`\n",
        "* `age * 365`\n",
        "\n",
        "When you call a function that requires a different type than you are passing. For example, the `len` function returns the length of a string so it expects the value passed to it will be a string.\n",
        "\n",
        "`print(len(42))`\n",
        "\n",
        "won’t work, but...\n",
        "\n",
        "`print(len(str(42)))`\n",
        "\n",
        "is fine. Try both of those experiments in the code cell below."
      ],
      "metadata": {
        "id": "VVDWF45KNQfA"
      }
    },
    {
      "cell_type": "code",
      "source": [
        "print(str(42.136))"
      ],
      "metadata": {
        "id": "oNSezejmw67M"
      },
      "execution_count": null,
      "outputs": []
    },
    {
      "cell_type": "markdown",
      "source": [
        "## The type() function\n",
        "\n",
        "The built-in `type` function returns the type of the passed value. It conveys the type name in a string of the form `<class type-name>`. Don't worry too much for now about that format - just know that the name after `class` is the type name.\n",
        "```\n",
        ">>> type(123)\n",
        "<class 'int'>\n",
        "```\n",
        "\n",
        "Run the next cell to see the `type` function in action."
      ],
      "metadata": {
        "id": "ogBtCqzqNVIS"
      }
    },
    {
      "cell_type": "code",
      "source": [
        "type_int = type(123)\n",
        "type_float = type(3.14)\n",
        "type_str = type(\"a string\")\n",
        "type_bool = type(True)\n",
        "type_none = type(None)\n",
        "\n",
        "print(type_int, type_float, type_str, type_bool, type_none)"
      ],
      "metadata": {
        "id": "5HsIU2rDNeEl"
      },
      "execution_count": null,
      "outputs": []
    },
    {
      "cell_type": "markdown",
      "source": [
        "## Expressions\n",
        "\n",
        "Once we have data stored with variable names, we can make use of those variables in our calculations. We call these combinations of variables and values  **expressions**. When evaluating an expression, Python internally replaces the variable names with the values to which they refer.\n",
        "\n",
        "For example, we may want to calculate our patient's weight in pounds:"
      ],
      "metadata": {
        "id": "b3KWip3BO-a6"
      }
    },
    {
      "cell_type": "code",
      "source": [
        "weight_lb = 2.2 * weight_kg\n",
        "print(weight_lb)"
      ],
      "metadata": {
        "id": "0v40_N88PARo"
      },
      "execution_count": null,
      "outputs": []
    },
    {
      "cell_type": "markdown",
      "source": [
        "We might also decide to add a prefix to our character string representation of a patient ID:"
      ],
      "metadata": {
        "id": "2dKamSNsPEjM"
      }
    },
    {
      "cell_type": "code",
      "source": [
        "patient_id = \"cardio_\" + patient_id\n",
        "print(patient_id)"
      ],
      "metadata": {
        "id": "eFKLkQEmPH3F"
      },
      "execution_count": null,
      "outputs": []
    },
    {
      "cell_type": "markdown",
      "source": [
        "## Challenge\n",
        "\n",
        "Guess the numerical values each of these expressions evaluate to.\n",
        "\n",
        "* `125 + 10`\n",
        "* `125 - 10`\n",
        "* `125 * 10`\n",
        "* `125 / 10`\n",
        "* `125 // 10`"
      ],
      "metadata": {
        "id": "twQUgl3GNpVK"
      }
    },
    {
      "cell_type": "markdown",
      "source": [
        "# Comparison Operators\n",
        "\n"
      ],
      "metadata": {
        "id": "hBrzYShvNkkG"
      }
    },
    {
      "cell_type": "markdown",
      "source": [
        "As their name suggests, comparison operators allow us to compare values and result in a boolean type indicating whether the comparison is `True` or `False`.\n",
        "\n",
        "The following table summarizes the most commonly used operators in Python, along with their definition when applied to numbers and strings.\n",
        "\n",
        "|operator|operation on numbers|operation on strings|\n",
        "|--------|--------------------|--------------------|\n",
        "|==|equal to|equal to|\n",
        "|!=|not equal to|not equal to|\n",
        "|>|greater than|lexicographically greater than|\n",
        "|>=|greater than or equal to|lexocographically greater than or equal to|\n",
        "|<|less than|lexicographically less than|\n",
        "|<=|less than or equal to|lexocographically less than or equal to|"
      ],
      "metadata": {
        "id": "G_I6sd1ANlxp"
      }
    },
    {
      "cell_type": "markdown",
      "source": [
        "## Challenge\n",
        "\n",
        "Which boolean value (`True` or `False`) do each of these expressions evaluate to?\n",
        "\n",
        "* `123 == 10`\n",
        "* `10 == 123`\n",
        "* `123 == 123`\n",
        "* `123 != 321`\n",
        "* `123 != 123`\n",
        "* `age == 65`\n",
        "* `age != min_age`\n",
        "\n",
        "* `\"andrew\" == \"marc\"`\n",
        "* `\"marc\" == \"andrew\"`\n",
        "* `\"marc\" == \"marc\"`\n",
        "* `\"marc\" != \"Marc\"`\n",
        "\n",
        "### `>` and `>=`\n",
        "* `123 > 10`\n",
        "* `10 > 123`\n",
        "* `123 > 123`\n",
        "* `123 >= 123`\n",
        "* `age >= 65`\n",
        "* `age > min_age`\n",
        "\n",
        "* `\"fred\" > \"marc\"`\n",
        "* `\"marc\" > \"fred\"`\n",
        "* `\"marc\" >= \"marc\"`\n",
        "* `\"marc\" > \"Marc\"`"
      ],
      "metadata": {
        "id": "UFHH2yJ4XsNQ"
      }
    },
    {
      "cell_type": "markdown",
      "source": [
        "# Boolean Operators - `and`, `or`, and `not`\n",
        "\n",
        "Boolean operators are special operators in Python that let you combine boolean values in logical ways corresponding to how we combine truth values in the real world. An example of a boolean **and** expression would be \"I'll buy a new phone if I like the features **and** the price is low\". There are three main boolean operators: `and`, `or`, and `not`. We'll look at examples of each in the next cells."
      ],
      "metadata": {
        "id": "GTamPNU8NwEc"
      }
    },
    {
      "cell_type": "markdown",
      "source": [
        "## Boolean `and`\n",
        "\n",
        "* `A and B`\n",
        "\n",
        "is `True` only true when both A and B are `True`, otherwise it's `False`.\n",
        "\n",
        "Example:\n",
        "\n",
        "* I ride my bike only when it's both sunny and warm.\n",
        "* In other words, if `is_sunny` and `is_warm` are both `True` then I **will** ride my bike.\n",
        "\n",
        "In Python...\n",
        "```\n",
        "if is_sunny and is_warm:\n",
        "    print(\"ride bike\")\n",
        "```\n",
        "\n",
        "We haven't learn about `if` statements so don't worry if the previous construct looks unfamiliar. It's a simple way of checking the value of a boolean expression, but we'll dive deeper into `if` statements in our next lesson.\n"
      ],
      "metadata": {
        "id": "5uzIu5wwNxCq"
      }
    },
    {
      "cell_type": "code",
      "source": [
        "is_sunny = False\n",
        "is_warm = False\n",
        "print(is_sunny and is_warm)"
      ],
      "metadata": {
        "id": "PfzPhjzdfr5W"
      },
      "execution_count": null,
      "outputs": []
    },
    {
      "cell_type": "markdown",
      "source": [
        "### Truth Table for boolean `and`\n",
        "|`var1`|`var2`|`var1 and var2`|\n",
        "|------|------|---------------|\n",
        "|`False`|`False`|`False`|\n",
        "|`True`|`False`|`False`|\n",
        "|`False`|`True`|`False`|\n",
        "|`True`|`True`|`True`|"
      ],
      "metadata": {
        "id": "90Arbj1TN0mK"
      }
    },
    {
      "cell_type": "markdown",
      "source": [
        "## Boolean `or`\n",
        "\n",
        "* `A or B`\n",
        "\n",
        "is `True` when either A or B are `True`, or when both are `True`, otherwise it's `False`.\n",
        "\n",
        "Example:\n",
        "\n",
        "* I ride my bike  when it's sunny, warm, or both.\n",
        "* In other words, if `is_sunny` or `is_warm` (or both) are `True` then I **will** ride my bike.\n",
        "\n",
        "In Python...\n",
        "```\n",
        "if is_sunny or is_warm:\n",
        "  print(\"ride bike\")\n",
        "```"
      ],
      "metadata": {
        "id": "9QZ93qNgN5Oh"
      }
    },
    {
      "cell_type": "markdown",
      "source": [
        "### Truth Table for boolean `or`\n",
        "\n",
        "|`var1`|`var2`|`var1 or var2`|\n",
        "|------|------|---------------|\n",
        "|`False`|`False`|`False`|\n",
        "|`True`|`False`|`True`|\n",
        "|`False`|`True`|`True`|\n",
        "|`True`|`True`|`True`|"
      ],
      "metadata": {
        "id": "OVf9BfHTN8k3"
      }
    },
    {
      "cell_type": "markdown",
      "source": [],
      "metadata": {
        "id": "oBONEq2uVTV5"
      }
    },
    {
      "cell_type": "markdown",
      "source": [
        "## Logical Not\n",
        "\n",
        "* `not A`\n",
        "\n",
        "is `True` when A is `False`\n",
        "is `False` when A is `True`"
      ],
      "metadata": {
        "id": "WFlkXCULN_yJ"
      }
    },
    {
      "cell_type": "markdown",
      "source": [
        "### Truth Table for boolean `not`\n",
        "\n",
        "|`var1`|`not var1`|\n",
        "|------|---------|\n",
        "|`False`|`True`|\n",
        "|`True`|`False`|"
      ],
      "metadata": {
        "id": "4OEHQqVjOCkM"
      }
    },
    {
      "cell_type": "markdown",
      "source": [
        "# Expressions Revisited"
      ],
      "metadata": {
        "id": "NjRlRqDkQxX3"
      }
    },
    {
      "cell_type": "markdown",
      "source": [
        "* Python lets us combine values, variables, constants and operators into larger units called expressions.\n",
        "* Expressions appear in many places, for example:\n",
        "  * assignment statements\n",
        "    * `age = age + 1    # we do this every birthday`\n",
        "  * function calls\n",
        "    * `print(age * 365) # number of days alive`\n",
        "* As we learn more, we'll see expressions popping up all over the place."
      ],
      "metadata": {
        "id": "ZhpEy8pPQqGz"
      }
    },
    {
      "cell_type": "code",
      "source": [
        "age = 49\n",
        "print(age)\n",
        "age = age + 1\n",
        "print(age)"
      ],
      "metadata": {
        "id": "JdS3GxIOQ4DC"
      },
      "execution_count": null,
      "outputs": []
    },
    {
      "cell_type": "code",
      "source": [
        "age = 64\n",
        "days_per_year = 365\n",
        "days_old = age * days_per_year\n",
        "print(f\"I am {days_old} days old!\")"
      ],
      "metadata": {
        "id": "EKp1t5XVQ5An"
      },
      "execution_count": null,
      "outputs": []
    },
    {
      "cell_type": "markdown",
      "source": [
        "## Types of Expressions\n",
        "\n",
        "* arithmetic expressions\n",
        "\n",
        "`tax = income * tax_rate`\n",
        "\n",
        "* comparative expressions\n",
        "\n",
        "`error_count <= 0`\n",
        "\n",
        "* boolean expressions\n",
        "\n",
        "`more_to_do and no_errors`\n",
        "\n",
        "* combinations of the above\n",
        "\n",
        "`valid_ticket and (cur_day - purchase_day) < exp_window`"
      ],
      "metadata": {
        "id": "NWQDio7OQ7Ss"
      }
    },
    {
      "cell_type": "markdown",
      "source": [
        "## Order of Evaluation\n",
        "\n",
        "How does Python know the correct order to evaluate a complex expression?\n",
        "\n",
        "Example: `4 + 1 * 5`\n",
        "\n",
        "Is that `(4 + 1) * 5`, which is `25`?  \n",
        "Or is it `4 + (1 * 5)`, which is `9`?\n",
        "\n",
        "Another example:  True or False and False\n",
        "\n",
        "Is that `(True or False) and False`, which is `False`?  \n",
        "Or is it `True or (False and False)`, which is `True`?\n",
        "\n",
        "Python uses operator precedence rules to avoid this ambiguity and evaluate expressions in a predictable way."
      ],
      "metadata": {
        "id": "J_VZLf1QRAXa"
      }
    },
    {
      "cell_type": "markdown",
      "source": [
        "## Simplified Python Precedence Rules\n",
        "\n",
        "This is a subset of the complete rules (in order of highest to lowest precedence):\n",
        "\n",
        "* parentheses (innermost to outermost, left to right)\n",
        "* exponentiation (left to right)\n",
        "* multiplication, division, modulus (left to right)\n",
        "* addition, subtraction (left to right)\n",
        "* comparisons (left to right)\n",
        "* boolean not\n",
        "* boolean and\n",
        "* boolean or\n",
        "\n",
        "[The Official Rules](https://docs.python.org/3/reference/expressions.html#operator-precedence)"
      ],
      "metadata": {
        "id": "-iFwjdFZRDkY"
      }
    },
    {
      "cell_type": "markdown",
      "source": [
        "## Practical Advice\n",
        "\n",
        "Marc's rule or operator precedence: **When in doubt, use parentheses.**\n",
        "\n",
        "I make liberal use of parentheses because then:\n",
        "* I don't need to remember the precedence rules.\n",
        "* I don't have to worry about surprises.\n",
        "* It makes my code more readable.\n",
        "\n",
        "For example, I could write this expression, which evaluates `A and B` first, then `C and D`, and finally takes the boolean `or` of the two preceding results:\n",
        "\n",
        "`A and B or C and D`\n",
        "\n",
        "but I much prefer to make this explicit so I don't have to think about precedence rules every time I look at this code:\n",
        "\n",
        "`(A and B) or (C and D)`"
      ],
      "metadata": {
        "id": "AWaVO8AORHZA"
      }
    },
    {
      "cell_type": "code",
      "source": [
        "customer_id = 42\n",
        "account_balance = 100.\n",
        "print(f\"customer id: {customer_id}, account balance: {account_balance}\")"
      ],
      "metadata": {
        "id": "kvRg8zPWED-_"
      },
      "execution_count": null,
      "outputs": []
    },
    {
      "cell_type": "markdown",
      "source": [
        "# Homework"
      ],
      "metadata": {
        "id": "jjLV5OkN6MWS"
      }
    },
    {
      "cell_type": "markdown",
      "source": [
        "Evaluate the following expressions mentally, then verify your answers in the following code cell...\n",
        "\n",
        "* `2 + 3 * 4 + 5`\n",
        "* `(2 + 3) * (4 + 5)`\n",
        "* `1 * 2 + 3 * 4 + 5 * 6`\n",
        "* `100 / 25 / 2`\n",
        "* `(100 / 33) <= 3`\n",
        "* `(100 // 33) <= 3`\n",
        "* `True and False and True`\n",
        "* `True and True or False and False`\n",
        "* `100 % 99`\n",
        "* `(100 / 100) // (100 % 100)`"
      ],
      "metadata": {
        "id": "v77dX6MsRKiz"
      }
    },
    {
      "cell_type": "code",
      "source": [
        "print(2 + 3 * 4 + 5)\n",
        "print((2 + 3) * (4 + 5))\n",
        "print(1 * 2 + 3 * 4 + 5 * 6)\n",
        "print(100 / 25 / 2)\n",
        "print((100 / 33) <= 3)\n",
        "print((100 // 33) <= 3)\n",
        "print(True and False and True)\n",
        "print(True and True or False and False)\n",
        "print(100 % 99)\n",
        "print((100 / 100) // (100 % 100))"
      ],
      "metadata": {
        "id": "JfH1EPqFImOo"
      },
      "execution_count": null,
      "outputs": []
    },
    {
      "cell_type": "markdown",
      "source": [
        "Assuming we have the following variables and functions:\n",
        "\n",
        "- `customer_id` - unique identifier per customer\n",
        "- `customer_age` - customer age in years\n",
        "- `active_marketing_campaign` - `True` if we're allowed to start a new marketing campaign and `False` otherwise\n",
        "- `purchased(customer_id)` - returns `True` if this customer already bought the product and `False` otherwise\n",
        "\n",
        "Run the following cell to initialize three variables."
      ],
      "metadata": {
        "id": "uN-abTpn6Szi"
      }
    },
    {
      "cell_type": "code",
      "source": [
        "customer_id = 987\n",
        "customer_age = 49\n",
        "active_marketing_campaign = True"
      ],
      "metadata": {
        "id": "GfxSZHS9nhSW"
      },
      "execution_count": null,
      "outputs": []
    },
    {
      "cell_type": "markdown",
      "source": [],
      "metadata": {
        "id": "fLkmmeXIak3V"
      }
    },
    {
      "cell_type": "markdown",
      "source": [
        "Your marketing department wants to start a new campaign. Formulate an expression to determine whether it's ok to start a new marketing campaign."
      ],
      "metadata": {
        "id": "sbJEUfjV88ou"
      }
    },
    {
      "cell_type": "code",
      "source": [],
      "metadata": {
        "id": "Eig9uJ6Q9MzZ"
      },
      "execution_count": null,
      "outputs": []
    },
    {
      "cell_type": "markdown",
      "source": [
        "Marketing says you're allowed to offer the discount to adults only. Formulate an expression to determine whether it's ok to start a marketing campaign and the customer is 18 years of age or older."
      ],
      "metadata": {
        "id": "IRhuTi4U9NPA"
      }
    },
    {
      "cell_type": "code",
      "source": [],
      "metadata": {
        "id": "-k2Y2ZC8-H-z"
      },
      "execution_count": null,
      "outputs": []
    },
    {
      "cell_type": "markdown",
      "source": [
        "Marketing says you're bothering too many people with this promotion. Refine the previous boolean expression by excluding people who've already purchased the product."
      ],
      "metadata": {
        "id": "IBOzLTdk-GuR"
      }
    },
    {
      "cell_type": "code",
      "source": [],
      "metadata": {
        "id": "7kH4f5mI-bFl"
      },
      "execution_count": null,
      "outputs": []
    },
    {
      "cell_type": "markdown",
      "source": [
        "Write a `print` statement to verify the previous expression results in the expected type using a built-in function.\n",
        "\n"
      ],
      "metadata": {
        "id": "o1UKEb5V9Qwg"
      }
    },
    {
      "cell_type": "markdown",
      "source": [
        "Assume you have the following variables:\n",
        "\n",
        "- `birth_year` - year customer was born **in a string**\n",
        "- `cur_year` - current year **in a string**\n",
        "\n",
        "Formulate an arithmetic expression to calculate and print the customer's current age."
      ],
      "metadata": {
        "id": "bbIjbf2O_JJZ"
      }
    },
    {
      "cell_type": "code",
      "source": [],
      "metadata": {
        "id": "ANUB1h0sJBvi"
      },
      "execution_count": null,
      "outputs": []
    },
    {
      "cell_type": "markdown",
      "source": [
        "[Previous Lesson](https://pylearn.io/lessons/2-Variables/)\n",
        "&nbsp;&nbsp;&nbsp;&nbsp;&nbsp;&nbsp;&nbsp;&nbsp;&nbsp;&nbsp;\n",
        "[Next Lesson](https://pylearn.io/lessons/4-Conditionals/)"
      ],
      "metadata": {
        "id": "1KzAlRhCB7fg"
      }
    }
  ]
}