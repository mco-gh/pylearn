{
  "nbformat": 4,
  "nbformat_minor": 0,
  "metadata": {
    "colab": {
      "provenance": [],
      "include_colab_link": true
    },
    "kernelspec": {
      "name": "python3",
      "display_name": "Python 3"
    },
    "language_info": {
      "name": "python"
    }
  },
  "cells": [
    {
      "cell_type": "markdown",
      "metadata": {
        "id": "view-in-github",
        "colab_type": "text"
      },
      "source": [
        "<a href=\"https://colab.research.google.com/github/mco-gh/pylearn/blob/master/notebooks/3_Expressions.ipynb\" target=\"_parent\"><img src=\"https://colab.research.google.com/assets/colab-badge.svg\" alt=\"Open In Colab\"/></a>"
      ]
    },
    {
      "cell_type": "markdown",
      "source": [
        "# Lesson 3 - Expressions\n",
        "\n",
        "**You can make your own copy of this notebook by selecting File->Save a copy in Drive from the menu bar above.**\n",
        "\n",
        "- <a target=\"_blank\" href=\"https://colab.research.google.com/github/mco-gh/pylearn/blob/master/notebooks/3_Expressions.ipynb\">Open this notebook in Colab\n",
        "</a>\n",
        "- <a target=\"_blank\" href=\"https://github.com/mco-gh/pylearn/blob/master/notebooks/3_Expressions.ipynb\">Open this notebook in Github</a>\n",
        "\n",
        "Things you'll learn in this lesson:\n",
        "- More about types in Python\n",
        "- Boolean operators\n",
        "- How to combine constants, variables, and operators into arithmetic, boolean, and comparison expressions\n",
        "- Operator precedence\n",
        "- The magical f-string\n",
        "\n"
      ],
      "metadata": {
        "id": "mfGvFV6WLjI1"
      }
    },
    {
      "cell_type": "markdown",
      "source": [
        "# Constants vs. Variables"
      ],
      "metadata": {
        "id": "IpvP1cdrMj7N"
      }
    },
    {
      "cell_type": "code",
      "source": [],
      "metadata": {
        "id": "2LS_nXvIwBbr"
      },
      "execution_count": null,
      "outputs": []
    },
    {
      "cell_type": "markdown",
      "source": [
        "* Literal values (like `\"marc\"` and `2010`) are called constants because they don't change.\n",
        "\n",
        "* Constants, are called constants because its value is fixed, unlike variables, whose associated value may change (or *vary*) over time.\n",
        "\n",
        "* The data a variable refers to may be simple, e.g. a number or a string, or it may be complex, e.g. a list or an object (we'll learn about those later)."
      ],
      "metadata": {
        "id": "no7Tp6rlMqxe"
      }
    },
    {
      "cell_type": "markdown",
      "source": [
        "# Data Types\n",
        "\n",
        "In Python, values have a *type*. We already saw three data types in the previous lesson. In this lesson we'll learn about some additional types, how to determine a variable's type, how to convert a value from one type to another, and how to combine variable into complex expressions."
      ],
      "metadata": {
        "id": "LOPDElnTtZ_3"
      }
    },
    {
      "cell_type": "markdown",
      "source": [
        "# The Boolean (`bool`) Type"
      ],
      "metadata": {
        "id": "PqEElVkjMx0U"
      }
    },
    {
      "cell_type": "markdown",
      "source": [
        "Python supports a special type called booleans, written `bool` in Python, which are used to indicate whether something is true or false. Booleans have one of two possible values:\n",
        "\n",
        "* `True`\n",
        "* `False`"
      ],
      "metadata": {
        "id": "9v1wuSdBM4Gn"
      }
    },
    {
      "cell_type": "markdown",
      "source": [
        "When evaluating a **number** as a boolean, the following rules apply:\n",
        "\n",
        "* 0 is `False`\n",
        "* 0.0 is `False`\n",
        "* all other numerical values are `True`\n",
        "\n",
        "When evaluating a **string** as a boolean, the following rules apply:\n",
        "\n",
        "* the empty string (`\"\"` and `''`) is `False`\n",
        "* all other strings are `True`\n",
        "\n",
        "Marc’s Law of Boolean Evaluation in Python: **“nothingness is false, somethingness is true”**"
      ],
      "metadata": {
        "id": "1RhUxhsoM7SJ"
      }
    },
    {
      "cell_type": "markdown",
      "source": [
        "# The None Type"
      ],
      "metadata": {
        "id": "YtDLrMs2M-_C"
      }
    },
    {
      "cell_type": "markdown",
      "source": [
        "Python has a special type called `None` and it means *no value*.\n",
        "\n",
        "It's a good choice when you want to initialize a variable without an obvious choice for the initial value, like this:\n",
        "\n",
        "```name = None```\n",
        "\n",
        "None always evaluates to False in boolean expressions.\n"
      ],
      "metadata": {
        "id": "8wM1pnKbNCkk"
      }
    },
    {
      "cell_type": "markdown",
      "source": [
        "# Type Conversion and the `type` Function"
      ],
      "metadata": {
        "id": "OVSdi5n7NGHy"
      }
    },
    {
      "cell_type": "markdown",
      "source": [
        "## Type Conversion Functions\n",
        "\n",
        "These are built-in Python functions to convert from one type to another. The name of the function mirrors the type you want to convert to, and you pass a variable or value to be converted.\n",
        "\n",
        "* `int(x)` - converts *x* to an integer\n",
        "* `float(x)` - converts *x* to a floating point number\n",
        "* `str(x)` - converts *x* to a string\n",
        "* `bool(x)` - converts *x* to a boolean value\n"
      ],
      "metadata": {
        "id": "uzIk00WrNNAu"
      }
    },
    {
      "cell_type": "markdown",
      "source": [
        "## When do you need to convert a type?\n",
        "\n",
        "When you have an expression containing mixed types...\n",
        "\n",
        "* `name + number`\n",
        "* `age * 365`\n",
        "\n",
        "When you call a function that requires a different type than you are passing. For example, the `len` function returns the length of a string so it expects the value passed to it will be a string.\n",
        "\n",
        "`print(len(42))`\n",
        "\n",
        "won’t work, but...\n",
        "\n",
        "`print(len(str(42)))`\n",
        "\n",
        "is fine. Try both of those experiments in the code cell below."
      ],
      "metadata": {
        "id": "VVDWF45KNQfA"
      }
    },
    {
      "cell_type": "code",
      "source": [
        "print(str(42.136))"
      ],
      "metadata": {
        "id": "oNSezejmw67M"
      },
      "execution_count": null,
      "outputs": []
    },
    {
      "cell_type": "markdown",
      "source": [
        "## The type() function\n",
        "\n",
        "The built-in `type` function returns the type of the passed value. It conveys the type name in a string of the form `<class type-name>`. Don't worry too much for now about that format - just know that the name after `class` is the type name.\n",
        "```\n",
        ">>> type(123)\n",
        "<class 'int'>\n",
        "```\n",
        "\n",
        "Run the next cell to see the `type` function in action."
      ],
      "metadata": {
        "id": "ogBtCqzqNVIS"
      }
    },
    {
      "cell_type": "code",
      "source": [
        "type_int = type(123)\n",
        "type_float = type(3.14)\n",
        "type_str = type(\"a string\")\n",
        "type_bool = type(True)\n",
        "type_none = type(None)\n",
        "\n",
        "print(type_int, type_float, type_str, type_bool, type_none)"
      ],
      "metadata": {
        "id": "5HsIU2rDNeEl",
        "colab": {
          "base_uri": "https://localhost:8080/"
        },
        "outputId": "447b2672-d7cf-4d77-a131-98c5afb47dd2"
      },
      "execution_count": null,
      "outputs": [
        {
          "output_type": "stream",
          "name": "stdout",
          "text": [
            "<class 'int'> <class 'float'> <class 'str'> <class 'bool'> <class 'NoneType'>\n"
          ]
        }
      ]
    },
    {
      "cell_type": "markdown",
      "source": [
        "# Comparison Opererators"
      ],
      "metadata": {
        "id": "hBrzYShvNkkG"
      }
    },
    {
      "cell_type": "markdown",
      "source": [
        "As their name suggests, comparison operators allow us to compare values and result in a boolean type indicating whether the comparison is `True` or `False`.\n",
        "\n",
        "The following table summarizes the most commonly used operators in Python, along with their definition when applied to numbers and strings.\n",
        "\n",
        "|operator|operation on numbers|operation on strings|\n",
        "|--------|--------------------|--------------------|\n",
        "|==|equal to|equal to|\n",
        "|!=|not equal to|not equal to|\n",
        "|>|greater than|lexicographically greater than|\n",
        "|>=|greater than or equal to|lexocographically greater than or equal to|\n",
        "|<|less than|lexicographically less than|\n",
        "|<=|less than or equal to|lexocographically less than or equal to|"
      ],
      "metadata": {
        "id": "G_I6sd1ANlxp"
      }
    },
    {
      "cell_type": "markdown",
      "source": [
        "## Challenge\n",
        "\n",
        "Which boolean value (`True` or `False`) do each of these expressions evaluate to?\n",
        "\n",
        "* `123 == 10`\n",
        "* `10 == 123`\n",
        "* `123 == 123`\n",
        "* `123 != 321`\n",
        "* `123 != 123`\n",
        "* `age == 65`\n",
        "* `age != min_age`\n",
        "\n",
        "* `\"andrew\" == \"marc\"`\n",
        "* `\"marc\" == \"andrew\"`\n",
        "* `\"marc\" == \"marc\"`\n",
        "* `\"marc\" != \"Marc\"`\n",
        "\n",
        "### `>` and `>=`\n",
        "* `123 > 10`\n",
        "* `10 > 123`\n",
        "* `123 > 123`\n",
        "* `123 >= 123`\n",
        "* `age >= 65`\n",
        "* `age > min_age`\n",
        "\n",
        "* `\"fred\" > \"marc\"`\n",
        "* `\"marc\" > \"fred\"`\n",
        "* `\"marc\" >= \"marc\"`\n",
        "* `\"marc\" > \"Marc\"`"
      ],
      "metadata": {
        "id": "twQUgl3GNpVK"
      }
    },
    {
      "cell_type": "markdown",
      "source": [
        "# Boolean Operators - `and`, `or`, and `not`\n",
        "\n",
        "Boolean operators are special operators in Python that let you combine boolean values in logical ways corresponding to how we combine truth values in the real world. An example of a boolean **and** expression would be \"I'll buy a new phone if I like the features **and** the price is low\". There are three main boolean operators: `and`, `or`, and `not`. We'll look at examples of each in the next cells."
      ],
      "metadata": {
        "id": "GTamPNU8NwEc"
      }
    },
    {
      "cell_type": "markdown",
      "source": [
        "## Boolean `and`\n",
        "\n",
        "* `A and B`\n",
        "\n",
        "is `True` only true when both A and B are `True`, otherwise it's `False`.\n",
        "\n",
        "Example:\n",
        "\n",
        "* I ride my bike only when it's both sunny and warm.\n",
        "* In other words, if `is_sunny` and `is_warm` are both `True` then `is_sunny and is_warm` is `True` so I **will** ride my bike.\n",
        "\n",
        "In Python...\n",
        "```\n",
        "if is_sunny and is_warm:\n",
        "    # ride bike\n",
        "```\n",
        "\n",
        "We haven't learn about `if` statements so don't worry if the previous construct looks unfamiliar. It's a simple way of checking the value of a boolean expression, but we'll dive deeper into `if` statements in our next lesson.\n"
      ],
      "metadata": {
        "id": "5uzIu5wwNxCq"
      }
    },
    {
      "cell_type": "code",
      "source": [
        "is_sunny = False\n",
        "is_warm = False\n",
        "print(is_sunny and is_warm)"
      ],
      "metadata": {
        "id": "PfzPhjzdfr5W"
      },
      "execution_count": null,
      "outputs": []
    },
    {
      "cell_type": "markdown",
      "source": [
        "### Truth Table for boolean `and`\n",
        "|`var1`|`var2`|`var1 and var2`|\n",
        "|------|------|---------------|\n",
        "|`False`|`False`|`False`|\n",
        "|`True`|`False`|`False`|\n",
        "|`False`|`True`|`False`|\n",
        "|`True`|`True`|`True`|"
      ],
      "metadata": {
        "id": "90Arbj1TN0mK"
      }
    },
    {
      "cell_type": "markdown",
      "source": [
        "## Boolean `or`\n",
        "\n",
        "* `A or B`\n",
        "\n",
        "is `True` when either A or B are `True`, or when both are `True`, otherwise it's `False`.\n",
        "\n",
        "Example:\n",
        "\n",
        "* I ride my bike  when it's sunny, warm, or both.\n",
        "* In other words, if `is_sunny` or `is_warm` (or both) are `True` then `is_sunny or is_warm` is `True` so I **will** ride my bike.\n",
        "\n",
        "In Python...\n",
        "```\n",
        "if is_sunny or is_warm:\n",
        "  # ride bike\n",
        "```"
      ],
      "metadata": {
        "id": "9QZ93qNgN5Oh"
      }
    },
    {
      "cell_type": "markdown",
      "source": [
        "### Truth Table for boolean `or`\n",
        "\n",
        "|`var1`|`var2`|`var1 or var2`|\n",
        "|------|------|---------------|\n",
        "|`False`|`False`|`False`|\n",
        "|`True`|`False`|`True`|\n",
        "|`False`|`True`|`True`|\n",
        "|`True`|`True`|`True`|"
      ],
      "metadata": {
        "id": "OVf9BfHTN8k3"
      }
    },
    {
      "cell_type": "markdown",
      "source": [
        "## Logical Not\n",
        "\n",
        "* `not A`\n",
        "\n",
        "is `True` when A is `False`\n",
        "is `False` when A is `True`"
      ],
      "metadata": {
        "id": "WFlkXCULN_yJ"
      }
    },
    {
      "cell_type": "markdown",
      "source": [
        "### Truth Table for boolean `not`\n",
        "\n",
        "|`var1`|`not var1`|\n",
        "|------|---------|\n",
        "|`False`|`True`|\n",
        "|`True`|`False`|"
      ],
      "metadata": {
        "id": "4OEHQqVjOCkM"
      }
    },
    {
      "cell_type": "markdown",
      "source": [
        "# Expressions Revisited"
      ],
      "metadata": {
        "id": "NjRlRqDkQxX3"
      }
    },
    {
      "cell_type": "markdown",
      "source": [
        "* Python lets us combine variables, constants and operators into larger units called expressions.\n",
        "* Expressions appear in many places\n",
        "  * assignment statements\n",
        "    * `age = age + 1    # we do this every birthday`\n",
        "  * function calls\n",
        "    * `print(total_days * 365) # number of days alive`\n",
        "* As we learn more, we'll see expressions popping up all over the place"
      ],
      "metadata": {
        "id": "ZhpEy8pPQqGz"
      }
    },
    {
      "cell_type": "code",
      "source": [
        "age = 49\n",
        "print(age)\n",
        "age = age + 1\n",
        "print(age)\n",
        "age += 1\n",
        "print(age)"
      ],
      "metadata": {
        "id": "JdS3GxIOQ4DC"
      },
      "execution_count": null,
      "outputs": []
    },
    {
      "cell_type": "code",
      "source": [
        "age = 49\n",
        "days_per_year = 365\n",
        "days_old = age * days_per_year\n",
        "print(f\"I am {days_old} days old!\")"
      ],
      "metadata": {
        "id": "EKp1t5XVQ5An"
      },
      "execution_count": null,
      "outputs": []
    },
    {
      "cell_type": "markdown",
      "source": [
        "## Types of Expressions\n",
        "\n",
        "* arithmetic expressions\n",
        "\n",
        "`tax = income * tax_rate`\n",
        "\n",
        "* comparative expressions\n",
        "\n",
        "`error_count <= 0`\n",
        "\n",
        "* boolean expressions\n",
        "\n",
        "`more_to_do and no_errors`\n",
        "\n",
        "* combinations of the above\n",
        "\n",
        "`valid_ticket and (cur_day - purchase_day) < exp_window`"
      ],
      "metadata": {
        "id": "NWQDio7OQ7Ss"
      }
    },
    {
      "cell_type": "markdown",
      "source": [
        "## Order of Evaluation\n",
        "\n",
        "How does Python know the correct order to evaluate a complex expression?\n",
        "\n",
        "Example: `4 + 1 * 5`\n",
        "\n",
        "Is that `(4 + 1) * 5`, which is `25`?  \n",
        "Or is it `4 + (1 * 5)`, which is `9`?\n",
        "\n",
        "Another example:  True or False and False\n",
        "\n",
        "Is that `(True or False) and False`, which is `False`?  \n",
        "Or is it `True or (False and False)`, which is `True`?\n",
        "\n",
        "Python uses operator precedence rules to avoid this ambiguity and evaluate expressions in a predictable way."
      ],
      "metadata": {
        "id": "J_VZLf1QRAXa"
      }
    },
    {
      "cell_type": "markdown",
      "source": [
        "## Simplified Python Precedence Rules\n",
        "\n",
        "This is a subset of the complete rules (in order of highest to lowest precedence):\n",
        "\n",
        "* parentheses (innermost to outermost, left to right)\n",
        "* exponentiation (left to right)\n",
        "* multiplication, division, modulus (left to right)\n",
        "* addition, subtraction (left to right)\n",
        "* comparisons (left to right)\n",
        "* boolean not\n",
        "* boolean and\n",
        "* boolean or\n",
        "\n",
        "[The Official Rules](https://docs.python.org/3/reference/expressions.html#operator-precedence)"
      ],
      "metadata": {
        "id": "-iFwjdFZRDkY"
      }
    },
    {
      "cell_type": "markdown",
      "source": [
        "## Practical Advice\n",
        "\n",
        "Marc's rule or operator precedence: **When in doubt, use parentheses.**\n",
        "\n",
        "I make liberal use of parentheses because:\n",
        "* I don't need to remember the precedence rules.\n",
        "* I don't have to worry about surprises.\n",
        "* It makes my code more readable.\n",
        "\n",
        "For example, I could write this expression, which evaluates `A and B` first, then `C and D`, and finally takes the boolean `or` of the two preceding results:\n",
        "\n",
        "`A and B or C and D`\n",
        "\n",
        "but I much prefer to make explicit, like this so I don't have to think about precedence rules every time I look at this code:\n",
        "\n",
        "`(A and B) or (C and D)`"
      ],
      "metadata": {
        "id": "AWaVO8AORHZA"
      }
    },
    {
      "cell_type": "markdown",
      "source": [
        "## F-strings\n",
        "\n",
        "We often need to combine variables, values, and strings. For example, if we have the following variables:\n",
        "\n",
        "- `customer_id`\n",
        "- `account_balance`\n",
        "\n",
        "we might want to print a report, where each line summarizes the values above. We could do that like this:\n",
        "\n",
        "```\n",
        "print(\"customer id: \", customer_id, \", account balance:\", account_balance)\n",
        "```\n",
        "which produces this output:\n",
        "```\n",
        "customer id:  123 , account balance: 17.9\n",
        "```\n",
        "\n",
        "This sort of construct gets a bit tedious. Plus the space between the customer id and the following comma unintended and undesirable.\n",
        "\n",
        "A relatively new addition to Python, called f-strings, offer a simpler and more readable solution to this problem. If you prefix a string with the character `f`, it gives the string magic powers. Specifically, the sting has the ability to **interpolate** variables inside curly brackets. Here's how we could express the previous `print` statement using an f-string:\n",
        "\n",
        "```\n",
        "print(f\"customer id: {customer_id} account balance: {account_balance}\")\n",
        "```\n",
        "\n",
        "This is shorter, less tedious, easier to read and write, and solves the formatting issue related to the comma between the two fields.\n",
        "\n",
        "Note that you can put any Python code inside the curly braces, so this technique is very powerful. Once you get going with Python, you'll find all sort of wonderful ways to use f-strings."
      ],
      "metadata": {
        "id": "DaYXt_iJCQOU"
      }
    },
    {
      "cell_type": "code",
      "source": [
        "customer_id = 42\n",
        "account_balance = 100.\n",
        "print(f\"customer id: {customer_id}, account balance: {account_balance}\")"
      ],
      "metadata": {
        "id": "kvRg8zPWED-_"
      },
      "execution_count": null,
      "outputs": []
    },
    {
      "cell_type": "markdown",
      "source": [
        "# Homework"
      ],
      "metadata": {
        "id": "jjLV5OkN6MWS"
      }
    },
    {
      "cell_type": "markdown",
      "source": [
        "Evaluate the following expressions mentally, then verify your answer in the following code cell...\n",
        "\n",
        "* `2 + 3 * 4 + 5`\n",
        "* `(2 + 3) * (4 + 5)`\n",
        "* `1 * 2 + 3 * 4 + 5 * 6`\n",
        "* `100 / 25 / 2`\n",
        "* `(100 / 33) <= 3`\n",
        "* `(100 // 33) <= 3`\n",
        "* `True and False and True`\n",
        "* `True and True or False and False`\n",
        "* `100 % 99`\n",
        "* `(100 / 100) // (100 % 100)`\n",
        "\n",
        "EXPLAIN WHAT YOU WANT HERE"
      ],
      "metadata": {
        "id": "v77dX6MsRKiz"
      }
    },
    {
      "cell_type": "code",
      "source": [
        "print(2 + 3 * 4 + 5)\n",
        "print((2 + 3) * (4 + 5))\n",
        "print(1 * 2 + 3 * 4 + 5 * 6)\n",
        "print(100 / 25 / 2)\n",
        "print((100 / 33) <= 3)\n",
        "print((100 // 33) <= 3)\n",
        "print(True and False and True)\n",
        "print(True and True or False and False)\n",
        "print(100 % 99)\n",
        "print((100 / 100) // (100 % 100))"
      ],
      "metadata": {
        "colab": {
          "base_uri": "https://localhost:8080/",
          "height": 360
        },
        "id": "JfH1EPqFImOo",
        "outputId": "10a5b68c-1237-40de-f597-b03ece7932b3"
      },
      "execution_count": null,
      "outputs": [
        {
          "output_type": "stream",
          "name": "stdout",
          "text": [
            "19\n",
            "45\n",
            "44\n",
            "2.0\n",
            "False\n",
            "True\n",
            "False\n",
            "True\n",
            "1\n"
          ]
        },
        {
          "output_type": "error",
          "ename": "ZeroDivisionError",
          "evalue": "ignored",
          "traceback": [
            "\u001b[0;31m---------------------------------------------------------------------------\u001b[0m",
            "\u001b[0;31mZeroDivisionError\u001b[0m                         Traceback (most recent call last)",
            "\u001b[0;32m<ipython-input-11-7b5dba0cbc1a>\u001b[0m in \u001b[0;36m<module>\u001b[0;34m()\u001b[0m\n\u001b[1;32m      8\u001b[0m \u001b[0mprint\u001b[0m\u001b[0;34m(\u001b[0m\u001b[0;32mTrue\u001b[0m \u001b[0;32mand\u001b[0m \u001b[0;32mTrue\u001b[0m \u001b[0;32mor\u001b[0m \u001b[0;32mFalse\u001b[0m \u001b[0;32mand\u001b[0m \u001b[0;32mFalse\u001b[0m\u001b[0;34m)\u001b[0m\u001b[0;34m\u001b[0m\u001b[0;34m\u001b[0m\u001b[0m\n\u001b[1;32m      9\u001b[0m \u001b[0mprint\u001b[0m\u001b[0;34m(\u001b[0m\u001b[0;36m100\u001b[0m \u001b[0;34m%\u001b[0m \u001b[0;36m99\u001b[0m\u001b[0;34m)\u001b[0m\u001b[0;34m\u001b[0m\u001b[0;34m\u001b[0m\u001b[0m\n\u001b[0;32m---> 10\u001b[0;31m \u001b[0mprint\u001b[0m\u001b[0;34m(\u001b[0m\u001b[0;34m(\u001b[0m\u001b[0;36m100\u001b[0m \u001b[0;34m/\u001b[0m \u001b[0;36m100\u001b[0m\u001b[0;34m)\u001b[0m \u001b[0;34m//\u001b[0m \u001b[0;34m(\u001b[0m\u001b[0;36m100\u001b[0m \u001b[0;34m%\u001b[0m \u001b[0;36m100\u001b[0m\u001b[0;34m)\u001b[0m\u001b[0;34m)\u001b[0m\u001b[0;34m\u001b[0m\u001b[0;34m\u001b[0m\u001b[0m\n\u001b[0m",
            "\u001b[0;31mZeroDivisionError\u001b[0m: float divmod()"
          ]
        }
      ]
    },
    {
      "cell_type": "markdown",
      "source": [
        "Assuming we have the following variables and functions:\n",
        "\n",
        "- `customer_id` - customer identifier\n",
        "- `customer_age` - customer age in years\n",
        "- `product_id` - a particular product in the seller's catalog\n",
        "- `active(product_id)` - `True` if there is an active marketing campaign for the passed product id\n",
        "- `bought(customer_id, product_id)` - `True` if the customer previous bought the passed product id\n",
        "- `interested(customer_id, product_id)` - `True` if the customer previous showed interest in the passed product\n",
        "\n",
        "SAY WHAT TO DO!"
      ],
      "metadata": {
        "id": "uN-abTpn6Szi"
      }
    },
    {
      "cell_type": "code",
      "source": [
        "customer_age = 49\n",
        "customer_id = 987\n",
        "product_id = 123\n",
        "\n",
        "def active(id):\n",
        "    return True\n",
        "\n",
        "def bought(cid, pid):\n",
        "    return False\n",
        "\n",
        "def interested(cid, pid):\n",
        "    return False"
      ],
      "metadata": {
        "id": "GfxSZHS9nhSW"
      },
      "execution_count": null,
      "outputs": []
    },
    {
      "cell_type": "markdown",
      "source": [
        "Your marketing department wants this campaign to start immediately. Formulate an expression to determine whether the current `product_id` has an active marketing campaign, so you can start offering a discount price."
      ],
      "metadata": {
        "id": "sbJEUfjV88ou"
      }
    },
    {
      "cell_type": "code",
      "source": [
        "active(product_id)"
      ],
      "metadata": {
        "id": "Eig9uJ6Q9MzZ",
        "colab": {
          "base_uri": "https://localhost:8080/"
        },
        "outputId": "1297b4cc-83b6-46f7-9a9e-2856bf28db4a"
      },
      "execution_count": null,
      "outputs": [
        {
          "output_type": "execute_result",
          "data": {
            "text/plain": [
              "True"
            ]
          },
          "metadata": {},
          "execution_count": 14
        }
      ]
    },
    {
      "cell_type": "markdown",
      "source": [
        "Marketing says you're allowed to offer the discount to adults only. Formulate an expression to determine whether the current `product_id` has an active marketing campaign and the customer is 18 years of age or older."
      ],
      "metadata": {
        "id": "IRhuTi4U9NPA"
      }
    },
    {
      "cell_type": "code",
      "source": [
        "active(product_id) and customer_age >= 18"
      ],
      "metadata": {
        "id": "-k2Y2ZC8-H-z",
        "colab": {
          "base_uri": "https://localhost:8080/"
        },
        "outputId": "4963adff-bcd8-4f07-e5af-85c5b9dc37dd"
      },
      "execution_count": null,
      "outputs": [
        {
          "output_type": "execute_result",
          "data": {
            "text/plain": [
              "False"
            ]
          },
          "metadata": {},
          "execution_count": 17
        }
      ]
    },
    {
      "cell_type": "markdown",
      "source": [
        "Marketing says you're bothering too many people with this promotion. Refine the previous boolean expression by excluding people who've already purchased the product."
      ],
      "metadata": {
        "id": "IBOzLTdk-GuR"
      }
    },
    {
      "cell_type": "code",
      "source": [
        "active(product_id) and customer_age >= 18 and not bought(customer_id, product_id)"
      ],
      "metadata": {
        "id": "7kH4f5mI-bFl",
        "colab": {
          "base_uri": "https://localhost:8080/"
        },
        "outputId": "97887b04-7190-4ce7-c14b-0570e47fa422"
      },
      "execution_count": null,
      "outputs": [
        {
          "output_type": "execute_result",
          "data": {
            "text/plain": [
              "True"
            ]
          },
          "metadata": {},
          "execution_count": 30
        }
      ]
    },
    {
      "cell_type": "markdown",
      "source": [
        "Marketing says the campaign is still too intrusive (they're never satisfied). Redo the previous expression so that you retain all the constraints up till now, but include only customers who've shown interest in the product."
      ],
      "metadata": {
        "id": "s25Ss8KY9QHh"
      }
    },
    {
      "cell_type": "code",
      "source": [
        "active(product_id) and customer_age >= 18 and not bought(customer_id, product_id) and interested(customer_id, product_id)"
      ],
      "metadata": {
        "id": "TFrjStaT-2bN",
        "colab": {
          "base_uri": "https://localhost:8080/"
        },
        "outputId": "366b0c5b-05cf-439a-97a1-1f62a15a7c60"
      },
      "execution_count": null,
      "outputs": [
        {
          "output_type": "execute_result",
          "data": {
            "text/plain": [
              "False"
            ]
          },
          "metadata": {},
          "execution_count": 31
        }
      ]
    },
    {
      "cell_type": "markdown",
      "source": [
        "Write a `print` statement to verify the previous expression results in the expected type using a built-in function.\n",
        "\n"
      ],
      "metadata": {
        "id": "o1UKEb5V9Qwg"
      }
    },
    {
      "cell_type": "code",
      "source": [
        "print(active(product_id) and customer_age >= 18 and not bought(customer_id, product_id) and interested(customer_id, product_id))"
      ],
      "metadata": {
        "id": "zj06kwxk_DpJ",
        "colab": {
          "base_uri": "https://localhost:8080/"
        },
        "outputId": "bfb339d7-9b56-4b8a-8136-0ec063baa5a1"
      },
      "execution_count": null,
      "outputs": [
        {
          "output_type": "stream",
          "name": "stdout",
          "text": [
            "False\n"
          ]
        }
      ]
    },
    {
      "cell_type": "markdown",
      "source": [
        "Assume you have the following variables:\n",
        "\n",
        "- `birth_year` - year customer was born **in a string**\n",
        "- `cur_year` - current year **in a string**\n",
        "\n",
        "Formulate an arithmetic expression to calculate and print the customer's current age."
      ],
      "metadata": {
        "id": "bbIjbf2O_JJZ"
      }
    },
    {
      "cell_type": "code",
      "source": [
        "current_year = \"2022\"\n",
        "birth_year = \"1972\"\n",
        "print(f\"customer's age: {int(current_year) - int(birth_year)}\")"
      ],
      "metadata": {
        "colab": {
          "base_uri": "https://localhost:8080/"
        },
        "id": "ANUB1h0sJBvi",
        "outputId": "6d6b0d16-f30e-457c-fcd0-f95c86f31d15"
      },
      "execution_count": null,
      "outputs": [
        {
          "output_type": "stream",
          "name": "stdout",
          "text": [
            "customer's age: 50\n"
          ]
        }
      ]
    },
    {
      "cell_type": "markdown",
      "source": [
        "[Previous Lesson](https://mco.fyi/py1)\n",
        "&nbsp;&nbsp;&nbsp;&nbsp;&nbsp;&nbsp;&nbsp;&nbsp;&nbsp;&nbsp;\n",
        "[Next Lesson](https://mco.fyi/py3)"
      ],
      "metadata": {
        "id": "1KzAlRhCB7fg"
      }
    }
  ]
}