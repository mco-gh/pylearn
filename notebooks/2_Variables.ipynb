{
  "nbformat": 4,
  "nbformat_minor": 0,
  "metadata": {
    "colab": {
      "provenance": [],
      "toc_visible": true,
      "include_colab_link": true
    },
    "kernelspec": {
      "name": "python3",
      "display_name": "Python 3"
    },
    "language_info": {
      "name": "python"
    }
  },
  "cells": [
    {
      "cell_type": "markdown",
      "metadata": {
        "id": "view-in-github",
        "colab_type": "text"
      },
      "source": [
        "<a href=\"https://colab.research.google.com/github/mco-gh/pylearn/blob/master/notebooks/2_Variables.ipynb\" target=\"_parent\"><img src=\"https://colab.research.google.com/assets/colab-badge.svg\" alt=\"Open In Colab\"/></a>"
      ]
    },
    {
      "cell_type": "markdown",
      "source": [
        "# Lesson 2 - Types, Variables, Assignment\n",
        "\n",
        "**You should make your own copy of this notebook by selecting File->Save a copy in Drive from the menu bar above.**\n",
        "\n",
        "- <a target=\"_blank\" href=\"https://colab.research.google.com/github/mco-gh/pylearn/blob/master/notebooks/2_Variables.ipynb\">Open this notebook in Colab</a>\n",
        "- <a target=\"_blank\" href=\"https://github.com/mco-gh/pylearn/blob/master/notebooks/2_Variables.ipynb\">Open this notebook in Github</a>\n",
        "\n",
        "Things you'll learn in this lesson:\n",
        "- The basic data types you can work with in Python\n",
        "- What are variables and why they are useful\n",
        "- How to create and assign values to variables in Python\n",
        "- How to call a built-in function"
      ],
      "metadata": {
        "id": "pB15rzv-5A-i"
      }
    },
    {
      "cell_type": "markdown",
      "source": [
        "[Previous Lesson](https://pylearn.io/lessons/1-welcome/)\n",
        "&nbsp;&nbsp;&nbsp;&nbsp;&nbsp;&nbsp;&nbsp;&nbsp;&nbsp;&nbsp;\n",
        "[Next Lesson](https://pylearn.io/lessons/3-Expressions/)"
      ],
      "metadata": {
        "id": "9ehHeYrmn9s0"
      }
    },
    {
      "cell_type": "markdown",
      "source": [
        "## Data Types\n",
        "Python knows about several types of data. Three common ones are:\n",
        "\n",
        "* integer numbers\n",
        "* floating point numbers\n",
        "* character strings\n",
        "\n",
        "In the example above, the variable `weight_kg` was assigned an integer value of `60`. If we want to more precisely track the weight of our patient,\n",
        "we can use a floating point value by executing:"
      ],
      "metadata": {
        "id": "2vVrIzu76Mka"
      }
    },
    {
      "cell_type": "code",
      "source": [
        "weight_kg = 60.3\n",
        "print(weight_kg)"
      ],
      "metadata": {
        "id": "Q-cUtwa26PKT",
        "colab": {
          "base_uri": "https://localhost:8080/"
        },
        "outputId": "bbb51c33-1a74-43fb-caf1-b82618ef64e8"
      },
      "execution_count": null,
      "outputs": [
        {
          "output_type": "stream",
          "name": "stdout",
          "text": [
            "60.3\n"
          ]
        }
      ]
    },
    {
      "cell_type": "markdown",
      "source": [
        "To create a string, we add single or double quotes around some text.\n",
        "To identify and track a patient throughout our study,\n",
        "we can assign each person a unique identifier by storing it in variable that stores a string value:"
      ],
      "metadata": {
        "id": "hRyCToPF6Uk7"
      }
    },
    {
      "cell_type": "code",
      "source": [
        "patient_id = \"001\"\n",
        "print(patient_id)"
      ],
      "metadata": {
        "id": "2g7XZo0m6X7Q",
        "colab": {
          "base_uri": "https://localhost:8080/"
        },
        "outputId": "e1ca23dd-818b-406f-8e96-8f59cf3ba8b4"
      },
      "execution_count": null,
      "outputs": [
        {
          "output_type": "stream",
          "name": "stdout",
          "text": [
            "001\n"
          ]
        }
      ]
    },
    {
      "cell_type": "markdown",
      "source": [
        "### Numeric Types\n",
        "\n",
        "Python supports two main types of numbers\n",
        "* int, arbitrary size signed integers, like these:\n",
        "  * `2024`\n",
        "  * `-999999999999`\n",
        "* float, arbitrary precision floating point numbers, like these:\n",
        "  * `3.14159`\n",
        "  * `3.8 * 10**6`\n",
        "\n",
        "For the most part, you don't need to worry about which type of number to use - Python will take care of that for you. The decimal point tells Python which to use.\n",
        "\n",
        "Mixing floats and ints results in a float so, for example, `2024 * 3.14` results in a floating point number.\n",
        "\n",
        "Try entering these expressions in the following cell:\n",
        "\n",
        "```\n",
        "print(5 - 6)  \n",
        "print(8 * 9)\n",
        "print(6 / 2)\n",
        "print(5.0 / 2)\n",
        "print(5 % 2)  \n",
        "print(2 * 10 + 3)  \n",
        "print(2 * (10 + 3))  \n",
        "print(2 ** 4)\n",
        "```\n",
        "Were there any outputs you didn't expect?"
      ],
      "metadata": {
        "id": "3IVQV7ajrzvM"
      }
    },
    {
      "cell_type": "code",
      "source": [
        "print(5 - 6)\n",
        "print(8 * 9)\n",
        "print(6 / 2)\n",
        "print(5.0 / 2)\n",
        "print(5 % 2)\n",
        "print(2 * 10 + 3)\n",
        "print(2 * (10 + 3))\n",
        "print(2 ** 4)"
      ],
      "metadata": {
        "id": "GxdsLvbqr2Bd",
        "colab": {
          "base_uri": "https://localhost:8080/"
        },
        "outputId": "9d239772-a0f7-42ec-bbe8-eb8afa3a497c"
      },
      "execution_count": null,
      "outputs": [
        {
          "output_type": "stream",
          "name": "stdout",
          "text": [
            "-1\n",
            "72\n",
            "3.0\n",
            "2.5\n",
            "1\n",
            "23\n",
            "26\n",
            "16\n"
          ]
        }
      ]
    },
    {
      "cell_type": "markdown",
      "metadata": {
        "id": "O0fBxynG9PjI"
      },
      "source": [
        "### Numerical/Arithmetic Operators\n",
        "\n",
        "| operator | operation on numbers | operation on strings |\n",
        "|----------|----------------------|---------------------|\n",
        "+|addition|concatenation\n",
        "-|subtraction|undefined\n",
        "*|multiplication|repetition\n",
        "//|integer division|undefined\n",
        "/|real division|undefined\n",
        "%|modulus (remainder)|undefined\n",
        "**|exponentiation|undefined\n",
        "()|prioritization|prioritization\n"
      ]
    },
    {
      "cell_type": "markdown",
      "source": [
        "### Seeing Data Types\n",
        "\n",
        "What are the data types of the following variables? Try to guess before executing the cell."
      ],
      "metadata": {
        "id": "x4zDBM9f-uLp"
      }
    },
    {
      "cell_type": "markdown",
      "metadata": {
        "id": "afAWHnWGxReQ"
      },
      "source": [
        "## Strings"
      ]
    },
    {
      "cell_type": "markdown",
      "metadata": {
        "id": "ZiSHYYkp8_Ss"
      },
      "source": [
        "### Rules of the Road\n",
        "\n",
        "* a character string (or just string) is a sequence of characters surrounded by quotes\n",
        "* strings give you the ability to operate on a sequence of characters as a basic unit\n",
        "* strings are an example of a general category of data types called sequences, which we'll see more of later\n",
        "* you can use single or double quotes to delineate strings but you must be consistent within a string\n",
        "* `\"this works\"` and `'this works'` too\n",
        "* `\"this is not ok'`, `'nor is this\"`"
      ]
    },
    {
      "cell_type": "markdown",
      "metadata": {
        "id": "nZ4sLkasxbtl"
      },
      "source": [
        "### Embedded Quotes\n",
        "\n",
        "How to embed a single or double quote inside a string?\n",
        "\n",
        "You can embed a single quote in a double quoted string:\n",
        "\n",
        "```\n",
        "\"this string's fine\"\n",
        "'but this doesn't work'\n",
        "```\n",
        "You can embed a double quote in a single quoted string:\n",
        "\n",
        "```\n",
        "'but this string is \"A-OK\"'\n",
        "\"but this \"example\" fails\"\n",
        "```\n",
        "\n",
        "You can also \"escape\" a single or double quote with the backslash character:\n",
        "\n",
        "```\n",
        "'Marc\\'s string'\n",
        "\"I like \\\"The Office\\\"\"\n",
        "```"
      ]
    },
    {
      "cell_type": "markdown",
      "metadata": {
        "id": "eE7cGSJ4xjen"
      },
      "source": [
        "### Escape Sequences\n",
        "\n",
        "These are useful for embedding special characters in a string.\n",
        "\n",
        "|character|escape sequence|\n",
        "|---------|---------------|\n",
        "|tab|\\t|\n",
        "|newline|\\n|\n",
        "|single quote|\\\\'|\n",
        "|double quote|\\\\\"|\n",
        "|backslash|\\\\\\\\|\n",
        "\n",
        "Examples are shown in the next cell..."
      ]
    },
    {
      "cell_type": "markdown",
      "metadata": {
        "id": "d3OG7VgfBbad"
      },
      "source": [
        "### Triple Quoted Strings\n",
        "Sometimes you want to define a long string, that spans multiple lines, or a string containing embedded single and/or double quotes and don't want to use a lot of escape characters. Triple quoted strings are perfect for this job:\n"
      ]
    },
    {
      "cell_type": "markdown",
      "metadata": {
        "id": "U6_Uyn6o_h18"
      },
      "source": [
        "### Challenge\n",
        "\n",
        "For each of the following examples tell me if it’s a legal Python string...\n",
        "1. `'Go ahead, make my day.'`\n",
        "1. `\"There's no place like home.\"`\n",
        "1. `'Frankly my dear, I don't give a damn'`\n",
        "1. `'Say \"hello\" to my little friend'`\n",
        "1. `\"You\\'re gonna need a bigger boat\"`\n",
        "1. `'\"You talkin' to me?\"'`\n",
        "1. `'Fasten your seatbelts, it\\'s going to be a bumpy night'`\n",
        "1. `'''Striker: \"Surely you can't be serious!\" Rumack: \"I am serious... and don't call me Shirley\".'''`\n",
        "1. `\"You had me at \"hello\".\"`"
      ]
    },
    {
      "cell_type": "markdown",
      "metadata": {
        "id": "3bfkPbusByKw"
      },
      "source": [
        "### String Operators\n",
        "\n",
        "`+` and `*` can be used to operate on strings.\n",
        "\n",
        "Try the code in the cell below. One of these raises an error. What do you think the error message means?\n"
      ]
    },
    {
      "cell_type": "markdown",
      "metadata": {
        "id": "Ih6MKmdyDBhq"
      },
      "source": [
        "### Converting to a string\n",
        "\n",
        "You can use the `str()` function to convert a numeric type into a string, like this:"
      ]
    },
    {
      "cell_type": "markdown",
      "metadata": {
        "id": "RnJurLxLB_f0"
      },
      "source": [
        "### String Methods\n",
        "\n",
        "* Method: A repeatable piece of code that completes a task for a specific data-type.\n",
        "\n",
        "* We invoke a method using the `.` syntax, e.g. `mystr.upper()`.\n",
        "\n",
        "* Methods are specific to a data-type\n",
        "e.g. `.upper()` can be used with a string but not an integer or a float\n"
      ]
    },
    {
      "cell_type": "markdown",
      "source": [
        "From now on, whenever we use `weight_kg`, Python will substitute the value we assigned to it. In other words, **a variable is a a reference to a value**.\n",
        "\n",
        "In Python, variable names:\n",
        "\n",
        " - can include letters, digits, and underscores\n",
        " - cannot start with a digit\n",
        " - are case sensitive\n",
        "\n",
        "This means that, for example:\n",
        " - `weight0` is a valid variable name, whereas `0weight` is not\n",
        " - `weight` and `Weight` are different variables"
      ],
      "metadata": {
        "id": "ei_aBfYIYmdI"
      }
    },
    {
      "cell_type": "markdown",
      "metadata": {
        "id": "gI3Ac_xEDmn5"
      },
      "source": [
        "### F (format) Strings\n",
        "\n",
        "Python has a special type of string called a format (or 'f') string, which enables you to \"interpolate\" a variable into a string, like this:"
      ]
    },
    {
      "cell_type": "markdown",
      "metadata": {
        "id": "px9RPSdDF4ai"
      },
      "source": [
        "#### Challenge\n",
        "\n",
        "In the following cell, rewrite cat_food.py to use f-string instead of joining strings with + ."
      ]
    },
    {
      "cell_type": "markdown",
      "metadata": {
        "id": "FAsOgYuWA8R3"
      },
      "source": [
        "## Variables"
      ]
    },
    {
      "cell_type": "markdown",
      "metadata": {
        "id": "mIz2S_4vGnoc"
      },
      "source": [
        "### Variable Naming Rules\n",
        "\n",
        "There are some special rules governing variable names:\n",
        "\n",
        "* variable names may start with a letter or an underscore\n",
        "* the rest of the letters in the name may be letters, numbers or underscore\n",
        "case is significant\n",
        "* `name` is different from `NAME`, which is different from `NaMe`\n",
        "\n",
        "## Reserved Words\n",
        "\n",
        "The following words have special meaning in Python. We call them keywords or reserved words and you may not use these names for your variables.\n",
        "\n",
        "> ```and, as, assert, break, class, continue, def, del, elif, else, except, False, finally, for, from, global, if, import, in, is, lambda, nonlocal, None, not, or, pass, raise, return, True, try, while, with, yield```\n",
        "\n",
        "Try using one of these as a variable and see what happens...\n",
        "\n"
      ]
    },
    {
      "cell_type": "markdown",
      "metadata": {
        "id": "Koyp75jKHNmt"
      },
      "source": [
        "#### Challenge\n",
        "\n",
        "Which of the following are legal Python variable names?\n",
        "```\n",
        "average = 1\n",
        "Max = 1\n",
        "print = 1  \n",
        "LadyGaGa = 1  \n",
        "_Lady_Ga_Ga = 1\n",
        "FiftyYardLine = 1    \n",
        "50_yard_line = 1  \n",
        "yard_line_50 = 1  \n",
        "raise = 1  \n",
        "my-cat-is-awesome = 1\n",
        "my_cat_is_awesome = 1  \n",
        "```"
      ]
    },
    {
      "cell_type": "markdown",
      "source": [
        "### Reserved Words\n",
        "\n",
        "The following words have special meaning in Python. We call them keywords or reserved words and you may not use these names for your program variables.\n",
        "\n",
        "> ```and, as, assert, async, await, break, class, continue, def, del, elif, else, except, False, finally, for, from, global, if, import, in, is, lambda, nonlocal, None, not, or, pass, raise, return, True, try, while, with, yield```"
      ],
      "metadata": {
        "id": "AQsH4eIdsUY_"
      }
    },
    {
      "cell_type": "markdown",
      "source": [
        "### Constants vs. Variables\n",
        "\n",
        "* Literal values (like `\"marc\"` and `2024`) are called constants because their value is fixed, unlike variables, whose associated value may change (or *vary*) over time.\n",
        "\n",
        "* The data a variable refers to may be simple, e.g. a number or a string, or it may be complex, e.g. a list or an object (we'll learn about those later)."
      ],
      "metadata": {
        "id": "IpvP1cdrMj7N"
      }
    },
    {
      "cell_type": "markdown",
      "metadata": {
        "id": "SpF1BSjwyfw3"
      },
      "source": [
        "## Assignment Statements"
      ]
    },
    {
      "cell_type": "markdown",
      "metadata": {
        "id": "h75iNJF-Hrsl"
      },
      "source": [
        "Assignment statements are used to associate a variable name with some simple or complex value\n",
        "general form:   \n",
        "\n",
        "    variable_name = 'some_value'\n",
        "\n",
        "If a variable doesn’t already exist, when you assign to it, Python creates it on the fly.\n",
        "\n",
        "If you assign to a variable that already exists, Python replaces its current value with a new value.\n",
        "\n",
        "### Examples\n",
        "\n",
        "    instructor = 'marc'         # string value\n",
        "    instructor = 'my evil twin' # same name, diff string value\n",
        "    instructor = 42             # same name, integer value\n",
        "    todays_high_temp = 71.3     # diff name, floating point value\n",
        "\n",
        "Try some experiments in the next cell..."
      ]
    },
    {
      "cell_type": "markdown",
      "metadata": {
        "id": "5eZ4mlDTIZRw"
      },
      "source": [
        "### Usage Example\n",
        "\n",
        "Let's print a list of the first 9 multiples of 9...\n"
      ]
    },
    {
      "cell_type": "markdown",
      "metadata": {
        "id": "HYLN9MdtJY8f"
      },
      "source": [
        "### Challenge\n",
        "\n",
        "In the next cell, create a program that calculates how many cans of cat food you need to feed 10 cats. You will need:\n",
        "\n",
        "* A variable for the number of cats\n",
        "* A variable for the number of cans each cat eats in a day\n",
        "* A `print()` function call to output the result\n",
        "\n",
        "Extension: change the calculation to work out the amount needed for 7 days."
      ]
    },
    {
      "cell_type": "markdown",
      "metadata": {
        "id": "nkxuivpM_Qis"
      },
      "source": [
        "## Example Programs"
      ]
    },
    {
      "cell_type": "markdown",
      "metadata": {
        "id": "NSgINTKQ_CYt"
      },
      "source": [
        "### 1 - Print a Multiplication Table"
      ]
    },
    {
      "cell_type": "markdown",
      "metadata": {
        "id": "VCrIV-u_8lLa"
      },
      "source": [
        "### 2 - Search IMDb"
      ]
    },
    {
      "cell_type": "markdown",
      "metadata": {
        "id": "SyQZmOBvDfHJ"
      },
      "source": [
        "### 3 - Generate a Histogram"
      ]
    },
    {
      "cell_type": "markdown",
      "metadata": {
        "id": "inQ6KAKi_eow"
      },
      "source": [
        "## Resources"
      ]
    },
    {
      "cell_type": "markdown",
      "metadata": {
        "id": "Wwgi8P3R_DAL"
      },
      "source": [
        "## Documentation"
      ]
    },
    {
      "cell_type": "markdown",
      "source": [],
      "metadata": {
        "id": "no7Tp6rlMqxe"
      }
    },
    {
      "cell_type": "code",
      "source": [
        "planet = \"Earth\"\n",
        "apples = 5\n",
        "distance = 10.5\n",
        "print(type(planet))\n",
        "print(type(apples))\n",
        "print(type(distance))"
      ],
      "metadata": {
        "id": "qyyiKScY-oHZ",
        "colab": {
          "base_uri": "https://localhost:8080/"
        },
        "outputId": "813853c0-ff80-4228-a362-671bde551db8"
      },
      "execution_count": null,
      "outputs": [
        {
          "output_type": "stream",
          "name": "stdout",
          "text": [
            "<class 'str'>\n",
            "<class 'int'>\n",
            "<class 'float'>\n"
          ]
        }
      ]
    },
    {
      "cell_type": "markdown",
      "source": [
        "![Value of 100.0 with label weight_kg stuck on it, and value of 143.0 with label weight_lb stuck on it](https://raw.githubusercontent.com/mco-gh/python-novice-inflammation/gh-pages/fig/python-sticky-note-variables-03.svg)\n",
        "\n",
        "Since `weight_lb` doesn't \"remember\" where its value comes from,\n",
        "it is not updated when we change `weight_kg`."
      ],
      "metadata": {
        "id": "tN_Yusov9Xx9"
      }
    },
    {
      "cell_type": "markdown",
      "source": [
        "### Variables as Sticky Notes *(courtesy of Software Carpentry)*\n",
        "\n",
        "A variable in Python is analogous to a sticky note with a name written on it:\n",
        "assigning a value to a variable is like putting that sticky note on a particular value.\n",
        "\n",
        "![Value of 65.0 with weight_kg label stuck on it](https://raw.githubusercontent.com/mco-gh/python-novice-inflammation/gh-pages/fig/python-sticky-note-variables-01.svg)\n",
        "\n",
        "Using this analogy, we can investigate how assigning a value to one variable\n",
        "does **not** change values of other, seemingly related, variables.  For\n",
        "example, let's store the subject's weight in pounds in its own variable:"
      ],
      "metadata": {
        "id": "m4VdNmAm8pr7"
      }
    },
    {
      "cell_type": "code",
      "source": [
        "# There are 2.2 pounds per kilogram\n",
        "weight_lb = 2.2 * weight_kg\n",
        "print(\"weight in kilograms:\", weight_kg, \"and in pounds:\", weight_lb)\n"
      ],
      "metadata": {
        "id": "gYSnDfGx8y9r",
        "outputId": "d7eb4a94-0763-4a42-c12f-dcdfcc7c0197",
        "colab": {
          "base_uri": "https://localhost:8080/"
        }
      },
      "execution_count": null,
      "outputs": [
        {
          "output_type": "stream",
          "name": "stdout",
          "text": [
            "weight in kilograms: 65.0 and in pounds: 143.0\n"
          ]
        }
      ]
    },
    {
      "cell_type": "markdown",
      "source": [
        "![Value of 65.0 with weight_kg label stuck on it, and value of 143.0 with weight_lb label stuck on it](https://raw.githubusercontent.com/mco-gh/python-novice-inflammation/gh-pages/fig/python-sticky-note-variables-02.svg)\n",
        "\n",
        "Similar to above, the expression `2.2 * weight_kg` is evaluated to `143.0`,\n",
        "and then this value is assigned to the variable `weight_lb` (i.e. the sticky\n",
        "note `weight_lb` is placed on `143.0`). At this point, each variable is\n",
        "\"stuck\" to completely distinct and unrelated values.\n",
        "\n",
        "Let's now change `weight_kg`:"
      ],
      "metadata": {
        "id": "uxMEUja_9IbJ"
      }
    },
    {
      "cell_type": "code",
      "source": [
        "weight_kg = 100.0\n",
        "print(\"weight in kilograms is now:\", weight_kg, \"and weight in pounds is still:\", weight_lb)"
      ],
      "metadata": {
        "id": "pL0RVhFq9NEu",
        "outputId": "819ce113-6fe6-4c16-a225-7d6d9c85e117",
        "colab": {
          "base_uri": "https://localhost:8080/"
        }
      },
      "execution_count": null,
      "outputs": [
        {
          "output_type": "stream",
          "name": "stdout",
          "text": [
            "weight in kilograms is now: 100.0 and weight in pounds is still: 143.0\n"
          ]
        }
      ]
    },
    {
      "cell_type": "code",
      "source": [
        "weight_kg = 60\n",
        "print(weight_kg)"
      ],
      "metadata": {
        "id": "epIQ2nJs5pdy",
        "colab": {
          "base_uri": "https://localhost:8080/"
        },
        "outputId": "f7032102-bd22-4bff-e7d9-2e1508fd11ab"
      },
      "execution_count": null,
      "outputs": [
        {
          "output_type": "stream",
          "name": "stdout",
          "text": [
            "60\n"
          ]
        }
      ]
    },
    {
      "cell_type": "markdown",
      "source": [
        "This is great but not very interesting.\n",
        "To do anything useful with data, we need to assign its value to a _variable_.\n",
        "In Python, we can assign a value to a variable using the equals sign `=`.\n",
        "\n",
        "If a variable doesn’t already exist, when you assign to it, Python creates it on the fly. If you assign to a variable that already exists, Python replaces its current value with a new value.\n",
        "\n",
        "Examples\n",
        "\n",
        "    instructor = \"marc\"         # string value\n",
        "    instructor = \"my evil twin\" # same name, diff string value\n",
        "    instructor = 42             # same name, integer value\n",
        "    todays_high_temp = 71.3     # diff name, floating point value\n",
        "\n",
        "We can track the weight of a patient who weighs 60 kilograms by assigning the value `60` to a variable `weight_kg` and then printing the variable to display its current value."
      ],
      "metadata": {
        "id": "zi5ctjIY5j5n"
      }
    },
    {
      "cell_type": "markdown",
      "source": [
        "## Key Points\n",
        "- Basic data types in Python include integers, strings, and floating-point numbers (there are others but we'll start with these).\n",
        "- Use `variable = value` to assign a value to a variable in order to store it in memory.\n",
        "- Variables are created on demand whenever values are assigned to them.\n",
        "- Use `print(something)` to display the value of `something`.\n",
        "- Built-in functions, like `print` are always available to use."
      ],
      "metadata": {
        "id": "kwFCzCqXIGqs"
      }
    },
    {
      "cell_type": "markdown",
      "metadata": {
        "id": "jBs305Ht_KLo"
      },
      "source": [
        "## Homework"
      ]
    },
    {
      "cell_type": "markdown",
      "metadata": {
        "id": "Dd1FNOpnK0-D"
      },
      "source": [
        "## Question 1\n",
        "\n",
        "Prompt for user's name and print it back with \"Nice to meet you, name!\"."
      ]
    },
    {
      "cell_type": "code",
      "metadata": {
        "id": "314VvVKCMIzK",
        "cellView": "form"
      },
      "source": [
        "#@title Double click here to reveal solution\n",
        "\n",
        "name = input ('What is your name? ')\n",
        "print ('Nice to meet you,', name +'!')"
      ],
      "execution_count": null,
      "outputs": []
    },
    {
      "cell_type": "markdown",
      "metadata": {
        "id": "So9vQ1trLJLX"
      },
      "source": [
        "## Question 2\n",
        "\n",
        "Prompt for dog's age and return in people years."
      ]
    },
    {
      "cell_type": "code",
      "metadata": {
        "id": "M_bufOMUMfxj"
      },
      "source": [
        "#@title Double click here to reveal solution\n",
        "\n",
        "dog_to_people_years = 7\n",
        "dog_age = input('How old is your dog? ')\n",
        "people_age = int(dog_age) * dog_to_people_years\n",
        "print(dog_age,'dog years =',  str(people_age), 'people years.')\n"
      ],
      "execution_count": null,
      "outputs": []
    },
    {
      "cell_type": "markdown",
      "metadata": {
        "id": "1jH-_bNlLcHc"
      },
      "source": [
        "## Question 3\n",
        "\n",
        "Write a program to calculate the total number of hours in a fixed set of days, where the number of days is assigned to a variable."
      ]
    },
    {
      "cell_type": "code",
      "metadata": {
        "id": "-DTi8KY4O95w",
        "cellView": "form"
      },
      "source": [
        "#@title Double click here to reveal solution\n",
        "\n",
        "days = 365\n",
        "hours = 24\n",
        "total_hours = days * hours\n",
        "msg = f'There are {total_hours} hours in {days} days.'\n",
        "print(msg)"
      ],
      "execution_count": null,
      "outputs": []
    },
    {
      "cell_type": "markdown",
      "metadata": {
        "id": "9LYTJHnh0mPe"
      },
      "source": [
        "## Question 4\n",
        "\n",
        "Write some Python code that uses all the maths operators you've learned."
      ]
    },
    {
      "cell_type": "code",
      "metadata": {
        "id": "2NBHmKwS04qd",
        "cellView": "form"
      },
      "source": [
        "#@title Double click here to reveal solution\n",
        "\n",
        "a = 2 + 3\n",
        "print(a)\n",
        "a = 3 - 2\n",
        "print(a)\n",
        "a = 2 * 3\n",
        "print(a)\n",
        "a = 2 / 3\n",
        "print(a)\n",
        "a = 2 // 3\n",
        "print(a)\n",
        "a = 2 % 3\n",
        "print(a)\n",
        "a = 2 ** 3\n",
        "print(a)\n",
        "a = (2 + 3) * 4\n",
        "print(a)"
      ],
      "execution_count": null,
      "outputs": []
    },
    {
      "cell_type": "markdown",
      "source": [
        "# Homework"
      ],
      "metadata": {
        "id": "XJ8BP2vbb2F0"
      }
    },
    {
      "cell_type": "markdown",
      "source": [
        "Which of the following are legal Python variable names? First make a guess then copy these assignment statements into the next cell and run them.\n",
        "```\n",
        "average = 1\n",
        "Max = 1\n",
        "LadyGaGa = 1  \n",
        "_Lady_Ga_Ga = 1\n",
        "FiftyYardLine = 1    \n",
        "50_yard_line = 1  \n",
        "yard_line_50 = 1  \n",
        "raise = 1  \n",
        "my-cat-is-awesome = 1\n",
        "my_cat_is_awesome = 1  \n",
        "```"
      ],
      "metadata": {
        "id": "J72xu17T1E3F"
      }
    },
    {
      "cell_type": "code",
      "source": [],
      "metadata": {
        "id": "jVRpXn1Y1H2Q"
      },
      "execution_count": null,
      "outputs": []
    },
    {
      "cell_type": "markdown",
      "source": [
        "In one statement, calculate and print your weekly pay if you earn $100 a day in a five day work week.\n",
        "\n"
      ],
      "metadata": {
        "id": "HeLdyFLbb7P0"
      }
    },
    {
      "cell_type": "code",
      "source": [],
      "metadata": {
        "id": "-TmtupM-b6UN"
      },
      "execution_count": null,
      "outputs": []
    },
    {
      "cell_type": "markdown",
      "source": [
        "Store your daily pay rate in a variable and use the variable to calculate and print your weekly pay."
      ],
      "metadata": {
        "id": "5Q2cc0sBcJBM"
      }
    },
    {
      "cell_type": "code",
      "source": [],
      "metadata": {
        "id": "xmDX9SqScEj0"
      },
      "execution_count": null,
      "outputs": []
    },
    {
      "cell_type": "markdown",
      "source": [
        "Congratulations - you just got a raise. Your new daily pay rate is $120. Assign a new value to the daily pay variable, then calculate and print your new weekly pay."
      ],
      "metadata": {
        "id": "u8qUUJCWcbBo"
      }
    },
    {
      "cell_type": "code",
      "source": [],
      "metadata": {
        "id": "VHUIaTuCcxpa"
      },
      "execution_count": null,
      "outputs": []
    },
    {
      "cell_type": "markdown",
      "source": [
        "Store the number of days in a week in a variable, then calculate and print your weekly pay."
      ],
      "metadata": {
        "id": "DrJeGgybcy31"
      }
    },
    {
      "cell_type": "code",
      "source": [],
      "metadata": {
        "id": "1o4--aFsc4ml"
      },
      "execution_count": null,
      "outputs": []
    },
    {
      "cell_type": "markdown",
      "source": [
        "Calculate and print your weekly, monthly, and annual pay using only variables. Assume 5 workdays per week, 20 workdays per month and 240 workdays per year."
      ],
      "metadata": {
        "id": "qi66Z8TOdPuw"
      }
    },
    {
      "cell_type": "code",
      "source": [],
      "metadata": {
        "id": "TGi5ARZpdnt6"
      },
      "execution_count": null,
      "outputs": []
    },
    {
      "cell_type": "markdown",
      "source": [
        "Print the your first, middle, and last name, each on a separate line.\n",
        "\n"
      ],
      "metadata": {
        "id": "Dtag2RwKdpEx"
      }
    },
    {
      "cell_type": "code",
      "source": [],
      "metadata": {
        "id": "NKZymN6Idwe-"
      },
      "execution_count": null,
      "outputs": []
    },
    {
      "cell_type": "markdown",
      "source": [
        "Print the your first, middle, and last name, all on one line.\n"
      ],
      "metadata": {
        "id": "stkouGzNdxFE"
      }
    },
    {
      "cell_type": "code",
      "source": [],
      "metadata": {
        "id": "CcIX7JBJd2xK"
      },
      "execution_count": null,
      "outputs": []
    },
    {
      "cell_type": "markdown",
      "source": [
        "From the menu bar, select Tools->Command Palette to see a list of the commands you can execute inside a Colab notebook. Most of these commands are intuitively named. For example, to save your notebook in Google Drive, run \"Save notebook\" now from the command palette. You can find it quickly by typing \"save\" in the search box.\n",
        "\n",
        "Don't worry if you're not sure what some of the commands in the command palette do. For now, I just want you to know about this resource."
      ],
      "metadata": {
        "id": "LZ1IS0jSpZi0"
      }
    },
    {
      "cell_type": "markdown",
      "source": [
        "Congratulations for making it this far! Your last assignment is to watch this [short video](https://www.youtube.com/watch?v=inN8seMm7UI) and take a [quick tour of Colab](https://colab.research.google.com/notebooks/intro.ipynb)."
      ],
      "metadata": {
        "id": "2gpMPXdRf9GE"
      }
    },
    {
      "cell_type": "markdown",
      "source": [
        "**It's a good idea to save your work after a notebook session.** You can use the command palette to do this, as you just did in the previous cell, but since this is a common function, you'll see an easier way to save your notebook via the File->Save menu item.\n",
        "\n"
      ],
      "metadata": {
        "id": "VbfEFfZvq55E"
      }
    },
    {
      "cell_type": "markdown",
      "source": [
        "[Previous Lesson](https://pylearn.io/lessons/1-welcome/)\n",
        "&nbsp;&nbsp;&nbsp;&nbsp;&nbsp;&nbsp;&nbsp;&nbsp;&nbsp;&nbsp;\n",
        "[Next Lesson](https://pylearn.io/lessons/3-Expressions/)"
      ],
      "metadata": {
        "id": "SR3FUvVKkFQP"
      }
    }
  ]
}