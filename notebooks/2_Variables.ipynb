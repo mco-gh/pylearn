{
  "nbformat": 4,
  "nbformat_minor": 0,
  "metadata": {
    "colab": {
      "provenance": [],
      "include_colab_link": true
    },
    "kernelspec": {
      "name": "python3",
      "display_name": "Python 3"
    },
    "language_info": {
      "name": "python"
    }
  },
  "cells": [
    {
      "cell_type": "markdown",
      "metadata": {
        "id": "view-in-github",
        "colab_type": "text"
      },
      "source": [
        "<a href=\"https://colab.research.google.com/github/mco-gh/pylearn/blob/master/notebooks/2_Variables.ipynb\" target=\"_parent\"><img src=\"https://colab.research.google.com/assets/colab-badge.svg\" alt=\"Open In Colab\"/></a>"
      ]
    },
    {
      "cell_type": "markdown",
      "source": [
        "# Lesson 2 - Variables\n",
        "\n",
        "**You should make your own copy of this notebook by selecting File->Save a copy in Drive from the menu bar above.**\n",
        "\n",
        "- <a target=\"_blank\" href=\"https://colab.research.google.com/github/mco-gh/pylearn/blob/master/notebooks/2_Variables.ipynb\">Open this notebook in Colab</a>\n",
        "- <a target=\"_blank\" href=\"https://github.com/mco-gh/pylearn/blob/master/notebooks/2_Variables.ipynb\">Open this notebook in Github</a>\n",
        "\n",
        "Things you'll learn in this lesson:\n",
        "- The basic data types you can work with in Python\n",
        "- What are variable and why they are useful\n",
        "- How to create and assign values to variables in Python\n",
        "- How to call a built-in function"
      ],
      "metadata": {
        "id": "pB15rzv-5A-i"
      }
    },
    {
      "cell_type": "markdown",
      "source": [
        "[Previous Lesson](https://pylearn.io/lessons/1-welcome/)\n",
        "&nbsp;&nbsp;&nbsp;&nbsp;&nbsp;&nbsp;&nbsp;&nbsp;&nbsp;&nbsp;\n",
        "[Next Lesson](https://pylearn.io/lessons/3-Expressions/)"
      ],
      "metadata": {
        "id": "9ehHeYrmn9s0"
      }
    },
    {
      "cell_type": "markdown",
      "source": [
        "## Variables\n",
        "\n",
        "Any Python interpreter can be used as a calculator. The `print` function is called here to display the result of a calculation.\n"
      ],
      "metadata": {
        "id": "bJVtPIkr5KDA"
      }
    },
    {
      "cell_type": "code",
      "source": [
        "print(3 + 5 * 4)"
      ],
      "metadata": {
        "id": "O5D5Pvgu5MrL",
        "colab": {
          "base_uri": "https://localhost:8080/"
        },
        "outputId": "596a6f11-8692-4397-81d7-c3d46c0fca2c"
      },
      "execution_count": null,
      "outputs": [
        {
          "output_type": "stream",
          "name": "stdout",
          "text": [
            "23\n"
          ]
        }
      ]
    },
    {
      "cell_type": "markdown",
      "source": [
        "This is great but not very interesting.\n",
        "To do anything useful with data, we need to assign its value to a _variable_.\n",
        "In Python, we can assign a value to a variable using the equals sign `=`.\n",
        "\n",
        "If a variable doesn’t already exist, when you assign to it, Python creates it on the fly. If you assign to a variable that already exists, Python replaces its current value with a new value.\n",
        "\n",
        "Examples\n",
        "\n",
        "    instructor = \"marc\"         # string value\n",
        "    instructor = \"my evil twin\" # same name, diff string value\n",
        "    instructor = 42             # same name, integer value\n",
        "    todays_high_temp = 71.3     # diff name, floating point value\n",
        "\n",
        "We can track the weight of a patient who weighs 60 kilograms by assigning the value `60` to a variable `weight_kg` and then printing the variable to display its current value."
      ],
      "metadata": {
        "id": "zi5ctjIY5j5n"
      }
    },
    {
      "cell_type": "code",
      "source": [
        "weight_kg = 60\n",
        "print(weight_kg)"
      ],
      "metadata": {
        "id": "epIQ2nJs5pdy",
        "colab": {
          "base_uri": "https://localhost:8080/"
        },
        "outputId": "f7032102-bd22-4bff-e7d9-2e1508fd11ab"
      },
      "execution_count": null,
      "outputs": [
        {
          "output_type": "stream",
          "name": "stdout",
          "text": [
            "60\n"
          ]
        }
      ]
    },
    {
      "cell_type": "markdown",
      "source": [
        "From now on, whenever we use `weight_kg`, Python will substitute the value we assigned to it. In other words, **a variable is a a reference to a value**.\n",
        "\n",
        "In Python, variable names:\n",
        "\n",
        " - can include letters, digits, and underscores\n",
        " - cannot start with a digit\n",
        " - are case sensitive\n",
        "\n",
        "This means that, for example:\n",
        " - `weight0` is a valid variable name, whereas `0weight` is not\n",
        " - `weight` and `Weight` are different variables"
      ],
      "metadata": {
        "id": "ei_aBfYIYmdI"
      }
    },
    {
      "cell_type": "markdown",
      "source": [
        "### Reserved Words\n",
        "\n",
        "The following words have special meaning in Python. We call them keywords or reserved words and you may not use these names for your program variables.\n",
        "\n",
        "> ```and, as, assert, async, await, break, class, continue, def, del, elif, else, except, False, finally, for, from, global, if, import, in, is, lambda, nonlocal, None, not, or, pass, raise, return, True, try, while, with, yield```"
      ],
      "metadata": {
        "id": "AQsH4eIdsUY_"
      }
    },
    {
      "cell_type": "markdown",
      "source": [
        "## Types of data\n",
        "Python knows about several types of data. Three common ones are:\n",
        "\n",
        "* integer numbers\n",
        "* floating point numbers\n",
        "* character strings\n",
        "\n",
        "In the example above, the variable `weight_kg` was assigned an integer value of `60`. If we want to more precisely track the weight of our patient,\n",
        "we can use a floating point value by executing:"
      ],
      "metadata": {
        "id": "2vVrIzu76Mka"
      }
    },
    {
      "cell_type": "code",
      "source": [
        "weight_kg = 60.3\n",
        "print(weight_kg)"
      ],
      "metadata": {
        "id": "Q-cUtwa26PKT",
        "colab": {
          "base_uri": "https://localhost:8080/"
        },
        "outputId": "bbb51c33-1a74-43fb-caf1-b82618ef64e8"
      },
      "execution_count": null,
      "outputs": [
        {
          "output_type": "stream",
          "name": "stdout",
          "text": [
            "60.3\n"
          ]
        }
      ]
    },
    {
      "cell_type": "markdown",
      "source": [
        "To create a string, we add single or double quotes around some text.\n",
        "To identify and track a patient throughout our study,\n",
        "we can assign each person a unique identifier by storing it in variable that stores a string value:"
      ],
      "metadata": {
        "id": "hRyCToPF6Uk7"
      }
    },
    {
      "cell_type": "code",
      "source": [
        "patient_id = \"001\"\n",
        "print(patient_id)"
      ],
      "metadata": {
        "id": "2g7XZo0m6X7Q",
        "colab": {
          "base_uri": "https://localhost:8080/"
        },
        "outputId": "e1ca23dd-818b-406f-8e96-8f59cf3ba8b4"
      },
      "execution_count": null,
      "outputs": [
        {
          "output_type": "stream",
          "name": "stdout",
          "text": [
            "001\n"
          ]
        }
      ]
    },
    {
      "cell_type": "markdown",
      "source": [
        "## Numeric Types\n",
        "\n",
        "Python supports two main types of numbers\n",
        "* int, arbitrary size signed integers, like these:\n",
        "  * `2024`\n",
        "  * `-999999999999`\n",
        "* float, arbitrary precision floating point numbers, like these:\n",
        "  * `3.14159`\n",
        "  * `3.8 * 10**6`\n",
        "\n",
        "For the most part, you don't need to worry about which type of number to use - Python will take care of that for you. The decimal point tells Python which to use.\n",
        "\n",
        "Mixing floats and ints results in a float so, for example, `2024 * 3.14` results in a floating point number.\n",
        "\n",
        "Try entering these expressions in the following cell:\n",
        "\n",
        "```\n",
        "print(5 - 6)  \n",
        "print(8 * 9)\n",
        "print(6 / 2)\n",
        "print(5.0 / 2)\n",
        "print(5 % 2)  \n",
        "print(2 * 10 + 3)  \n",
        "print(2 * (10 + 3))  \n",
        "print(2 ** 4)\n",
        "```\n",
        "Were there any outputs you didn't expect?"
      ],
      "metadata": {
        "id": "3IVQV7ajrzvM"
      }
    },
    {
      "cell_type": "code",
      "source": [
        "print(5 - 6)\n",
        "print(8 * 9)\n",
        "print(6 / 2)\n",
        "print(5.0 / 2)\n",
        "print(5 % 2)\n",
        "print(2 * 10 + 3)\n",
        "print(2 * (10 + 3))\n",
        "print(2 ** 4)"
      ],
      "metadata": {
        "id": "GxdsLvbqr2Bd",
        "colab": {
          "base_uri": "https://localhost:8080/"
        },
        "outputId": "9d239772-a0f7-42ec-bbe8-eb8afa3a497c"
      },
      "execution_count": null,
      "outputs": [
        {
          "output_type": "stream",
          "name": "stdout",
          "text": [
            "-1\n",
            "72\n",
            "3.0\n",
            "2.5\n",
            "1\n",
            "23\n",
            "26\n",
            "16\n"
          ]
        }
      ]
    },
    {
      "cell_type": "markdown",
      "source": [
        "## Expressions\n",
        "\n",
        "Once we have data stored with variable names, we can make use of those variables in our calculations. We call these combinations of variables and values  **expressions**. When evaluating an expression, Python internally replaces the variable names with the values to which they refer.\n",
        "\n",
        "For example, we may want to calculate our patient's weight in pounds:\n",
        "\n"
      ],
      "metadata": {
        "id": "S-j9OuQ96ofq"
      }
    },
    {
      "cell_type": "code",
      "source": [
        "weight_lb = 2.2 * weight_kg\n",
        "print(weight_lb)"
      ],
      "metadata": {
        "id": "gWSAZq0D6xpf",
        "colab": {
          "base_uri": "https://localhost:8080/"
        },
        "outputId": "0067f667-a6fc-4976-e4c6-69038c74c55a"
      },
      "execution_count": null,
      "outputs": [
        {
          "output_type": "stream",
          "name": "stdout",
          "text": [
            "132.66\n"
          ]
        }
      ]
    },
    {
      "cell_type": "markdown",
      "source": [
        "We might also decide to add a prefix to our character string representation of a patient ID:"
      ],
      "metadata": {
        "id": "hCZN9s236ucL"
      }
    },
    {
      "cell_type": "code",
      "source": [
        "patient_id = \"cardio_\" + patient_id\n",
        "print(patient_id)"
      ],
      "metadata": {
        "id": "gLIq7Z1u63VJ",
        "colab": {
          "base_uri": "https://localhost:8080/"
        },
        "outputId": "b022827c-6b6a-473d-b9cb-f81099b0de9d"
      },
      "execution_count": null,
      "outputs": [
        {
          "output_type": "stream",
          "name": "stdout",
          "text": [
            "cardio_001\n"
          ]
        }
      ]
    },
    {
      "cell_type": "markdown",
      "source": [
        "## Built-in Python functions\n",
        "\n",
        "To carry out common tasks with data and variables in Python,\n",
        "the language provides us with several built-in functions.\n",
        "To display information to the screen, we use the `print` function, which we've already seen:"
      ],
      "metadata": {
        "id": "8BnjHISr6-hN"
      }
    },
    {
      "cell_type": "code",
      "source": [
        "print(weight_lb)\n",
        "print(patient_id)"
      ],
      "metadata": {
        "id": "Igqiw5fJ7FLn",
        "outputId": "e96e7e2a-952a-4da3-ab2c-cfd99e7785ca",
        "colab": {
          "base_uri": "https://localhost:8080/"
        }
      },
      "execution_count": null,
      "outputs": [
        {
          "output_type": "stream",
          "name": "stdout",
          "text": [
            "132.66\n",
            "cardio_001\n"
          ]
        }
      ]
    },
    {
      "cell_type": "markdown",
      "source": [
        "When we want to make use of a function, referred to as **calling the function**, we follow its name by parentheses. The parentheses are important - if you leave them off, the function won't actually run!\n",
        "\n",
        "Sometimes you will include a set of comma separated values and/or variables inside the parentheses for the function to use. In the case of `print`,\n",
        "we include the parentheses any variables and values we want to display. We will learn more about how functions work and how to create our own in later lessons.\n",
        "\n",
        "We can display multiple things at once using only one `print` function call:"
      ],
      "metadata": {
        "id": "amsnF9L47gWd"
      }
    },
    {
      "cell_type": "code",
      "source": [
        "print(patient_id, \"weight in kilograms:\", weight_kg)"
      ],
      "metadata": {
        "id": "oQpyFVpi7ivD",
        "outputId": "a794ba09-df10-4c86-de37-8e0aa53a9e6c",
        "colab": {
          "base_uri": "https://localhost:8080/"
        }
      },
      "execution_count": null,
      "outputs": [
        {
          "output_type": "stream",
          "name": "stdout",
          "text": [
            "cardio_001 weight in kilograms: 60.3\n"
          ]
        }
      ]
    },
    {
      "cell_type": "markdown",
      "source": [
        "We can also call a function inside of another function call. For example, Python has a built-in function called `type` that tells you a value's data type:"
      ],
      "metadata": {
        "id": "WsHwduqt7vjX"
      }
    },
    {
      "cell_type": "code",
      "source": [
        "print(type(60.3))\n",
        "print(type(patient_id))"
      ],
      "metadata": {
        "id": "6ZCBafYK7yQk",
        "outputId": "7dfcf85f-df41-48cb-baac-98466de67ecd",
        "colab": {
          "base_uri": "https://localhost:8080/"
        }
      },
      "execution_count": null,
      "outputs": [
        {
          "output_type": "stream",
          "name": "stdout",
          "text": [
            "<class 'float'>\n",
            "<class 'str'>\n"
          ]
        }
      ]
    },
    {
      "cell_type": "markdown",
      "source": [
        "We can also do calculations as part of a function call by passing an expression to `print`:"
      ],
      "metadata": {
        "id": "OvDZ69F373aO"
      }
    },
    {
      "cell_type": "code",
      "source": [
        "print(\"weight in pounds:\", 2.2 * weight_kg)"
      ],
      "metadata": {
        "id": "oMNmpxlC75fA",
        "outputId": "9d71f71f-0ca8-4bf9-cd11-05e1c680f495",
        "colab": {
          "base_uri": "https://localhost:8080/"
        }
      },
      "execution_count": null,
      "outputs": [
        {
          "output_type": "stream",
          "name": "stdout",
          "text": [
            "weight in pounds: 132.66\n"
          ]
        }
      ]
    },
    {
      "cell_type": "markdown",
      "source": [
        "Note that the above function call did not change the value of `weight_kg`:"
      ],
      "metadata": {
        "id": "BxsTLSDG8GbK"
      }
    },
    {
      "cell_type": "code",
      "source": [
        "print(weight_kg)"
      ],
      "metadata": {
        "id": "aK3sN7nO8DWx",
        "outputId": "52a3e1a0-afde-44ba-88f0-407d6f75ce1d",
        "colab": {
          "base_uri": "https://localhost:8080/"
        }
      },
      "execution_count": null,
      "outputs": [
        {
          "output_type": "stream",
          "name": "stdout",
          "text": [
            "60.3\n"
          ]
        }
      ]
    },
    {
      "cell_type": "markdown",
      "source": [
        "To change the value of the `weight_kg` variable, we have to\n",
        "**assign** a new value to `weight_kg` using the equals `=` sign, as we did above:"
      ],
      "metadata": {
        "id": "3UrH-otn8OJL"
      }
    },
    {
      "cell_type": "code",
      "source": [
        "print(\"weight in kilograms before assignment statement:\", weight_kg)\n",
        "weight_kg = 65.0\n",
        "print(\"weight in kilograms after assignment statement:\", weight_kg)"
      ],
      "metadata": {
        "id": "b3Stj4VQ8Qhn",
        "outputId": "4887a10b-3b81-4090-f6d5-6ee47346a6f2",
        "colab": {
          "base_uri": "https://localhost:8080/"
        }
      },
      "execution_count": null,
      "outputs": [
        {
          "output_type": "stream",
          "name": "stdout",
          "text": [
            "weight in kilograms before assignment statement: 63.0\n",
            "weight in kilograms after assignment statement: 65.0\n"
          ]
        }
      ]
    },
    {
      "cell_type": "markdown",
      "source": [
        "## Variables as Sticky Notes *(courtesy of Software Carpentry)*\n",
        "\n",
        "A variable in Python is analogous to a sticky note with a name written on it:\n",
        "assigning a value to a variable is like putting that sticky note on a particular value.\n",
        "\n",
        "![Value of 65.0 with weight_kg label stuck on it](https://raw.githubusercontent.com/mco-gh/python-novice-inflammation/gh-pages/fig/python-sticky-note-variables-01.svg)\n",
        "\n",
        "Using this analogy, we can investigate how assigning a value to one variable\n",
        "does **not** change values of other, seemingly related, variables.  For\n",
        "example, let's store the subject's weight in pounds in its own variable:"
      ],
      "metadata": {
        "id": "m4VdNmAm8pr7"
      }
    },
    {
      "cell_type": "code",
      "source": [
        "# There are 2.2 pounds per kilogram\n",
        "weight_lb = 2.2 * weight_kg\n",
        "print(\"weight in kilograms:\", weight_kg, \"and in pounds:\", weight_lb)\n"
      ],
      "metadata": {
        "id": "gYSnDfGx8y9r",
        "outputId": "d7eb4a94-0763-4a42-c12f-dcdfcc7c0197",
        "colab": {
          "base_uri": "https://localhost:8080/"
        }
      },
      "execution_count": null,
      "outputs": [
        {
          "output_type": "stream",
          "name": "stdout",
          "text": [
            "weight in kilograms: 65.0 and in pounds: 143.0\n"
          ]
        }
      ]
    },
    {
      "cell_type": "markdown",
      "source": [
        "![Value of 65.0 with weight_kg label stuck on it, and value of 143.0 with weight_lb label stuck on it](https://raw.githubusercontent.com/mco-gh/python-novice-inflammation/gh-pages/fig/python-sticky-note-variables-02.svg)\n",
        "\n",
        "Similar to above, the expression `2.2 * weight_kg` is evaluated to `143.0`,\n",
        "and then this value is assigned to the variable `weight_lb` (i.e. the sticky\n",
        "note `weight_lb` is placed on `143.0`). At this point, each variable is\n",
        "\"stuck\" to completely distinct and unrelated values.\n",
        "\n",
        "Let's now change `weight_kg`:"
      ],
      "metadata": {
        "id": "uxMEUja_9IbJ"
      }
    },
    {
      "cell_type": "code",
      "source": [
        "weight_kg = 100.0\n",
        "print(\"weight in kilograms is now:\", weight_kg, \"and weight in pounds is still:\", weight_lb)"
      ],
      "metadata": {
        "id": "pL0RVhFq9NEu",
        "outputId": "819ce113-6fe6-4c16-a225-7d6d9c85e117",
        "colab": {
          "base_uri": "https://localhost:8080/"
        }
      },
      "execution_count": null,
      "outputs": [
        {
          "output_type": "stream",
          "name": "stdout",
          "text": [
            "weight in kilograms is now: 100.0 and weight in pounds is still: 143.0\n"
          ]
        }
      ]
    },
    {
      "cell_type": "markdown",
      "source": [
        "![Value of 100.0 with label weight_kg stuck on it, and value of 143.0 with label weight_lb stuck on it](https://raw.githubusercontent.com/mco-gh/python-novice-inflammation/gh-pages/fig/python-sticky-note-variables-03.svg)\n",
        "\n",
        "Since `weight_lb` doesn't \"remember\" where its value comes from,\n",
        "it is not updated when we change `weight_kg`."
      ],
      "metadata": {
        "id": "tN_Yusov9Xx9"
      }
    },
    {
      "cell_type": "markdown",
      "source": [
        "## Undefined Variables\n",
        "\n",
        "If you try to access a variable before it has been defined, Python will report an error, basically saying \"I don't know what to do with that reference because the variable doesn't exist\".\n",
        "What values do the variables `mass` and `age` have after each of the following statements?\n",
        "\n",
        "Guess before executing the lines below..."
      ],
      "metadata": {
        "id": "VulGkaqP9jMp"
      }
    },
    {
      "cell_type": "code",
      "source": [
        "mass = 47.5\n",
        "print(\"mass is\", mass)\n",
        "print(\"age is\", age)"
      ],
      "metadata": {
        "id": "ppi8ti6d9rd8",
        "colab": {
          "base_uri": "https://localhost:8080/",
          "height": 198
        },
        "outputId": "25ac9313-f383-4079-cdcb-50a53129b07c"
      },
      "execution_count": null,
      "outputs": [
        {
          "output_type": "stream",
          "name": "stdout",
          "text": [
            "mass is 47.5\n"
          ]
        },
        {
          "output_type": "error",
          "ename": "NameError",
          "evalue": "name 'age' is not defined",
          "traceback": [
            "\u001b[0;31m---------------------------------------------------------------------------\u001b[0m",
            "\u001b[0;31mNameError\u001b[0m                                 Traceback (most recent call last)",
            "\u001b[0;32m<ipython-input-21-e5082b1d70e7>\u001b[0m in \u001b[0;36m<cell line: 3>\u001b[0;34m()\u001b[0m\n\u001b[1;32m      1\u001b[0m \u001b[0mmass\u001b[0m \u001b[0;34m=\u001b[0m \u001b[0;36m47.5\u001b[0m\u001b[0;34m\u001b[0m\u001b[0;34m\u001b[0m\u001b[0m\n\u001b[1;32m      2\u001b[0m \u001b[0mprint\u001b[0m\u001b[0;34m(\u001b[0m\u001b[0;34m\"mass is\"\u001b[0m\u001b[0;34m,\u001b[0m \u001b[0mmass\u001b[0m\u001b[0;34m)\u001b[0m\u001b[0;34m\u001b[0m\u001b[0;34m\u001b[0m\u001b[0m\n\u001b[0;32m----> 3\u001b[0;31m \u001b[0mprint\u001b[0m\u001b[0;34m(\u001b[0m\u001b[0;34m\"age is\"\u001b[0m\u001b[0;34m,\u001b[0m \u001b[0mage\u001b[0m\u001b[0;34m)\u001b[0m\u001b[0;34m\u001b[0m\u001b[0;34m\u001b[0m\u001b[0m\n\u001b[0m",
            "\u001b[0;31mNameError\u001b[0m: name 'age' is not defined"
          ]
        }
      ]
    },
    {
      "cell_type": "code",
      "source": [
        "age = 122\n",
        "print(\"mass is\", mass)\n",
        "print(\"age is\", age)"
      ],
      "metadata": {
        "id": "OrBQpVQXa2uS",
        "colab": {
          "base_uri": "https://localhost:8080/"
        },
        "outputId": "c4a9e653-b471-429c-8118-bd539a579b49"
      },
      "execution_count": null,
      "outputs": [
        {
          "output_type": "stream",
          "name": "stdout",
          "text": [
            "mass is 47.5\n",
            "age is 122\n"
          ]
        }
      ]
    },
    {
      "cell_type": "code",
      "source": [
        "mass = mass * 2.0\n",
        "print(\"mass is\", mass)\n",
        "print(\"age is\", age)"
      ],
      "metadata": {
        "id": "0PEer3Jaa5gr",
        "outputId": "67b5964e-2094-42e3-b727-35d4d37550e2",
        "colab": {
          "base_uri": "https://localhost:8080/"
        }
      },
      "execution_count": null,
      "outputs": [
        {
          "output_type": "stream",
          "name": "stdout",
          "text": [
            "mass is 95.0\n",
            "age is 122\n"
          ]
        }
      ]
    },
    {
      "cell_type": "code",
      "source": [
        "age = age - 20\n",
        "print(\"mass is\", mass)\n",
        "print(\"age is\", age)"
      ],
      "metadata": {
        "id": "YqBUCO2Ua7Vk",
        "outputId": "a5944000-c54c-4089-f75a-d7c0beba4849",
        "colab": {
          "base_uri": "https://localhost:8080/"
        }
      },
      "execution_count": null,
      "outputs": [
        {
          "output_type": "stream",
          "name": "stdout",
          "text": [
            "mass is 95.0\n",
            "age is 102\n"
          ]
        }
      ]
    },
    {
      "cell_type": "markdown",
      "source": [
        "## Seeing Data Types\n",
        "\n",
        "What are the data types of the following variables? Try to guess before executing the cell."
      ],
      "metadata": {
        "id": "x4zDBM9f-uLp"
      }
    },
    {
      "cell_type": "code",
      "source": [
        "planet = \"Earth\"\n",
        "apples = 5\n",
        "distance = 10.5\n",
        "print(type(planet))\n",
        "print(type(apples))\n",
        "print(type(distance))"
      ],
      "metadata": {
        "id": "qyyiKScY-oHZ",
        "colab": {
          "base_uri": "https://localhost:8080/"
        },
        "outputId": "813853c0-ff80-4228-a362-671bde551db8"
      },
      "execution_count": null,
      "outputs": [
        {
          "output_type": "stream",
          "name": "stdout",
          "text": [
            "<class 'str'>\n",
            "<class 'int'>\n",
            "<class 'float'>\n"
          ]
        }
      ]
    },
    {
      "cell_type": "markdown",
      "source": [
        "## Key Points\n",
        "- Basic data types in Python include integers, strings, and floating-point numbers (there are others but we'll start with these).\n",
        "- Use `variable = value` to assign a value to a variable in order to store it in memory.\n",
        "- Variables are created on demand whenever values are assigned to them.\n",
        "- Use `print(something)` to display the value of `something`.\n",
        "- Built-in functions, like `print` are always available to use."
      ],
      "metadata": {
        "id": "kwFCzCqXIGqs"
      }
    },
    {
      "cell_type": "markdown",
      "source": [
        "# Homework"
      ],
      "metadata": {
        "id": "XJ8BP2vbb2F0"
      }
    },
    {
      "cell_type": "markdown",
      "source": [
        "Which of the following are legal Python variable names? First make a guess then copy these assignment statements into the next cell and run them.\n",
        "```\n",
        "average = 1\n",
        "Max = 1\n",
        "LadyGaGa = 1  \n",
        "_Lady_Ga_Ga = 1\n",
        "FiftyYardLine = 1    \n",
        "50_yard_line = 1  \n",
        "yard_line_50 = 1  \n",
        "raise = 1  \n",
        "my-cat-is-awesome = 1\n",
        "my_cat_is_awesome = 1  \n",
        "```"
      ],
      "metadata": {
        "id": "J72xu17T1E3F"
      }
    },
    {
      "cell_type": "code",
      "source": [],
      "metadata": {
        "id": "jVRpXn1Y1H2Q"
      },
      "execution_count": null,
      "outputs": []
    },
    {
      "cell_type": "markdown",
      "source": [
        "In one statement, calculate and print your weekly pay if you earn $100 a day in a five day work week.\n",
        "\n"
      ],
      "metadata": {
        "id": "HeLdyFLbb7P0"
      }
    },
    {
      "cell_type": "code",
      "source": [],
      "metadata": {
        "id": "-TmtupM-b6UN"
      },
      "execution_count": null,
      "outputs": []
    },
    {
      "cell_type": "markdown",
      "source": [
        "Store your daily pay rate in a variable and use the variable to calculate and print your weekly pay."
      ],
      "metadata": {
        "id": "5Q2cc0sBcJBM"
      }
    },
    {
      "cell_type": "code",
      "source": [],
      "metadata": {
        "id": "xmDX9SqScEj0"
      },
      "execution_count": null,
      "outputs": []
    },
    {
      "cell_type": "markdown",
      "source": [
        "Congratulations - you just got a raise. Your new daily pay rate is $120. Assign a new value to the daily pay variable, then calculate and print your new weekly pay."
      ],
      "metadata": {
        "id": "u8qUUJCWcbBo"
      }
    },
    {
      "cell_type": "code",
      "source": [],
      "metadata": {
        "id": "VHUIaTuCcxpa"
      },
      "execution_count": null,
      "outputs": []
    },
    {
      "cell_type": "markdown",
      "source": [
        "Store the number of days in a week in a variable, then calculate and print your weekly pay."
      ],
      "metadata": {
        "id": "DrJeGgybcy31"
      }
    },
    {
      "cell_type": "code",
      "source": [],
      "metadata": {
        "id": "1o4--aFsc4ml"
      },
      "execution_count": null,
      "outputs": []
    },
    {
      "cell_type": "markdown",
      "source": [
        "Calculate and print your weekly, monthly, and annual pay using only variables. Assume 5 workdays per week, 20 workdays per month and 240 workdays per year."
      ],
      "metadata": {
        "id": "qi66Z8TOdPuw"
      }
    },
    {
      "cell_type": "code",
      "source": [],
      "metadata": {
        "id": "TGi5ARZpdnt6"
      },
      "execution_count": null,
      "outputs": []
    },
    {
      "cell_type": "markdown",
      "source": [
        "Print the your first, middle, and last name, each on a separate line.\n",
        "\n"
      ],
      "metadata": {
        "id": "Dtag2RwKdpEx"
      }
    },
    {
      "cell_type": "code",
      "source": [],
      "metadata": {
        "id": "NKZymN6Idwe-"
      },
      "execution_count": null,
      "outputs": []
    },
    {
      "cell_type": "markdown",
      "source": [
        "Print the your first, middle, and last name, all on one line.\n"
      ],
      "metadata": {
        "id": "stkouGzNdxFE"
      }
    },
    {
      "cell_type": "code",
      "source": [],
      "metadata": {
        "id": "CcIX7JBJd2xK"
      },
      "execution_count": null,
      "outputs": []
    },
    {
      "cell_type": "markdown",
      "source": [
        "From the menu bar, select Tools->Command Palette to see a list of the commands you can execute inside a Colab notebook. Most of these commands are intuitively named. For example, to save your notebook in Google Drive, run \"Save notebook\" now from the command palette. You can find it quickly by typing \"save\" in the search box.\n",
        "\n",
        "Don't worry if you're not sure what some of the commands in the command palette do. For now, I just want you to know about this resource."
      ],
      "metadata": {
        "id": "LZ1IS0jSpZi0"
      }
    },
    {
      "cell_type": "markdown",
      "source": [
        "Congratulations for making it this far! Your last assignment is to watch this [short video](https://www.youtube.com/watch?v=inN8seMm7UI) and take a [quick tour of Colab](https://colab.research.google.com/notebooks/intro.ipynb)."
      ],
      "metadata": {
        "id": "2gpMPXdRf9GE"
      }
    },
    {
      "cell_type": "markdown",
      "source": [
        "**It's a good idea to save your work after a notebook session.** You can use the command palette to do this, as you just did in the previous cell, but since this is a common function, you'll see an easier way to save your notebook via the File->Save menu item.\n",
        "\n"
      ],
      "metadata": {
        "id": "VbfEFfZvq55E"
      }
    },
    {
      "cell_type": "markdown",
      "source": [
        "[Previous Lesson](https://pylearn.io/lessons/1-welcome/)\n",
        "&nbsp;&nbsp;&nbsp;&nbsp;&nbsp;&nbsp;&nbsp;&nbsp;&nbsp;&nbsp;\n",
        "[Next Lesson](https://pylearn.io/lessons/3-Expressions/)"
      ],
      "metadata": {
        "id": "SR3FUvVKkFQP"
      }
    }
  ]
}