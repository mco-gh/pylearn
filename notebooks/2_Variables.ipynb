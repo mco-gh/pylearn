{
  "nbformat": 4,
  "nbformat_minor": 0,
  "metadata": {
    "colab": {
      "provenance": [],
      "toc_visible": true,
      "include_colab_link": true
    },
    "kernelspec": {
      "name": "python3",
      "display_name": "Python 3"
    },
    "language_info": {
      "name": "python"
    }
  },
  "cells": [
    {
      "cell_type": "markdown",
      "metadata": {
        "id": "view-in-github",
        "colab_type": "text"
      },
      "source": [
        "<a href=\"https://colab.research.google.com/github/mco-gh/pylearn/blob/master/notebooks/2_Variables.ipynb\" target=\"_parent\"><img src=\"https://colab.research.google.com/assets/colab-badge.svg\" alt=\"Open In Colab\"/></a>"
      ]
    },
    {
      "cell_type": "markdown",
      "source": [
        "# Lesson 2 - Types, Variables, Assignment\n",
        "\n",
        "**You should make your own copy of this notebook by selecting File->Save a copy in Drive from the menu bar above.**\n",
        "\n",
        "- <a target=\"_blank\" href=\"https://colab.research.google.com/github/mco-gh/pylearn/blob/master/notebooks/2_Variables.ipynb\">Open this notebook in Colab</a>\n",
        "- <a target=\"_blank\" href=\"https://github.com/mco-gh/pylearn/blob/master/notebooks/2_Variables.ipynb\">Open this notebook in Github</a>\n",
        "\n",
        "Things you'll learn in this lesson:\n",
        "- The basic data types you can work with in Python\n",
        "- What are variables and why they are useful\n",
        "- How to create and assign values to variables in Python\n",
        "- How to call a built-in function\n",
        "\n",
        "[Previous Lesson](https://pylearn.io/lessons/1-welcome/)\n",
        "&nbsp;&nbsp;&nbsp;&nbsp;&nbsp;&nbsp;&nbsp;&nbsp;&nbsp;&nbsp;\n",
        "[Next Lesson](https://pylearn.io/lessons/3-Expressions/)"
      ],
      "metadata": {
        "id": "pB15rzv-5A-i"
      }
    },
    {
      "cell_type": "markdown",
      "source": [
        "## To do\n",
        "- fix missing \"seeing types\" section"
      ],
      "metadata": {
        "id": "JTdVqrDXyIQC"
      }
    },
    {
      "cell_type": "markdown",
      "source": [
        "## Data Types\n",
        "Python knows about several types of data. Three common ones are:\n",
        "\n",
        "* integer numbers\n",
        "* floating point numbers\n",
        "* character strings\n",
        "\n",
        "In the example above, the variable `weight_kg` was assigned an integer value of `60`. If we want to more precisely track the weight of our patient,\n",
        "we can use a floating point value by executing:"
      ],
      "metadata": {
        "id": "2vVrIzu76Mka"
      }
    },
    {
      "cell_type": "code",
      "source": [
        "weight_kg = 60.3\n",
        "print(weight_kg)"
      ],
      "metadata": {
        "id": "Q-cUtwa26PKT"
      },
      "execution_count": null,
      "outputs": []
    },
    {
      "cell_type": "markdown",
      "source": [
        "To create a string, we add single or double quotes around some text.\n",
        "To identify and track a patient throughout our study,\n",
        "we can assign each person a unique identifier by storing it in variable that stores a string value:"
      ],
      "metadata": {
        "id": "hRyCToPF6Uk7"
      }
    },
    {
      "cell_type": "code",
      "source": [
        "patient_id = \"001\"\n",
        "print(patient_id)"
      ],
      "metadata": {
        "id": "2g7XZo0m6X7Q"
      },
      "execution_count": null,
      "outputs": []
    },
    {
      "cell_type": "markdown",
      "source": [
        "### Numeric Types\n",
        "\n",
        "Python supports two main types of numbers\n",
        "* int, arbitrary size signed integers, like these:\n",
        "  * `2024`\n",
        "  * `-999999999999`\n",
        "* float, arbitrary precision floating point numbers, like these:\n",
        "  * `3.14159`\n",
        "  * `3.8 * 10**6`\n",
        "\n",
        "For the most part, you don't need to worry about which type of number to use - Python will take care of that for you. The decimal point tells Python which to use.\n",
        "\n",
        "Mixing floats and ints results in a float so, for example, `2024 * 3.14` results in a floating point number.\n",
        "\n",
        "Try entering these expressions in the following cell:\n",
        "\n",
        "```\n",
        "print(5 - 6)  \n",
        "print(8 * 9)\n",
        "print(6 / 2)\n",
        "print(5.0 / 2)\n",
        "print(5 % 2)  \n",
        "print(2 * 10 + 3)  \n",
        "print(2 * (10 + 3))  \n",
        "print(2 ** 4)\n",
        "```\n",
        "Were there any outputs you didn't expect?"
      ],
      "metadata": {
        "id": "3IVQV7ajrzvM"
      }
    },
    {
      "cell_type": "code",
      "source": [
        "print(5 - 6)\n",
        "print(8 * 9)\n",
        "print(6 / 2)\n",
        "print(5.0 / 2)\n",
        "print(5 % 2)\n",
        "print(2 * 10 + 3)\n",
        "print(2 * (10 + 3))\n",
        "print(2 ** 4)"
      ],
      "metadata": {
        "id": "GxdsLvbqr2Bd"
      },
      "execution_count": null,
      "outputs": []
    },
    {
      "cell_type": "markdown",
      "metadata": {
        "id": "O0fBxynG9PjI"
      },
      "source": [
        "### Numerical/Arithmetic Operators\n",
        "\n",
        "| operator | operation on numbers | operation on strings |\n",
        "|----------|----------------------|---------------------|\n",
        "+|addition|concatenation\n",
        "-|subtraction|undefined\n",
        "*|multiplication|repetition\n",
        "//|integer division|undefined\n",
        "/|real division|undefined\n",
        "%|modulus (remainder)|undefined\n",
        "**|exponentiation|undefined\n",
        "()|prioritization|prioritization\n"
      ]
    },
    {
      "cell_type": "markdown",
      "source": [
        "### Seeing Data Types\n",
        "\n",
        "What are the data types of the following variables? Try to guess before executing the cell."
      ],
      "metadata": {
        "id": "x4zDBM9f-uLp"
      }
    },
    {
      "cell_type": "markdown",
      "metadata": {
        "id": "afAWHnWGxReQ"
      },
      "source": [
        "## Strings"
      ]
    },
    {
      "cell_type": "markdown",
      "metadata": {
        "id": "ZiSHYYkp8_Ss"
      },
      "source": [
        "### Rules of the Road\n",
        "\n",
        "* a character string (or just string) is a sequence of characters surrounded by quotes\n",
        "* strings give you the ability to operate on a sequence of characters as a basic unit\n",
        "* strings are an example of a general category of data types called sequences, which we'll see more of later\n",
        "* you can use single or double quotes to delineate strings but you must be consistent within a string\n",
        "* `\"this works\"` and `'this works'` too\n",
        "* `\"this is not ok'`, `'nor is this\"`"
      ]
    },
    {
      "cell_type": "markdown",
      "metadata": {
        "id": "nZ4sLkasxbtl"
      },
      "source": [
        "### Embedded Quotes\n",
        "\n",
        "How to embed a single or double quote inside a string?\n",
        "\n",
        "You can embed a single quote in a double quoted string:\n",
        "\n",
        "```\n",
        "\"this string's fine\"\n",
        "'but this doesn't work'\n",
        "```\n",
        "You can embed a double quote in a single quoted string:\n",
        "\n",
        "```\n",
        "'but this string is \"A-OK\"'\n",
        "\"but this \"example\" fails\"\n",
        "```\n",
        "\n",
        "You can also \"escape\" a single or double quote with the backslash character:\n",
        "\n",
        "```\n",
        "'Marc\\'s string'\n",
        "\"I like \\\"The Office\\\"\"\n",
        "```"
      ]
    },
    {
      "cell_type": "markdown",
      "metadata": {
        "id": "eE7cGSJ4xjen"
      },
      "source": [
        "### Escape Sequences\n",
        "\n",
        "These are useful for embedding special characters in a string.\n",
        "\n",
        "|character|escape sequence|\n",
        "|---------|---------------|\n",
        "|tab|\\t|\n",
        "|newline|\\n|\n",
        "|single quote|\\\\'|\n",
        "|double quote|\\\\\"|\n",
        "|backslash|\\\\\\\\|\n",
        "\n",
        "Examples are shown in the next cell..."
      ]
    },
    {
      "cell_type": "code",
      "metadata": {
        "id": "VoJV0fIVBUk6"
      },
      "source": [
        "# escape sequence examples\n",
        "\n",
        "print(\"Quoth the raven: \\\"nevermore\\\".\")\n",
        "print('My country \\'tis of thee')\n",
        "print('line1\\nline2\\nline3')\n",
        "print(\"field1\\tfield2\\tfield3\")\n",
        "print('c:\\\\directory\\\\file')\n",
        "print('several escape sequences:\\n1/1\\t1/2\\n2/1\\t2/2')"
      ],
      "execution_count": null,
      "outputs": []
    },
    {
      "cell_type": "markdown",
      "metadata": {
        "id": "d3OG7VgfBbad"
      },
      "source": [
        "### Triple Quoted Strings\n",
        "Sometimes you want to define a long string, that spans multiple lines, or a string containing embedded single and/or double quotes and don't want to use a lot of escape characters. Triple quoted strings are perfect for this job:\n"
      ]
    },
    {
      "cell_type": "code",
      "metadata": {
        "id": "kTb8D79_-9ab"
      },
      "source": [
        "longstr = \"\"\"\n",
        "    This is a triple quoted string.\n",
        "    It goes on for multiple lines.\n",
        "    It contains things like ' and \",\n",
        "    which would normally have to be escaped,\n",
        "    but anything goes in a triple quoted string.\n",
        "\"\"\"\n",
        "print(longstr)"
      ],
      "execution_count": null,
      "outputs": []
    },
    {
      "cell_type": "markdown",
      "metadata": {
        "id": "U6_Uyn6o_h18"
      },
      "source": [
        "### Challenge\n",
        "\n",
        "For each of the following examples tell me if it’s a legal Python string...\n",
        "1. `'Go ahead, make my day.'`\n",
        "1. `\"There's no place like home.\"`\n",
        "1. `'Frankly my dear, I don't give a damn'`\n",
        "1. `'Say \"hello\" to my little friend'`\n",
        "1. `\"You\\'re gonna need a bigger boat\"`\n",
        "1. `'\"You talkin' to me?\"'`\n",
        "1. `'Fasten your seatbelts, it\\'s going to be a bumpy night'`\n",
        "1. `'''Striker: \"Surely you can't be serious!\" Rumack: \"I am serious... and don't call me Shirley\".'''`\n",
        "1. `\"You had me at \"hello\".\"`"
      ]
    },
    {
      "cell_type": "markdown",
      "metadata": {
        "id": "3bfkPbusByKw"
      },
      "source": [
        "### String Operators\n",
        "\n",
        "`+` and `*` can be used to operate on strings.\n",
        "\n",
        "Try the code in the cell below. One of these raises an error. What do you think the error message means?\n"
      ]
    },
    {
      "cell_type": "code",
      "metadata": {
        "id": "WZ8aMDPRB9MR"
      },
      "source": [
        "print(\"Cat\")\n",
        "print(\"Cat\" + \"videos\")\n",
        "print(\"Clyro \" * 3)\n",
        "print(\"Cat\" + 3)"
      ],
      "execution_count": null,
      "outputs": []
    },
    {
      "cell_type": "code",
      "metadata": {
        "id": "SSz69zY2ZDud"
      },
      "source": [
        "# To notice:  33 (the integer) is different from \"33\" (the string)\n",
        "\n",
        "print(33 + 33)\n",
        "print(type(33+33))\n",
        "print()\n",
        "print(\"33\" + \"33\")\n",
        "print(type(\"33\" + \"33\"))"
      ],
      "execution_count": null,
      "outputs": []
    },
    {
      "cell_type": "markdown",
      "metadata": {
        "id": "Ih6MKmdyDBhq"
      },
      "source": [
        "### Converting to a string\n",
        "\n",
        "You can use the `str()` function to convert a numeric type into a string, like this:"
      ]
    },
    {
      "cell_type": "code",
      "metadata": {
        "id": "ea8N8OfeYlG8"
      },
      "source": [
        "print(\"cat\" + \"3\")\n",
        "print(\"Cat\" + str(3))"
      ],
      "execution_count": null,
      "outputs": []
    },
    {
      "cell_type": "markdown",
      "metadata": {
        "id": "RnJurLxLB_f0"
      },
      "source": [
        "### String Methods\n",
        "\n",
        "* Method: A repeatable piece of code that completes a task for a specific data-type.\n",
        "\n",
        "* We invoke a method using the `.` syntax, e.g. `mystr.upper()`.\n",
        "\n",
        "* Methods are specific to a data-type\n",
        "e.g. `.upper()` can be used with a string but not an integer or a float\n"
      ]
    },
    {
      "cell_type": "code",
      "metadata": {
        "id": "7uVkKkGzCE94"
      },
      "source": [
        "print(\"Cat\".upper())\n",
        "print(\"Cat\".lower())\n",
        "print(\"the lord of the rings\".title())\n",
        "name = 'romi'.title()\n",
        "print(name)"
      ],
      "execution_count": null,
      "outputs": []
    },
    {
      "cell_type": "markdown",
      "metadata": {
        "id": "CohaSQmA03ih"
      },
      "source": [
        "### Challenge\n",
        "\n",
        "In the next cell, create a program that calculates how many cans of cat food you need to feed 10 cats. You will need:\n",
        "\n",
        "* A variable for the number of cats\n",
        "* A variable for the number of cans each cat eats in a day\n",
        "* A `print()` function call to output the result\n",
        "\n",
        "Extension: change the calculation to work out the amount needed for 7 days."
      ]
    },
    {
      "cell_type": "code",
      "metadata": {
        "id": "fL8IZEIw03ii"
      },
      "source": [
        "# Add your cat food program here."
      ],
      "execution_count": null,
      "outputs": []
    },
    {
      "cell_type": "markdown",
      "metadata": {
        "id": "px9RPSdDF4ai"
      },
      "source": [
        "In the following cell, rewrite cat_food.py to use f-string instead of joining strings with + ."
      ]
    },
    {
      "cell_type": "code",
      "metadata": {
        "id": "RlIJ-7GP0TL_"
      },
      "source": [
        "# Add your revised cat food program here."
      ],
      "execution_count": null,
      "outputs": []
    },
    {
      "cell_type": "markdown",
      "metadata": {
        "id": "FAsOgYuWA8R3"
      },
      "source": [
        "## Variables"
      ]
    },
    {
      "cell_type": "markdown",
      "metadata": {
        "id": "mIz2S_4vGnoc"
      },
      "source": [
        "### Variable Naming Rules\n",
        "\n",
        "There are some special rules governing variable names:\n",
        "\n",
        "* variable names may start with a letter or an underscore\n",
        "* the rest of the letters in the name may be letters, numbers or underscore\n",
        "case is significant\n",
        "* `name` is different from `NAME`, which is different from `NaMe`\n",
        "\n",
        "## Reserved Words\n",
        "\n",
        "The following words have special meaning in Python. We call them keywords or reserved words and you may not use these names for your variables.\n",
        "\n",
        "> ```and, as, assert, break, class, continue, def, del, elif, else, except, False, finally, for, from, global, if, import, in, is, lambda, nonlocal, None, not, or, pass, raise, return, True, try, while, with, yield```\n",
        "\n",
        "Try using one of these as a variable and see what happens...\n",
        "\n"
      ]
    },
    {
      "cell_type": "markdown",
      "source": [
        "### Reserved Words\n",
        "\n",
        "The following words have special meaning in Python. We call them keywords or reserved words and you may not use these names for your program variables.\n",
        "\n",
        "> ```and, as, assert, async, await, break, class, continue, def, del, elif, else, except, False, finally, for, from, global, if, import, in, is, lambda, nonlocal, None, not, or, pass, raise, return, True, try, while, with, yield```"
      ],
      "metadata": {
        "id": "AQsH4eIdsUY_"
      }
    },
    {
      "cell_type": "markdown",
      "source": [
        "### Constants vs. Variables\n",
        "\n",
        "* Literal values (like `\"marc\"` and `2024`) are called constants because their value is fixed, unlike variables, whose associated value may change (or *vary*) over time.\n",
        "\n",
        "* The data a variable refers to may be simple, e.g. a number or a string, or it may be complex, e.g. a list or an object (we'll learn about those later)."
      ],
      "metadata": {
        "id": "IpvP1cdrMj7N"
      }
    },
    {
      "cell_type": "markdown",
      "metadata": {
        "id": "gI3Ac_xEDmn5"
      },
      "source": [
        "## F (format) Strings\n",
        "\n",
        "Python has a special type of string called a format (or 'f') string, which enables you to \"interpolate\" a variable into a string, like this:"
      ]
    },
    {
      "cell_type": "code",
      "metadata": {
        "id": "5IrjaVam0DBu"
      },
      "source": [
        "x = 3.14\n",
        "msg = f'My name is {x}'\n",
        "print(msg)"
      ],
      "execution_count": null,
      "outputs": []
    },
    {
      "cell_type": "code",
      "metadata": {
        "id": "088hUfC7Ebix"
      },
      "source": [
        "# The hard way to format strings...\n",
        "\n",
        "fruit = 'oranges'\n",
        "quantity = 12\n",
        "unit_cost = 0.50\n",
        "total_cost = unit_cost * quantity\n",
        "output = str(quantity) + ' ' + fruit + ' ' + 'cost £' + str(total_cost)\n",
        "print(output)\n"
      ],
      "execution_count": null,
      "outputs": []
    },
    {
      "cell_type": "code",
      "metadata": {
        "id": "2kkzCGPqEDaF"
      },
      "source": [
        "# The easy way to format strings...\n",
        "\n",
        "fruit = 'oranges'\n",
        "quantity = 12\n",
        "unit_cost = 0.50\n",
        "total_cost = unit_cost * quantity\n",
        "output = f'{quantity} {fruit} cost £{total_cost:.2f}'\n",
        "print(output)"
      ],
      "execution_count": null,
      "outputs": []
    },
    {
      "cell_type": "markdown",
      "metadata": {
        "id": "HiLgf5coGVZJ"
      },
      "source": [
        "Variables are names - a reusable label for a data value\n",
        "\n"
      ]
    },
    {
      "cell_type": "code",
      "metadata": {
        "id": "ZwVDSRQmGeeb"
      },
      "source": [
        "name = 'Marc'\n",
        "print(name)\n",
        "name = 3.14\n",
        "print(name)\n",
        "name = 'Benji'\n",
        "print(name)"
      ],
      "execution_count": null,
      "outputs": []
    },
    {
      "cell_type": "code",
      "metadata": {
        "id": "3HHZxMfZHA-8"
      },
      "source": [
        "False = 'Marc'"
      ],
      "execution_count": null,
      "outputs": []
    },
    {
      "cell_type": "markdown",
      "metadata": {
        "id": "Koyp75jKHNmt"
      },
      "source": [
        "#### Challenge\n",
        "\n",
        "Which of the following are legal Python variable names?\n",
        "```\n",
        "average = 1\n",
        "Max = 1\n",
        "print = 1  \n",
        "LadyGaGa = 1  \n",
        "_Lady_Ga_Ga = 1\n",
        "FiftyYardLine = 1    \n",
        "50_yard_line = 1  \n",
        "yard_line_50 = 1  \n",
        "raise = 1  \n",
        "my-cat-is-awesome = 1\n",
        "my_cat_is_awesome = 1  \n",
        "```"
      ]
    },
    {
      "cell_type": "markdown",
      "metadata": {
        "id": "SpF1BSjwyfw3"
      },
      "source": [
        "## Assignment Statements"
      ]
    },
    {
      "cell_type": "markdown",
      "metadata": {
        "id": "h75iNJF-Hrsl"
      },
      "source": [
        "Assignment statements are used to associate a variable name with some simple or complex value\n",
        "general form:   \n",
        "\n",
        "    variable_name = 'some_value'\n",
        "\n",
        "If a variable doesn’t already exist, when you assign to it, Python creates it on the fly.\n",
        "\n",
        "If you assign to a variable that already exists, Python replaces its current value with a new value.\n",
        "\n",
        "### Examples\n",
        "\n",
        "    instructor = 'marc'         # string value\n",
        "    instructor = 'my evil twin' # same name, diff string value\n",
        "    instructor = 42             # same name, integer value\n",
        "    todays_high_temp = 71.3     # diff name, floating point value\n",
        "\n",
        "Try some experiments in the next cell..."
      ]
    },
    {
      "cell_type": "code",
      "metadata": {
        "id": "6XkgABMTH8Ti"
      },
      "source": [
        "a = 0\n",
        "print('a =', a)\n",
        "a = 42\n",
        "print('a =', a)\n",
        "a = 3.14159\n",
        "print('a =', a)\n",
        "a = \"Marc\"\n",
        "print('a =', a)\n",
        "\n",
        "b = 42\n",
        "print('a =', a, 'b =', b)\n",
        "\n",
        "a = b\n",
        "print('a =', a, 'b =', b)"
      ],
      "execution_count": null,
      "outputs": []
    },
    {
      "cell_type": "markdown",
      "metadata": {
        "id": "5eZ4mlDTIZRw"
      },
      "source": [
        "### Usage Example\n",
        "\n",
        "Let's print a list of the first 9 multiples of 9...\n"
      ]
    },
    {
      "cell_type": "code",
      "metadata": {
        "id": "fEq-3ouyIrNZ"
      },
      "source": [
        "# Tedious version...\n",
        "\n",
        "print(1*9)\n",
        "print(2*9)\n",
        "print(3*9)\n",
        "print(4*9)\n",
        "print(5*9)\n",
        "print(6*9)\n",
        "print(7*9)\n",
        "print(8*9)\n",
        "print(9*9)"
      ],
      "execution_count": null,
      "outputs": []
    },
    {
      "cell_type": "code",
      "metadata": {
        "id": "V04NwJI0Iuwu"
      },
      "source": [
        "# Nicer version...\n",
        "\n",
        "factor = 8\n",
        "print(1*factor)\n",
        "print(2*factor)\n",
        "print(3*factor)\n",
        "print(4*factor)\n",
        "print(5*factor)\n",
        "print(6*factor)\n",
        "print(7*factor)\n",
        "print(8*factor)\n",
        "print(9*factor)"
      ],
      "execution_count": null,
      "outputs": []
    },
    {
      "cell_type": "markdown",
      "metadata": {
        "id": "gOAflNOGZw4i"
      },
      "source": [
        "Why is that nicer? Think about changing the requirement to print multiples of eight, instead of nine. How many lines would you have to change in the firat example? How about the second example?\n",
        "\n",
        "The second example uses a redirection via a variable to make the code much easier to update. This is a very powerful and important concept in software engineering."
      ]
    },
    {
      "cell_type": "code",
      "metadata": {
        "id": "JPiHwOQtJHns"
      },
      "source": [
        "# Coming soon...\n",
        "\n",
        "factor = 9\n",
        "for i in range(1, 9):\n",
        "  print(i * factor)"
      ],
      "execution_count": null,
      "outputs": []
    },
    {
      "cell_type": "markdown",
      "metadata": {
        "id": "HYLN9MdtJY8f"
      },
      "source": [
        "### Challenge\n",
        "\n",
        "In the next cell, create a program that calculates how many cans of cat food you need to feed 10 cats. You will need:\n",
        "\n",
        "* A variable for the number of cats\n",
        "* A variable for the number of cans each cat eats in a day\n",
        "* A `print()` function call to output the result\n",
        "\n",
        "Extension: change the calculation to work out the amount needed for 7 days."
      ]
    },
    {
      "cell_type": "code",
      "metadata": {
        "id": "3o4Pvg0Aznad"
      },
      "source": [
        "# Add your cat food program here."
      ],
      "execution_count": null,
      "outputs": []
    },
    {
      "cell_type": "markdown",
      "metadata": {
        "id": "nkxuivpM_Qis"
      },
      "source": [
        "## Example Programs"
      ]
    },
    {
      "cell_type": "markdown",
      "metadata": {
        "id": "NSgINTKQ_CYt"
      },
      "source": [
        "### 1 - Print a Multiplication Table"
      ]
    },
    {
      "cell_type": "markdown",
      "metadata": {
        "id": "VCrIV-u_8lLa"
      },
      "source": [
        "### 2 - Search IMDb"
      ]
    },
    {
      "cell_type": "markdown",
      "metadata": {
        "id": "SyQZmOBvDfHJ"
      },
      "source": [
        "### 3 - Generate a Histogram"
      ]
    },
    {
      "cell_type": "markdown",
      "source": [
        "## Key Points\n",
        "- Basic data types in Python include integers, strings, and floating-point numbers (there are others but we'll start with these).\n",
        "- Use `variable = value` to assign a value to a variable in order to store it in memory.\n",
        "- Variables are created on demand whenever values are assigned to them.\n",
        "- Use `print(something)` to display the value of `something`.\n",
        "- Built-in functions, like `print` are always available to use."
      ],
      "metadata": {
        "id": "kwFCzCqXIGqs"
      }
    },
    {
      "cell_type": "markdown",
      "metadata": {
        "id": "jBs305Ht_KLo"
      },
      "source": [
        "## Homework"
      ]
    },
    {
      "cell_type": "markdown",
      "metadata": {
        "id": "Dd1FNOpnK0-D"
      },
      "source": [
        "## Question 1\n",
        "\n",
        "Prompt for user's name and print it back with \"Nice to meet you, name!\"."
      ]
    },
    {
      "cell_type": "code",
      "metadata": {
        "id": "314VvVKCMIzK",
        "cellView": "form"
      },
      "source": [
        "#@title Double click here to reveal solution\n",
        "\n",
        "name = input ('What is your name? ')\n",
        "print ('Nice to meet you,', name +'!')"
      ],
      "execution_count": null,
      "outputs": []
    },
    {
      "cell_type": "markdown",
      "metadata": {
        "id": "So9vQ1trLJLX"
      },
      "source": [
        "## Question 2\n",
        "\n",
        "Prompt for dog's age and return in people years."
      ]
    },
    {
      "cell_type": "code",
      "metadata": {
        "id": "M_bufOMUMfxj"
      },
      "source": [
        "#@title Double click here to reveal solution\n",
        "\n",
        "dog_to_people_years = 7\n",
        "dog_age = input('How old is your dog? ')\n",
        "people_age = int(dog_age) * dog_to_people_years\n",
        "print(dog_age,'dog years =',  str(people_age), 'people years.')\n"
      ],
      "execution_count": null,
      "outputs": []
    },
    {
      "cell_type": "markdown",
      "metadata": {
        "id": "1jH-_bNlLcHc"
      },
      "source": [
        "## Question 3\n",
        "\n",
        "Write a program to calculate the total number of hours in a fixed set of days, where the number of days is assigned to a variable."
      ]
    },
    {
      "cell_type": "code",
      "metadata": {
        "id": "-DTi8KY4O95w",
        "cellView": "form"
      },
      "source": [
        "#@title Double click here to reveal solution\n",
        "\n",
        "days = 365\n",
        "hours = 24\n",
        "total_hours = days * hours\n",
        "msg = f'There are {total_hours} hours in {days} days.'\n",
        "print(msg)"
      ],
      "execution_count": null,
      "outputs": []
    },
    {
      "cell_type": "markdown",
      "metadata": {
        "id": "9LYTJHnh0mPe"
      },
      "source": [
        "## Question 4\n",
        "\n",
        "Write some Python code that uses all the maths operators you've learned."
      ]
    },
    {
      "cell_type": "code",
      "metadata": {
        "id": "2NBHmKwS04qd",
        "cellView": "form"
      },
      "source": [
        "#@title Double click here to reveal solution\n",
        "\n",
        "a = 2 + 3\n",
        "print(a)\n",
        "a = 3 - 2\n",
        "print(a)\n",
        "a = 2 * 3\n",
        "print(a)\n",
        "a = 2 / 3\n",
        "print(a)\n",
        "a = 2 // 3\n",
        "print(a)\n",
        "a = 2 % 3\n",
        "print(a)\n",
        "a = 2 ** 3\n",
        "print(a)\n",
        "a = (2 + 3) * 4\n",
        "print(a)"
      ],
      "execution_count": null,
      "outputs": []
    },
    {
      "cell_type": "markdown",
      "source": [
        "# Homework"
      ],
      "metadata": {
        "id": "XJ8BP2vbb2F0"
      }
    },
    {
      "cell_type": "markdown",
      "source": [
        "Which of the following are legal Python variable names? First make a guess then copy these assignment statements into the next cell and run them.\n",
        "```\n",
        "average = 1\n",
        "Max = 1\n",
        "LadyGaGa = 1  \n",
        "_Lady_Ga_Ga = 1\n",
        "FiftyYardLine = 1    \n",
        "50_yard_line = 1  \n",
        "yard_line_50 = 1  \n",
        "raise = 1  \n",
        "my-cat-is-awesome = 1\n",
        "my_cat_is_awesome = 1  \n",
        "```"
      ],
      "metadata": {
        "id": "J72xu17T1E3F"
      }
    },
    {
      "cell_type": "code",
      "source": [],
      "metadata": {
        "id": "jVRpXn1Y1H2Q"
      },
      "execution_count": null,
      "outputs": []
    },
    {
      "cell_type": "markdown",
      "source": [
        "In one statement, calculate and print your weekly pay if you earn $100 a day in a five day work week.\n",
        "\n"
      ],
      "metadata": {
        "id": "HeLdyFLbb7P0"
      }
    },
    {
      "cell_type": "code",
      "source": [],
      "metadata": {
        "id": "-TmtupM-b6UN"
      },
      "execution_count": null,
      "outputs": []
    },
    {
      "cell_type": "markdown",
      "source": [
        "Store your daily pay rate in a variable and use the variable to calculate and print your weekly pay."
      ],
      "metadata": {
        "id": "5Q2cc0sBcJBM"
      }
    },
    {
      "cell_type": "code",
      "source": [],
      "metadata": {
        "id": "xmDX9SqScEj0"
      },
      "execution_count": null,
      "outputs": []
    },
    {
      "cell_type": "markdown",
      "source": [
        "Congratulations - you just got a raise. Your new daily pay rate is $120. Assign a new value to the daily pay variable, then calculate and print your new weekly pay."
      ],
      "metadata": {
        "id": "u8qUUJCWcbBo"
      }
    },
    {
      "cell_type": "code",
      "source": [],
      "metadata": {
        "id": "VHUIaTuCcxpa"
      },
      "execution_count": null,
      "outputs": []
    },
    {
      "cell_type": "markdown",
      "source": [
        "Store the number of days in a week in a variable, then calculate and print your weekly pay."
      ],
      "metadata": {
        "id": "DrJeGgybcy31"
      }
    },
    {
      "cell_type": "code",
      "source": [],
      "metadata": {
        "id": "1o4--aFsc4ml"
      },
      "execution_count": null,
      "outputs": []
    },
    {
      "cell_type": "markdown",
      "source": [
        "Calculate and print your weekly, monthly, and annual pay using only variables. Assume 5 workdays per week, 20 workdays per month and 240 workdays per year."
      ],
      "metadata": {
        "id": "qi66Z8TOdPuw"
      }
    },
    {
      "cell_type": "code",
      "source": [],
      "metadata": {
        "id": "TGi5ARZpdnt6"
      },
      "execution_count": null,
      "outputs": []
    },
    {
      "cell_type": "markdown",
      "source": [
        "Print the your first, middle, and last name, each on a separate line.\n",
        "\n"
      ],
      "metadata": {
        "id": "Dtag2RwKdpEx"
      }
    },
    {
      "cell_type": "code",
      "source": [],
      "metadata": {
        "id": "NKZymN6Idwe-"
      },
      "execution_count": null,
      "outputs": []
    },
    {
      "cell_type": "markdown",
      "source": [
        "Print the your first, middle, and last name, all on one line.\n"
      ],
      "metadata": {
        "id": "stkouGzNdxFE"
      }
    },
    {
      "cell_type": "code",
      "source": [],
      "metadata": {
        "id": "CcIX7JBJd2xK"
      },
      "execution_count": null,
      "outputs": []
    },
    {
      "cell_type": "markdown",
      "source": [
        "From the menu bar, select Tools->Command Palette to see a list of the commands you can execute inside a Colab notebook. Most of these commands are intuitively named. For example, to save your notebook in Google Drive, run \"Save notebook\" now from the command palette. You can find it quickly by typing \"save\" in the search box.\n",
        "\n",
        "Don't worry if you're not sure what some of the commands in the command palette do. For now, I just want you to know about this resource."
      ],
      "metadata": {
        "id": "LZ1IS0jSpZi0"
      }
    },
    {
      "cell_type": "markdown",
      "source": [
        "Congratulations for making it this far! Your last assignment is to watch this [short video](https://www.youtube.com/watch?v=inN8seMm7UI) and take a [quick tour of Colab](https://colab.research.google.com/notebooks/intro.ipynb)."
      ],
      "metadata": {
        "id": "2gpMPXdRf9GE"
      }
    },
    {
      "cell_type": "markdown",
      "source": [
        "**It's a good idea to save your work after a notebook session.** You can use the command palette to do this, as you just did in the previous cell, but since this is a common function, you'll see an easier way to save your notebook via the File->Save menu item.\n",
        "\n"
      ],
      "metadata": {
        "id": "VbfEFfZvq55E"
      }
    },
    {
      "cell_type": "markdown",
      "source": [
        "[Previous Lesson](https://pylearn.io/lessons/1-welcome/)\n",
        "&nbsp;&nbsp;&nbsp;&nbsp;&nbsp;&nbsp;&nbsp;&nbsp;&nbsp;&nbsp;\n",
        "[Next Lesson](https://pylearn.io/lessons/3-Expressions/)"
      ],
      "metadata": {
        "id": "SR3FUvVKkFQP"
      }
    }
  ]
}