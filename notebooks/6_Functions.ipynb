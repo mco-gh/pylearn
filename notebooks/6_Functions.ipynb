{
  "nbformat": 4,
  "nbformat_minor": 0,
  "metadata": {
    "colab": {
      "provenance": [],
      "collapsed_sections": [
        "7B_-CpRRW4Zd",
        "HK34WpjQyKKQ",
        "8NtCK1__h3UO",
        "njlffYba9SGr",
        "t0HB4x7zSarK",
        "Q1AThwoeWq-_",
        "kRSeTwXFW7DM",
        "5tT_kiFjYIpb",
        "PGbEhmEAYXxv",
        "iBPnZBIdZCCq",
        "XsXu3tyfZagC",
        "xjZpdnvMycJM",
        "5o2mco2220b1",
        "bRhweVvt3CVf",
        "3aRAKCjF44YD",
        "lvckwRh-5NnY",
        "RxZNVXjg5hyP",
        "kNuuRlHm5x51",
        "YetYi5D86ZLM",
        "_T_oveJx64ej",
        "SQVCVPEm8Jm9",
        "FdCGOU6p8XWd",
        "UupYaK6E8lTz",
        "j7Os_GOH1JoD",
        "rwCPHFoy1Q0t",
        "n4xG7RFuSBhD",
        "qEARzlD47xre",
        "1Yq51ZLi9mpi",
        "iV5LLDaw92Ea",
        "_6s0SozSmTuO",
        "BrBfMyW7gCFl",
        "nkxuivpM_Qis",
        "jBs305Ht_KLo",
        "ju5mRvkfFTDj",
        "Dd1FNOpnK0-D",
        "G1gIiB5uKS4w",
        "IEUU-OPeL3B_",
        "iWrTAzBWKg-c"
      ],
      "authorship_tag": "ABX9TyMt3amOFekgDc15Z6NyFagE",
      "include_colab_link": true
    },
    "kernelspec": {
      "name": "python3",
      "display_name": "Python 3"
    }
  },
  "cells": [
    {
      "cell_type": "markdown",
      "metadata": {
        "id": "view-in-github",
        "colab_type": "text"
      },
      "source": [
        "<a href=\"https://colab.research.google.com/github/mco-gh/pylearn/blob/master/notebooks/6_Functions.ipynb\" target=\"_parent\"><img src=\"https://colab.research.google.com/assets/colab-badge.svg\" alt=\"Open In Colab\"/></a>"
      ]
    },
    {
      "cell_type": "markdown",
      "source": [
        "# Lesson 6 - Functions\n",
        "\n",
        "**Functions & Modules**\n",
        "\n",
        "**You can make a copy of this notebook by selecting File->Save a copy in Drive from the menu bar above.**\n",
        "\n",
        "Things you'll learn in this lesson:\n",
        "- todo"
      ],
      "metadata": {
        "id": "AVMnNe64dYGB"
      }
    },
    {
      "cell_type": "markdown",
      "source": [
        "[Previous Lesson](https://pylearn.io/lessons/5-Loops/)\n",
        "&nbsp;&nbsp;&nbsp;&nbsp;&nbsp;&nbsp;&nbsp;&nbsp;&nbsp;&nbsp;\n",
        "[Next Lesson](https://pylearn.io/lessons/7-Iterables/)"
      ],
      "metadata": {
        "id": "uV9cgt7fdZ1r"
      }
    },
    {
      "cell_type": "markdown",
      "metadata": {
        "id": "IF2vh977R-nE"
      },
      "source": [
        "# Functions\n"
      ]
    },
    {
      "cell_type": "markdown",
      "metadata": {
        "id": "t0HB4x7zSarK"
      },
      "source": [
        "## Functions are flexible software building blocks\n",
        "\n",
        "* So far, we’ve been writing small programs.\n",
        "* Things get much more complicated when we write large programs, especially with multiple authors.\n",
        "* Ideally, we'd like to build software like snapping lego pieces together.\n",
        "* What would that buy us?\n",
        "  * abstraction\n",
        "  * reuse\n",
        "  * modularity\n",
        "  * maintainability\n"
      ]
    },
    {
      "cell_type": "markdown",
      "metadata": {
        "id": "Q1AThwoeWq-_"
      },
      "source": [
        "### Abstraction - You don't need to do everything\n",
        "\n",
        "* When building a house, you don't do everything yourself.\n",
        "  * You hire an architect, a carpenter, an electrician, a roofer, a plumber, a mason.\n",
        "  * You might hire a contractor to hire and manage all those people.\n",
        "* In our programs we delegate tasks to certain functions, like `print()`, so that we don't have to worry about all the details.\n",
        "  * It's a bit like hiring an electrician so that we don't have to worry about the details of electrical wiring in our house.\n"
      ]
    },
    {
      "cell_type": "markdown",
      "metadata": {
        "id": "kRSeTwXFW7DM"
      },
      "source": [
        "### Reuse - Don't Reinvent the Wheel\n",
        "\n",
        "* it's ok to reuse other people's work\n",
        "  * it's not stealing\n",
        "  * it makes you more efficient and more productive\n",
        "* Very few people build a house from scratch\n",
        "  * so don't try to build programs from scratch"
      ]
    },
    {
      "cell_type": "markdown",
      "metadata": {
        "id": "5tT_kiFjYIpb"
      },
      "source": [
        "#### Reuse Example\n",
        "You can count the number of words in a string the hard way..."
      ]
    },
    {
      "cell_type": "code",
      "metadata": {
        "id": "uubqVKszFLoK"
      },
      "source": [
        "mystr = 'This      is a test.'\n",
        "cnt = 0\n",
        "for i in mystr:\n",
        "  if i.isspace():\n",
        "    cnt += 1\n",
        "cnt += 1\n",
        "print('number of words =', cnt)"
      ],
      "execution_count": null,
      "outputs": []
    },
    {
      "cell_type": "markdown",
      "metadata": {
        "id": "a804f1uCFemA"
      },
      "source": [
        "Or the easy way, by calling a string method..."
      ]
    },
    {
      "cell_type": "code",
      "metadata": {
        "id": "aXu9iH9kFkXM"
      },
      "source": [
        "mystr = 'This       is a test.'\n",
        "cnt = len(mystr.split())\n",
        "print('number of words =', cnt)"
      ],
      "execution_count": null,
      "outputs": []
    },
    {
      "cell_type": "markdown",
      "metadata": {
        "id": "ZjlWbakQFhz2"
      },
      "source": [
        "Which would you rather use? Which is more reliable?\n",
        "* The first approach is great for learning.\n",
        "* The second approach is great for getting real work done.\n"
      ]
    },
    {
      "cell_type": "markdown",
      "metadata": {
        "id": "PGbEhmEAYXxv"
      },
      "source": [
        "### Modularity - Divide and Conquer\n",
        "* So far, our programs have been monoliths - one  continous sequence of Python statements.\n",
        "* Real programs are often much bigger than the ones we've written.\n",
        "  * Google's software repository has billions of lines of source code ([Why Google Stores Billions of Lines of Code in a Single Repository](https://cacm.acm.org/magazines/2016/7/204032-why-google-stores-billions-of-lines-of-code-in-a-single-repository/fulltext))\n",
        "  * No one person can write a program that big.\n",
        "  * Large programs are built by teams.\n",
        "  * In order to build large, complex programs, we need the ability to divide program logic into manageable pieces.\n",
        "* We call this modularity - dividing software into pieces or modules.\n"
      ]
    },
    {
      "cell_type": "markdown",
      "metadata": {
        "id": "iBPnZBIdZCCq"
      },
      "source": [
        "### Maintainability - Keeping your code DRY (Don't Repeat Yourself)\n",
        "* Imagine that you need to do roughly the same thing in ten different places so you copy the code to those ten locations.\n",
        "  * What happens when you find a bug or want to improve that piece of code?\n",
        "  * You need to make the change ten times.\n",
        "  * Will you remember to do that?\n",
        "  * If you do remember, will you catch all ten locations?\n",
        "  * Copying code is a bad thing - it leads to bugs.\n"
      ]
    },
    {
      "cell_type": "markdown",
      "metadata": {
        "id": "XsXu3tyfZagC"
      },
      "source": [
        "### Functions solve all of these Problems\n",
        "\n",
        "* Functions give us the ability to:\n",
        "  * Hide low level details (abstraction)\n",
        "  * Share and reuse pieces of functionality (reuse)\n",
        "  * Split programs into manageable pieces (modularity)\n",
        "  * Write one copy of an algorithm and use it anywhere (maintainability)\n",
        "* We've already used several functions\n",
        "  * `print()`, `input()`, `int()`, `len()`, `range()`, etc.\n",
        "* Now let's see how to define our own functions.\n"
      ]
    },
    {
      "cell_type": "markdown",
      "metadata": {
        "id": "xjZpdnvMycJM"
      },
      "source": [
        "## Defining Functions\n",
        "\n",
        "* example:\n",
        "```\n",
        "def function_name(arg1, arg2):\n",
        "    '''This is a docstring.'''  # optional but a good idea\n",
        "    statement1\n",
        "    statement2\n",
        "    ...\n",
        "```\n",
        "* Not surprisingly, we define the scope of the function body using indentation (just like how we define blocks for if statements, for loops, etc.).\n",
        "* This is a bit like an assignment statement in that it assigns a block of code (the function body) to the function name.\n",
        "  * Function names have the same rules as variable names.\n",
        "  * This only defines a function - it doesn't execute it.\n"
      ]
    },
    {
      "cell_type": "code",
      "metadata": {
        "id": "5Hlbe-sYaJp8"
      },
      "source": [
        "def speak():\n",
        "  '''\n",
        "     This function generates hello in cat language.\n",
        "     Don't try this near a dog.\n",
        "  '''\n",
        "  print('meow')"
      ],
      "execution_count": null,
      "outputs": []
    },
    {
      "cell_type": "markdown",
      "source": [
        "Notice how nothing seemed to happen in that last cell. But something did - we defined a function. However, that function doesn't get executed unless and until we call it. Let's do that now."
      ],
      "metadata": {
        "id": "xeC7LD_egxAg"
      }
    },
    {
      "cell_type": "code",
      "source": [
        "speak()"
      ],
      "metadata": {
        "colab": {
          "base_uri": "https://localhost:8080/"
        },
        "id": "f23nVLEUg78y",
        "outputId": "78756f97-5b0a-4757-e4db-10ae40334f1d"
      },
      "execution_count": null,
      "outputs": [
        {
          "output_type": "stream",
          "name": "stdout",
          "text": [
            "meow\n"
          ]
        }
      ]
    },
    {
      "cell_type": "markdown",
      "metadata": {
        "id": "5o2mco2220b1"
      },
      "source": [
        "### Docstrings\n",
        "* a string defined immediately after the `def` line\n",
        "* usually triple quoted since it may be multi-line\n",
        "* not required but a good way to document your functions\n",
        "* IDEs use the docstring to make your life easier\n",
        "* automates output of `help(function)`"
      ]
    },
    {
      "cell_type": "markdown",
      "metadata": {
        "id": "bRhweVvt3CVf"
      },
      "source": [
        "### Example Function"
      ]
    },
    {
      "cell_type": "code",
      "metadata": {
        "id": "xbJeh1p5QCvy"
      },
      "source": [
        "# The factorial of N is defined as 1*2*...*N.\n",
        "# Here's an example function definition which prints the factorial of 10.\n",
        "def fact10():\n",
        "    '''\n",
        "    Print the factorial of 10.\n",
        "    Factorial of 10 is defined as 1*2*...*10.\n",
        "    '''\n",
        "    limit = 10\n",
        "    result = 1\n",
        "    for i in range(1, limit+1):\n",
        "        result *= i # result = result * i\n",
        "    print(result)"
      ],
      "execution_count": null,
      "outputs": []
    },
    {
      "cell_type": "code",
      "metadata": {
        "id": "-QC40fS6P6eW",
        "colab": {
          "base_uri": "https://localhost:8080/"
        },
        "outputId": "a1f5960c-8dfb-4b64-d082-00392fe7b73a"
      },
      "source": [
        "# Get help about this function...\n",
        "help(fact10)"
      ],
      "execution_count": null,
      "outputs": [
        {
          "output_type": "stream",
          "name": "stdout",
          "text": [
            "Help on function fact10 in module __main__:\n",
            "\n",
            "fact10()\n",
            "    Print the factorial of 10.\n",
            "    Factorial of 10 is defined as 1*2*...*10.\n",
            "\n"
          ]
        }
      ]
    },
    {
      "cell_type": "code",
      "metadata": {
        "id": "JQ3S4ickQSHo",
        "colab": {
          "base_uri": "https://localhost:8080/"
        },
        "outputId": "91323324-13a5-422e-d579-b5d49ea120be"
      },
      "source": [
        "# And here's how we would call this function...\n",
        "fact10()\n"
      ],
      "execution_count": null,
      "outputs": [
        {
          "output_type": "stream",
          "name": "stdout",
          "text": [
            "3628800\n"
          ]
        }
      ]
    },
    {
      "cell_type": "markdown",
      "metadata": {
        "id": "3aRAKCjF44YD"
      },
      "source": [
        "### Passing Values to a Function\n",
        "\n",
        "* `fact10()` is limited.\n",
        "* It only prints the factorial for one value (10).\n",
        "* It would be nice if we could define a more flexible version, that could print the factorial of any number, like this...\n",
        "\n"
      ]
    },
    {
      "cell_type": "code",
      "metadata": {
        "id": "6GhguiZ9QuNp",
        "colab": {
          "base_uri": "https://localhost:8080/"
        },
        "outputId": "763c7aca-7cdf-4997-e710-1602563e49bb"
      },
      "source": [
        "def fact(num):\n",
        "    '''Print the factorial of any number.'''\n",
        "    result = 1\n",
        "    for i in range(1, num+1):\n",
        "        result *= i\n",
        "    print(result)\n",
        "\n",
        "fact(20)"
      ],
      "execution_count": null,
      "outputs": [
        {
          "output_type": "stream",
          "name": "stdout",
          "text": [
            "2432902008176640000\n"
          ]
        }
      ]
    },
    {
      "cell_type": "markdown",
      "metadata": {
        "id": "lvckwRh-5NnY"
      },
      "source": [
        "### Parameters and Arguments\n",
        "* The variables we define in a function to take on the values passed by the caller are called parameters.\n",
        "* In this code, `a`, `b` and `c` are parameters:\n",
        "```\n",
        "def sum(a, b, c):\n",
        "    return a + b + c\n",
        "```\n",
        "* The values supplied by the caller when calling a function are called arguments.\n",
        "* In this code, `1`, `2`, and `3` are arguments:\n",
        "```\n",
        "sum(1, 2, 3)\n",
        "```\n"
      ]
    },
    {
      "cell_type": "markdown",
      "metadata": {
        "id": "RxZNVXjg5hyP"
      },
      "source": [
        "### Passing Arguments\n",
        "* Functions can define any number of parameters, including zero.\n",
        "* Multiple parameters are separated by commas, like this...\n",
        "```\n",
        "def product(a, b, c):\n",
        "    return a * b * c\n",
        "```\n",
        "* If you pass the wrong number of arguments, you'll hear about it:\n",
        "```\n",
        "product(1, 2)\n",
        "...\n",
        "TypeError: product() takes exactly 3 positional argument (2 given)\n",
        "...\n",
        "```\n"
      ]
    },
    {
      "cell_type": "markdown",
      "metadata": {
        "id": "kNuuRlHm5x51"
      },
      "source": [
        "### Return Values\n",
        "\n",
        "Instead of printing the result, we can also have the function return a result to the caller so that the caller can print it or use it in a calculation.\n",
        "```\n",
        "def fact(num):\n",
        "    ''' compute factorial of any number '''\n",
        "    fact = 1\n",
        "    for i in range(1, num+1):\n",
        "        fact *= i\n",
        "    return(fact)\n",
        "```\n",
        "Here's how we would call this function:\n",
        "```\n",
        "f = fact(5)\n",
        "print('5! = ', f)\n",
        "```"
      ]
    },
    {
      "cell_type": "markdown",
      "metadata": {
        "id": "1faLXr5p6BVU"
      },
      "source": [
        "* Functions return a value to the caller via the `return` statement.\n",
        "* The `return` statement causes two things to happen...\n",
        "  * the function ends and program execution resumes just after the function was called\n",
        "  * the returned value is passed back to the caller\n",
        "* You can have as many return statements as you like (including zero).\n",
        "* If the caller wants to do something with a returned value, it needs to save it or use it in an expression...\n",
        "```\n",
        "resp = input('Yes or No (y/n)? ')\n",
        "```\n",
        "* If the caller ignores the return value, it's lost...\n",
        "```\n",
        "input('Yes or No (y/n)? ') # this loses the answer\n",
        "```\n"
      ]
    },
    {
      "cell_type": "markdown",
      "metadata": {
        "id": "YetYi5D86ZLM"
      },
      "source": [
        "### Returning Multiple Values\n",
        "\n",
        "* Functions can return multiple values.\n",
        "* Simply specify more than one comma separated value in the `return` statement.\n",
        "* This function returns two values...\n",
        "```\n",
        "def divide(dividend, divisor):\n",
        "    quotient = int(dividend / divisor)\n",
        "    remainder = dividend % divisor\n",
        "    return quotient, remainder\n",
        "```\n",
        "\n",
        "* You could receive the results like this:\n",
        "```\n",
        "(q, r) = divide(100, 9)\n",
        "print(f'quotient={q}, remainder={r}')\n",
        "```\n"
      ]
    },
    {
      "cell_type": "code",
      "metadata": {
        "id": "Z_jj2MJzFlCj",
        "colab": {
          "base_uri": "https://localhost:8080/"
        },
        "outputId": "2443f974-8785-4f4a-b27a-ad2b8f3c11da"
      },
      "source": [
        "def divide(dividend, divisor):\n",
        "  quotient = int(dividend / divisor)\n",
        "  remainder = dividend % divisor\n",
        "  return quotient, remainder\n",
        "\n",
        "(q, r) = divide(100, 9)\n",
        "print(f'quotient={q}, remainder={r}')"
      ],
      "execution_count": null,
      "outputs": [
        {
          "output_type": "stream",
          "name": "stdout",
          "text": [
            "quotient=11, remainder=1\n"
          ]
        }
      ]
    },
    {
      "cell_type": "markdown",
      "metadata": {
        "id": "_T_oveJx64ej"
      },
      "source": [
        "## Challenge\n",
        "\n",
        "Can you think of a function we've used which...\n",
        "* takes no arguments?\n",
        "* takes only one argument?\n",
        "* takes a variable number of arguments?\n",
        "* returns no return values?\n",
        "* returns one return value?\n",
        "* returns a sequence of values?\n"
      ]
    },
    {
      "cell_type": "code",
      "metadata": {
        "id": "R6_jKawAyqyE",
        "cellView": "form"
      },
      "source": [
        "#@title Double click here to reveal answers...\n",
        "\n",
        "# takes no arguments?\n",
        "print()\n",
        "# takes only one argument?\n",
        "input('Enter your name: ')\n",
        "# takes a variable number of arguments?\n",
        "print('hello')\n",
        "print('hello', 'world')\n",
        "# returns no return values?\n",
        "print()\n",
        "# returns one return value?\n",
        "len('test')\n",
        "# returns a sequence of values?\n",
        "range(5)"
      ],
      "execution_count": null,
      "outputs": []
    },
    {
      "cell_type": "markdown",
      "metadata": {
        "id": "SQVCVPEm8Jm9"
      },
      "source": [
        "## Namespaces\n",
        "\n",
        "* A `namespace` is an abstract collection of variables that exist in a particular context.\n",
        "  * Kind of like a company's ID numbers.\n",
        "  * My id is only valid within the scope of my company.\n",
        "* We've seen an example of a namespace in this code...\n",
        "```\n",
        "import random\n",
        "x = random.randrange(10)\n",
        "```\n",
        "* In this case, the random module has it's own namespace, which is completely separate from the rest of your program and is accessed via \"dot\" notation.\n",
        "* If you neglect the \"random.\" prefix, you're referring to a different namespace:  your program's global namespace."
      ]
    },
    {
      "cell_type": "markdown",
      "metadata": {
        "id": "FdCGOU6p8XWd"
      },
      "source": [
        "### Global Namespace\n",
        "\n",
        "* Every Python source file has its own global name space.\n",
        "* The global namespace includes all names (variables and functions) defined outside of any functions, in the Python source file.\n",
        "* In the following code, `count`, `mystr` and `req` are all global variables, i.e. they all reside in the global namespace.\n",
        "```\n",
        "count = 0\n",
        "while True:\n",
        "    mystr = input('? ')\n",
        "    if (mystr == '1'):\n",
        "        req = 'add'\n",
        "    else:\n",
        "        break\n",
        "    count += 1\n",
        "```\n"
      ]
    },
    {
      "cell_type": "markdown",
      "metadata": {
        "id": "UupYaK6E8lTz"
      },
      "source": [
        "### Local Namespace\n",
        "\n",
        "* When you define a function, Python creates a local namespace for that function, including all parameters and variables created inside the function body.\n",
        "* Variables in a local namespace are separate from, and independent of, variables in the global name space.\n",
        "* Inside a function, local variables supersede global variables with the same name.\n",
        "* Local variables are transient - they exist only during the lifetime of function execution."
      ]
    },
    {
      "cell_type": "markdown",
      "metadata": {
        "id": "j7Os_GOH1JoD"
      },
      "source": [
        "### Example illustrating local variable superseding a global variable"
      ]
    },
    {
      "cell_type": "code",
      "metadata": {
        "id": "KiiUODR54gRF",
        "colab": {
          "base_uri": "https://localhost:8080/"
        },
        "outputId": "d04e761a-2b46-4c2a-d729-ed1066128982"
      },
      "source": [
        "var = 1\n",
        "def myfunc():\n",
        "    var = 2  # local scope\n",
        "    print('local var:', var)\n",
        "myfunc()\n",
        "print('global var:', var)"
      ],
      "execution_count": null,
      "outputs": [
        {
          "output_type": "stream",
          "name": "stdout",
          "text": [
            "local var: 2\n",
            "global var: 1\n"
          ]
        }
      ]
    },
    {
      "cell_type": "markdown",
      "metadata": {
        "id": "rwCPHFoy1Q0t"
      },
      "source": [
        "### Example illustrating the transient nature of the local namespace"
      ]
    },
    {
      "cell_type": "code",
      "metadata": {
        "id": "FfbV97bh4zZ3",
        "colab": {
          "base_uri": "https://localhost:8080/",
          "height": 198
        },
        "outputId": "40b8b8d2-92cb-4d9d-ae9e-2468ddf16924"
      },
      "source": [
        "def func():\n",
        "    var2 = 2  # local scope\n",
        "    print('local var:', var2)\n",
        "func()\n",
        "print('global var:', var2)"
      ],
      "execution_count": null,
      "outputs": [
        {
          "output_type": "stream",
          "name": "stdout",
          "text": [
            "local var: 2\n"
          ]
        },
        {
          "output_type": "error",
          "ename": "NameError",
          "evalue": "name 'var2' is not defined",
          "traceback": [
            "\u001b[0;31m---------------------------------------------------------------------------\u001b[0m",
            "\u001b[0;31mNameError\u001b[0m                                 Traceback (most recent call last)",
            "\u001b[0;32m<ipython-input-19-9bc3f14098b4>\u001b[0m in \u001b[0;36m<cell line: 5>\u001b[0;34m()\u001b[0m\n\u001b[1;32m      3\u001b[0m     \u001b[0mprint\u001b[0m\u001b[0;34m(\u001b[0m\u001b[0;34m'local var:'\u001b[0m\u001b[0;34m,\u001b[0m \u001b[0mvar2\u001b[0m\u001b[0;34m)\u001b[0m\u001b[0;34m\u001b[0m\u001b[0;34m\u001b[0m\u001b[0m\n\u001b[1;32m      4\u001b[0m \u001b[0mfunc\u001b[0m\u001b[0;34m(\u001b[0m\u001b[0;34m)\u001b[0m\u001b[0;34m\u001b[0m\u001b[0;34m\u001b[0m\u001b[0m\n\u001b[0;32m----> 5\u001b[0;31m \u001b[0mprint\u001b[0m\u001b[0;34m(\u001b[0m\u001b[0;34m'global var:'\u001b[0m\u001b[0;34m,\u001b[0m \u001b[0mvar2\u001b[0m\u001b[0;34m)\u001b[0m\u001b[0;34m\u001b[0m\u001b[0;34m\u001b[0m\u001b[0m\n\u001b[0m",
            "\u001b[0;31mNameError\u001b[0m: name 'var2' is not defined"
          ]
        }
      ]
    },
    {
      "cell_type": "markdown",
      "metadata": {
        "id": "n4xG7RFuSBhD"
      },
      "source": [
        "# Modules"
      ]
    },
    {
      "cell_type": "markdown",
      "metadata": {
        "id": "FNiije3F7hyN"
      },
      "source": [
        "* A module is a file of reusable Python code.\n",
        "* The module's name is the file without the .py extension.\n",
        "* We've already seen how modules are imported...\n",
        "```\n",
        "import random\n",
        "```\n",
        "* In order for Python to see one your modules, the module file (with .py extension) needs to be in the same directory as the program you are running or in a special,  predefined system location.\n",
        "  * `sys.path` in Python\n",
        "  * `PYTHONPATH` in shell environment\n"
      ]
    },
    {
      "cell_type": "markdown",
      "metadata": {
        "id": "qEARzlD47xre"
      },
      "source": [
        "## Module Namespace\n",
        "\n",
        "* Every module has its own namespace, which is independent of the main source file's global namespace\n",
        "* You can access objects in a module's namespace using this general syntax:\n",
        "```\n",
        "module-name.variable\n",
        "module-name.function(<args>)\n",
        "```\n",
        "* For example, as we've already seen...\n",
        "```\n",
        "rand_val = random.randrange(0, 10)\n",
        "```\n"
      ]
    },
    {
      "cell_type": "code",
      "source": [
        "import random\n",
        "print(random.random())\n",
        "random.randint(1, 10)"
      ],
      "metadata": {
        "id": "Cxa7FvfwkNZt",
        "outputId": "8bcc0cb0-bb60-41e2-e0f7-53f5fd7996ea",
        "colab": {
          "base_uri": "https://localhost:8080/"
        }
      },
      "execution_count": null,
      "outputs": [
        {
          "output_type": "stream",
          "name": "stdout",
          "text": [
            "0.6846275001864298\n"
          ]
        },
        {
          "output_type": "execute_result",
          "data": {
            "text/plain": [
              "6"
            ]
          },
          "metadata": {},
          "execution_count": 23
        }
      ]
    },
    {
      "cell_type": "markdown",
      "metadata": {
        "id": "1Yq51ZLi9mpi"
      },
      "source": [
        "## The `from` Statement\n",
        "\n",
        "* You can also import code using this syntax...\n",
        "```\n",
        "from module-name import *\n",
        "```\n",
        "* This says loads all the names (*) from the designated module into the global namespace.\n",
        "* With this kind of import, the module names get loaded into the global namespace, which means you don't need to qualify your accesses with the `module-name.` prefix.\n",
        "* For example, you could do this...\n",
        "```\n",
        "from random import *\n",
        "rand_val = randrange(0, 10)\n",
        "# I didn't need to use random.randrange(0, 10)\n",
        "```\n",
        "\n",
        "* You can also import selected names from a module\n",
        "```\n",
        "from random import randrange, randint\n",
        "```\n",
        "* This says load only those names explicitly listed (`randrange` and `randint`, in this case) from the designated module into the global namespace.\n",
        "* As in the previous example, after this import the names are loaded into the common global namespace so there is no need to qualify them...\n",
        "```\n",
        "from random import randrange, randint\n",
        "rand_val = randrange(0, 10)\n",
        "```\n",
        "\n"
      ]
    },
    {
      "cell_type": "code",
      "metadata": {
        "id": "Z70E4IFAIaA7",
        "colab": {
          "base_uri": "https://localhost:8080/"
        },
        "outputId": "526fa7a2-1a24-4b39-e995-2f9af3cd5f2b"
      },
      "source": [
        "from random import random, randint\n",
        "print(random())\n",
        "randint(1, 10)\n"
      ],
      "execution_count": null,
      "outputs": [
        {
          "output_type": "stream",
          "name": "stdout",
          "text": [
            "0.48469678088373136\n"
          ]
        },
        {
          "output_type": "execute_result",
          "data": {
            "text/plain": [
              "7"
            ]
          },
          "metadata": {},
          "execution_count": 24
        }
      ]
    },
    {
      "cell_type": "markdown",
      "metadata": {
        "id": "iV5LLDaw92Ea"
      },
      "source": [
        "## When to use `import` vs. `from`\n",
        "* Generally, it's better to use `import` because...\n",
        "  * less risk of name clashes and other surprises\n",
        "  * makes your code more explicit and clear\n",
        "* Occasionally, you may find that you use a module’s functions so frequently that it pays to import it directly into the global namespace with `from`.\n",
        "* That’s fine but do so carefully and watch out for name conflicts.\n"
      ]
    },
    {
      "cell_type": "markdown",
      "metadata": {
        "id": "_6s0SozSmTuO"
      },
      "source": [
        "# IDEs and Editors"
      ]
    },
    {
      "cell_type": "markdown",
      "metadata": {
        "id": "8oYJAxh9ll49"
      },
      "source": [
        "* Integrated Development Environments\n",
        "* Programs to help you write programs\n",
        "* Many popular ones...\n",
        "  * VSCode\n",
        "  * idx.dev - cloud based VS Code from Google\n",
        "  * repl.it - cloud based multi-lingual IDE, great for learning\n",
        "  * Vim\n",
        "  * PyCharm\n",
        "  * Mu - simple Python IDE for beginners\n",
        "\n"
      ]
    },
    {
      "cell_type": "markdown",
      "metadata": {
        "id": "BrBfMyW7gCFl"
      },
      "source": [
        "# Example Programs"
      ]
    },
    {
      "cell_type": "markdown",
      "metadata": {
        "id": "jBs305Ht_KLo"
      },
      "source": [
        "# Homework"
      ]
    },
    {
      "cell_type": "markdown",
      "metadata": {
        "id": "ju5mRvkfFTDj"
      },
      "source": [
        "## Question 1\n",
        "\n",
        "Write a function called `total` that returns the sum of a range of integers starting with the first passed value and ending at one less than the second passed value.\n",
        "\n",
        "For example, `total(4, 7)` returns `15` (`4`+`5`+`6`)."
      ]
    },
    {
      "cell_type": "code",
      "metadata": {
        "id": "75wNAt34FqMZ"
      },
      "source": [
        "def total(a, b):\n",
        "    # Add your code here"
      ],
      "execution_count": null,
      "outputs": []
    },
    {
      "cell_type": "code",
      "metadata": {
        "id": "a6ikEMuyFrOx",
        "colab": {
          "base_uri": "https://localhost:8080/",
          "height": 234
        },
        "outputId": "8633f61e-662a-4e46-dd69-ef25e5ebc28a"
      },
      "source": [
        "# Run this cell to test your code...\n",
        "test_data = (\n",
        "  (4, 7),\n",
        "  (10, 12),\n",
        "  (1, 1),\n",
        "  (0, 0),\n",
        "  (0, 1),\n",
        "  (1, 0),\n",
        "  (-5, 2),\n",
        "  (-2, 2),\n",
        ")\n",
        "\n",
        "for i, (a, b) in enumerate(test_data):\n",
        "  computed = total(a, b)\n",
        "  actual = sum([i for i in range(a, b)])\n",
        "  assert computed == actual, f'Test {i} failed: {computed} != {actual}'\n",
        "\n",
        "print('All tests passed!')"
      ],
      "execution_count": null,
      "outputs": [
        {
          "output_type": "error",
          "ename": "AssertionError",
          "evalue": "ignored",
          "traceback": [
            "\u001b[0;31m---------------------------------------------------------------------------\u001b[0m",
            "\u001b[0;31mAssertionError\u001b[0m                            Traceback (most recent call last)",
            "\u001b[0;32m<ipython-input-7-6a32a3e4bf9e>\u001b[0m in \u001b[0;36m<module>\u001b[0;34m()\u001b[0m\n\u001b[1;32m     14\u001b[0m   \u001b[0mcomputed\u001b[0m \u001b[0;34m=\u001b[0m \u001b[0mtotal\u001b[0m\u001b[0;34m(\u001b[0m\u001b[0ma\u001b[0m\u001b[0;34m,\u001b[0m \u001b[0mb\u001b[0m\u001b[0;34m)\u001b[0m\u001b[0;34m\u001b[0m\u001b[0;34m\u001b[0m\u001b[0m\n\u001b[1;32m     15\u001b[0m   \u001b[0mactual\u001b[0m \u001b[0;34m=\u001b[0m \u001b[0msum\u001b[0m\u001b[0;34m(\u001b[0m\u001b[0;34m[\u001b[0m\u001b[0mi\u001b[0m \u001b[0;32mfor\u001b[0m \u001b[0mi\u001b[0m \u001b[0;32min\u001b[0m \u001b[0mrange\u001b[0m\u001b[0;34m(\u001b[0m\u001b[0ma\u001b[0m\u001b[0;34m,\u001b[0m \u001b[0mb\u001b[0m\u001b[0;34m)\u001b[0m\u001b[0;34m]\u001b[0m\u001b[0;34m)\u001b[0m\u001b[0;34m\u001b[0m\u001b[0;34m\u001b[0m\u001b[0m\n\u001b[0;32m---> 16\u001b[0;31m   \u001b[0;32massert\u001b[0m \u001b[0mcomputed\u001b[0m \u001b[0;34m==\u001b[0m \u001b[0mactual\u001b[0m\u001b[0;34m,\u001b[0m \u001b[0;34mf'Test {i} failed: {computed} != {actual}'\u001b[0m\u001b[0;34m\u001b[0m\u001b[0;34m\u001b[0m\u001b[0m\n\u001b[0m\u001b[1;32m     17\u001b[0m \u001b[0;34m\u001b[0m\u001b[0m\n\u001b[1;32m     18\u001b[0m \u001b[0mprint\u001b[0m\u001b[0;34m(\u001b[0m\u001b[0;34m'All tests passed!'\u001b[0m\u001b[0;34m)\u001b[0m\u001b[0;34m\u001b[0m\u001b[0;34m\u001b[0m\u001b[0m\n",
            "\u001b[0;31mAssertionError\u001b[0m: Test 0 failed: 0 != 15"
          ]
        }
      ]
    },
    {
      "cell_type": "markdown",
      "metadata": {
        "id": "Dd1FNOpnK0-D"
      },
      "source": [
        "## Question 2\n",
        "\n",
        "Write a function called `reverse` that returns a reversed copy of a passed string. For example, `reverse('Obama')` returns `amabO`.\n"
      ]
    },
    {
      "cell_type": "code",
      "metadata": {
        "id": "orMwPRauWCOU"
      },
      "source": [
        "# Add your code here"
      ],
      "execution_count": null,
      "outputs": []
    },
    {
      "cell_type": "code",
      "metadata": {
        "id": "314VvVKCMIzK",
        "cellView": "both"
      },
      "source": [
        "# Run this cell to test your code...\n",
        "import random\n",
        "import string\n",
        "\n",
        "def reverse_test(a, b):\n",
        "  rev = reverse(a)\n",
        "  assert rev == b, f'{rev} != {b}'\n",
        "\n",
        "# Some basic tests.\n",
        "reverse_test('Obama', 'amabO')\n",
        "reverse_test('Marc', 'craM')\n",
        "reverse_test('', '')\n",
        "reverse_test('aaa', 'aaa')\n",
        "reverse_test('A a', 'a A')\n",
        "\n",
        "# Test a very long string.\n",
        "random_str = ''\n",
        "reverse_random_str = ''\n",
        "for i in range(1000):\n",
        "  ch = random.choice(string.ascii_lowercase)\n",
        "  random_str += ch\n",
        "  reverse_random_str = ch + reverse_random_str\n",
        "reverse_test(random_str, reverse_random_str)\n",
        "\n",
        "print('tests passed')"
      ],
      "execution_count": null,
      "outputs": []
    },
    {
      "cell_type": "markdown",
      "metadata": {
        "id": "IEUU-OPeL3B_"
      },
      "source": [
        "## Question 3\n",
        "\n",
        "Import *only* the `random()` function from the `random` module. Write a function called `rando` that returns, on average, `True` half the time and `False` half the time.\n"
      ]
    },
    {
      "cell_type": "code",
      "metadata": {
        "id": "YgiDU5EAMXiY"
      },
      "source": [
        "def rando(a, b):\n",
        "    # Add your code here"
      ],
      "execution_count": null,
      "outputs": []
    },
    {
      "cell_type": "code",
      "metadata": {
        "id": "RfJiTPUjMaUj"
      },
      "source": [
        "# Run this cell to test your code...\n",
        "import seaborn as sns\n",
        "height = 100\n",
        "\n",
        "li = []\n",
        "for i in range(10000):\n",
        "  position = height // 2\n",
        "  for j in range(2 * height):\n",
        "    if rando():\n",
        "      position = min(height, position+1)\n",
        "    else:\n",
        "      position = max(0, position-1)\n",
        "  li.append(position)\n",
        "\n",
        "sns.distplot(li)"
      ],
      "execution_count": null,
      "outputs": []
    },
    {
      "cell_type": "markdown",
      "metadata": {
        "id": "iWrTAzBWKg-c"
      },
      "source": [
        "## Question 4\n",
        "\n",
        "Try some exercises on [codingbat.com/python](https://codingbat.com/python)."
      ]
    }
  ]
}