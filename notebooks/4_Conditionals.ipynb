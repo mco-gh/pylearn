{
  "nbformat": 4,
  "nbformat_minor": 0,
  "metadata": {
    "colab": {
      "provenance": [],
      "collapsed_sections": [
        "KiBaxNk9bAVl",
        "EY_CXBBE8iL0",
        "QeVednm88pEn",
        "zIAR_Ahg85Py",
        "L_7esHuA9LKs",
        "xm2YA7qo-Op1",
        "Dd1FNOpnK0-D",
        "So9vQ1trLJLX",
        "1jH-_bNlLcHc"
      ],
      "include_colab_link": true
    },
    "kernelspec": {
      "name": "python3",
      "display_name": "Python 3"
    }
  },
  "cells": [
    {
      "cell_type": "markdown",
      "metadata": {
        "id": "view-in-github",
        "colab_type": "text"
      },
      "source": [
        "<a href=\"https://colab.research.google.com/github/mco-gh/pylearn/blob/master/notebooks/4_Conditionals.ipynb\" target=\"_parent\"><img src=\"https://colab.research.google.com/assets/colab-badge.svg\" alt=\"Open In Colab\"/></a>"
      ]
    },
    {
      "cell_type": "markdown",
      "metadata": {
        "id": "7B_-CpRRW4Zd"
      },
      "source": [
        "# Notebook 4 - Controlling Program Flow and Using Modules\n",
        "\n",
        "**You can make your own copy of this notebook by selecting File->Save a copy in Drive from the menu bar above.**\n",
        "\n",
        "Things you'll learn in this lesson:\n",
        "- how to control program flow based based on conditional values\n",
        "- how to represent blocks of code\n",
        "- how to express complex conditional logic\n",
        "- how to import and use modules in your programs\n"
      ]
    },
    {
      "cell_type": "markdown",
      "source": [
        "[Previous Lesson](https://pylearn.io/lessons/3-Expressions/)\n",
        "&nbsp;&nbsp;&nbsp;&nbsp;&nbsp;&nbsp;&nbsp;&nbsp;&nbsp;&nbsp;\n",
        "[Next Lesson](https://pylearn.io/lessons/5-Loops/)"
      ],
      "metadata": {
        "id": "auL3s2FgoSp1"
      }
    },
    {
      "cell_type": "markdown",
      "metadata": {
        "id": "KiBaxNk9bAVl"
      },
      "source": [
        "# Controlling Program Flow\n",
        "\n",
        "Trivia Question:\n",
        "Will the year 2100 be a leap year?\n",
        "\n",
        "* Up to now, we've looked at very simple programs, involving a sequence of statements (A, then B, then C…)\n",
        "* But real world algorithms are rarely so simple\n",
        "\n",
        "Example: If a year is divisible by 4, then it's a leap year, otherwise it's not a leap year.\n",
        "\n",
        "This is called conditional logic because the program’s logic or execution path is determined by the testing of a true or false condition.\n",
        "\n",
        "Everyday example:  if it's not raining then I'll ride my bike to work, otherwise I'll take public transit.\n"
      ]
    },
    {
      "cell_type": "markdown",
      "metadata": {
        "id": "Qoz-W_TIz3QS"
      },
      "source": [
        "## `if` Statements"
      ]
    },
    {
      "cell_type": "markdown",
      "metadata": {
        "id": "aTcPnZnF7S9-"
      },
      "source": [
        "* The `if` statement is how we express conditional logic in Python.\n",
        "* Virtually every programming language has this concept.\n",
        "* If statements define a condition and a sequence of statements to execute if the condition is `True`.\n",
        "\n",
        "Prototype...\n",
        "\n",
        "```\n",
        "if some_expression:    \n",
        "    do_this()\n",
        "    do_that()\n",
        "```\n",
        "\n",
        "If the condition is true, the indented statements are executed.\n",
        "Otherwise, the indented statements are skipped and program execution continues after the `if` statement.\n"
      ]
    },
    {
      "cell_type": "code",
      "metadata": {
        "id": "NzctV1Z6C3lk",
        "colab": {
          "base_uri": "https://localhost:8080/"
        },
        "outputId": "9bc11a99-dec3-48cb-88eb-8faadebbc1ca"
      },
      "source": [
        "month = \"jan\"\n",
        "summer_months = [\"may\", \"jun\", \"jul\", \"aug\"]\n",
        "\n",
        "if month in summer_months:\n",
        "    print(\"yay - it's still summer!\")\n",
        "else:\n",
        "    print(\"boo - have to go to school today!\")\n",
        "print(\"program done\")"
      ],
      "execution_count": 1,
      "outputs": [
        {
          "output_type": "stream",
          "name": "stdout",
          "text": [
            "boo - have to go to school today!\n",
            "program done\n"
          ]
        }
      ]
    },
    {
      "cell_type": "code",
      "source": [
        "var = 3\n",
        "if var == 3:\n",
        "    print(\"1\")\n",
        "else:\n",
        "    print(\"2\")\n",
        "    print(\"3\")"
      ],
      "metadata": {
        "id": "Y1qKE3Z0ICfi",
        "outputId": "d2a020f4-656f-4a55-f557-8cb074b35145",
        "colab": {
          "base_uri": "https://localhost:8080/"
        }
      },
      "execution_count": 7,
      "outputs": [
        {
          "output_type": "stream",
          "name": "stdout",
          "text": [
            "1\n"
          ]
        }
      ]
    },
    {
      "cell_type": "markdown",
      "metadata": {
        "id": "s6BuZoxH7UcD"
      },
      "source": [
        "### Challenge\n",
        "\n",
        "In Python, we use indentation to associate a block of statements with a condition, for example...\n",
        "\n",
        "```\n",
        "print(\"1\")\n",
        "if some_condition:    \n",
        "    print(\"2\")    \n",
        "    print(\"3\")\n",
        "print(\"4\") # this line is NOT part of the if block\n",
        "```\n",
        "\n",
        "What does the output look like...\n",
        "* when `some_condition` is True?\n",
        "* when `some_condition` is False?\n",
        "\n",
        "Try testing your guess by running the following cell with `some_condition` set to True, then False."
      ]
    },
    {
      "cell_type": "code",
      "source": [
        "some_condition = True\n",
        "\n",
        "print(\"1\")\n",
        "if some_condition:\n",
        "    print(\"2\")\n",
        "    print(\"3\")\n",
        "print(\"4\") # this line is NOT part of the if block"
      ],
      "metadata": {
        "id": "kS6LL5m0NkBD",
        "colab": {
          "base_uri": "https://localhost:8080/"
        },
        "outputId": "4ab2f7c2-9a0a-44df-9aa4-9d59dc23957d"
      },
      "execution_count": 8,
      "outputs": [
        {
          "output_type": "stream",
          "name": "stdout",
          "text": [
            "1\n",
            "2\n",
            "3\n",
            "4\n"
          ]
        }
      ]
    },
    {
      "cell_type": "markdown",
      "metadata": {
        "id": "iIM5dHM87YwW"
      },
      "source": [
        "Here’s a slightly different example...\n",
        "```\n",
        "print(\"1\")\n",
        "if some_condition:    \n",
        "    print(\"2\")    \n",
        "print(\"3\")  # this line is NOT part of if block\n",
        "print(\"4\")  # this line is NOT part of if block\n",
        "```\n",
        "What’s different?\n",
        "What does the output look like...\n",
        "* when the `some_condition` is True?\n",
        "* when the `some_condition` is False?\n"
      ]
    },
    {
      "cell_type": "markdown",
      "metadata": {
        "id": "BZrYYUiR8akX"
      },
      "source": [
        "## `if` Block Structure\n",
        "\n",
        "* In Python, `if` statements blocks are defined by indentation.\n",
        "* This idea of using indentation to delineate program structure is pervasive in Python and unique across programming languages.\n",
        "* For now, we're focusing on if statements but later we'll see how indentation is used to define other blocks of statements."
      ]
    },
    {
      "cell_type": "markdown",
      "metadata": {
        "id": "EY_CXBBE8iL0"
      },
      "source": [
        "### Block Stucture in Other Languages\n",
        "\n",
        "In other languages, explicit delineators are used. For example, in Java, C, and C++ we would write:\n",
        "\n",
        "```\n",
        "if ((cur_year % 4) == 0) {\n",
        "    leap_year = true;\n",
        "}\n",
        "```\n",
        "\n",
        "whereas, in Python we write:\n",
        "\n",
        "```\n",
        "if (cur_year % 4) == 0:\n",
        "    leap_year = True\n",
        "```\n",
        "Indentation in Java/C/C++ is a helpful practice for program readability but it does not affect program functionality.\n",
        "In Python, indentation is not just a good idea - it's affects program logic!\n"
      ]
    },
    {
      "cell_type": "markdown",
      "metadata": {
        "id": "QeVednm88pEn"
      },
      "source": [
        "## Python's use of whitespace\n",
        "\n",
        "* Many people have strong opinions about this aspect of Python.\n",
        "* Personally, I find that it leads to compact, readable code.\n",
        "* My advice: don’t get hung up on this feature. Try it and see what you think after you've written a few Python programs.\n",
        "* Pitfalls:\n",
        "  * watch out for mismatched indentation within a block\n",
        "  * avoid mixing tabs and spaces in your code\n",
        "  * I prefer spaces over tabs because it's more explicit.\n",
        "\n",
        "Marc's law of whitespace: **Pick spaces or tabs and be consistent.**"
      ]
    },
    {
      "cell_type": "markdown",
      "metadata": {
        "id": "zRsgasyw8s7O"
      },
      "source": [
        "## Encoding our leap year rule\n",
        "Remember our leap year rule?\n",
        "\n",
        "* if the current year is divisible by 4, we have a leap year\n",
        "\n",
        "Here's a short Python program, which prompts the user to enter a year and uses the strategy above to decide if the year entered was (or will be, if in the future) a leap year:\n",
        "```\n",
        "leap_year = False  # initialization\n",
        "year = input(\"Enter desired year: \")\n",
        "year = int(year)\n",
        "if (year % 4) == 0:\n",
        "    leap_year = True\n",
        "print(f\"leap year status for {year}: {str(leap_year)}\")\n",
        "````\n",
        "**Question: Why is the first statement needed?**\n"
      ]
    },
    {
      "cell_type": "code",
      "source": [
        "leap_year = False  # initialization\n",
        "year = input(\"Enter desired year: \")\n",
        "year = int(year)\n",
        "if (year % 4) == 0:\n",
        "    leap_year = True\n",
        "print(f\"leap year status for {year}: {str(leap_year)}\")"
      ],
      "metadata": {
        "colab": {
          "base_uri": "https://localhost:8080/"
        },
        "id": "YxwIYO539pLb",
        "outputId": "9c8afbb3-a259-4937-c06d-ae0f109df27a"
      },
      "execution_count": 16,
      "outputs": [
        {
          "output_type": "stream",
          "name": "stdout",
          "text": [
            "Enter desired year: 2024\n",
            "leap year status for 2024: True\n"
          ]
        }
      ]
    },
    {
      "cell_type": "markdown",
      "metadata": {
        "id": "nqHUiij_02RO"
      },
      "source": [
        "## `else` Statements"
      ]
    },
    {
      "cell_type": "markdown",
      "metadata": {
        "id": "zkMiG5338ypF"
      },
      "source": [
        "Sometimes we want to specify an alternative to the `if` condition, which we do with an `else` statement, for example...\n",
        "\n",
        "```\n",
        "if <condition>:\n",
        "    <block1>\n",
        "else:\n",
        "    <block2>\n",
        "```\n",
        "\n",
        "* If the condition is true, block1 is executed.\n",
        "* if the condition is false, block2 is executed.\n",
        "\n",
        "The else cause is Python's way of saying \"otherwise...\"\n",
        "\n"
      ]
    },
    {
      "cell_type": "markdown",
      "metadata": {
        "id": "kVG18CiQ838a"
      },
      "source": [
        "Just as `if` blocks are defined by indentation, `else` blocks are also defined by indentation.\n",
        "\n",
        "For example, this:\n",
        "\n",
        "```\n",
        "if <condition>:\n",
        "    <statement1>\n",
        "else:\n",
        "    <statement2>\n",
        "    <statement3>\n",
        "```\n",
        "is different from this:\n",
        "```\n",
        "if <condition>:\n",
        "    <statement1>\n",
        "else:\n",
        "    <statement2>\n",
        "<statement3>\n",
        "```\n"
      ]
    },
    {
      "cell_type": "markdown",
      "metadata": {
        "id": "zIAR_Ahg85Py"
      },
      "source": [
        "### Challenge\n",
        "\n",
        "Consider the following if/else statement...\n",
        "```\n",
        "print(\"1\")\n",
        "if some_condition:    \n",
        "  print(\"2\")\n",
        "else:    \n",
        "  print(\"3\")\n",
        "print(\"4\")\n",
        "```\n",
        "Question: what does the output look like…\n",
        "* when the `some_condition` is True?   \n",
        "* when the `some_condition` is False?\n",
        "\n",
        "Try testing your guess by running the following cell with `some_condition` set to True, then False.\n"
      ]
    },
    {
      "cell_type": "code",
      "source": [
        "some_condition = False\n",
        "\n",
        "print(\"1\")\n",
        "if some_condition:\n",
        "  print(\"2\")\n",
        "else:\n",
        "  print(\"3\")\n",
        "print(\"4\")"
      ],
      "metadata": {
        "colab": {
          "base_uri": "https://localhost:8080/"
        },
        "id": "irwZaJCuQItk",
        "outputId": "9f10d954-7726-4fba-84bf-33ad1a7d4011"
      },
      "execution_count": 18,
      "outputs": [
        {
          "output_type": "stream",
          "name": "stdout",
          "text": [
            "1\n",
            "3\n",
            "4\n"
          ]
        }
      ]
    },
    {
      "cell_type": "markdown",
      "metadata": {
        "id": "7eBjL9Ju9BG1"
      },
      "source": [
        "## Let's use `if` and `else` to express our leap year rule"
      ]
    },
    {
      "cell_type": "markdown",
      "source": [
        "Can we use if/else to rewrite our leap year program to avoid needing this initialization step:\n",
        "```\n",
        "leap_year = False  # initialization\n",
        "```"
      ],
      "metadata": {
        "id": "hC0glKT-QQvV"
      }
    },
    {
      "cell_type": "code",
      "metadata": {
        "id": "45rV7XpBUS0w"
      },
      "source": [
        "year = input(\"Enter current year: \")\n",
        "year = int(year)\n",
        "if (year % 4) == 0:\n",
        "  leap_year = True\n",
        "else:\n",
        "  leap_year = False\n",
        "print(f\"leap year status for {year}: {leap_year}\")"
      ],
      "execution_count": null,
      "outputs": []
    },
    {
      "cell_type": "markdown",
      "metadata": {
        "id": "-uwGPHQt0vrJ"
      },
      "source": [
        "## `elif` Statements"
      ]
    },
    {
      "cell_type": "markdown",
      "metadata": {
        "id": "Shf50kOm9GRl"
      },
      "source": [
        "Sometimes we need one or more intermediate conditions between the if and else parts, for example...\n",
        "\n",
        "`if A then do X, else if B then do Y, otherwise do Z`\n",
        "\n",
        "We use the `elif` statement to express this in Python...\n",
        "```\n",
        "if condition1:\n",
        "    do_thing_1()\n",
        "elif condition2:\n",
        "    do_thing_2()\n",
        "else:\n",
        "    do_thing_3()\n",
        "```\n",
        "* If `condition1` is true, `do_thing_1()` is executed.\n",
        "* Else, if `condition2` is true, `do_thing_2()` is executed.\n",
        "* Otherwise, `do_thing_3()` is executed.\n"
      ]
    },
    {
      "cell_type": "markdown",
      "metadata": {
        "id": "L9colMWL9HZw"
      },
      "source": [
        "* `elif` blocks are defined the same way as `if` and `else` blocks - using indentation.\n",
        "\n",
        "* It's good to have an if/elif for every condition of interest and not lump errors together with cases of interest.\n",
        "\n",
        "For example, if you care about values 1 and 2 and everything else is considered an error, this code:\n",
        "\n",
        "```\n",
        "if month == \"jan\":      # deal with jan here\n",
        "    apply_jan_discount()\n",
        "elif month == \"feb\":    # deal with feb here\n",
        "    apply_feb_discount()\n",
        "else:                   # deal with errors here\n",
        "    apply_no_discount()\n",
        "```\n",
        "is better than this:\n",
        "```\n",
        "if month == \"jan\":\n",
        "    apply_jan_discount()\n",
        "else:    # x must be 2 then, right? not necessarily!\n",
        "    apply_feb_discount()\n",
        "```\n",
        "The latter code hides errors by combining a valid case with error cases.\n"
      ]
    },
    {
      "cell_type": "markdown",
      "metadata": {
        "id": "L_7esHuA9LKs"
      },
      "source": [
        "### Challenge\n",
        "\n",
        "Consider the following if/elif/else statement...\n",
        "```\n",
        "print(\"1\")\n",
        "if condition1:    \n",
        "    print(\"2\")\n",
        "elif condition2:    \n",
        "    print(\"3\")\n",
        "else:    \n",
        "    print(\"4\")\n",
        "print(\"5\")\n",
        "```\n",
        "\n",
        "What does the output look like...\n",
        "* when both conditions are False?  \n",
        "* when both conditions are True?   \n",
        "* when `condition1` is `True` and `condition2` is `False`?   \n",
        "* when `condition1` is `False` and `condition2` is `True`?\n",
        "\n",
        "Try testing your guess by running the following cell with `condition1` and `condition2` set to the four possible combinations of True and False."
      ]
    },
    {
      "cell_type": "code",
      "source": [
        "condition1 = False\n",
        "condition2 = True\n",
        "\n",
        "print(\"1\")\n",
        "if condition1:\n",
        "    print(\"2\")\n",
        "elif condition2:\n",
        "    print(\"3\")\n",
        "else:\n",
        "    print(\"4\")\n",
        "print(\"5\")"
      ],
      "metadata": {
        "colab": {
          "base_uri": "https://localhost:8080/"
        },
        "id": "GPj34S1JSTFs",
        "outputId": "85e89606-e589-40ea-ba43-348b2925bac9"
      },
      "execution_count": 24,
      "outputs": [
        {
          "output_type": "stream",
          "name": "stdout",
          "text": [
            "1\n",
            "3\n",
            "5\n"
          ]
        }
      ]
    },
    {
      "cell_type": "markdown",
      "metadata": {
        "id": "D79nPzXo9zZM"
      },
      "source": [
        "## Nested `if` Statements\n",
        "\n",
        "* Sometimes we need to embed one if statement inside another.\n",
        "* We call these nested if statements.\n",
        "* We can embed if statements inside any part of an `if` statement, i.e. in the `if` block or the `elif` block or the `else` block.\n",
        "* We can embed `if` statements arbitrarily deeply, i.e. we\n",
        "could have, for example...\n",
        "```\n",
        "if condition1:\n",
        "    if condition2:\n",
        "        if condition3:\n",
        "        ...\n",
        "```\n"
      ]
    },
    {
      "cell_type": "markdown",
      "metadata": {
        "id": "FdtLybaN97zL"
      },
      "source": [
        "### Challenge\n",
        "\n",
        "```\n",
        "print(\"1\")\n",
        "if condition1:    \n",
        "    print(\"2\")    \n",
        "    if condition2:        \n",
        "        print(\"3\")    \n",
        "    else:        \n",
        "        print(\"4\")\n",
        "else:    \n",
        "    print(\"5\")\n",
        "print(\"6\")\n",
        "```\n",
        "What does the output look like...\n",
        "* when both conditions are False?  \n",
        "* when both conditions are True?   \n",
        "* when `condition1` is `True` and `condition2` is `False`?   \n",
        "* when `condition1` is `False` and `condition2` is `True`?\n",
        "\n",
        "Try testing your guess by running the following cell with `condition1` and `condition2` set to the four possible combinations of True and False."
      ]
    },
    {
      "cell_type": "code",
      "source": [
        "condition1 = False\n",
        "condition2 = True\n",
        "\n",
        "print(\"1\")\n",
        "if condition1:\n",
        "    print(\"2\")\n",
        "    if condition2:\n",
        "        print(\"3\")\n",
        "    else:\n",
        "        print(\"4\")\n",
        "else:\n",
        "    print(\"5\")\n",
        "print(\"6\")"
      ],
      "metadata": {
        "colab": {
          "base_uri": "https://localhost:8080/"
        },
        "id": "qg0hCBd5SvLA",
        "outputId": "d9b6a400-f3cf-4633-ed8c-752593a83ccf"
      },
      "execution_count": 28,
      "outputs": [
        {
          "output_type": "stream",
          "name": "stdout",
          "text": [
            "1\n",
            "5\n",
            "6\n"
          ]
        }
      ]
    },
    {
      "cell_type": "markdown",
      "metadata": {
        "id": "uWrJ5KjU-Edv"
      },
      "source": [
        "## Improving Our Rule\n",
        "\n",
        "A more accurate rule for determining leap years:\n",
        "\n",
        "If the current year is divisible by 4 but not divisible by 100 then we have a leap year. How would you encode that refinement in Python? Try it yourself and then have a look at the next cell."
      ]
    },
    {
      "cell_type": "code",
      "metadata": {
        "id": "YOF4hlnTXsXU",
        "colab": {
          "base_uri": "https://localhost:8080/"
        },
        "outputId": "c5f8b63b-33cd-4d1e-a7a2-8fb0feaa8ab5"
      },
      "source": [
        "leap_year = False\n",
        "year = input(\"Enter current year: \")\n",
        "year = int(year)\n",
        "if (year % 4) == 0:\n",
        "    if (year % 100) != 0:\n",
        "        leap_year = True\n",
        "print(f\"leap year status for {year}: {leap_year}\")"
      ],
      "execution_count": 35,
      "outputs": [
        {
          "output_type": "stream",
          "name": "stdout",
          "text": [
            "Enter current year: 2100\n",
            "leap year status for 2100: False\n"
          ]
        }
      ]
    },
    {
      "cell_type": "markdown",
      "metadata": {
        "id": "d5nFcLIa-I6O"
      },
      "source": [
        "### Variation - using boolean logic instead of nested `if`\n",
        "\n",
        "This example could also be coded using boolean logic in place of the nested if statement."
      ]
    },
    {
      "cell_type": "code",
      "metadata": {
        "id": "zuThxO12XdqH",
        "colab": {
          "base_uri": "https://localhost:8080/"
        },
        "outputId": "818fda3e-5b4a-4b15-9b76-a0c4624849ff"
      },
      "source": [
        "leap_year = False\n",
        "year = input(\"Enter current year: \")\n",
        "year = int(year)\n",
        "if (year % 4) == 0 and (year % 100) != 0:\n",
        "    leap_year = True\n",
        "print(f\"leap year status for {year}: {leap_year}\")\n",
        "\n",
        "\n"
      ],
      "execution_count": 39,
      "outputs": [
        {
          "output_type": "stream",
          "name": "stdout",
          "text": [
            "Enter current year: 2000\n",
            "leap year status for 2000: False\n"
          ]
        }
      ]
    },
    {
      "cell_type": "markdown",
      "metadata": {
        "id": "Jewjo6ZZX87O"
      },
      "source": [
        "What does the above code print for these years...\n",
        "* 2020?\n",
        "* 2100?  -- that answers our trivia questions from the beginning of this notebook\n",
        "* 2000?  -- surprise, that one's wrong!"
      ]
    },
    {
      "cell_type": "markdown",
      "metadata": {
        "id": "xm2YA7qo-Op1"
      },
      "source": [
        "## The Whole Story About Leap Years\n",
        "\n",
        "A year is a leap year if its divisible by 4,\n",
        "but not divisible by 100,\n",
        "unless also divisible by 400.\n",
        "\n",
        "So...  \n",
        "* 2008 was a leap year because it's divisible by 4 and not divisible by 100.\n",
        "* 2100 will NOT be a leap year because although it's divisible by 4, it is also divisible by 100.\n",
        "* 2000 was a leap year because although it's divisible by 4 and 100, it's also divisible by 400!\n"
      ]
    },
    {
      "cell_type": "markdown",
      "metadata": {
        "id": "jJzPtT8z1Z6f"
      },
      "source": [
        "# Importing Modules"
      ]
    },
    {
      "cell_type": "markdown",
      "metadata": {
        "id": "f-U1JoLp1gcI"
      },
      "source": [
        "`import` is how you use someone else's code.\n",
        "\n",
        "Let's say we want to generate a random number between 1 and 100. We can use the Python `random` module, like this..."
      ]
    },
    {
      "cell_type": "code",
      "metadata": {
        "id": "I-UIGmb5cIM6",
        "colab": {
          "base_uri": "https://localhost:8080/"
        },
        "outputId": "f063ef29-ea00-4d28-a52d-bf7af73d8cbf"
      },
      "source": [
        "import random\n",
        "\n",
        "good_dogs = [\"Benji\", \"Maple\", \"Kirby\", \"Rosie\"]\n",
        "\n",
        "for i in range(3):\n",
        "  random.shuffle(good_dogs)\n",
        "  print(good_dogs)"
      ],
      "execution_count": 42,
      "outputs": [
        {
          "output_type": "stream",
          "name": "stdout",
          "text": [
            "['Benji', 'Rosie', 'Kirby', 'Maple']\n",
            "['Maple', 'Benji', 'Rosie', 'Kirby']\n",
            "['Maple', 'Benji', 'Kirby', 'Rosie']\n"
          ]
        }
      ]
    },
    {
      "cell_type": "markdown",
      "metadata": {
        "id": "nkxuivpM_Qis"
      },
      "source": [
        "# Example Programs"
      ]
    },
    {
      "cell_type": "markdown",
      "metadata": {
        "id": "NSgINTKQ_CYt"
      },
      "source": [
        "### 1 - Draw a Randomly Colored Star"
      ]
    },
    {
      "cell_type": "code",
      "metadata": {
        "id": "RLXcCX_glOlA",
        "outputId": "58beecb9-5e78-4cb5-feb1-9716183ceb34",
        "colab": {
          "base_uri": "https://localhost:8080/"
        }
      },
      "source": [
        "!pip install ColabTurtle\n",
        "import random\n",
        "from ColabTurtle.Turtle import *"
      ],
      "execution_count": 43,
      "outputs": [
        {
          "output_type": "stream",
          "name": "stdout",
          "text": [
            "Collecting ColabTurtle\n",
            "  Downloading ColabTurtle-2.1.0.tar.gz (6.8 kB)\n",
            "  Preparing metadata (setup.py) ... \u001b[?25l\u001b[?25hdone\n",
            "Building wheels for collected packages: ColabTurtle\n",
            "  Building wheel for ColabTurtle (setup.py) ... \u001b[?25l\u001b[?25hdone\n",
            "  Created wheel for ColabTurtle: filename=ColabTurtle-2.1.0-py3-none-any.whl size=7642 sha256=cb4b17373bef9209c15da3da415b3d62c2db6ce0e17f3b6270a510cb3db07cb2\n",
            "  Stored in directory: /root/.cache/pip/wheels/5b/86/e8/54f5c8c853606e3a3060bb2e60363cbed632374a12e0f33ffc\n",
            "Successfully built ColabTurtle\n",
            "Installing collected packages: ColabTurtle\n",
            "Successfully installed ColabTurtle-2.1.0\n"
          ]
        }
      ]
    },
    {
      "cell_type": "code",
      "metadata": {
        "id": "LtZnTw6klY6f",
        "outputId": "158a1ca1-cd46-4141-cfd5-6106cb17c663",
        "colab": {
          "base_uri": "https://localhost:8080/",
          "height": 521
        }
      },
      "source": [
        "colors = ('white', 'yellow', 'orange', 'red', 'green', 'blue', 'purple', 'grey')\n",
        "num_colors = len(colors)\n",
        "initializeTurtle()\n",
        "speed(8)\n",
        "showturtle()\n",
        "i = random.randint(0, num_colors-1)\n",
        "for x in range(16):\n",
        "        if x % 2 == 0:\n",
        "          color(colors[i])\n",
        "          i = (i + 1) % num_colors\n",
        "        forward(100)\n",
        "        if x % 2 == 0:\n",
        "            left(160)\n",
        "        else:\n",
        "            left(245)"
      ],
      "execution_count": 45,
      "outputs": [
        {
          "output_type": "display_data",
          "data": {
            "text/plain": [
              "<IPython.core.display.HTML object>"
            ],
            "text/html": [
              "\n",
              "      <svg width=\"800\" height=\"500\">\n",
              "        <rect width=\"100%\" height=\"100%\" fill=\"black\"/>\n",
              "        <line x1=\"400\" y1=\"250\" x2=\"400.0\" y2=\"150.0\" stroke-linecap=\"round\" style=\"stroke:purple;stroke-width:4\"/><line x1=\"400.0\" y1=\"150.0\" x2=\"372.436\" y2=\"53.874\" stroke-linecap=\"round\" style=\"stroke:purple;stroke-width:4\"/><line x1=\"372.436\" y1=\"53.874\" x2=\"471.205\" y2=\"69.517\" stroke-linecap=\"round\" style=\"stroke:grey;stroke-width:4\"/><line x1=\"471.205\" y1=\"69.517\" x2=\"570.46\" y2=\"57.33\" stroke-linecap=\"round\" style=\"stroke:grey;stroke-width:4\"/><line x1=\"570.46\" y1=\"57.33\" x2=\"539.558\" y2=\"152.436\" stroke-linecap=\"round\" style=\"stroke:white;stroke-width:4\"/><line x1=\"539.558\" y1=\"152.436\" x2=\"536.068\" y2=\"252.375\" stroke-linecap=\"round\" style=\"stroke:white;stroke-width:4\"/><line x1=\"536.068\" y1=\"252.375\" x2=\"446.967\" y2=\"206.976\" stroke-linecap=\"round\" style=\"stroke:yellow;stroke-width:4\"/><line x1=\"446.967\" y1=\"206.976\" x2=\"348.804\" y2=\"187.895\" stroke-linecap=\"round\" style=\"stroke:yellow;stroke-width:4\"/><line x1=\"348.804\" y1=\"187.895\" x2=\"407.583\" y2=\"106.993\" stroke-linecap=\"round\" style=\"stroke:orange;stroke-width:4\"/><line x1=\"407.583\" y1=\"106.993\" x2=\"441.785\" y2=\"13.024\" stroke-linecap=\"round\" style=\"stroke:orange;stroke-width:4\"/><line x1=\"441.785\" y1=\"13.024\" x2=\"512.496\" y2=\"83.735\" stroke-linecap=\"round\" style=\"stroke:red;stroke-width:4\"/><line x1=\"512.496\" y1=\"83.735\" x2=\"599.958\" y2=\"132.216\" stroke-linecap=\"round\" style=\"stroke:red;stroke-width:4\"/><line x1=\"599.958\" y1=\"132.216\" x2=\"519.056\" y2=\"190.995\" stroke-linecap=\"round\" style=\"stroke:green;stroke-width:4\"/><line x1=\"519.056\" y1=\"190.995\" x2=\"457.49\" y2=\"269.796\" stroke-linecap=\"round\" style=\"stroke:green;stroke-width:4\"/><line x1=\"457.49\" y1=\"269.796\" x2=\"412.091\" y2=\"180.695\" stroke-linecap=\"round\" style=\"stroke:blue;stroke-width:4\"/><line x1=\"412.091\" y1=\"180.695\" x2=\"343.891\" y2=\"107.56\" stroke-linecap=\"round\" style=\"stroke:blue;stroke-width:4\"/>\n",
              "        <g visibility=visible transform=\"rotate(432,343.891,107.56) translate(325.891, 89.56)\">\n",
              "<path style=\" stroke:none;fill-rule:evenodd;fill:blue;fill-opacity:1;\" d=\"M 18.214844 0.632812 C 16.109375 1.800781 15.011719 4.074219 15.074219 7.132812 L 15.085938 7.652344 L 14.785156 7.496094 C 13.476562 6.824219 11.957031 6.671875 10.40625 7.066406 C 8.46875 7.550781 6.515625 9.15625 4.394531 11.992188 C 3.0625 13.777344 2.679688 14.636719 3.042969 15.027344 L 3.15625 15.152344 L 3.519531 15.152344 C 4.238281 15.152344 4.828125 14.886719 8.1875 13.039062 C 9.386719 12.378906 10.371094 11.839844 10.378906 11.839844 C 10.386719 11.839844 10.355469 11.929688 10.304688 12.035156 C 9.832031 13.09375 9.257812 14.820312 8.96875 16.078125 C 7.914062 20.652344 8.617188 24.53125 11.070312 27.660156 C 11.351562 28.015625 11.363281 27.914062 10.972656 28.382812 C 8.925781 30.84375 7.945312 33.28125 8.238281 35.1875 C 8.289062 35.527344 8.28125 35.523438 8.917969 35.523438 C 10.941406 35.523438 13.074219 34.207031 15.136719 31.6875 C 15.359375 31.417969 15.328125 31.425781 15.5625 31.574219 C 16.292969 32.042969 18.023438 32.964844 18.175781 32.964844 C 18.335938 32.964844 19.941406 32.210938 20.828125 31.71875 C 20.996094 31.625 21.136719 31.554688 21.136719 31.558594 C 21.203125 31.664062 21.898438 32.414062 22.222656 32.730469 C 23.835938 34.300781 25.5625 35.132812 27.582031 35.300781 C 27.90625 35.328125 27.9375 35.308594 28.007812 34.984375 C 28.382812 33.242188 27.625 30.925781 25.863281 28.425781 L 25.542969 27.96875 L 25.699219 27.785156 C 28.945312 23.960938 29.132812 18.699219 26.257812 11.96875 L 26.207031 11.84375 L 27.945312 12.703125 C 31.53125 14.476562 32.316406 14.800781 33.03125 14.800781 C 33.976562 14.800781 33.78125 13.9375 32.472656 12.292969 C 28.519531 7.355469 25.394531 5.925781 21.921875 7.472656 L 21.558594 7.636719 L 21.578125 7.542969 C 21.699219 6.992188 21.761719 5.742188 21.699219 5.164062 C 21.496094 3.296875 20.664062 1.964844 19.003906 0.855469 C 18.480469 0.503906 18.457031 0.5 18.214844 0.632812\"/>\n",
              "</g>\n",
              "      </svg>\n",
              "    "
            ]
          },
          "metadata": {}
        }
      ]
    },
    {
      "cell_type": "code",
      "metadata": {
        "id": "6yNvqDB2oP1B"
      },
      "source": [
        "initializeTurtle(initial_speed=10)\n",
        "color('orange')\n",
        "bgcolor('white')\n",
        "width(1)\n",
        "for i in range(36):\n",
        "    forward(200)\n",
        "    left(170)"
      ],
      "execution_count": null,
      "outputs": []
    },
    {
      "cell_type": "markdown",
      "source": [
        "### 2 - Study Group Formation"
      ],
      "metadata": {
        "id": "nMU2R-HvWs29"
      }
    },
    {
      "cell_type": "code",
      "metadata": {
        "id": "JhX5dJ9tdFbq",
        "colab": {
          "base_uri": "https://localhost:8080/"
        },
        "outputId": "83a71a83-8bac-4796-d55f-ce18019f50ae"
      },
      "source": [
        "import string\n",
        "import math\n",
        "from random import sample\n",
        "\n",
        "def groups(student_list, group_size):\n",
        "  students = set(student_list)\n",
        "  #print(students)\n",
        "  for i in range(math.ceil(len(students) / group_size)):\n",
        "    k = min(group_size, len(students))\n",
        "    group = sample(students, k)\n",
        "    print(group)\n",
        "    for j in group:\n",
        "      students.remove(j)\n",
        "\n",
        "students = ('Marc', 'Alex', 'Maya', 'Dina', 'Mitchell', 'Jordan', 'Bob', 'Carol')\n",
        "#groups(students, 3)\n",
        "groups(string.ascii_lowercase, 5)"
      ],
      "execution_count": 46,
      "outputs": [
        {
          "output_type": "stream",
          "name": "stdout",
          "text": [
            "['u', 'l', 'r', 'v', 't']\n",
            "['a', 'm', 'p', 'e', 'b']\n",
            "['s', 'j', 'z', 'k', 'o']\n",
            "['d', 'g', 'n', 'i', 'h']\n",
            "['x', 'c', 'w', 'q', 'f']\n",
            "['y']\n"
          ]
        },
        {
          "output_type": "stream",
          "name": "stderr",
          "text": [
            "<ipython-input-46-3d71af21bd6e>:10: DeprecationWarning: Sampling from a set deprecated\n",
            "since Python 3.9 and will be removed in a subsequent version.\n",
            "  group = sample(students, k)\n"
          ]
        }
      ]
    },
    {
      "cell_type": "markdown",
      "metadata": {
        "id": "KpsaVUh3WVXw"
      },
      "source": [
        "### 3 - Simple Web Server\n",
        "\n",
        "webserve.py...\n",
        "```\n",
        "# A simple web application.\n",
        "from flask import Flask, render_template\n",
        "\n",
        "app = Flask(__name__)\n",
        "\n",
        "@app.route('/hello/<name>')\n",
        "def greet(name='Stranger'):\n",
        "    return render_template(\"greeting.html\", name=name)\n",
        "    \n",
        "@app.route(\"/\")\n",
        "def index():\n",
        "    return render_template('index.html')\n",
        "```\n",
        "\n",
        "greeting.html...\n",
        "```\n",
        "{% extends \"base.html\" %}\n",
        "{% block content %}\n",
        "<p>Hello {{name}}, how are you?</p>\n",
        "{% endblock %}\n",
        "```"
      ]
    },
    {
      "cell_type": "markdown",
      "metadata": {
        "id": "jBs305Ht_KLo"
      },
      "source": [
        "# Challenges"
      ]
    },
    {
      "cell_type": "markdown",
      "metadata": {
        "id": "Dd1FNOpnK0-D"
      },
      "source": [
        "## Question 1\n",
        "\n",
        "Write a program that prompts the user for their birth year and prints their age in years, days, hours, minutes, and seconds. Don’t worry about the user’s birthday (just subtract the birth year from the current year to get the approximate current age in years) and you can ignore leap years. Here's a sample run:\n",
        "```\n",
        "    Enter your birth year:  1970\n",
        "    You are...\n",
        "        50 years old\n",
        "        18250 days old\n",
        "        438000 hours old\n",
        "        26280000 minutes old\n",
        "        1576800000 seconds old\n",
        "```"
      ]
    },
    {
      "cell_type": "code",
      "metadata": {
        "id": "orMwPRauWCOU"
      },
      "source": [
        "# Add your code here"
      ],
      "execution_count": null,
      "outputs": []
    },
    {
      "cell_type": "markdown",
      "source": [
        "Extra challenge:  write the program so that it works any year it is run, not just this year (hint: google the Python `datetime` module, which you can use to find out the current year)."
      ],
      "metadata": {
        "id": "BJG9fhZcUkUl"
      }
    },
    {
      "cell_type": "code",
      "source": [
        "# Add your code here"
      ],
      "metadata": {
        "id": "E2Fl5ga8UmU4"
      },
      "execution_count": null,
      "outputs": []
    },
    {
      "cell_type": "code",
      "metadata": {
        "id": "314VvVKCMIzK",
        "cellView": "form"
      },
      "source": [
        "#@title Double click here to reveal solution\n",
        "\n",
        "Coming soon."
      ],
      "execution_count": null,
      "outputs": []
    },
    {
      "cell_type": "markdown",
      "metadata": {
        "id": "So9vQ1trLJLX"
      },
      "source": [
        "## Question 2\n",
        "\n",
        "* A person is eligible to be a US Senator if they are at least 30 years old and have been a US citizen for at least 9 years.\n",
        "\n",
        "* A person is eligible to be a US Representative if they are at least 25 years old and have been a US citizen for at least 7 years.\n",
        "\n",
        "Write a program to prompt a user to enter their age and length of citizenship in years, then print out one of the following three statements:\n",
        "\n",
        "* You are eligible to run for both the House and Senate.\n",
        "* You eligible to run only for the House.\n",
        "* You are ineligible to run for either branch of Congress.\n",
        "\n",
        "Something to think about: why don't we also have the possibility of printing \"You are eligible to run only for the Senate\"?"
      ]
    },
    {
      "cell_type": "code",
      "metadata": {
        "id": "-8rQKJmiLSsa"
      },
      "source": [
        "# Add your code here"
      ],
      "execution_count": null,
      "outputs": []
    },
    {
      "cell_type": "code",
      "metadata": {
        "id": "M_bufOMUMfxj",
        "cellView": "form"
      },
      "source": [
        "#@title Double click here to reveal solution\n",
        "\n",
        "Coming soon."
      ],
      "execution_count": null,
      "outputs": []
    },
    {
      "cell_type": "markdown",
      "metadata": {
        "id": "1jH-_bNlLcHc"
      },
      "source": [
        "## Question 3\n",
        "\n",
        "Write a program that generates two random 1 digit integers and prompts the user to provide the product of those two digits (basically, this is an interactive multiplication test). Check the user's answer and print a response indicating whether it is correct or not. Here are two sample runs:\n",
        "```\n",
        "Welcome to the multiplication tester!\n",
        "What is 3 * 9? 25\n",
        "Sorry, that's incorrect, 3 * 9 = 27.\n",
        "\n",
        "Welcome to the multiplication tester!\n",
        "What is 4 * 7? 28\n",
        "Correct!\n",
        "```"
      ]
    },
    {
      "cell_type": "code",
      "metadata": {
        "id": "rXOX2g4-Ll-9"
      },
      "source": [
        "# Add your code here"
      ],
      "execution_count": null,
      "outputs": []
    },
    {
      "cell_type": "code",
      "metadata": {
        "id": "-DTi8KY4O95w",
        "cellView": "form"
      },
      "source": [
        "#@title Double click here to reveal solution\n",
        "\n",
        "Coming soon."
      ],
      "execution_count": null,
      "outputs": []
    },
    {
      "cell_type": "markdown",
      "metadata": {
        "id": "9LYTJHnh0mPe"
      },
      "source": [
        "## Question 4\n",
        "\n",
        "Write a program that prompts the user for a year and, using the complete set of rules described in class, tells the user whether the provided year is a leap year or not."
      ]
    },
    {
      "cell_type": "code",
      "metadata": {
        "id": "p4ETVG0e02DZ"
      },
      "source": [
        "# Add your code here"
      ],
      "execution_count": null,
      "outputs": []
    },
    {
      "cell_type": "code",
      "metadata": {
        "id": "2NBHmKwS04qd"
      },
      "source": [
        "#@title Double click here to reveal solution\n",
        "\n",
        "Coming soon."
      ],
      "execution_count": null,
      "outputs": []
    },
    {
      "cell_type": "code",
      "source": [],
      "metadata": {
        "id": "iudTewRTWPLu"
      },
      "execution_count": null,
      "outputs": []
    },
    {
      "cell_type": "markdown",
      "source": [
        "[Previous Lesson](https://pylearn.io/lessons/3-Expressions/)\n",
        "&nbsp;&nbsp;&nbsp;&nbsp;&nbsp;&nbsp;&nbsp;&nbsp;&nbsp;&nbsp;\n",
        "[Next Lesson](https://pylearn.io/lessons/5-Loops/)"
      ],
      "metadata": {
        "id": "Eis2S--iPOXM"
      }
    }
  ]
}