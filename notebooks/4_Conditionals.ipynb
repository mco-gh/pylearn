{
  "nbformat": 4,
  "nbformat_minor": 0,
  "metadata": {
    "colab": {
      "provenance": [],
      "collapsed_sections": [
        "KiBaxNk9bAVl",
        "EY_CXBBE8iL0",
        "QeVednm88pEn",
        "zIAR_Ahg85Py",
        "L_7esHuA9LKs",
        "xm2YA7qo-Op1",
        "Dd1FNOpnK0-D",
        "So9vQ1trLJLX",
        "1jH-_bNlLcHc"
      ],
      "toc_visible": true,
      "include_colab_link": true
    },
    "kernelspec": {
      "name": "python3",
      "display_name": "Python 3"
    }
  },
  "cells": [
    {
      "cell_type": "markdown",
      "metadata": {
        "id": "view-in-github",
        "colab_type": "text"
      },
      "source": [
        "<a href=\"https://colab.research.google.com/github/mco-gh/pylearn/blob/master/notebooks/4_Conditionals.ipynb\" target=\"_parent\"><img src=\"https://colab.research.google.com/assets/colab-badge.svg\" alt=\"Open In Colab\"/></a>"
      ]
    },
    {
      "cell_type": "markdown",
      "metadata": {
        "id": "7B_-CpRRW4Zd"
      },
      "source": [
        "# Notebook 4 - Controlling Program Flow and Using Modules\n",
        "\n",
        "**You can make your own copy of this notebook by selecting File->Save a copy in Drive from the menu bar above.**\n",
        "\n",
        "Things you'll learn in this lesson:\n",
        "- how to control program flow based based on conditional values\n",
        "- how to represent blocks of code\n",
        "- how to express complex conditional logic\n",
        "- how to import and use modules in your programs\n"
      ]
    },
    {
      "cell_type": "markdown",
      "source": [
        "[Previous Lesson](https://pylearn.io/lessons/3-Expressions/)\n",
        "&nbsp;&nbsp;&nbsp;&nbsp;&nbsp;&nbsp;&nbsp;&nbsp;&nbsp;&nbsp;\n",
        "[Next Lesson](https://pylearn.io/lessons/5-Loops/)"
      ],
      "metadata": {
        "id": "auL3s2FgoSp1"
      }
    },
    {
      "cell_type": "markdown",
      "metadata": {
        "id": "KiBaxNk9bAVl"
      },
      "source": [
        "# Controlling Program Flow\n",
        "\n",
        "Trivia Question:\n",
        "Will the year 2100 be a leap year?\n",
        "\n",
        "* Up to now, we've looked at very simple programs, involving a sequence of statements (A, then B, then C…)\n",
        "* But real world algorithms are rarely so simple\n",
        "\n",
        "Example: If a year is divisible by 4, then it's a leap year, otherwise it's not a leap year.\n",
        "\n",
        "This is called conditional logic because the program’s logic or execution path is determined by the testing of a true or false condition.\n",
        "\n",
        "Everyday example:  if it's not raining then I'll ride my bike to work, otherwise I'll take public transit.\n"
      ]
    },
    {
      "cell_type": "markdown",
      "metadata": {
        "id": "Qoz-W_TIz3QS"
      },
      "source": [
        "## `if` Statements"
      ]
    },
    {
      "cell_type": "markdown",
      "metadata": {
        "id": "aTcPnZnF7S9-"
      },
      "source": [
        "* The `if` statement is how we express conditional logic in Python.\n",
        "* Virtually every programming language has this concept.\n",
        "* If statements define a condition and a sequence of statements to execute if the condition is `True`.\n",
        "\n",
        "Prototype...\n",
        "\n",
        "```\n",
        "if some_expression:    \n",
        "    do_this()\n",
        "    do_that()\n",
        "```\n",
        "\n",
        "If the condition is true, the indented statements are executed.\n",
        "Otherwise, the indented statements are skipped and program execution continues after the `if` statement.\n"
      ]
    },
    {
      "cell_type": "code",
      "metadata": {
        "id": "NzctV1Z6C3lk"
      },
      "source": [
        "month = \"jan\"\n",
        "summer_months = [\"jun\", \"july\", \"aug\", \"may\"]\n",
        "\n",
        "if month in summer_months:\n",
        "    print(\"yay - it's still summer!\")\n",
        "else:\n",
        "    print(\"boo - have to go to school today!\")\n",
        "print(\"program done\")"
      ],
      "execution_count": null,
      "outputs": []
    },
    {
      "cell_type": "markdown",
      "metadata": {
        "id": "s6BuZoxH7UcD"
      },
      "source": [
        "### Challenge\n",
        "\n",
        "In Python, we use indentation to associate a block of statements with a condition, for example...\n",
        "\n",
        "```\n",
        "print(\"1\")\n",
        "if some_condition:    \n",
        "    print(\"2\")    \n",
        "    print(\"3\")\n",
        "print(\"4\") # this line is NOT part of the if block\n",
        "```\n",
        "\n",
        "What does the output look like...\n",
        "* when `some_condition` is True?\n",
        "* when `some_condition` is False?\n",
        "\n",
        "Try testing your guess by running the following cell with `some_condition` set to True, then False."
      ]
    },
    {
      "cell_type": "code",
      "source": [
        "some_condition = True\n",
        "\n",
        "print(\"1\")\n",
        "if some_condition:\n",
        "    print(\"2\")\n",
        "    print(\"3\")\n",
        "print(\"4\") # this line is NOT part of the if block"
      ],
      "metadata": {
        "id": "kS6LL5m0NkBD"
      },
      "execution_count": null,
      "outputs": []
    },
    {
      "cell_type": "markdown",
      "metadata": {
        "id": "iIM5dHM87YwW"
      },
      "source": [
        "Here’s a slightly different example...\n",
        "```\n",
        "print(\"1\")\n",
        "if some_condition:    \n",
        "    print(\"2\")    \n",
        "print(\"3\")  # this line is NOT part of if block\n",
        "print(\"4\")  # this line is NOT part of if block\n",
        "```\n",
        "What’s different?\n",
        "What does the output look like...\n",
        "* when the `some_condition` is True?\n",
        "* when the `some_condition` is False?\n"
      ]
    },
    {
      "cell_type": "markdown",
      "metadata": {
        "id": "BZrYYUiR8akX"
      },
      "source": [
        "## `if` Block Structure\n",
        "\n",
        "* In Python, `if` statements blocks are defined by indentation.\n",
        "* This idea of using indentation to delineate program structure is pervasive in Python and unique across programming languages.\n",
        "* For now, we're focusing on if statements but later we'll see how indentation is used to define other blocks of statements."
      ]
    },
    {
      "cell_type": "markdown",
      "metadata": {
        "id": "EY_CXBBE8iL0"
      },
      "source": [
        "### Block Stucture in Other Languages\n",
        "\n",
        "In other languages, explicit delineators are used. For example, in Java, C, and C++ we would write:\n",
        "\n",
        "```\n",
        "if ((cur_year % 4) == 0) {\n",
        "    leap_year = true;\n",
        "}\n",
        "```\n",
        "\n",
        "whereas, in Python we write:\n",
        "\n",
        "```\n",
        "if (cur_year % 4) == 0:\n",
        "    leap_year = True\n",
        "```\n",
        "Indentation in Java/C/C++ is a helpful practice for program readability but it does not affect program functionality.\n",
        "In Python, indentation is not just a good idea - it's affects program logic!\n"
      ]
    },
    {
      "cell_type": "markdown",
      "metadata": {
        "id": "QeVednm88pEn"
      },
      "source": [
        "## Python's use of whitespace\n",
        "\n",
        "* Many people have strong opinions about this aspect of Python.\n",
        "* Personally, I find that it leads to compact, readable code.\n",
        "* My advice: don’t get hung up on this feature. Try it and see what you think after you've written a few Python programs.\n",
        "* Pitfalls:\n",
        "  * watch out for mismatched indentation within a block\n",
        "  * avoid mixing tabs and spaces in your code\n",
        "  * I prefer spaces over tabes because it's more explicit.\n",
        "\n",
        "Marc's law of whitespace: **Pick spaces or tabs and be consistent.**"
      ]
    },
    {
      "cell_type": "markdown",
      "metadata": {
        "id": "zRsgasyw8s7O"
      },
      "source": [
        "## Encoding our leap year rule\n",
        "Remember our leap year rule?\n",
        "\n",
        "* if the current year is divisible by 4, we have a leap year\n",
        "\n",
        "Here's a short Python program, which prompts the user to enter a year and uses the strategy above to decide if the year entered was (or will be, if in the future) a leap year:\n",
        "```\n",
        "leap_year = False  # initialization\n",
        "year = input(\"Enter desired year: \")\n",
        "year = int(year)\n",
        "if (year % 4) == 0:\n",
        "    leap_year = True\n",
        "print(f\"leap year status for {year}: {str(leap_year)}\")\n",
        "````\n",
        "**Question: Why is the first statement needed?**\n"
      ]
    },
    {
      "cell_type": "code",
      "source": [
        "leap_year = False  # initialization\n",
        "year = input(\"Enter desired year: \")\n",
        "year = int(year)\n",
        "if (year % 4) == 0:\n",
        "    leap_year = True\n",
        "print(f\"leap year status for {year}: {str(leap_year)}\")"
      ],
      "metadata": {
        "id": "YxwIYO539pLb"
      },
      "execution_count": null,
      "outputs": []
    },
    {
      "cell_type": "markdown",
      "metadata": {
        "id": "nqHUiij_02RO"
      },
      "source": [
        "## `else` Statements"
      ]
    },
    {
      "cell_type": "markdown",
      "metadata": {
        "id": "zkMiG5338ypF"
      },
      "source": [
        "Sometimes we want to specify an alternative to the `if` condition, which we do with an `else` statement, for example...\n",
        "\n",
        "```\n",
        "if <condition>:\n",
        "    <block1>\n",
        "else:\n",
        "    <block2>\n",
        "```\n",
        "\n",
        "* If the condition is true, block1 is executed.\n",
        "* if the condition is false, block2 is executed.\n",
        "\n",
        "The else cause is Python's way of saying \"otherwise...\"\n",
        "\n"
      ]
    },
    {
      "cell_type": "markdown",
      "metadata": {
        "id": "kVG18CiQ838a"
      },
      "source": [
        "Just as `if` blocks are defined by indentation, `else` blocks are also defined by indentation.\n",
        "\n",
        "For example, this:\n",
        "\n",
        "```\n",
        "if <condition>:\n",
        "    <statement1>\n",
        "else:\n",
        "    <statement2>\n",
        "    <statement3>\n",
        "```\n",
        "is different from this:\n",
        "```\n",
        "if <condition>:\n",
        "    <statement1>\n",
        "else:\n",
        "    <statement2>\n",
        "<statement3>\n",
        "```\n"
      ]
    },
    {
      "cell_type": "markdown",
      "metadata": {
        "id": "zIAR_Ahg85Py"
      },
      "source": [
        "### Challenge\n",
        "\n",
        "Consider the following if/else statement...\n",
        "```\n",
        "print(\"1\")\n",
        "if some_condition:    \n",
        "  print(\"2\")\n",
        "else:    \n",
        "  print(\"3\")\n",
        "print(\"4\")\n",
        "```\n",
        "Question: what does the output look like…\n",
        "* when the `some_condition` is True?   \n",
        "* when the `some_condition` is False?\n",
        "\n",
        "Try testing your guess by running the following cell with `some_condition` set to True, then False.\n"
      ]
    },
    {
      "cell_type": "code",
      "source": [
        "some_condition = True\n",
        "\n",
        "print(\"1\")\n",
        "if some_condition:\n",
        "  print(\"2\")\n",
        "else:\n",
        "  print(\"3\")\n",
        "print(\"4\")"
      ],
      "metadata": {
        "id": "irwZaJCuQItk"
      },
      "execution_count": null,
      "outputs": []
    },
    {
      "cell_type": "markdown",
      "metadata": {
        "id": "7eBjL9Ju9BG1"
      },
      "source": [
        "## Let's use `if` and `else` to express our leap year rule"
      ]
    },
    {
      "cell_type": "markdown",
      "source": [
        "Can we use if/else to rewrite our leap year program to avoid needing this initialization step:\n",
        "```\n",
        "leap_year = False  # initialization\n",
        "```"
      ],
      "metadata": {
        "id": "hC0glKT-QQvV"
      }
    },
    {
      "cell_type": "code",
      "metadata": {
        "id": "45rV7XpBUS0w"
      },
      "source": [
        "year = input(\"Enter current year: \")\n",
        "year = int(year)\n",
        "if (year % 4) == 0:\n",
        "  leap_year = True\n",
        "else:\n",
        "  leap_year = False\n",
        "print(f\"leap year status for {year}: {leap_year}\")"
      ],
      "execution_count": null,
      "outputs": []
    },
    {
      "cell_type": "markdown",
      "metadata": {
        "id": "-uwGPHQt0vrJ"
      },
      "source": [
        "## `elif` Statements"
      ]
    },
    {
      "cell_type": "markdown",
      "metadata": {
        "id": "Shf50kOm9GRl"
      },
      "source": [
        "Sometimes we need one or more intermediate conditions between the if and else parts, for example...\n",
        "\n",
        "`if A then do X, else if B then do Y, otherwise do Z`\n",
        "\n",
        "We use the `elif` statement to express this in Python...\n",
        "```\n",
        "if condition1:\n",
        "    do_thing_1()\n",
        "elif condition2:\n",
        "    do_thing_2()\n",
        "else:\n",
        "    do_thing_3()\n",
        "```\n",
        "* If `condition1` is true, `do_thing_1()` is executed.\n",
        "* Else, if `condition2` is true, `do_thing_2()` is executed.\n",
        "* Otherwise, `do_thing_3()` is executed.\n"
      ]
    },
    {
      "cell_type": "markdown",
      "metadata": {
        "id": "L9colMWL9HZw"
      },
      "source": [
        "* `elif` blocks are defined the same way as `if` and `else` blocks - using indentation.\n",
        "\n",
        "* It's good to have an if/elif for every condition of interest and not lump errors together with cases of interest.\n",
        "\n",
        "For example, if you care about values 1 and 2 and everything else is considered an error, this code:\n",
        "\n",
        "```\n",
        "if month == \"jan\":      # deal with jan here\n",
        "    apply_jan_discount()\n",
        "elif month == \"feb\":    # deal with feb here\n",
        "    apply_feb_discount()\n",
        "else:                   # deal with errors here\n",
        "    apply_no_discount()\n",
        "```\n",
        "is better than this:\n",
        "```\n",
        "if month == \"jan\":\n",
        "    apply_jan_discount()\n",
        "else:    # x must be 2 then, right? not necessarily!\n",
        "    apply_feb_discount()\n",
        "```\n",
        "The latter code hides errors by combining a valid case with error cases.\n"
      ]
    },
    {
      "cell_type": "markdown",
      "metadata": {
        "id": "L_7esHuA9LKs"
      },
      "source": [
        "### Challenge\n",
        "\n",
        "Consider the following if/elif/else statement...\n",
        "```\n",
        "print(\"1\")\n",
        "if condition1:    \n",
        "    print(\"2\")\n",
        "elif condition2:    \n",
        "    print(\"3\")\n",
        "else:    \n",
        "    print(\"4\")\n",
        "print(\"5\")\n",
        "```\n",
        "\n",
        "What does the output look like...\n",
        "* when both conditions are False?  \n",
        "* when both conditions are True?   \n",
        "* when `condition1` is `True` and `condition2` is `False`?   \n",
        "* when `condition1` is `False` and `condition2` is `True`?\n",
        "\n",
        "Try testing your guess by running the following cell with `condition1` and `condition2` set to the four possible combinations of True and False."
      ]
    },
    {
      "cell_type": "code",
      "source": [
        "condition1 = True\n",
        "condition2 = False\n",
        "\n",
        "print(\"1\")\n",
        "if condition1:\n",
        "    print(\"2\")\n",
        "elif condition2:\n",
        "    print(\"3\")\n",
        "else:\n",
        "    print(\"4\")"
      ],
      "metadata": {
        "id": "GPj34S1JSTFs"
      },
      "execution_count": null,
      "outputs": []
    },
    {
      "cell_type": "markdown",
      "metadata": {
        "id": "D79nPzXo9zZM"
      },
      "source": [
        "## Nested `if` Statements\n",
        "\n",
        "* Sometimes we need to embed one if statement inside another.\n",
        "* We call these nested if statements.\n",
        "* We can embed if statements inside any part of an `if` statement, i.e. in the `if` block or the `elif` block or the `else` block.\n",
        "* We can embed `if` statements arbitrarily deeply, i.e. we\n",
        "could have, for example...\n",
        "```\n",
        "if condition1:\n",
        "    if condition2:\n",
        "        if condition3:\n",
        "        ...\n",
        "```\n"
      ]
    },
    {
      "cell_type": "markdown",
      "metadata": {
        "id": "FdtLybaN97zL"
      },
      "source": [
        "### Challenge\n",
        "\n",
        "```\n",
        "print(\"1\")\n",
        "if condition1:    \n",
        "    print(\"2\")    \n",
        "    if condition2:        \n",
        "        print(\"3\")    \n",
        "    else:        \n",
        "        print(\"4\")\n",
        "else:    \n",
        "    print(\"5\")\n",
        "print(\"6\")\n",
        "```\n",
        "What does the output look like...\n",
        "* when both conditions are False?  \n",
        "* when both conditions are True?   \n",
        "* when `condition1` is `True` and `condition2` is `False`?   \n",
        "* when `condition1` is `False` and `condition2` is `True`?\n",
        "\n",
        "Try testing your guess by running the following cell with `condition1` and `condition2` set to the four possible combinations of True and False."
      ]
    },
    {
      "cell_type": "code",
      "source": [
        "condition1 = True\n",
        "condition2 = True\n",
        "\n",
        "print(\"1\")\n",
        "if condition1:\n",
        "    print(\"2\")\n",
        "    if condition2:\n",
        "        print(\"3\")\n",
        "    else:\n",
        "        print(\"4\")\n",
        "else:\n",
        "    print(\"5\")\n",
        "print(\"6\")"
      ],
      "metadata": {
        "id": "qg0hCBd5SvLA"
      },
      "execution_count": null,
      "outputs": []
    },
    {
      "cell_type": "markdown",
      "metadata": {
        "id": "uWrJ5KjU-Edv"
      },
      "source": [
        "## Improving Our Rule\n",
        "\n",
        "A more accurate rule for determining leap years:\n",
        "\n",
        "If the current year is divisible by 4 but not divisible by 100 then we have a leap year. How would you encode that refinement in Python? Try it yourself and then have a look at the next cell."
      ]
    },
    {
      "cell_type": "code",
      "metadata": {
        "id": "YOF4hlnTXsXU"
      },
      "source": [
        "leap_year = False\n",
        "year = input(\"Enter current year: \")\n",
        "year = int(year)\n",
        "if (year % 4) == 0:\n",
        "  if (year % 100) != 0:\n",
        "    leap_year = True\n",
        "print(f\"leap year status for {year}: {leap_year}\")"
      ],
      "execution_count": null,
      "outputs": []
    },
    {
      "cell_type": "markdown",
      "metadata": {
        "id": "d5nFcLIa-I6O"
      },
      "source": [
        "### Variation - using boolean logic instead of nested `if`\n",
        "\n",
        "This example could also be coded using boolean logic in place of the nested if statement."
      ]
    },
    {
      "cell_type": "code",
      "metadata": {
        "id": "zuThxO12XdqH"
      },
      "source": [
        "leap_year = False\n",
        "year = input(\"Enter current year: \")\n",
        "year = int(year)\n",
        "if (year % 4) == 0 and (year % 100) != 0:\n",
        "    leap_year = True\n",
        "print(f\"leap year status for {year}: {leap_year}\")\n",
        "\n",
        "\n"
      ],
      "execution_count": null,
      "outputs": []
    },
    {
      "cell_type": "markdown",
      "metadata": {
        "id": "Jewjo6ZZX87O"
      },
      "source": [
        "What does the above code print for these years...\n",
        "* 2020?\n",
        "* 2100?  -- that answers our trivia questions from the beginning of this notebook\n",
        "* 2000?  -- surprise, that one's wrong!"
      ]
    },
    {
      "cell_type": "markdown",
      "metadata": {
        "id": "xm2YA7qo-Op1"
      },
      "source": [
        "## The Whole Story About Leap Years\n",
        "\n",
        "A year is a leap year if its divisible by 4,\n",
        "but divisible by 100,\n",
        "unless also divisible by 400.\n",
        "\n",
        "So...  \n",
        "* 2008 was a leap year because it's divisible by 4 and not divisible by 100.\n",
        "* 2100 will NOT be a leap year because although it's divisible by 4, it is also divisible by 100.\n",
        "* 2000 was a leap year because although it's divisible by 4 and 100, it's also divisible by 400!\n"
      ]
    },
    {
      "cell_type": "markdown",
      "metadata": {
        "id": "jJzPtT8z1Z6f"
      },
      "source": [
        "# Importing Modules"
      ]
    },
    {
      "cell_type": "markdown",
      "metadata": {
        "id": "f-U1JoLp1gcI"
      },
      "source": [
        "`import` is how you use someone else's code.\n",
        "\n",
        "Let's say we want to generate a random number between 1 and 100. We can use the Python `random` module, like this..."
      ]
    },
    {
      "cell_type": "code",
      "metadata": {
        "id": "I-UIGmb5cIM6"
      },
      "source": [
        "import random\n",
        "\n",
        "good_dogs = [\"Benji\", \"Maple\", \"Kirby\"]\n",
        "\n",
        "for i in range(3):\n",
        "  random.shuffle(good_dogs)\n",
        "  print(good_dogs)"
      ],
      "execution_count": null,
      "outputs": []
    },
    {
      "cell_type": "markdown",
      "metadata": {
        "id": "nkxuivpM_Qis"
      },
      "source": [
        "# Example Programs"
      ]
    },
    {
      "cell_type": "markdown",
      "metadata": {
        "id": "NSgINTKQ_CYt"
      },
      "source": [
        "### 1 - Draw a Randomly Colored Star"
      ]
    },
    {
      "cell_type": "code",
      "metadata": {
        "id": "RLXcCX_glOlA"
      },
      "source": [
        "!pip install ColabTurtle\n",
        "import random\n",
        "from ColabTurtle.Turtle import *"
      ],
      "execution_count": null,
      "outputs": []
    },
    {
      "cell_type": "code",
      "metadata": {
        "id": "LtZnTw6klY6f"
      },
      "source": [
        "colors = ('white', 'yellow', 'orange', 'red', 'green', 'blue', 'purple', 'grey')\n",
        "num_colors = len(colors)\n",
        "initializeTurtle()\n",
        "speed(8)\n",
        "showturtle()\n",
        "i = random.randint(0, num_colors-1)\n",
        "for x in range(16):\n",
        "        if x % 2 == 0:\n",
        "          color(colors[i])\n",
        "          i = (i + 1) % num_colors\n",
        "        forward(100)\n",
        "        if x % 2 == 0:\n",
        "            left(160)\n",
        "        else:\n",
        "            left(245)"
      ],
      "execution_count": null,
      "outputs": []
    },
    {
      "cell_type": "code",
      "metadata": {
        "id": "6yNvqDB2oP1B"
      },
      "source": [
        "initializeTurtle(initial_speed=10)\n",
        "color('orange')\n",
        "bgcolor('white')\n",
        "width(1)\n",
        "for i in range(36):\n",
        "    forward(200)\n",
        "    left(170)"
      ],
      "execution_count": null,
      "outputs": []
    },
    {
      "cell_type": "markdown",
      "source": [
        "### 2 - Study Group Formation"
      ],
      "metadata": {
        "id": "nMU2R-HvWs29"
      }
    },
    {
      "cell_type": "code",
      "metadata": {
        "id": "JhX5dJ9tdFbq"
      },
      "source": [
        "import string\n",
        "import math\n",
        "from random import sample\n",
        "\n",
        "def groups(student_list, group_size):\n",
        "  students = set(student_list)\n",
        "  #print(students)\n",
        "  for i in range(math.ceil(len(students) / group_size)):\n",
        "    k = min(group_size, len(students))\n",
        "    group = sample(students, k)\n",
        "    print(group)\n",
        "    for j in group:\n",
        "      students.remove(j)\n",
        "\n",
        "students = ('Marc', 'Alex', 'Maya', 'Dina', 'Mitchell', 'Jordan', 'Bob', 'Carol')\n",
        "#groups(students, 3)\n",
        "groups(string.ascii_lowercase, 5)"
      ],
      "execution_count": null,
      "outputs": []
    },
    {
      "cell_type": "markdown",
      "metadata": {
        "id": "KpsaVUh3WVXw"
      },
      "source": [
        "### 3 - Simple Web Server\n",
        "\n",
        "webserve.py...\n",
        "```\n",
        "# A simple web application.\n",
        "from flask import Flask, render_template\n",
        "\n",
        "app = Flask(__name__)\n",
        "\n",
        "@app.route('/hello/<name>')\n",
        "def greet(name='Stranger'):\n",
        "    return render_template(\"greeting.html\", name=name)\n",
        "    \n",
        "@app.route(\"/\")\n",
        "def index():\n",
        "    return render_template('index.html')\n",
        "```\n",
        "\n",
        "greeting.html...\n",
        "```\n",
        "{% extends \"base.html\" %}\n",
        "{% block content %}\n",
        "<p>Hello {{name}}, how are you?</p>\n",
        "{% endblock %}\n",
        "```"
      ]
    },
    {
      "cell_type": "markdown",
      "metadata": {
        "id": "jBs305Ht_KLo"
      },
      "source": [
        "# Challenges"
      ]
    },
    {
      "cell_type": "markdown",
      "metadata": {
        "id": "Dd1FNOpnK0-D"
      },
      "source": [
        "## Question 1\n",
        "\n",
        "Write a program that prompts the user for their birth year and prints their age in years, days, hours, minutes, and seconds. Don’t worry about the user’s birthday (just subtract the birth year from the current year to get the approximate current age in years) and you can ignore leap years. Here's a sample run:\n",
        "```\n",
        "    Enter your birth year:  1970\n",
        "    You are...\n",
        "        50 years old\n",
        "        18250 days old\n",
        "        438000 hours old\n",
        "        26280000 minutes old\n",
        "        1576800000 seconds old\n",
        "```"
      ]
    },
    {
      "cell_type": "code",
      "metadata": {
        "id": "orMwPRauWCOU"
      },
      "source": [
        "# Add your code here"
      ],
      "execution_count": null,
      "outputs": []
    },
    {
      "cell_type": "markdown",
      "source": [
        "Extra challenge:  write the program so that it works any year it is run, not just this year (hint: google the Python `datetime` module, which you can use to find out the current year)."
      ],
      "metadata": {
        "id": "BJG9fhZcUkUl"
      }
    },
    {
      "cell_type": "code",
      "source": [
        "# Add your code here"
      ],
      "metadata": {
        "id": "E2Fl5ga8UmU4"
      },
      "execution_count": null,
      "outputs": []
    },
    {
      "cell_type": "code",
      "metadata": {
        "id": "314VvVKCMIzK",
        "cellView": "form"
      },
      "source": [
        "#@title Double click here to reveal solution\n",
        "\n",
        "Coming soon."
      ],
      "execution_count": null,
      "outputs": []
    },
    {
      "cell_type": "markdown",
      "metadata": {
        "id": "So9vQ1trLJLX"
      },
      "source": [
        "## Question 2\n",
        "\n",
        "* A person is eligible to be a US Senator if they are at least 30 years old and have been a US citizen for at least 9 years.\n",
        "\n",
        "* A person is eligible to be a US Representative if they are at least 25 years old and have been a US citizen for at least 7 years.\n",
        "\n",
        "Write a program to prompt a user to enter their age and length of citizenship in years, then print out one of the following three statements:\n",
        "\n",
        "* You are eligible to run for both the House and Senate.\n",
        "* You eligible to run only for the House.\n",
        "* You are ineligible to run for either branch of Congress.\n",
        "\n",
        "Something to think about: why don't we also have the possibility of printing \"You are eligible to run only for the Senate\"?"
      ]
    },
    {
      "cell_type": "code",
      "metadata": {
        "id": "-8rQKJmiLSsa"
      },
      "source": [
        "# Add your code here"
      ],
      "execution_count": null,
      "outputs": []
    },
    {
      "cell_type": "code",
      "metadata": {
        "id": "M_bufOMUMfxj",
        "cellView": "form"
      },
      "source": [
        "#@title Double click here to reveal solution\n",
        "\n",
        "Coming soon."
      ],
      "execution_count": null,
      "outputs": []
    },
    {
      "cell_type": "markdown",
      "metadata": {
        "id": "1jH-_bNlLcHc"
      },
      "source": [
        "## Question 3\n",
        "\n",
        "Write a program that generates two random 1 digit integers and prompts the user to provide the product of those two digits (basically, this is an interactive multiplication test). Check the user's answer and print a response indicating whether it is correct or not. Here are two sample runs:\n",
        "```\n",
        "Welcome to the multiplication tester!\n",
        "What is 3 * 9? 25\n",
        "Sorry, that's incorrect, 3 * 9 = 27.\n",
        "\n",
        "Welcome to the multiplication tester!\n",
        "What is 4 * 7? 28\n",
        "Correct!\n",
        "```"
      ]
    },
    {
      "cell_type": "code",
      "metadata": {
        "id": "rXOX2g4-Ll-9"
      },
      "source": [
        "# Add your code here"
      ],
      "execution_count": null,
      "outputs": []
    },
    {
      "cell_type": "code",
      "metadata": {
        "id": "-DTi8KY4O95w",
        "cellView": "form"
      },
      "source": [
        "#@title Double click here to reveal solution\n",
        "\n",
        "Coming soon."
      ],
      "execution_count": null,
      "outputs": []
    },
    {
      "cell_type": "markdown",
      "metadata": {
        "id": "9LYTJHnh0mPe"
      },
      "source": [
        "## Question 4\n",
        "\n",
        "Write a program that prompts the user for a year and, using the complete set of rules described in class, tells the user whether the provided year is a leap year or not."
      ]
    },
    {
      "cell_type": "code",
      "metadata": {
        "id": "p4ETVG0e02DZ"
      },
      "source": [
        "# Add your code here"
      ],
      "execution_count": null,
      "outputs": []
    },
    {
      "cell_type": "code",
      "metadata": {
        "id": "2NBHmKwS04qd",
        "cellView": "form"
      },
      "source": [
        "#@title Double click here to reveal solution\n",
        "\n",
        "Coming soon."
      ],
      "execution_count": null,
      "outputs": []
    },
    {
      "cell_type": "markdown",
      "source": [
        "[Previous Lesson](https://pylearn.io/lessons/3-Expressions/)\n",
        "&nbsp;&nbsp;&nbsp;&nbsp;&nbsp;&nbsp;&nbsp;&nbsp;&nbsp;&nbsp;\n",
        "[Next Lesson](https://pylearn.io/lessons/5-Loops/)"
      ],
      "metadata": {
        "id": "Eis2S--iPOXM"
      }
    }
  ]
}