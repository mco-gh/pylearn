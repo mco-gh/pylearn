{
  "nbformat": 4,
  "nbformat_minor": 0,
  "metadata": {
    "colab": {
      "provenance": [],
      "toc_visible": true,
      "include_colab_link": true
    },
    "kernelspec": {
      "name": "python3",
      "display_name": "Python 3"
    },
    "language_info": {
      "name": "python"
    }
  },
  "cells": [
    {
      "cell_type": "markdown",
      "metadata": {
        "id": "view-in-github",
        "colab_type": "text"
      },
      "source": [
        "<a href=\"https://colab.research.google.com/github/mco-gh/pylearn/blob/master/notebooks/9_Project.ipynb\" target=\"_parent\"><img src=\"https://colab.research.google.com/assets/colab-badge.svg\" alt=\"Open In Colab\"/></a>"
      ]
    },
    {
      "cell_type": "markdown",
      "source": [
        "# Notebook 9 - Sample Project\n",
        "\n",
        "**Make a copy of this notebook by selecting File->Save a copy in Drive from the menu bar above.**\n",
        "\n",
        "Things you'll learn in this lesson:\n",
        "- example code and philosophy from a real Python project"
      ],
      "metadata": {
        "id": "_XNgm_mumQlD"
      }
    },
    {
      "cell_type": "markdown",
      "source": [
        "[Previous Lesson](https://pylearn.io/lessons/8-Files/)"
      ],
      "metadata": {
        "id": "azbeDYgip1eD"
      }
    },
    {
      "cell_type": "markdown",
      "source": [
        "## Introducing Quizaic\n",
        "\n",
        "<img height=\"200\" src=\"https://mco.dev/img/quizaic.webp\">\n",
        "\n",
        "- <a target=\"_blank\" href=\"https://quizaic.com\">Home page</a>\n",
        "- <a target=\"_blank\" href=\"https://medium.com/google-cloud/quizaic-a-generative-ai-case-study-ddbd64617395\">The technical details</a>\n",
        "- <a target=\"_blank\" href=\"https://mco.fyi/genai\">Slide deck</a>\n",
        "- <a target=\"_blank\" href=\"https://github.com/mco-gh/quizaic\">Source code</a>\n",
        "\n",
        "\n",
        "\n"
      ],
      "metadata": {
        "id": "C3w6EIgarEe2"
      }
    },
    {
      "cell_type": "markdown",
      "source": [
        "## Application Architecture\n",
        "\n",
        "<img src=\"https://miro.medium.com/v2/resize:fit:1400/format:webp/1*mtbUHY9o_E_Nu04MZN6k5Q.png\">\n",
        "\n",
        "<img src=\"https://miro.medium.com/v2/resize:fit:1400/format:webp/1*l-lx-mVy8Kk-NxnpNlMQAQ.png\">"
      ],
      "metadata": {
        "id": "J2-tVCGpzwhZ"
      }
    },
    {
      "cell_type": "markdown",
      "source": [
        "## Get a Resource\n",
        "\n",
        "```\n",
        "def get(resource_kind, id):\n",
        "    log(f\"Request to get {resource_kind}\", severity=\"INFO\")\n",
        "    if resource_kind not in resource_fields:\n",
        "        return \"Not found\", 404, {}\n",
        "\n",
        "    if resource_kind == \"sessions\" and id == \"me\":\n",
        "        id = get_hashed_email()\n",
        "\n",
        "    result = db.fetch(resource_kind, id, resource_fields[resource_kind])\n",
        "    if result is None:\n",
        "        return \"Not found\", 404, {}\n",
        "\n",
        "    return (\n",
        "        json.dumps(result),\n",
        "        200,\n",
        "        {\"Content-Type\": \"application/json\", \"ETag\": base.etag(result)},\n",
        "    )\n",
        "```"
      ],
      "metadata": {
        "id": "eAYkayZ6watM"
      }
    },
    {
      "cell_type": "markdown",
      "source": [
        "## Access Checking\n",
        "```\n",
        "def user_logged_in(email):\n",
        "    return email != None\n",
        "\n",
        "\n",
        "def user_created_quiz(hashed_email, quiz_id):\n",
        "    if hashed_email is None:\n",
        "        return False\n",
        "    quiz = db.fetch(\"quizzes\", quiz_id, [\"creator\"])\n",
        "    if quiz and quiz[\"creator\"] == hashed_email:\n",
        "        return True\n",
        "    return False\n",
        "```"
      ],
      "metadata": {
        "id": "zEsT-fpIzEpC"
      }
    },
    {
      "cell_type": "markdown",
      "source": [
        "## Generate a Quiz\n",
        "\n",
        "```\n",
        "   def gen_quiz(\n",
        "        self,\n",
        "        topic=BaseQuizgen.TOPIC,\n",
        "        num_questions=BaseQuizgen.NUM_QUESTIONS,\n",
        "        num_answers=BaseQuizgen.NUM_ANSWERS,\n",
        "        difficulty=BaseQuizgen.DIFFICULTY,\n",
        "        language=BaseQuizgen.LANGUAGE,\n",
        "        temperature=BaseQuizgen.TEMPERATURE,\n",
        "    ):\n",
        "        # print(f\"{topic=}, {num_questions=}, {num_answers=}, {difficulty=}, {language=}\")\n",
        "        file_path = os.path.join(os.path.dirname(__file__), f\"../prompt.txt\")\n",
        "        with open(file_path, encoding=\"utf-8\") as fp:\n",
        "            self.prompt_template = fp.read()\n",
        "\n",
        "        prompt = self.prompt_template.format(\n",
        "            topic=topic,\n",
        "            num_questions=num_questions,\n",
        "            num_answers=num_answers,\n",
        "            language=language,\n",
        "            difficulty=difficulty,\n",
        "        )\n",
        "        prediction = self.predict_llm(\n",
        "            MODEL, prompt, temperature, MAX_OUTPUT_TOKENS, TOP_P, TOP_K\n",
        "        )\n",
        "        prediction = prediction.strip()\n",
        "        prediction = re.sub('.*``` *(json)?', '', prediction)\n",
        "        prediction = prediction[prediction.find('['):]\n",
        "        parsed = \"\"\n",
        "        level = 0\n",
        "        for i in prediction:\n",
        "            if i == \"[\":\n",
        "                level += 1\n",
        "            elif i == \"]\":\n",
        "                level -= 1\n",
        "            parsed += i\n",
        "            if level <= 0:\n",
        "                break\n",
        "        prediction = parsed\n",
        "        print(\"prediction=\", prediction)\n",
        "        quiz = json.loads(prediction)\n",
        "        #print(f\"{quiz=}\")\n",
        "        # Make sure the correct answer appears randomly in responses\n",
        "        for i in quiz:\n",
        "            random.shuffle(i[\"responses\"])\n",
        "        return quiz\n",
        "```"
      ],
      "metadata": {
        "id": "QkpXXPTyzUXY"
      }
    },
    {
      "cell_type": "markdown",
      "source": [
        "[Previous Lesson](https://pylearn.io/lessons/8-Files/)"
      ],
      "metadata": {
        "id": "C75nZcvlpcT4"
      }
    }
  ]
}