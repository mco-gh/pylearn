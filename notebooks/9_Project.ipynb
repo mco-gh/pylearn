{
  "nbformat": 4,
  "nbformat_minor": 0,
  "metadata": {
    "colab": {
      "provenance": [],
      "toc_visible": true,
      "include_colab_link": true
    },
    "kernelspec": {
      "name": "python3",
      "display_name": "Python 3"
    },
    "language_info": {
      "name": "python"
    }
  },
  "cells": [
    {
      "cell_type": "markdown",
      "metadata": {
        "id": "view-in-github",
        "colab_type": "text"
      },
      "source": [
        "<a href=\"https://colab.research.google.com/github/mco-gh/pylearn/blob/master/notebooks/9_Project.ipynb\" target=\"_parent\"><img src=\"https://colab.research.google.com/assets/colab-badge.svg\" alt=\"Open In Colab\"/></a>"
      ]
    },
    {
      "cell_type": "markdown",
      "source": [
        "# Notebook 9 - Sample Project\n",
        "\n",
        "**Make a copy of this notebook by selecting File->Save a copy in Drive from the menu bar above.**\n",
        "\n",
        "Things you'll learn in this lesson:\n",
        "- how to formulate and carry out a Python project"
      ],
      "metadata": {
        "id": "_XNgm_mumQlD"
      }
    },
    {
      "cell_type": "markdown",
      "source": [
        "[Previous Lesson](https://pylearn.io/lessons/8-Files/)"
      ],
      "metadata": {
        "id": "azbeDYgip1eD"
      }
    },
    {
      "cell_type": "markdown",
      "source": [
        "## Quizaic"
      ],
      "metadata": {
        "id": "C3w6EIgarEe2"
      }
    },
    {
      "cell_type": "markdown",
      "source": [
        "[Previous Lesson](https://pylearn.io/lessons/8-Files/)"
      ],
      "metadata": {
        "id": "C75nZcvlpcT4"
      }
    }
  ]
}